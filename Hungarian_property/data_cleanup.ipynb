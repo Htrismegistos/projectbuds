{
 "cells": [
  {
   "cell_type": "markdown",
   "metadata": {},
   "source": [
    "Aim:\n",
    "format the data and merge them in one table"
   ]
  },
  {
   "cell_type": "code",
   "execution_count": 91,
   "metadata": {},
   "outputs": [],
   "source": [
    "import pandas as pd\n",
    "import numpy as np\n",
    "import datetime as dt\n",
    "import os\n",
    "import matplotlib.pyplot as plt\n",
    "from pandas.plotting import register_matplotlib_converters\n",
    "register_matplotlib_converters()"
   ]
  },
  {
   "cell_type": "code",
   "execution_count": 69,
   "metadata": {},
   "outputs": [
    {
     "name": "stdout",
     "output_type": "stream",
     "text": [
      "Hu: ['Hu_Vker.csv', 'Hu_Vker2019-11-06.csv']\n",
      "Com: ['Com_Vker.csv', 'Com_Vker2019-11-06.csv']\n",
      "Cen ['Cen_Vker.csv', 'Cen_Vker2019-11-06.csv']\n"
     ]
    }
   ],
   "source": [
    "#choose the file to import to df\n",
    "h = [i for i in os.listdir() if 'Hu_Vker' in i]\n",
    "co = [i for i in os.listdir() if 'Com_Vker' in i]\n",
    "ce = [i for i in os.listdir() if 'Cen_Vker' in i]\n",
    "print('Hu:', h)\n",
    "print('Com:', co)\n",
    "print('Cen', ce)"
   ]
  },
  {
   "cell_type": "code",
   "execution_count": 70,
   "metadata": {},
   "outputs": [
    {
     "name": "stdout",
     "output_type": "stream",
     "text": [
      "Shape of Hun (26, 9)\n",
      "Shape of Com (1533, 11)\n",
      "Shape of Cen (7, 10)\n"
     ]
    }
   ],
   "source": [
    "Hun = pd.read_csv(h[-1])\n",
    "Com = pd.read_csv(co[-1])\n",
    "Cen = pd.read_csv(ce[-1])\n",
    "print('Shape of Hun',Hun.shape)\n",
    "print('Shape of Com',Com.shape)\n",
    "print('Shape of Cen',Cen.shape)"
   ]
  },
  {
   "cell_type": "markdown",
   "metadata": {},
   "source": [
    "#### clean up the source data"
   ]
  },
  {
   "cell_type": "code",
   "execution_count": 72,
   "metadata": {},
   "outputs": [
    {
     "name": "stdout",
     "output_type": "stream",
     "text": [
      "<class 'pandas.core.frame.DataFrame'>\n",
      "RangeIndex: 26 entries, 0 to 25\n",
      "Data columns (total 9 columns):\n",
      "id             26 non-null int64\n",
      "sqm            26 non-null int64\n",
      "room           26 non-null int64\n",
      "price          26 non-null int64\n",
      "description    26 non-null object\n",
      "agency         19 non-null object\n",
      "url            26 non-null object\n",
      "date           26 non-null object\n",
      "source         26 non-null object\n",
      "dtypes: int64(4), object(5)\n",
      "memory usage: 1.9+ KB\n"
     ]
    }
   ],
   "source": [
    "Hun.info()"
   ]
  },
  {
   "cell_type": "code",
   "execution_count": 73,
   "metadata": {},
   "outputs": [
    {
     "data": {
      "text/plain": [
       "id             0\n",
       "sqm            0\n",
       "room           0\n",
       "price          0\n",
       "description    0\n",
       "agency         7\n",
       "url            0\n",
       "date           0\n",
       "source         0\n",
       "dtype: int64"
      ]
     },
     "execution_count": 73,
     "metadata": {},
     "output_type": "execute_result"
    }
   ],
   "source": [
    "Hun.isnull().sum()"
   ]
  },
  {
   "cell_type": "code",
   "execution_count": 32,
   "metadata": {},
   "outputs": [],
   "source": [
    "#HUN.loc[HUN['sqm'].isnull()]"
   ]
  },
  {
   "cell_type": "code",
   "execution_count": 48,
   "metadata": {},
   "outputs": [
    {
     "data": {
      "text/plain": [
       "(867, 10)"
      ]
     },
     "execution_count": 48,
     "metadata": {},
     "output_type": "execute_result"
    }
   ],
   "source": [
    "#delete the extra rows\n",
    "HUN.drop(HUN.loc[HUN['sqm'].isnull()].index, axis = 0, inplace= True)\n",
    "HUN.shape"
   ]
  },
  {
   "cell_type": "code",
   "execution_count": 74,
   "metadata": {},
   "outputs": [],
   "source": [
    "#create 'price_sqm' column\n",
    "Hun['price_sqm'] = Hun['price'] / Hun['sqm']\n",
    "Hun['price_sqm'] = Hun['price_sqm'].astype(int)\n",
    "Hun['price'] = Hun['price'] / 1000000.0"
   ]
  },
  {
   "cell_type": "code",
   "execution_count": 75,
   "metadata": {},
   "outputs": [
    {
     "data": {
      "text/html": [
       "<div>\n",
       "<style scoped>\n",
       "    .dataframe tbody tr th:only-of-type {\n",
       "        vertical-align: middle;\n",
       "    }\n",
       "\n",
       "    .dataframe tbody tr th {\n",
       "        vertical-align: top;\n",
       "    }\n",
       "\n",
       "    .dataframe thead th {\n",
       "        text-align: right;\n",
       "    }\n",
       "</style>\n",
       "<table border=\"1\" class=\"dataframe\">\n",
       "  <thead>\n",
       "    <tr style=\"text-align: right;\">\n",
       "      <th></th>\n",
       "      <th>id</th>\n",
       "      <th>sqm</th>\n",
       "      <th>room</th>\n",
       "      <th>price</th>\n",
       "      <th>description</th>\n",
       "      <th>agency</th>\n",
       "      <th>url</th>\n",
       "      <th>date</th>\n",
       "      <th>source</th>\n",
       "      <th>price_sqm</th>\n",
       "    </tr>\n",
       "  </thead>\n",
       "  <tbody>\n",
       "    <tr>\n",
       "      <th>0</th>\n",
       "      <td>9737329</td>\n",
       "      <td>32</td>\n",
       "      <td>1</td>\n",
       "      <td>39.9</td>\n",
       "      <td>3 az 1-ben! Tökéletes befektetés, ahol a moder...</td>\n",
       "      <td>CDC Ingatlan IV.Ker. Szita Ingatlan Kft.</td>\n",
       "      <td>https://ingatlanok.hu/elado/lakas/budapest_v_k...</td>\n",
       "      <td>2019-11-04</td>\n",
       "      <td>hu</td>\n",
       "      <td>1246875</td>\n",
       "    </tr>\n",
       "    <tr>\n",
       "      <th>1</th>\n",
       "      <td>9729050</td>\n",
       "      <td>32</td>\n",
       "      <td>1</td>\n",
       "      <td>39.9</td>\n",
       "      <td>3 az 1-ben! Tökéletes befektetés, ahol a moder...</td>\n",
       "      <td>Cdci Teréz krt-i iroda</td>\n",
       "      <td>https://ingatlanok.hu/elado/lakas/budapest_v_k...</td>\n",
       "      <td>2019-11-04</td>\n",
       "      <td>hu</td>\n",
       "      <td>1246875</td>\n",
       "    </tr>\n",
       "    <tr>\n",
       "      <th>2</th>\n",
       "      <td>9603730</td>\n",
       "      <td>33</td>\n",
       "      <td>1</td>\n",
       "      <td>44.3</td>\n",
       "      <td>EGYETEMISTÁK - BEFEKTETŐK- ELSŐ LAKÁSUKAT KERE...</td>\n",
       "      <td>NaN</td>\n",
       "      <td>https://ingatlanok.hu/elado/lakas/budapest_v_k...</td>\n",
       "      <td>2019-11-04</td>\n",
       "      <td>hu</td>\n",
       "      <td>1342424</td>\n",
       "    </tr>\n",
       "  </tbody>\n",
       "</table>\n",
       "</div>"
      ],
      "text/plain": [
       "        id  sqm  room  price  \\\n",
       "0  9737329   32     1   39.9   \n",
       "1  9729050   32     1   39.9   \n",
       "2  9603730   33     1   44.3   \n",
       "\n",
       "                                         description  \\\n",
       "0  3 az 1-ben! Tökéletes befektetés, ahol a moder...   \n",
       "1  3 az 1-ben! Tökéletes befektetés, ahol a moder...   \n",
       "2  EGYETEMISTÁK - BEFEKTETŐK- ELSŐ LAKÁSUKAT KERE...   \n",
       "\n",
       "                                     agency  \\\n",
       "0  CDC Ingatlan IV.Ker. Szita Ingatlan Kft.   \n",
       "1                    Cdci Teréz krt-i iroda   \n",
       "2                                       NaN   \n",
       "\n",
       "                                                 url        date source  \\\n",
       "0  https://ingatlanok.hu/elado/lakas/budapest_v_k...  2019-11-04     hu   \n",
       "1  https://ingatlanok.hu/elado/lakas/budapest_v_k...  2019-11-04     hu   \n",
       "2  https://ingatlanok.hu/elado/lakas/budapest_v_k...  2019-11-04     hu   \n",
       "\n",
       "   price_sqm  \n",
       "0    1246875  \n",
       "1    1246875  \n",
       "2    1342424  "
      ]
     },
     "execution_count": 75,
     "metadata": {},
     "output_type": "execute_result"
    }
   ],
   "source": [
    "Hun.head(3)"
   ]
  },
  {
   "cell_type": "code",
   "execution_count": 18,
   "metadata": {},
   "outputs": [
    {
     "name": "stdout",
     "output_type": "stream",
     "text": [
      "<class 'pandas.core.frame.DataFrame'>\n",
      "RangeIndex: 1533 entries, 0 to 1532\n",
      "Data columns (total 11 columns):\n",
      "id             1533 non-null int64\n",
      "sqm            1533 non-null int64\n",
      "room           1533 non-null int64\n",
      "price          1533 non-null float64\n",
      "price_sqm      1533 non-null int64\n",
      "description    0 non-null float64\n",
      "agency         129 non-null object\n",
      "url            1533 non-null object\n",
      "region         1533 non-null object\n",
      "date           1533 non-null object\n",
      "source         1533 non-null object\n",
      "dtypes: float64(2), int64(4), object(5)\n",
      "memory usage: 131.8+ KB\n"
     ]
    }
   ],
   "source": [
    "Com.info()"
   ]
  },
  {
   "cell_type": "code",
   "execution_count": 19,
   "metadata": {},
   "outputs": [
    {
     "data": {
      "text/plain": [
       "id                0\n",
       "sqm               0\n",
       "room              0\n",
       "price             0\n",
       "price_sqm         0\n",
       "description    1533\n",
       "agency         1404\n",
       "url               0\n",
       "region            0\n",
       "date              0\n",
       "source            0\n",
       "dtype: int64"
      ]
     },
     "execution_count": 19,
     "metadata": {},
     "output_type": "execute_result"
    }
   ],
   "source": [
    "Com.isnull().sum()"
   ]
  },
  {
   "cell_type": "code",
   "execution_count": 20,
   "metadata": {},
   "outputs": [
    {
     "data": {
      "text/html": [
       "<div>\n",
       "<style scoped>\n",
       "    .dataframe tbody tr th:only-of-type {\n",
       "        vertical-align: middle;\n",
       "    }\n",
       "\n",
       "    .dataframe tbody tr th {\n",
       "        vertical-align: top;\n",
       "    }\n",
       "\n",
       "    .dataframe thead th {\n",
       "        text-align: right;\n",
       "    }\n",
       "</style>\n",
       "<table border=\"1\" class=\"dataframe\">\n",
       "  <thead>\n",
       "    <tr style=\"text-align: right;\">\n",
       "      <th></th>\n",
       "      <th>id</th>\n",
       "      <th>sqm</th>\n",
       "      <th>room</th>\n",
       "      <th>price</th>\n",
       "      <th>price_sqm</th>\n",
       "      <th>description</th>\n",
       "      <th>agency</th>\n",
       "      <th>url</th>\n",
       "      <th>region</th>\n",
       "      <th>date</th>\n",
       "      <th>source</th>\n",
       "    </tr>\n",
       "  </thead>\n",
       "  <tbody>\n",
       "    <tr>\n",
       "      <th>0</th>\n",
       "      <td>30407710</td>\n",
       "      <td>26</td>\n",
       "      <td>1</td>\n",
       "      <td>26.4</td>\n",
       "      <td>1015385</td>\n",
       "      <td>NaN</td>\n",
       "      <td>NaN</td>\n",
       "      <td>https://ingatlan.com/v-ker/elado+lakas/tegla-e...</td>\n",
       "      <td>Lipótváros, V. kerület</td>\n",
       "      <td>2019-11-04</td>\n",
       "      <td>com</td>\n",
       "    </tr>\n",
       "    <tr>\n",
       "      <th>1</th>\n",
       "      <td>29700953</td>\n",
       "      <td>26</td>\n",
       "      <td>1</td>\n",
       "      <td>26.4</td>\n",
       "      <td>1015385</td>\n",
       "      <td>NaN</td>\n",
       "      <td>NaN</td>\n",
       "      <td>https://ingatlan.com/v-ker/elado+lakas/tegla-e...</td>\n",
       "      <td>Kálmán Imre utca 21, V. kerület</td>\n",
       "      <td>2019-11-04</td>\n",
       "      <td>com</td>\n",
       "    </tr>\n",
       "    <tr>\n",
       "      <th>2</th>\n",
       "      <td>29993006</td>\n",
       "      <td>26</td>\n",
       "      <td>1</td>\n",
       "      <td>29.9</td>\n",
       "      <td>1150000</td>\n",
       "      <td>NaN</td>\n",
       "      <td>NaN</td>\n",
       "      <td>https://ingatlan.com/v-ker/elado+lakas/tegla-e...</td>\n",
       "      <td>Papnövelde utca, V. kerület</td>\n",
       "      <td>2019-11-04</td>\n",
       "      <td>com</td>\n",
       "    </tr>\n",
       "  </tbody>\n",
       "</table>\n",
       "</div>"
      ],
      "text/plain": [
       "         id  sqm  room  price  price_sqm  description agency  \\\n",
       "0  30407710   26     1   26.4    1015385          NaN    NaN   \n",
       "1  29700953   26     1   26.4    1015385          NaN    NaN   \n",
       "2  29993006   26     1   29.9    1150000          NaN    NaN   \n",
       "\n",
       "                                                 url  \\\n",
       "0  https://ingatlan.com/v-ker/elado+lakas/tegla-e...   \n",
       "1  https://ingatlan.com/v-ker/elado+lakas/tegla-e...   \n",
       "2  https://ingatlan.com/v-ker/elado+lakas/tegla-e...   \n",
       "\n",
       "                            region        date source  \n",
       "0           Lipótváros, V. kerület  2019-11-04    com  \n",
       "1  Kálmán Imre utca 21, V. kerület  2019-11-04    com  \n",
       "2      Papnövelde utca, V. kerület  2019-11-04    com  "
      ]
     },
     "execution_count": 20,
     "metadata": {},
     "output_type": "execute_result"
    }
   ],
   "source": [
    "Com.head(3)"
   ]
  },
  {
   "cell_type": "code",
   "execution_count": 76,
   "metadata": {},
   "outputs": [
    {
     "name": "stdout",
     "output_type": "stream",
     "text": [
      "<class 'pandas.core.frame.DataFrame'>\n",
      "RangeIndex: 7 entries, 0 to 6\n",
      "Data columns (total 10 columns):\n",
      "id             7 non-null int64\n",
      "sqm            7 non-null int64\n",
      "room           7 non-null int64\n",
      "price          7 non-null float64\n",
      "description    7 non-null object\n",
      "agency         0 non-null float64\n",
      "url            7 non-null object\n",
      "region         7 non-null object\n",
      "date           7 non-null object\n",
      "source         7 non-null object\n",
      "dtypes: float64(2), int64(3), object(5)\n",
      "memory usage: 640.0+ bytes\n"
     ]
    }
   ],
   "source": [
    "Cen.info()"
   ]
  },
  {
   "cell_type": "code",
   "execution_count": 77,
   "metadata": {},
   "outputs": [
    {
     "data": {
      "text/plain": [
       "id             0\n",
       "sqm            0\n",
       "room           0\n",
       "price          0\n",
       "description    0\n",
       "agency         7\n",
       "url            0\n",
       "region         0\n",
       "date           0\n",
       "source         0\n",
       "dtype: int64"
      ]
     },
     "execution_count": 77,
     "metadata": {},
     "output_type": "execute_result"
    }
   ],
   "source": [
    "Cen.isnull().sum()"
   ]
  },
  {
   "cell_type": "code",
   "execution_count": 78,
   "metadata": {},
   "outputs": [
    {
     "data": {
      "text/html": [
       "<div>\n",
       "<style scoped>\n",
       "    .dataframe tbody tr th:only-of-type {\n",
       "        vertical-align: middle;\n",
       "    }\n",
       "\n",
       "    .dataframe tbody tr th {\n",
       "        vertical-align: top;\n",
       "    }\n",
       "\n",
       "    .dataframe thead th {\n",
       "        text-align: right;\n",
       "    }\n",
       "</style>\n",
       "<table border=\"1\" class=\"dataframe\">\n",
       "  <thead>\n",
       "    <tr style=\"text-align: right;\">\n",
       "      <th></th>\n",
       "      <th>id</th>\n",
       "      <th>sqm</th>\n",
       "      <th>room</th>\n",
       "      <th>price</th>\n",
       "      <th>description</th>\n",
       "      <th>agency</th>\n",
       "      <th>url</th>\n",
       "      <th>region</th>\n",
       "      <th>date</th>\n",
       "      <th>source</th>\n",
       "    </tr>\n",
       "  </thead>\n",
       "  <tbody>\n",
       "    <tr>\n",
       "      <th>0</th>\n",
       "      <td>14123464</td>\n",
       "      <td>33</td>\n",
       "      <td>1</td>\n",
       "      <td>75.0</td>\n",
       "      <td>Kis lakás panorámával\\nA Parlament és az Olimp...</td>\n",
       "      <td>NaN</td>\n",
       "      <td>https://www.oc.hu/ingatlanok/H397307?c=1b06e8e0</td>\n",
       "      <td>H397307</td>\n",
       "      <td>2019-11-04</td>\n",
       "      <td>centrum</td>\n",
       "    </tr>\n",
       "    <tr>\n",
       "      <th>1</th>\n",
       "      <td>12625576</td>\n",
       "      <td>33</td>\n",
       "      <td>1</td>\n",
       "      <td>44.3</td>\n",
       "      <td>Garzonlakás a Váci utcában\\nFelújítandó egy sz...</td>\n",
       "      <td>NaN</td>\n",
       "      <td>https://www.oc.hu/ingatlanok/H387534?c=1b06e8e0</td>\n",
       "      <td>H387534</td>\n",
       "      <td>2019-11-04</td>\n",
       "      <td>centrum</td>\n",
       "    </tr>\n",
       "    <tr>\n",
       "      <th>2</th>\n",
       "      <td>13205004</td>\n",
       "      <td>28</td>\n",
       "      <td>1</td>\n",
       "      <td>45.0</td>\n",
       "      <td>V. Garibaldi utca\\nV. kerület egyik legkedvelt...</td>\n",
       "      <td>NaN</td>\n",
       "      <td>https://www.oc.hu/ingatlanok/H391318?c=1b06e8e0</td>\n",
       "      <td>H391318</td>\n",
       "      <td>2019-11-04</td>\n",
       "      <td>centrum</td>\n",
       "    </tr>\n",
       "  </tbody>\n",
       "</table>\n",
       "</div>"
      ],
      "text/plain": [
       "         id  sqm  room  price  \\\n",
       "0  14123464   33     1   75.0   \n",
       "1  12625576   33     1   44.3   \n",
       "2  13205004   28     1   45.0   \n",
       "\n",
       "                                         description  agency  \\\n",
       "0  Kis lakás panorámával\\nA Parlament és az Olimp...     NaN   \n",
       "1  Garzonlakás a Váci utcában\\nFelújítandó egy sz...     NaN   \n",
       "2  V. Garibaldi utca\\nV. kerület egyik legkedvelt...     NaN   \n",
       "\n",
       "                                               url   region        date  \\\n",
       "0  https://www.oc.hu/ingatlanok/H397307?c=1b06e8e0  H397307  2019-11-04   \n",
       "1  https://www.oc.hu/ingatlanok/H387534?c=1b06e8e0  H387534  2019-11-04   \n",
       "2  https://www.oc.hu/ingatlanok/H391318?c=1b06e8e0  H391318  2019-11-04   \n",
       "\n",
       "    source  \n",
       "0  centrum  \n",
       "1  centrum  \n",
       "2  centrum  "
      ]
     },
     "execution_count": 78,
     "metadata": {},
     "output_type": "execute_result"
    }
   ],
   "source": [
    "Cen.head(3)"
   ]
  },
  {
   "cell_type": "code",
   "execution_count": 79,
   "metadata": {},
   "outputs": [],
   "source": [
    "Cen['price_sqm'] = Cen['price']*1000000 / Cen['sqm']\n",
    "Cen['price_sqm'] = Cen['price_sqm'].astype(int)"
   ]
  },
  {
   "cell_type": "markdown",
   "metadata": {},
   "source": [
    "#### create one DB"
   ]
  },
  {
   "cell_type": "code",
   "execution_count": 81,
   "metadata": {},
   "outputs": [
    {
     "data": {
      "text/plain": [
       "(2593, 11)"
      ]
     },
     "execution_count": 81,
     "metadata": {},
     "output_type": "execute_result"
    }
   ],
   "source": [
    "VkerDB = pd.concat([Hun,com,Cen], axis = 0, sort = True, ignore_index = True)\n",
    "VkerDB.shape"
   ]
  },
  {
   "cell_type": "code",
   "execution_count": 82,
   "metadata": {},
   "outputs": [
    {
     "data": {
      "text/plain": [
       "1.0    2411\n",
       "2.0     143\n",
       "1.5      38\n",
       "0.0       1\n",
       "Name: room, dtype: int64"
      ]
     },
     "execution_count": 82,
     "metadata": {},
     "output_type": "execute_result"
    }
   ],
   "source": [
    "# cleaning-up 'room'\n",
    "VkerDB['room'].value_counts()"
   ]
  },
  {
   "cell_type": "code",
   "execution_count": 83,
   "metadata": {},
   "outputs": [
    {
     "name": "stderr",
     "output_type": "stream",
     "text": [
      "/home/trismegistos/anaconda3/lib/python3.7/site-packages/pandas/core/ops.py:1649: FutureWarning: elementwise comparison failed; returning scalar instead, but in the future will perform elementwise comparison\n",
      "  result = method(y)\n"
     ]
    }
   ],
   "source": [
    "VkerDB.loc[VkerDB['room'] == '1 + 1 félszoba', 'room'] = 1.5\n",
    "VkerDB['room'] = VkerDB['room'].astype(float)\n",
    "VkerDB.loc[VkerDB['room'] == 0.0, 'room'] = 1.0"
   ]
  },
  {
   "cell_type": "code",
   "execution_count": 84,
   "metadata": {},
   "outputs": [
    {
     "data": {
      "text/plain": [
       "1.0    2412\n",
       "2.0     143\n",
       "1.5      38\n",
       "Name: room, dtype: int64"
      ]
     },
     "execution_count": 84,
     "metadata": {},
     "output_type": "execute_result"
    }
   ],
   "source": [
    "VkerDB['room'].value_counts()"
   ]
  },
  {
   "cell_type": "code",
   "execution_count": 66,
   "metadata": {},
   "outputs": [
    {
     "data": {
      "text/plain": [
       "Tégla    987\n",
       "Nincs     40\n",
       "Name: type, dtype: int64"
      ]
     },
     "execution_count": 66,
     "metadata": {},
     "output_type": "execute_result"
    }
   ],
   "source": [
    "#cleaning-up 'type'\n",
    "#VkerDB['type'].value_counts()"
   ]
  },
  {
   "cell_type": "code",
   "execution_count": 69,
   "metadata": {},
   "outputs": [],
   "source": [
    "#Type is not informative, delete from data extraction\n",
    "#VkerDB.drop(['type'], axis = 1, inplace= True)"
   ]
  },
  {
   "cell_type": "code",
   "execution_count": 85,
   "metadata": {
    "collapsed": true
   },
   "outputs": [
    {
     "data": {
      "text/plain": [
       "Saját hirdetés                               129\n",
       "CDC Ingatlan IV.Ker. Szita Ingatlan Kft.      92\n",
       "Homexpress Ingatlaniroda                      63\n",
       "Gold House Ingatlaniroda                      62\n",
       "Cdci Teréz krt-i iroda                        53\n",
       "GREAT HOME                                    49\n",
       "Duna House - XII. ker, Városmajor utca u.     48\n",
       "Tecnocasa                                     41\n",
       "CDC Bokréta                                   41\n",
       "CDC Báthory                                   39\n",
       "GDN Ingatlaniroda.                            39\n",
       "OTP Ingatlanpont Szépvölgyi út                29\n",
       "Smart Falk Miksa                              25\n",
       "CDC Keleti károly                             19\n",
       "Duna House Kossuth Utca                       18\n",
       "OTP Ingatlanpont Hűvösvölgyi út               18\n",
       "Városi Ingatlaniroda                          17\n",
       "OTPIP Kreativ Ingatlaniroda                   16\n",
       "Smart Ingatlan Podmaniczky utca               12\n",
       "Central Home                                  12\n",
       "Duna House József Attila Lakótelep            11\n",
       "OTPIP Dezseffy utca                            8\n",
       "H-KONTAKT GROUP KFT.                           5\n",
       "OTPIP Petneházy utca                           5\n",
       "Smart Ingatlan - József krt                    4\n",
       "Duna House Nemes utca                          4\n",
       "OTPIP Szilágyi Erzsébet fasor                  3\n",
       "Ingatlan48                                     2\n",
       "Travnik Otpip                                  1\n",
       "MAXIINGATLAN                                   1\n",
       "Duna House Béke tér                            1\n",
       "Name: agency, dtype: int64"
      ]
     },
     "execution_count": 85,
     "metadata": {},
     "output_type": "execute_result"
    }
   ],
   "source": [
    "#cleaning-up agency\n",
    "VkerDB['agency'].value_counts()"
   ]
  },
  {
   "cell_type": "code",
   "execution_count": 86,
   "metadata": {},
   "outputs": [
    {
     "data": {
      "text/plain": [
       "agency         1726\n",
       "date              0\n",
       "description    1533\n",
       "id                0\n",
       "price             0\n",
       "price_sqm         0\n",
       "region          893\n",
       "room              0\n",
       "source            0\n",
       "sqm               0\n",
       "url               0\n",
       "dtype: int64"
      ]
     },
     "execution_count": 86,
     "metadata": {},
     "output_type": "execute_result"
    }
   ],
   "source": [
    "VkerDB.isnull().sum()"
   ]
  },
  {
   "cell_type": "markdown",
   "metadata": {},
   "source": [
    "#### reorganise columns"
   ]
  },
  {
   "cell_type": "code",
   "execution_count": 87,
   "metadata": {},
   "outputs": [],
   "source": [
    "VkerDB = VkerDB[['id', 'date', 'price', 'price_sqm', 'room', 'sqm','region','description','agency', 'source','url']]"
   ]
  },
  {
   "cell_type": "code",
   "execution_count": 88,
   "metadata": {},
   "outputs": [],
   "source": [
    "Dbfull = pd.read_csv('VkerDB.csv')\n",
    "print('No of ads: ',Dbfull.shape)\n",
    "alls = pd.concat([Dbfull,VkerDB], axis = 0, ignore_index= True)\n",
    "#alls.to_csv('VkerDB.csv', index=False, index_label=None)"
   ]
  },
  {
   "cell_type": "code",
   "execution_count": 90,
   "metadata": {},
   "outputs": [],
   "source": [
    "counts = sorted(zip(alls['date'].value_counts().index,alls['date'].value_counts()))"
   ]
  },
  {
   "cell_type": "code",
   "execution_count": 104,
   "metadata": {},
   "outputs": [
    {
     "data": {
      "image/png": "[encoded data removed]",
      "text/plain": [
       "<Figure size 720x144 with 1 Axes>"
      ]
     },
     "metadata": {
      "needs_background": "light"
     },
     "output_type": "display_data"
    }
   ],
   "source": [
    "fig = plt.figure(figsize=(10,2))\n",
    "plt.bar([i[0] for i in counts],[i[1] for i in counts])\n",
    "plt.title('No of ads from .hu, centrum & .com sites')\n",
    "plt.xticks(rotation=30, ha = 'right')\n",
    "plt.show()"
   ]
  }
 ],
 "metadata": {
  "kernelspec": {
   "display_name": "Python 3",
   "language": "python",
   "name": "python3"
  },
  "language_info": {
   "codemirror_mode": {
    "name": "ipython",
    "version": 3
   },
   "file_extension": ".py",
   "mimetype": "text/x-python",
   "name": "python",
   "nbconvert_exporter": "python",
   "pygments_lexer": "ipython3",
   "version": "3.7.3"
  }
 },
 "nbformat": 4,
 "nbformat_minor": 2
}
