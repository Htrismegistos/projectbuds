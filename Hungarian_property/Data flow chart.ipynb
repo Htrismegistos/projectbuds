{
 "cells": [
  {
   "cell_type": "markdown",
   "metadata": {},
   "source": [
    "detail_scrape -> detail_extract -> detail_clean -> statstics -> modell\n",
    "\n",
    "---------------------------------------------------\n",
    "detail_scrape:\n",
    "    scrape the indvidual ads <body> tag. save it to 'ads[source][disctrict]_[date].csv' format\n",
    "    \n",
    "detail_extract:\n",
    "    extract the data from ads[]_ [].csv format to dataframe. distrit specific code. save it to '[source]_ [date].csv'\n",
    "\n",
    "detail_cleanup:\n",
    "    clean the data, format and make new derived columns. save it to [district]kerDB.csv.\n",
    "    \n",
    "statistics:\n",
    "    descriptive anaylsis, graphs, tendencies\n",
    "    \n",
    "modell: \n",
    "    predictive modell for tendency and individual price determination"
   ]
  }
 ],
 "metadata": {
  "kernelspec": {
   "display_name": "Python 3",
   "language": "python",
   "name": "python3"
  },
  "language_info": {
   "codemirror_mode": {
    "name": "ipython",
    "version": 3
   },
   "file_extension": ".py",
   "mimetype": "text/x-python",
   "name": "python",
   "nbconvert_exporter": "python",
   "pygments_lexer": "ipython3",
   "version": "3.7.4"
  }
 },
 "nbformat": 4,
 "nbformat_minor": 2
}
