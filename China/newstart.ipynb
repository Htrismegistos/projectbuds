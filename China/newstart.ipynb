{
 "cells": [
  {
   "cell_type": "code",
   "execution_count": 1,
   "metadata": {},
   "outputs": [],
   "source": [
    "import pandas as pd\n",
    "import json\n",
    "import matplotlib.pyplot as plt\n",
    "import datetime as dt\n",
    "\n",
    "from ipywidgets import interact, interactive, fixed, interact_manual\n",
    "import ipywidgets as widgets"
   ]
  },
  {
   "cell_type": "code",
   "execution_count": 2,
   "metadata": {},
   "outputs": [],
   "source": [
    "new= pd.read_csv('newRes90_clean.csv', index_col = 0)\n",
    "sec = pd.read_csv('secRes90_clean.csv', index_col = 0)\n",
    "coord = pd.read_csv('coordiantes.csv', index_col = 0)\n",
    "with open('inflation.json', 'r') as f:\n",
    "    inf = json.load(f)"
   ]
  },
  {
   "cell_type": "code",
   "execution_count": 3,
   "metadata": {},
   "outputs": [
    {
     "data": {
      "text/plain": [
       "0"
      ]
     },
     "execution_count": 3,
     "metadata": {},
     "output_type": "execute_result"
    }
   ],
   "source": [
    "(new.dtypes != 'float64').sum()"
   ]
  },
  {
   "cell_type": "code",
   "execution_count": 4,
   "metadata": {},
   "outputs": [],
   "source": [
    "new.columns = pd.to_datetime(new.columns, format='%Y%m').date\n",
    "sec.columns = pd.to_datetime(sec.columns, format = '%Y%m').date"
   ]
  },
  {
   "cell_type": "code",
   "execution_count": 5,
   "metadata": {},
   "outputs": [],
   "source": [
    "sec = sec.join(coord)\n",
    "new = new.join(coord)"
   ]
  },
  {
   "cell_type": "code",
   "execution_count": 6,
   "metadata": {},
   "outputs": [
    {
     "data": {
      "application/vnd.jupyter.widget-view+json": {
       "model_id": "1a20edbfc62c448bb830ade79761984f",
       "version_major": 2,
       "version_minor": 0
      },
      "text/plain": [
       "RadioButtons(options=('English', '中文'), value='English')"
      ]
     },
     "metadata": {},
     "output_type": "display_data"
    }
   ],
   "source": [
    "rw2 = widgets.RadioButtons(options = ['English', '中文'], value = 'English')\n",
    "\n",
    "display(rw2)"
   ]
  },
  {
   "cell_type": "code",
   "execution_count": 250,
   "metadata": {},
   "outputs": [],
   "source": [
    "if rw2.value == 'English':\n",
    "    texts = {'w':{'pw':'Price',\n",
    "                  'rw': ['Newly built','Second hand'],\n",
    "                  'dw':'Date range'}\n",
    "            }\n",
    "                \n",
    "else:\n",
    "    texts = {'w':{'pw':'价钱',\n",
    "                  'rw':['新建','用过的'],\n",
    "                  'dw':'日期范围'}\n",
    "            }"
   ]
  },
  {
   "cell_type": "code",
   "execution_count": 251,
   "metadata": {},
   "outputs": [
    {
     "data": {
      "application/vnd.jupyter.widget-view+json": {
       "model_id": "5c0422fe733240cd9450db9fabf7604d",
       "version_major": 2,
       "version_minor": 0
      },
      "text/plain": [
       "IntSlider(value=0, description='价钱')"
      ]
     },
     "metadata": {},
     "output_type": "display_data"
    }
   ],
   "source": [
    "pw = widgets.IntSlider(description = texts['w']['pw'])\n",
    "pw"
   ]
  },
  {
   "cell_type": "code",
   "execution_count": 252,
   "metadata": {},
   "outputs": [
    {
     "data": {
      "application/vnd.jupyter.widget-view+json": {
       "model_id": "d9f46d43f1dd41adbea76b8c2529a81d",
       "version_major": 2,
       "version_minor": 0
      },
      "text/plain": [
       "Dropdown(description='市:', options=('安庆', '包头市', '北海', '北京市', '蚌埠', '长春市', '常德', '长沙市', '成都市', '重庆市', '大理镇', '…"
      ]
     },
     "metadata": {},
     "output_type": "display_data"
    }
   ],
   "source": [
    "if rw2.value == 'English':\n",
    "    cw = widgets.Dropdown(\n",
    "        options=new.index,\n",
    "        description='City:',\n",
    "        disabled=False,\n",
    "        description_tooltip = 'Select a city',\n",
    "    )\n",
    "else: \n",
    "    cw = widgets.Dropdown(\n",
    "        options=new['chinese_name'],\n",
    "        description='市:',\n",
    "        disabled=False,\n",
    "    )\n",
    "display(cw)"
   ]
  },
  {
   "cell_type": "code",
   "execution_count": 253,
   "metadata": {},
   "outputs": [
    {
     "data": {
      "application/vnd.jupyter.widget-view+json": {
       "model_id": "937642b81e9d41e7a0666bf775d5af93",
       "version_major": 2,
       "version_minor": 0
      },
      "text/plain": [
       "RadioButtons(options=('新建', '用过的'), value='新建')"
      ]
     },
     "metadata": {},
     "output_type": "display_data"
    },
    {
     "data": {
      "text/plain": [
       "'新建'"
      ]
     },
     "execution_count": 253,
     "metadata": {},
     "output_type": "execute_result"
    }
   ],
   "source": [
    "rw = widgets.RadioButtons(\n",
    "    options= texts['w']['rw'],\n",
    "     value= texts['w']['rw'][0],\n",
    "    disabled=False,\n",
    ")\n",
    "display(rw)\n",
    "rw.value"
   ]
  },
  {
   "cell_type": "code",
   "execution_count": 293,
   "metadata": {},
   "outputs": [
    {
     "data": {
      "text/plain": [
       "'2020-04'"
      ]
     },
     "execution_count": 293,
     "metadata": {},
     "output_type": "execute_result"
    }
   ],
   "source": [
    "[i.strftime('%Y-%m') for i in new.columns[:69]][-1]"
   ]
  },
  {
   "cell_type": "code",
   "execution_count": 294,
   "metadata": {},
   "outputs": [
    {
     "data": {
      "application/vnd.jupyter.widget-view+json": {
       "model_id": "2b5fe6c8774c4ba0995be02f9e379668",
       "version_major": 2,
       "version_minor": 0
      },
      "text/plain": [
       "SelectionRangeSlider(description='日期范围', index=(0, 68), options=('2014-07', '2014-08', '2014-09', '2014-10', '…"
      ]
     },
     "metadata": {},
     "output_type": "display_data"
    },
    {
     "name": "stdout",
     "output_type": "stream",
     "text": [
      "('2014-07', '2020-04')\n"
     ]
    }
   ],
   "source": [
    "dw = widgets.SelectionRangeSlider(\n",
    "    options= [i.strftime('%Y-%m') for i in new.columns[:-4]],\n",
    "    index=(0,len(new.columns[:-5])),\n",
    "    description= texts['w']['dw'],\n",
    "    value = ([i.strftime('%Y-%m') for i in new.columns[:1]][0],[i.strftime('%Y-%m') for i in new.columns[:69]][-1]),\n",
    "    disabled=False\n",
    ")\n",
    "display(dw)\n",
    "print(dw.value)\n"
   ]
  },
  {
   "cell_type": "code",
   "execution_count": 255,
   "metadata": {},
   "outputs": [
    {
     "name": "stdout",
     "output_type": "stream",
     "text": [
      "[datetime.date(2017, 11, 1), datetime.date(2020, 4, 1)]\n"
     ]
    }
   ],
   "source": [
    "x = [dt.datetime.strptime(i, '%Y-%m').date() for i in dw.value]\n",
    "print(x)"
   ]
  },
  {
   "cell_type": "code",
   "execution_count": 257,
   "metadata": {},
   "outputs": [
    {
     "name": "stdout",
     "output_type": "stream",
     "text": [
      "vv 福州市\n"
     ]
    },
    {
     "data": {
      "text/html": [
       "<div>\n",
       "<style scoped>\n",
       "    .dataframe tbody tr th:only-of-type {\n",
       "        vertical-align: middle;\n",
       "    }\n",
       "\n",
       "    .dataframe tbody tr th {\n",
       "        vertical-align: top;\n",
       "    }\n",
       "\n",
       "    .dataframe thead th {\n",
       "        text-align: right;\n",
       "    }\n",
       "</style>\n",
       "<table border=\"1\" class=\"dataframe\">\n",
       "  <thead>\n",
       "    <tr style=\"text-align: right;\">\n",
       "      <th></th>\n",
       "      <th>2017-11-01</th>\n",
       "      <th>2017-12-01</th>\n",
       "      <th>2018-01-01</th>\n",
       "      <th>2018-02-01</th>\n",
       "      <th>2018-03-01</th>\n",
       "      <th>2018-04-01</th>\n",
       "      <th>2018-05-01</th>\n",
       "      <th>2018-06-01</th>\n",
       "      <th>2018-07-01</th>\n",
       "      <th>2018-08-01</th>\n",
       "      <th>...</th>\n",
       "      <th>2019-08-01</th>\n",
       "      <th>2019-09-01</th>\n",
       "      <th>2019-10-01</th>\n",
       "      <th>2019-11-01</th>\n",
       "      <th>2019-12-01</th>\n",
       "      <th>2020-01-01</th>\n",
       "      <th>2020-02-01</th>\n",
       "      <th>2020-03-01</th>\n",
       "      <th>2020-04-01</th>\n",
       "      <th>chinese_name</th>\n",
       "    </tr>\n",
       "  </thead>\n",
       "  <tbody>\n",
       "    <tr>\n",
       "      <th>Fuzhou</th>\n",
       "      <td>100.0</td>\n",
       "      <td>100.1</td>\n",
       "      <td>99.7</td>\n",
       "      <td>99.4</td>\n",
       "      <td>99.8</td>\n",
       "      <td>99.7</td>\n",
       "      <td>99.5</td>\n",
       "      <td>97.9</td>\n",
       "      <td>102.0</td>\n",
       "      <td>101.3</td>\n",
       "      <td>...</td>\n",
       "      <td>100.6</td>\n",
       "      <td>100.4</td>\n",
       "      <td>100.8</td>\n",
       "      <td>100.3</td>\n",
       "      <td>100.2</td>\n",
       "      <td>100.0</td>\n",
       "      <td>100.0</td>\n",
       "      <td>99.9</td>\n",
       "      <td>100.1</td>\n",
       "      <td>福州市</td>\n",
       "    </tr>\n",
       "  </tbody>\n",
       "</table>\n",
       "<p>1 rows × 31 columns</p>\n",
       "</div>"
      ],
      "text/plain": [
       "        2017-11-01  2017-12-01  2018-01-01  2018-02-01  2018-03-01  \\\n",
       "Fuzhou       100.0       100.1        99.7        99.4        99.8   \n",
       "\n",
       "        2018-04-01  2018-05-01  2018-06-01  2018-07-01  2018-08-01  ...  \\\n",
       "Fuzhou        99.7        99.5        97.9       102.0       101.3  ...   \n",
       "\n",
       "        2019-08-01  2019-09-01  2019-10-01  2019-11-01  2019-12-01  \\\n",
       "Fuzhou       100.6       100.4       100.8       100.3       100.2   \n",
       "\n",
       "        2020-01-01  2020-02-01  2020-03-01  2020-04-01  chinese_name  \n",
       "Fuzhou       100.0       100.0        99.9       100.1           福州市  \n",
       "\n",
       "[1 rows x 31 columns]"
      ]
     },
     "execution_count": 257,
     "metadata": {},
     "output_type": "execute_result"
    }
   ],
   "source": [
    "if rw.value in ['Newly built', '新建']:\n",
    "    d = new.copy()\n",
    "else: d = sec.copy()\n",
    "\n",
    "if rw2.value == 'English':\n",
    "    df = d.loc[cw.value,x[0]:x[1]]\n",
    "else:\n",
    "    df = d.loc[d['chinese_name'] == cw.value].loc[:,x[0]:x[1]].join(coord['chinese_name'])\n",
    "    \n",
    "df"
   ]
  },
  {
   "cell_type": "code",
   "execution_count": 303,
   "metadata": {},
   "outputs": [
    {
     "data": {
      "application/vnd.jupyter.widget-view+json": {
       "model_id": "99452c9306b34a698f2609d6bfb29279",
       "version_major": 2,
       "version_minor": 0
      },
      "text/plain": [
       "HBox(children=(Play(value=0, description='Press play', max=69), IntSlider(value=0, max=69)))"
      ]
     },
     "metadata": {},
     "output_type": "display_data"
    }
   ],
   "source": [
    "from ipywidgets import interactive\n",
    "import matplotlib.font_manager as mfm\n",
    "font_path = \"/usr/share/fonts/truetype/NotoSansSC-Regular.otf\"\n",
    "font_path = \"/usr/share/fonts/truetype/DroidSansFallbackFull.ttf\"\n",
    "font_path = \"/usr/share/fonts/truetype/NotoSansTC-Bold.otf\"\n",
    "prop = mfm.FontProperties(fname=font_path)\n",
    "plt.rcParams['font.family']= 'DejaVu Sans'\n",
    "\n",
    "def _cdef(Date,City, Price):\n",
    "    c = City       \n",
    "    p = Price\n",
    "    t = Date\n",
    "\n",
    "\n",
    "    fig = plt.figure(figsize = (15,4))\n",
    "    ax = fig.add_subplot(1,1,1)\n",
    "    for i, l  in zip([new,sec],['new', '2nd hand']):\n",
    "        i = i.loc[c, t:]\n",
    "        plt.plot(i.index, i.values, label= c+' '+l)\n",
    "        plt.fill_between(i.index, i.values,\n",
    "            100, # the price of reference, buying price eg. exact No. also good\n",
    "            where = (i.values > 100), #shows only when higher then the buying price\n",
    "            facecolor = 'g',\n",
    "            alpha = 0.5\n",
    "            )\n",
    "        plt.fill_between(i.index, i.values,\n",
    "            100, # the price of reference, buying price eg. exact No. also good\n",
    "            where = (i.values <= 100), #shows only when higher then the buying price\n",
    "            facecolor = 'r',\n",
    "            alpha = 0.5\n",
    "            )\n",
    "\n",
    "    plt.xticks(rotation = 45)\n",
    "    plt.legend(loc = (0.8,0.85))\n",
    "    ax.spines['top'].set_visible(False)\n",
    "    ax.spines['right'].set_visible(False)\n",
    "    ax.axhline(100,color = 'red', linewidth = 1)\n",
    "    plt.suptitle('Property price index change between {} and today'.format(t), fontsize = 16)\n",
    "    plt.title('{}至今天之间的房地产价格变化'.format(t), fontproperties=prop, fontsize = 14)\n",
    "\n",
    "\n",
    "    plt.show()\n",
    "\n",
    "    #price calculation\n",
    "    p1 = p\n",
    "    if d == 'new':\n",
    "        plist = new.loc[c,t:]\n",
    "    else:\n",
    "        plist = sec.loc[c,t:]\n",
    "    for i in plist:\n",
    "        p1 *=(float(i)/100)\n",
    "    pp1 = p1/p*100\n",
    "\n",
    "\n",
    "    print('The price increase in the last {} month is {:.2f} %, value {:0.0f}'.format(len(plist), pp1, p1))\n",
    "    print('最近{}个月的价格上涨值为{:.2f} %, RMB {:0.0f}'.format(len(plist), pp1, p1))\n",
    "\n",
    "    return\n",
    "\n",
    "\n",
    "\n",
    "#t = input('date 201810: ')\n",
    "d = input('Property type: ')\n",
    "c = interactive(_cdef,Date = sec.columns, City = sec.index, Price = (200000,1500000,50000))"
   ]
  },
  {
   "cell_type": "code",
   "execution_count": null,
   "metadata": {},
   "outputs": [],
   "source": []
  },
  {
   "cell_type": "code",
   "execution_count": null,
   "metadata": {},
   "outputs": [],
   "source": []
  },
  {
   "cell_type": "code",
   "execution_count": null,
   "metadata": {},
   "outputs": [],
   "source": []
  }
 ],
 "metadata": {
  "kernelspec": {
   "display_name": "Python 3",
   "language": "python",
   "name": "python3"
  },
  "language_info": {
   "codemirror_mode": {
    "name": "ipython",
    "version": 3
   },
   "file_extension": ".py",
   "mimetype": "text/x-python",
   "name": "python",
   "nbconvert_exporter": "python",
   "pygments_lexer": "ipython3",
   "version": "3.7.6"
  }
 },
 "nbformat": 4,
 "nbformat_minor": 2
}
