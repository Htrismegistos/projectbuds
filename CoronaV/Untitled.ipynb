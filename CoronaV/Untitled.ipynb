{
 "cells": [
  {
   "cell_type": "code",
   "execution_count": 1,
   "metadata": {},
   "outputs": [],
   "source": [
    "import pandas as pd\n",
    "import numpy as np\n",
    "import json\n",
    "from bokeh.models import ColumnDataSource\n",
    "from warnings import filterwarnings\n",
    "filterwarnings('ignore')"
   ]
  },
  {
   "cell_type": "code",
   "execution_count": 2,
   "metadata": {},
   "outputs": [],
   "source": [
    "sick = pd.read_csv('final_data.csv', index_col = 'Date')\n",
    "pop = json.load(open('population_covid.json'))\n",
    "col_list = [ i for i in sick.columns if 'dead' not in i and 'daily' not in i]\n",
    "colour_list = ['#1f77b4','#ff7f0e', '#2ca02c', '#9467bd', '#8c564b', '#e377c2', '#7f7f7f', '#bcbd22','#17becf']\n",
    "colour = {'China':'#1f77b4','US': '#2ca02c', 'United Kingdom': '#ff7f0e'}\n",
    "selection_sum = ['United Kingdom','US', 'China']\n",
    "norm = 0"
   ]
  },
  {
   "cell_type": "code",
   "execution_count": 255,
   "metadata": {},
   "outputs": [],
   "source": [
    "selection_sum = ['United Kingdom','Albania','China', 'US']"
   ]
  },
  {
   "cell_type": "code",
   "execution_count": 175,
   "metadata": {},
   "outputs": [
    {
     "data": {
      "text/plain": [
       "['#1f77b4',\n",
       " '#ff7f0e',\n",
       " '#2ca02c',\n",
       " '#9467bd',\n",
       " '#8c564b',\n",
       " '#e377c2',\n",
       " '#7f7f7f',\n",
       " '#bcbd22',\n",
       " '#17becf']"
      ]
     },
     "execution_count": 175,
     "metadata": {},
     "output_type": "execute_result"
    }
   ],
   "source": [
    "colour_list"
   ]
  },
  {
   "cell_type": "code",
   "execution_count": 256,
   "metadata": {},
   "outputs": [
    {
     "name": "stdout",
     "output_type": "stream",
     "text": [
      "9 #1f77b4\n",
      "8 #8c564b\n",
      "7 #9467bd\n",
      "6 #2ca02c\n"
     ]
    }
   ],
   "source": [
    "colour_list = ['#1f77b4','#ff7f0e', '#2ca02c', '#9467bd', '#8c564b', '#e377c2', '#7f7f7f', '#bcbd22','#17becf']\n",
    "old_colour = {i:c for i,c in zip(src.data['Country'],src.data['colour'])}\n",
    "colour = {}\n",
    "for i in selection_sum:\n",
    "    if i in old_colour.keys():\n",
    "        colour[i] = old_colour[i]\n",
    "        print(len(colour_list), old_colour[i])\n",
    "        colour_list.remove(old_colour[i])\n",
    "for i, n in enumerate(selection_sum):\n",
    "    if n not in colour.keys():\n",
    "        colour[n] = colour_list[i]"
   ]
  },
  {
   "cell_type": "code",
   "execution_count": 257,
   "metadata": {},
   "outputs": [
    {
     "data": {
      "text/plain": [
       "({'United Kingdom': '#1f77b4',\n",
       "  'US': '#2ca02c',\n",
       "  'Albania': '#8c564b',\n",
       "  'China': '#9467bd'},\n",
       " {'United Kingdom': '#1f77b4',\n",
       "  'Albania': '#8c564b',\n",
       "  'China': '#9467bd',\n",
       "  'US': '#2ca02c'})"
      ]
     },
     "execution_count": 257,
     "metadata": {},
     "output_type": "execute_result"
    }
   ],
   "source": [
    "old_colour,colour"
   ]
  },
  {
   "cell_type": "code",
   "execution_count": 3,
   "metadata": {},
   "outputs": [],
   "source": [
    "if len(selection_sum) >1 :\n",
    "    selection_sum = [i for i in selection_sum if i != 'No selection']\n",
    "else : selection_sum = selection_sum\n",
    "\n",
    "sel_daily = [i+'_daily' for i in list(set(selection_sum))]\n",
    "sel_dead = [i+'_dead' for i in selection_sum]\n",
    "sel_daily_dead = [i+'_dead' for i in sel_daily]\n",
    "sel_daily_roll = [i+'_roll' for i in sel_daily]\n",
    "sel_daily_dead_roll = [i+'_roll' for i in sel_daily_dead]\n",
    "\n",
    "df = sick[selection_sum + sel_daily + sel_dead+ sel_daily_dead]\n",
    "\n",
    "# trendline\n",
    "days = 7\n",
    "for i in sel_daily:\n",
    "    df[i+'_roll'] = df[i].rolling(window = days).mean()\n",
    "    df[i+'_dead_roll'] = df[i+'_dead'].rolling(window = days).mean()\n",
    "\n",
    "#normalise with 100.000 population\n",
    "if norm != 0:\n",
    "    try:\n",
    "        selection_sum.remove('No selection')\n",
    "    except: None\n",
    "\n",
    "    temp = pd.DataFrame()\n",
    "    for i in selection_sum:\n",
    "\n",
    "        n = (pop['data'][i])\n",
    "        temp1 = df.loc[:,[ii for ii in df.columns if i in ii]] / (n)\n",
    "        temp = pd.concat((temp, temp1), axis = 1) \n",
    "        #print(temp1)\n",
    "        s_cds = temp\n",
    "else: s_cds = df.copy()\n",
    "\n",
    "s_cds.reset_index(inplace= True)\n",
    "\n",
    "s_cds['Date'] = pd.to_datetime(s_cds['Date'])\n",
    "\n",
    "#melts and combine sum values and diff values to a single df\n",
    "a1 = pd.melt(s_cds, id_vars = 'Date', value_vars = selection_sum, var_name = 'Country' )\n",
    "a2 = pd.melt(s_cds, id_vars = 'Date', value_vars = sel_daily, var_name = 'Country',value_name = 'value_day' )\n",
    "a3 = pd.melt(s_cds, id_vars = 'Date', value_vars = sel_dead, var_name = 'Country',value_name = 'value_dead' )\n",
    "a4 = pd.melt(s_cds, id_vars = 'Date', value_vars = sel_daily_dead, var_name = 'Country',value_name = 'value_day_dead' )\n",
    "a5 = pd.melt(s_cds, id_vars = 'Date', value_vars = sel_daily_roll, var_name = 'Country', value_name = 'value_day_roll')\n",
    "a6 = pd.melt(s_cds, id_vars = 'Date', value_vars = sel_daily_dead_roll, var_name = 'Country', value_name = 'value_day_dead_roll')\n",
    "\n",
    "\n",
    "s_cds = pd.concat([a1,a2['value_day'],\n",
    "                   a3['value_dead'],\n",
    "                   a4['value_day_dead'],\n",
    "                   a5['value_day_roll'],\n",
    "                   a6['value_day_dead_roll']], axis = 1, ignore_index= True)\n",
    "s_cds.columns = ['Date', 'Country', 'value','value_day','value_dead','value_day_dead','value_day_roll','value_day_dead_roll']\n",
    "\n",
    "#get rid of empty dates exept if 'No selection' is there\n",
    "s_cds = s_cds.applymap(lambda x: np.NaN if x == 0 else x)\n",
    "if 'No selection' not in s_cds['Country'].unique():\n",
    "    s_cds.dropna(axis = 1, how = 'all', inplace = True)\n",
    "\n",
    "# colourise\n",
    "#colour = {i : c for i,c in zip(s_cds['Country'].unique(),colour_list)}\n",
    "s_cds['colour'] = s_cds['Country'].map(colour)\n",
    "\n",
    "src =  ColumnDataSource(s_cds)"
   ]
  },
  {
   "cell_type": "code",
   "execution_count": 139,
   "metadata": {},
   "outputs": [
    {
     "data": {
      "text/plain": [
       "\"for i,c in zip(src.data['Country'],src.data['colour']):\\n    if i not in col.keys():\\n        col[i] =c\""
      ]
     },
     "execution_count": 139,
     "metadata": {},
     "output_type": "execute_result"
    }
   ],
   "source": [
    "col = {}\n",
    "col = {i:c for i,c in zip(src.data['Country'],src.data['colour']) if i not in col.keys()}\n",
    "'''for i,c in zip(src.data['Country'],src.data['colour']):\n",
    "    if i not in col.keys():\n",
    "        col[i] =c'''"
   ]
  },
  {
   "cell_type": "code",
   "execution_count": 140,
   "metadata": {},
   "outputs": [
    {
     "data": {
      "text/plain": [
       "{'United Kingdom': '#ff7f0e', 'US': '#2ca02c', 'China': '#1f77b4'}"
      ]
     },
     "execution_count": 140,
     "metadata": {},
     "output_type": "execute_result"
    }
   ],
   "source": [
    "col"
   ]
  },
  {
   "cell_type": "code",
   "execution_count": 237,
   "metadata": {},
   "outputs": [],
   "source": [
    "#old_colour = {i for i in set(src.data['Country'])}\n",
    "old_colour = {i: c for i,c in zip(src.data['Country'],src.data['colour'])}"
   ]
  },
  {
   "cell_type": "code",
   "execution_count": 1,
   "metadata": {},
   "outputs": [
    {
     "name": "stdout",
     "output_type": "stream",
     "text": [
      "1\n"
     ]
    }
   ],
   "source": [
    "globvar = 0\n",
    "\n",
    "def set_globvar_to_one():\n",
    "    global globvar    # Needed to modify global copy of globvar\n",
    "    globvar = 1\n",
    "\n",
    "def print_globvar():\n",
    "    print(globvar)     # No need for global declaration to read value of globvar\n",
    "\n",
    "set_globvar_to_one()\n",
    "print_globvar() "
   ]
  },
  {
   "cell_type": "code",
   "execution_count": 41,
   "metadata": {},
   "outputs": [],
   "source": [
    "v = 'yepp'\n",
    "\n",
    "def c():\n",
    "    global v\n",
    "    v=v*2\n",
    "    return\n",
    "\n",
    "def cc(v):\n",
    "    print(v)"
   ]
  },
  {
   "cell_type": "code",
   "execution_count": 39,
   "metadata": {},
   "outputs": [],
   "source": [
    "c()"
   ]
  },
  {
   "cell_type": "code",
   "execution_count": 42,
   "metadata": {},
   "outputs": [
    {
     "name": "stdout",
     "output_type": "stream",
     "text": [
      "yepp\n"
     ]
    }
   ],
   "source": [
    "cc(v)"
   ]
  },
  {
   "cell_type": "code",
   "execution_count": null,
   "metadata": {},
   "outputs": [],
   "source": []
  }
 ],
 "metadata": {
  "kernelspec": {
   "display_name": "Python 3",
   "language": "python",
   "name": "python3"
  },
  "language_info": {
   "codemirror_mode": {
    "name": "ipython",
    "version": 3
   },
   "file_extension": ".py",
   "mimetype": "text/x-python",
   "name": "python",
   "nbconvert_exporter": "python",
   "pygments_lexer": "ipython3",
   "version": "3.7.4"
  }
 },
 "nbformat": 4,
 "nbformat_minor": 2
}
