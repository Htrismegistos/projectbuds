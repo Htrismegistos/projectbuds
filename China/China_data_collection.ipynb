{
 "cells": [
  {
   "cell_type": "markdown",
   "metadata": {},
   "source": [
    "<b style=\"color: red;\">last scraped date: 05/2020</b>\n",
    "\n",
    "Source: http://www.stats.gov.cn/english/PressRelease/ - National Statistics Bureuo of China<br>\n",
    "<ul>\n",
    "    <li>\n",
    "        part 1: retrived url from history sqlite/ Firefox</li>\n",
    "    <li>\n",
    "        part 2: manual copmillation from the website</li>\n",
    "</ul>\n",
    "\n",
    "Missing data: 2015/09 August not published<br>\n",
    "\n",
    "Saved html body in json in {'date':<body\\>} format<br>\n",
    "\n",
    "Note: website prone to throw 200 error so repetitive try needed.\n",
    "        "
   ]
  },
  {
   "cell_type": "code",
   "execution_count": 1,
   "metadata": {},
   "outputs": [],
   "source": [
    "import pandas as pd\n",
    "import sqlite3 as sq3\n",
    "import requests as rq\n",
    "from bs4 import BeautifulSoup as beauty\n",
    "import json"
   ]
  },
  {
   "cell_type": "code",
   "execution_count": 3,
   "metadata": {
    "collapsed": true
   },
   "outputs": [
    {
     "data": {
      "text/html": [
       "<div>\n",
       "<style scoped>\n",
       "    .dataframe tbody tr th:only-of-type {\n",
       "        vertical-align: middle;\n",
       "    }\n",
       "\n",
       "    .dataframe tbody tr th {\n",
       "        vertical-align: top;\n",
       "    }\n",
       "\n",
       "    .dataframe thead th {\n",
       "        text-align: right;\n",
       "    }\n",
       "</style>\n",
       "<table border=\"1\" class=\"dataframe\">\n",
       "  <thead>\n",
       "    <tr style=\"text-align: right;\">\n",
       "      <th></th>\n",
       "      <th>type</th>\n",
       "      <th>name</th>\n",
       "      <th>tbl_name</th>\n",
       "      <th>rootpage</th>\n",
       "      <th>sql</th>\n",
       "    </tr>\n",
       "  </thead>\n",
       "  <tbody>\n",
       "    <tr>\n",
       "      <th>0</th>\n",
       "      <td>table</td>\n",
       "      <td>moz_places</td>\n",
       "      <td>moz_places</td>\n",
       "      <td>3</td>\n",
       "      <td>CREATE TABLE moz_places (   id INTEGER PRIMARY...</td>\n",
       "    </tr>\n",
       "    <tr>\n",
       "      <th>1</th>\n",
       "      <td>table</td>\n",
       "      <td>moz_historyvisits</td>\n",
       "      <td>moz_historyvisits</td>\n",
       "      <td>4</td>\n",
       "      <td>CREATE TABLE moz_historyvisits (  id INTEGER P...</td>\n",
       "    </tr>\n",
       "    <tr>\n",
       "      <th>2</th>\n",
       "      <td>table</td>\n",
       "      <td>moz_inputhistory</td>\n",
       "      <td>moz_inputhistory</td>\n",
       "      <td>5</td>\n",
       "      <td>CREATE TABLE moz_inputhistory (  place_id INTE...</td>\n",
       "    </tr>\n",
       "    <tr>\n",
       "      <th>3</th>\n",
       "      <td>table</td>\n",
       "      <td>moz_hosts</td>\n",
       "      <td>moz_hosts</td>\n",
       "      <td>7</td>\n",
       "      <td>CREATE TABLE moz_hosts (  id INTEGER PRIMARY K...</td>\n",
       "    </tr>\n",
       "    <tr>\n",
       "      <th>4</th>\n",
       "      <td>table</td>\n",
       "      <td>moz_bookmarks</td>\n",
       "      <td>moz_bookmarks</td>\n",
       "      <td>9</td>\n",
       "      <td>CREATE TABLE moz_bookmarks (  id INTEGER PRIMA...</td>\n",
       "    </tr>\n",
       "    <tr>\n",
       "      <th>5</th>\n",
       "      <td>table</td>\n",
       "      <td>moz_keywords</td>\n",
       "      <td>moz_keywords</td>\n",
       "      <td>10</td>\n",
       "      <td>CREATE TABLE moz_keywords (  id INTEGER PRIMAR...</td>\n",
       "    </tr>\n",
       "    <tr>\n",
       "      <th>6</th>\n",
       "      <td>table</td>\n",
       "      <td>sqlite_sequence</td>\n",
       "      <td>sqlite_sequence</td>\n",
       "      <td>12</td>\n",
       "      <td>CREATE TABLE sqlite_sequence(name,seq)</td>\n",
       "    </tr>\n",
       "    <tr>\n",
       "      <th>7</th>\n",
       "      <td>table</td>\n",
       "      <td>moz_anno_attributes</td>\n",
       "      <td>moz_anno_attributes</td>\n",
       "      <td>13</td>\n",
       "      <td>CREATE TABLE moz_anno_attributes (  id INTEGER...</td>\n",
       "    </tr>\n",
       "    <tr>\n",
       "      <th>8</th>\n",
       "      <td>table</td>\n",
       "      <td>moz_annos</td>\n",
       "      <td>moz_annos</td>\n",
       "      <td>15</td>\n",
       "      <td>CREATE TABLE moz_annos (  id INTEGER PRIMARY K...</td>\n",
       "    </tr>\n",
       "    <tr>\n",
       "      <th>9</th>\n",
       "      <td>table</td>\n",
       "      <td>moz_items_annos</td>\n",
       "      <td>moz_items_annos</td>\n",
       "      <td>16</td>\n",
       "      <td>CREATE TABLE moz_items_annos (  id INTEGER PRI...</td>\n",
       "    </tr>\n",
       "    <tr>\n",
       "      <th>10</th>\n",
       "      <td>table</td>\n",
       "      <td>sqlite_stat1</td>\n",
       "      <td>sqlite_stat1</td>\n",
       "      <td>17</td>\n",
       "      <td>CREATE TABLE sqlite_stat1(tbl,idx,stat)</td>\n",
       "    </tr>\n",
       "    <tr>\n",
       "      <th>11</th>\n",
       "      <td>table</td>\n",
       "      <td>moz_bookmarks_deleted</td>\n",
       "      <td>moz_bookmarks_deleted</td>\n",
       "      <td>18</td>\n",
       "      <td>CREATE TABLE moz_bookmarks_deleted (  guid TEX...</td>\n",
       "    </tr>\n",
       "    <tr>\n",
       "      <th>12</th>\n",
       "      <td>table</td>\n",
       "      <td>moz_meta</td>\n",
       "      <td>moz_meta</td>\n",
       "      <td>20</td>\n",
       "      <td>CREATE TABLE moz_meta (key TEXT PRIMARY KEY, v...</td>\n",
       "    </tr>\n",
       "    <tr>\n",
       "      <th>13</th>\n",
       "      <td>table</td>\n",
       "      <td>moz_origins</td>\n",
       "      <td>moz_origins</td>\n",
       "      <td>21</td>\n",
       "      <td>CREATE TABLE moz_origins ( id INTEGER PRIMARY ...</td>\n",
       "    </tr>\n",
       "  </tbody>\n",
       "</table>\n",
       "</div>"
      ],
      "text/plain": [
       "     type                   name               tbl_name  rootpage  \\\n",
       "0   table             moz_places             moz_places         3   \n",
       "1   table      moz_historyvisits      moz_historyvisits         4   \n",
       "2   table       moz_inputhistory       moz_inputhistory         5   \n",
       "3   table              moz_hosts              moz_hosts         7   \n",
       "4   table          moz_bookmarks          moz_bookmarks         9   \n",
       "5   table           moz_keywords           moz_keywords        10   \n",
       "6   table        sqlite_sequence        sqlite_sequence        12   \n",
       "7   table    moz_anno_attributes    moz_anno_attributes        13   \n",
       "8   table              moz_annos              moz_annos        15   \n",
       "9   table        moz_items_annos        moz_items_annos        16   \n",
       "10  table           sqlite_stat1           sqlite_stat1        17   \n",
       "11  table  moz_bookmarks_deleted  moz_bookmarks_deleted        18   \n",
       "12  table               moz_meta               moz_meta        20   \n",
       "13  table            moz_origins            moz_origins        21   \n",
       "\n",
       "                                                  sql  \n",
       "0   CREATE TABLE moz_places (   id INTEGER PRIMARY...  \n",
       "1   CREATE TABLE moz_historyvisits (  id INTEGER P...  \n",
       "2   CREATE TABLE moz_inputhistory (  place_id INTE...  \n",
       "3   CREATE TABLE moz_hosts (  id INTEGER PRIMARY K...  \n",
       "4   CREATE TABLE moz_bookmarks (  id INTEGER PRIMA...  \n",
       "5   CREATE TABLE moz_keywords (  id INTEGER PRIMAR...  \n",
       "6              CREATE TABLE sqlite_sequence(name,seq)  \n",
       "7   CREATE TABLE moz_anno_attributes (  id INTEGER...  \n",
       "8   CREATE TABLE moz_annos (  id INTEGER PRIMARY K...  \n",
       "9   CREATE TABLE moz_items_annos (  id INTEGER PRI...  \n",
       "10            CREATE TABLE sqlite_stat1(tbl,idx,stat)  \n",
       "11  CREATE TABLE moz_bookmarks_deleted (  guid TEX...  \n",
       "12  CREATE TABLE moz_meta (key TEXT PRIMARY KEY, v...  \n",
       "13  CREATE TABLE moz_origins ( id INTEGER PRIMARY ...  "
      ]
     },
     "execution_count": 3,
     "metadata": {},
     "output_type": "execute_result"
    }
   ],
   "source": [
    "#get the pages from previous browser history\n",
    "conn = sq3.connect('places.sqlite')\n",
    "q = \"select * from sqlite_master where type = 'table' \"\n",
    "df = pd.read_sql(q, conn)\n",
    "df"
   ]
  },
  {
   "cell_type": "code",
   "execution_count": 4,
   "metadata": {},
   "outputs": [],
   "source": [
    "q = \"select url from moz_places where url like '%stats.gov.cn/english/PressRelease%.html'\"\n",
    "df = pd.read_sql(q, conn)\n",
    "links = []\n",
    "for i in df.values:\n",
    "    links.append(i[0])"
   ]
  },
  {
   "cell_type": "code",
   "execution_count": 5,
   "metadata": {},
   "outputs": [
    {
     "data": {
      "text/plain": [
       "53"
      ]
     },
     "execution_count": 5,
     "metadata": {},
     "output_type": "execute_result"
    }
   ],
   "source": [
    "len(links)"
   ]
  },
  {
   "cell_type": "code",
   "execution_count": 2,
   "metadata": {},
   "outputs": [],
   "source": [
    "#manually collected links from the stat website\n",
    "links2 = ['http://www.stats.gov.cn/english/PressRelease/201909/t20190917_1698040.html',\n",
    "          'http://www.stats.gov.cn/english/PressRelease/201908/t20190830_1694744.html',\n",
    "          'http://www.stats.gov.cn/english/PressRelease/201907/t20190716_1676345.html',\n",
    "          'http://www.stats.gov.cn/english/PressRelease/201906/t20190618_1671088.html',\n",
    "          'http://www.stats.gov.cn/english/PressRelease/201905/t20190522_1666352.html',\n",
    "          'http://www.stats.gov.cn/english/PressRelease/201904/t20190416_1659789.html',\n",
    "          'http://www.stats.gov.cn/english/PressRelease/201903/t20190315_1654102.html',\n",
    "          'http://www.stats.gov.cn/english/PressRelease/201902/t20190222_1650311.html',\n",
    "          'http://www.stats.gov.cn/english/PressRelease/201901/t20190117_1645410.html',\n",
    "          'http://www.stats.gov.cn/english/PressRelease/201812/t20181217_1639809.html',\n",
    "          'http://www.stats.gov.cn/english/PressRelease/201811/t20181115_1633772.html',\n",
    "          'http://www.stats.gov.cn/english/PressRelease/201810/t20181022_1629019.html',\n",
    "          'http://www.stats.gov.cn/english/PressRelease/202002/t20200217_1726742.html',\n",
    "          'http://www.stats.gov.cn/english/PressRelease/202001/t20200116_1723191.html',\n",
    "          'http://www.stats.gov.cn/english/PressRelease/201912/t20191216_1717707.html',\n",
    "          'http://www.stats.gov.cn/english/PressRelease/201911/t20191118_1709829.html',\n",
    "          'http://www.stats.gov.cn/english/PressRelease/201910/t20191021_1704333.html',\n",
    "          'http://www.stats.gov.cn/english/PressRelease/202004/t20200416_1739083.html',\n",
    "          'http://www.stats.gov.cn/english/PressRelease/202003/t20200316_1732288.html',\n",
    "          'http://www.stats.gov.cn/english/PressRelease/202005/t20200518_1745998.html'\n",
    "         ]\n",
    "\n",
    "update = [\n",
    "          'http://www.stats.gov.cn/english/PressRelease/202005/t20200518_1745998.html'\n",
    "         ]"
   ]
  },
  {
   "cell_type": "code",
   "execution_count": 3,
   "metadata": {},
   "outputs": [],
   "source": [
    "#alllinks = links + links2\n",
    "alllinks = update"
   ]
  },
  {
   "cell_type": "code",
   "execution_count": 4,
   "metadata": {},
   "outputs": [
    {
     "name": "stdout",
     "output_type": "stream",
     "text": [
      "1\n",
      "broken links : 0\n",
      "retrived pages : 1\n"
     ]
    }
   ],
   "source": [
    "headers = headers={'User-Agent': 'Mozilla/5.0 (X11; Linux x86_64; rv:62.0) Gecko/20100101 Firefox/62.0'}\n",
    "dick = {}\n",
    "broken = []\n",
    "n=1\n",
    "for i in alllinks:\n",
    "    p = rq.get(i, headers = headers)\n",
    "    if p.status_code == 200:\n",
    "        soup = beauty(p.content, 'lxml')     \n",
    "        dick[i.split('/')[5]] = str(soup.find('div', attrs = {'class': 'TRS_Editor'}) )\n",
    "    else:\n",
    "        broken.append(i)\n",
    "    print(n)\n",
    "    n+=1\n",
    "\n",
    "print('broken links :',len(broken))\n",
    "print('retrived pages :', len(dick))\n",
    "\n",
    "# recursive download for failed connections\n",
    "while len(broken)> 0:\n",
    "    print('url left: {}'.format(len(broken)))\n",
    "    linkcycle = broken[:]\n",
    "    #headers={'User-Agent': 'Mozilla/5.0 (X11; Linux x86_64; rv:62.0) Gecko/20100101 Firefox/62.0'}\n",
    "    broken = []\n",
    "    n=1\n",
    "    for i in linkcycle:\n",
    "        p = rq.get(links2[-1], headers = headers)\n",
    "        if p.status_code == 200:\n",
    "            soup = beauty(p.content, 'lxml')\n",
    "            dick[i.split('/')[5]] = str(soup.find('div', attrs = {'class': 'TRS_Editor'}))\n",
    "        else:\n",
    "            broken.append(i)\n",
    "        print(n)\n",
    "        n+=1"
   ]
  },
  {
   "cell_type": "code",
   "execution_count": 5,
   "metadata": {},
   "outputs": [
    {
     "data": {
      "text/plain": [
       "1"
      ]
     },
     "execution_count": 5,
     "metadata": {},
     "output_type": "execute_result"
    }
   ],
   "source": [
    "len(dick)"
   ]
  },
  {
   "cell_type": "markdown",
   "metadata": {},
   "source": [
    "#save to json\n",
    "with open('china_tables.json', 'w') as js:\n",
    "    json.dump(dick, js)"
   ]
  },
  {
   "cell_type": "code",
   "execution_count": 7,
   "metadata": {},
   "outputs": [
    {
     "name": "stdout",
     "output_type": "stream",
     "text": [
      "69\n"
     ]
    }
   ],
   "source": [
    "#update with new scare\n",
    "with open('china_tables.json','r') as js:\n",
    "    d = json.load(js)\n",
    "print(len(d))\n",
    "with open('china_tables.json','w') as js:\n",
    "    d.update(dick)\n",
    "    json.dump(d, js)\n",
    "print(d)"
   ]
  },
  {
   "cell_type": "code",
   "execution_count": 8,
   "metadata": {},
   "outputs": [
    {
     "data": {
      "text/plain": [
       "70"
      ]
     },
     "execution_count": 8,
     "metadata": {},
     "output_type": "execute_result"
    }
   ],
   "source": [
    "#check content size\n",
    "with open('china_tables.json', 'r') as js:\n",
    "    dump = json.load(js)\n",
    "len(dump)    "
   ]
  },
  {
   "cell_type": "code",
   "execution_count": null,
   "metadata": {},
   "outputs": [],
   "source": []
  },
  {
   "cell_type": "code",
   "execution_count": null,
   "metadata": {},
   "outputs": [],
   "source": []
  }
 ],
 "metadata": {
  "kernelspec": {
   "display_name": "Python 3",
   "language": "python",
   "name": "python3"
  },
  "language_info": {
   "codemirror_mode": {
    "name": "ipython",
    "version": 3
   },
   "file_extension": ".py",
   "mimetype": "text/x-python",
   "name": "python",
   "nbconvert_exporter": "python",
   "pygments_lexer": "ipython3",
   "version": "3.7.4"
  }
 },
 "nbformat": 4,
 "nbformat_minor": 2
}
