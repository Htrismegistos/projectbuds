{
 "cells": [
  {
   "cell_type": "markdown",
   "metadata": {},
   "source": [
    "Aim:\n",
    "format the data and merge them in one table"
   ]
  },
  {
   "cell_type": "code",
   "execution_count": 43,
   "metadata": {},
   "outputs": [],
   "source": [
    "import pandas as pd\n",
    "import numpy as np\n",
    "import datetime as dt\n",
    "import os\n",
    "import matplotlib.pyplot as plt\n",
    "from pandas.plotting import register_matplotlib_converters\n",
    "register_matplotlib_converters()"
   ]
  },
  {
   "cell_type": "code",
   "execution_count": 44,
   "metadata": {},
   "outputs": [],
   "source": [
    "def to_df(source):\n",
    "    df = pd.DataFrame()\n",
    "    for i in source:\n",
    "        df = df.append(pd.read_csv(i), sort= True)\n",
    "    return df"
   ]
  },
  {
   "cell_type": "code",
   "execution_count": 45,
   "metadata": {},
   "outputs": [
    {
     "name": "stdout",
     "output_type": "stream",
     "text": [
      "Hu: ['Hu_Vker.csv', 'Hu_Vker2019-11-06.csv', 'Hu_Vker2019-11-11.csv', 'Hu_Vker2019-11-14.csv', 'Hu_Vker2019-11-26.csv']\n",
      "Com: ['Com_Vker.csv', 'Com_Vker2019-11-06.csv', 'Com_Vker2019-11-14.csv', 'Com_Vker2019-11-26.csv']\n",
      "Cen ['Cen_Vker.csv', 'Cen_Vker2019-11-06.csv', 'Cen_Vker2019-11-11.csv', 'Cen_Vker2019-11-14.csv', 'Cen_Vker2019-11-26.csv']\n"
     ]
    }
   ],
   "source": [
    "#choose the file to import to df\n",
    "h = [i for i in os.listdir() if 'Hu_Vker' in i]\n",
    "co = [i for i in os.listdir() if 'Com_Vker' in i]\n",
    "ce = [i for i in os.listdir() if 'Cen_Vker' in i]\n",
    "print('Hu:', h)\n",
    "print('Com:', co)\n",
    "print('Cen', ce)"
   ]
  },
  {
   "cell_type": "code",
   "execution_count": 46,
   "metadata": {},
   "outputs": [
    {
     "name": "stdout",
     "output_type": "stream",
     "text": [
      "Shape of Hun (47, 9)\n",
      "Shape of Com (130, 11)\n",
      "Shape of Cen (14, 10)\n"
     ]
    }
   ],
   "source": [
    "#select the files to load\n",
    "Hun = to_df(h[-1:])\n",
    "Com = to_df(co[-1:])\n",
    "Cen = to_df(ce[-1:])\n",
    "print('Shape of Hun',Hun.shape)\n",
    "print('Shape of Com',Com.shape)\n",
    "print('Shape of Cen',Cen.shape)"
   ]
  },
  {
   "cell_type": "markdown",
   "metadata": {},
   "source": [
    "#### clean up the source data"
   ]
  },
  {
   "cell_type": "code",
   "execution_count": 8,
   "metadata": {},
   "outputs": [
    {
     "name": "stdout",
     "output_type": "stream",
     "text": [
      "<class 'pandas.core.frame.DataFrame'>\n",
      "RangeIndex: 47 entries, 0 to 46\n",
      "Data columns (total 9 columns):\n",
      "agency         33 non-null object\n",
      "date           47 non-null object\n",
      "description    47 non-null object\n",
      "id             47 non-null int64\n",
      "price          47 non-null int64\n",
      "room           47 non-null int64\n",
      "source         47 non-null object\n",
      "sqm            47 non-null int64\n",
      "url            47 non-null object\n",
      "dtypes: int64(4), object(5)\n",
      "memory usage: 3.4+ KB\n"
     ]
    }
   ],
   "source": [
    "Hun.info()"
   ]
  },
  {
   "cell_type": "code",
   "execution_count": 9,
   "metadata": {},
   "outputs": [
    {
     "data": {
      "text/plain": [
       "agency         14\n",
       "date            0\n",
       "description     0\n",
       "id              0\n",
       "price           0\n",
       "room            0\n",
       "source          0\n",
       "sqm             0\n",
       "url             0\n",
       "dtype: int64"
      ]
     },
     "execution_count": 9,
     "metadata": {},
     "output_type": "execute_result"
    }
   ],
   "source": [
    "Hun.isnull().sum()"
   ]
  },
  {
   "cell_type": "code",
   "execution_count": 32,
   "metadata": {},
   "outputs": [],
   "source": [
    "#HUN.loc[HUN['sqm'].isnull()]"
   ]
  },
  {
   "cell_type": "code",
   "execution_count": 48,
   "metadata": {},
   "outputs": [
    {
     "data": {
      "text/plain": [
       "(867, 10)"
      ]
     },
     "execution_count": 48,
     "metadata": {},
     "output_type": "execute_result"
    }
   ],
   "source": [
    "#delete the extra rows\n",
    "HUN.drop(HUN.loc[HUN['sqm'].isnull()].index, axis = 0, inplace= True)\n",
    "HUN.shape"
   ]
  },
  {
   "cell_type": "code",
   "execution_count": 10,
   "metadata": {},
   "outputs": [],
   "source": [
    "#create 'price_sqm' column\n",
    "Hun['price_sqm'] = Hun['price'] / Hun['sqm']\n",
    "Hun['price_sqm'] = Hun['price_sqm'].astype(int)\n",
    "Hun['price'] = Hun['price'] / 1000000.0"
   ]
  },
  {
   "cell_type": "code",
   "execution_count": 11,
   "metadata": {},
   "outputs": [
    {
     "data": {
      "text/plain": [
       "2019-11-25    24\n",
       "2019-11-19    23\n",
       "Name: date, dtype: int64"
      ]
     },
     "execution_count": 11,
     "metadata": {},
     "output_type": "execute_result"
    }
   ],
   "source": [
    "Hun['date'].value_counts()"
   ]
  },
  {
   "cell_type": "code",
   "execution_count": 12,
   "metadata": {},
   "outputs": [
    {
     "name": "stdout",
     "output_type": "stream",
     "text": [
      "<class 'pandas.core.frame.DataFrame'>\n",
      "RangeIndex: 130 entries, 0 to 129\n",
      "Data columns (total 11 columns):\n",
      "agency         10 non-null object\n",
      "date           130 non-null object\n",
      "description    0 non-null float64\n",
      "id             130 non-null int64\n",
      "price          130 non-null float64\n",
      "price_sqm      130 non-null int64\n",
      "region         130 non-null object\n",
      "room           130 non-null int64\n",
      "source         130 non-null object\n",
      "sqm            130 non-null int64\n",
      "url            130 non-null object\n",
      "dtypes: float64(2), int64(4), object(5)\n",
      "memory usage: 11.2+ KB\n"
     ]
    }
   ],
   "source": [
    "Com.info()"
   ]
  },
  {
   "cell_type": "code",
   "execution_count": 13,
   "metadata": {},
   "outputs": [
    {
     "data": {
      "text/plain": [
       "agency         120\n",
       "date             0\n",
       "description    130\n",
       "id               0\n",
       "price            0\n",
       "price_sqm        0\n",
       "region           0\n",
       "room             0\n",
       "source           0\n",
       "sqm              0\n",
       "url              0\n",
       "dtype: int64"
      ]
     },
     "execution_count": 13,
     "metadata": {},
     "output_type": "execute_result"
    }
   ],
   "source": [
    "Com.isnull().sum()"
   ]
  },
  {
   "cell_type": "code",
   "execution_count": 14,
   "metadata": {},
   "outputs": [
    {
     "data": {
      "text/html": [
       "<div>\n",
       "<style scoped>\n",
       "    .dataframe tbody tr th:only-of-type {\n",
       "        vertical-align: middle;\n",
       "    }\n",
       "\n",
       "    .dataframe tbody tr th {\n",
       "        vertical-align: top;\n",
       "    }\n",
       "\n",
       "    .dataframe thead th {\n",
       "        text-align: right;\n",
       "    }\n",
       "</style>\n",
       "<table border=\"1\" class=\"dataframe\">\n",
       "  <thead>\n",
       "    <tr style=\"text-align: right;\">\n",
       "      <th></th>\n",
       "      <th>agency</th>\n",
       "      <th>date</th>\n",
       "      <th>description</th>\n",
       "      <th>id</th>\n",
       "      <th>price</th>\n",
       "      <th>price_sqm</th>\n",
       "      <th>region</th>\n",
       "      <th>room</th>\n",
       "      <th>source</th>\n",
       "      <th>sqm</th>\n",
       "      <th>url</th>\n",
       "    </tr>\n",
       "  </thead>\n",
       "  <tbody>\n",
       "    <tr>\n",
       "      <th>0</th>\n",
       "      <td>Saját hirdetés</td>\n",
       "      <td>2019-11-19</td>\n",
       "      <td>NaN</td>\n",
       "      <td>30477505</td>\n",
       "      <td>22.7</td>\n",
       "      <td>840741</td>\n",
       "      <td>Lipótváros, V. kerület</td>\n",
       "      <td>2</td>\n",
       "      <td>com</td>\n",
       "      <td>27</td>\n",
       "      <td>https://ingatlan.com/v-ker/elado+lakas/tegla-e...</td>\n",
       "    </tr>\n",
       "    <tr>\n",
       "      <th>1</th>\n",
       "      <td>NaN</td>\n",
       "      <td>2019-11-19</td>\n",
       "      <td>NaN</td>\n",
       "      <td>30301385</td>\n",
       "      <td>22.8</td>\n",
       "      <td>844444</td>\n",
       "      <td>Szent István körút, V. kerület</td>\n",
       "      <td>1</td>\n",
       "      <td>com</td>\n",
       "      <td>27</td>\n",
       "      <td>https://ingatlan.com/v-ker/elado+lakas/tegla-e...</td>\n",
       "    </tr>\n",
       "    <tr>\n",
       "      <th>2</th>\n",
       "      <td>NaN</td>\n",
       "      <td>2019-11-19</td>\n",
       "      <td>NaN</td>\n",
       "      <td>30407710</td>\n",
       "      <td>26.4</td>\n",
       "      <td>1015385</td>\n",
       "      <td>Lipótváros, V. kerület</td>\n",
       "      <td>1</td>\n",
       "      <td>com</td>\n",
       "      <td>26</td>\n",
       "      <td>https://ingatlan.com/v-ker/elado+lakas/tegla-e...</td>\n",
       "    </tr>\n",
       "  </tbody>\n",
       "</table>\n",
       "</div>"
      ],
      "text/plain": [
       "           agency        date  description        id  price  price_sqm  \\\n",
       "0  Saját hirdetés  2019-11-19          NaN  30477505   22.7     840741   \n",
       "1             NaN  2019-11-19          NaN  30301385   22.8     844444   \n",
       "2             NaN  2019-11-19          NaN  30407710   26.4    1015385   \n",
       "\n",
       "                           region  room source  sqm  \\\n",
       "0          Lipótváros, V. kerület     2    com   27   \n",
       "1  Szent István körút, V. kerület     1    com   27   \n",
       "2          Lipótváros, V. kerület     1    com   26   \n",
       "\n",
       "                                                 url  \n",
       "0  https://ingatlan.com/v-ker/elado+lakas/tegla-e...  \n",
       "1  https://ingatlan.com/v-ker/elado+lakas/tegla-e...  \n",
       "2  https://ingatlan.com/v-ker/elado+lakas/tegla-e...  "
      ]
     },
     "execution_count": 14,
     "metadata": {},
     "output_type": "execute_result"
    }
   ],
   "source": [
    "Com.head(3)"
   ]
  },
  {
   "cell_type": "code",
   "execution_count": 15,
   "metadata": {},
   "outputs": [
    {
     "name": "stdout",
     "output_type": "stream",
     "text": [
      "<class 'pandas.core.frame.DataFrame'>\n",
      "RangeIndex: 14 entries, 0 to 13\n",
      "Data columns (total 10 columns):\n",
      "agency         0 non-null float64\n",
      "date           14 non-null object\n",
      "description    14 non-null object\n",
      "id             14 non-null int64\n",
      "price          14 non-null float64\n",
      "region         14 non-null object\n",
      "room           14 non-null int64\n",
      "source         14 non-null object\n",
      "sqm            14 non-null int64\n",
      "url            14 non-null object\n",
      "dtypes: float64(2), int64(3), object(5)\n",
      "memory usage: 1.2+ KB\n"
     ]
    }
   ],
   "source": [
    "Cen.info()"
   ]
  },
  {
   "cell_type": "code",
   "execution_count": 16,
   "metadata": {},
   "outputs": [
    {
     "data": {
      "text/plain": [
       "agency         14\n",
       "date            0\n",
       "description     0\n",
       "id              0\n",
       "price           0\n",
       "region          0\n",
       "room            0\n",
       "source          0\n",
       "sqm             0\n",
       "url             0\n",
       "dtype: int64"
      ]
     },
     "execution_count": 16,
     "metadata": {},
     "output_type": "execute_result"
    }
   ],
   "source": [
    "Cen.isnull().sum()"
   ]
  },
  {
   "cell_type": "code",
   "execution_count": 17,
   "metadata": {},
   "outputs": [],
   "source": [
    "Cen['price_sqm'] = Cen['price']*1000000 / Cen['sqm']\n",
    "Cen['price_sqm'] = Cen['price_sqm'].astype(int)"
   ]
  },
  {
   "cell_type": "code",
   "execution_count": 18,
   "metadata": {},
   "outputs": [
    {
     "data": {
      "text/html": [
       "<div>\n",
       "<style scoped>\n",
       "    .dataframe tbody tr th:only-of-type {\n",
       "        vertical-align: middle;\n",
       "    }\n",
       "\n",
       "    .dataframe tbody tr th {\n",
       "        vertical-align: top;\n",
       "    }\n",
       "\n",
       "    .dataframe thead th {\n",
       "        text-align: right;\n",
       "    }\n",
       "</style>\n",
       "<table border=\"1\" class=\"dataframe\">\n",
       "  <thead>\n",
       "    <tr style=\"text-align: right;\">\n",
       "      <th></th>\n",
       "      <th>agency</th>\n",
       "      <th>date</th>\n",
       "      <th>description</th>\n",
       "      <th>id</th>\n",
       "      <th>price</th>\n",
       "      <th>region</th>\n",
       "      <th>room</th>\n",
       "      <th>source</th>\n",
       "      <th>sqm</th>\n",
       "      <th>url</th>\n",
       "      <th>price_sqm</th>\n",
       "    </tr>\n",
       "  </thead>\n",
       "  <tbody>\n",
       "    <tr>\n",
       "      <th>0</th>\n",
       "      <td>NaN</td>\n",
       "      <td>2019-11-19</td>\n",
       "      <td>Kis lakás panorámával\\nA Parlament és az Olimp...</td>\n",
       "      <td>14123464</td>\n",
       "      <td>75.0</td>\n",
       "      <td>H397307</td>\n",
       "      <td>1</td>\n",
       "      <td>centrum</td>\n",
       "      <td>33</td>\n",
       "      <td>https://www.oc.hu/ingatlanok/H397307?c=1b06e8e0</td>\n",
       "      <td>2272727</td>\n",
       "    </tr>\n",
       "    <tr>\n",
       "      <th>1</th>\n",
       "      <td>NaN</td>\n",
       "      <td>2019-11-19</td>\n",
       "      <td>Garzonlakás a Váci utcában\\nFelújítandó egy sz...</td>\n",
       "      <td>12625576</td>\n",
       "      <td>44.3</td>\n",
       "      <td>H387534</td>\n",
       "      <td>1</td>\n",
       "      <td>centrum</td>\n",
       "      <td>33</td>\n",
       "      <td>https://www.oc.hu/ingatlanok/H387534?c=1b06e8e0</td>\n",
       "      <td>1342424</td>\n",
       "    </tr>\n",
       "    <tr>\n",
       "      <th>2</th>\n",
       "      <td>NaN</td>\n",
       "      <td>2019-11-19</td>\n",
       "      <td>V. Garibaldi utca\\nV. kerület egyik legkedvelt...</td>\n",
       "      <td>13205004</td>\n",
       "      <td>45.0</td>\n",
       "      <td>H391318</td>\n",
       "      <td>1</td>\n",
       "      <td>centrum</td>\n",
       "      <td>28</td>\n",
       "      <td>https://www.oc.hu/ingatlanok/H391318?c=1b06e8e0</td>\n",
       "      <td>1607142</td>\n",
       "    </tr>\n",
       "  </tbody>\n",
       "</table>\n",
       "</div>"
      ],
      "text/plain": [
       "   agency        date                                        description  \\\n",
       "0     NaN  2019-11-19  Kis lakás panorámával\\nA Parlament és az Olimp...   \n",
       "1     NaN  2019-11-19  Garzonlakás a Váci utcában\\nFelújítandó egy sz...   \n",
       "2     NaN  2019-11-19  V. Garibaldi utca\\nV. kerület egyik legkedvelt...   \n",
       "\n",
       "         id  price   region  room   source  sqm  \\\n",
       "0  14123464   75.0  H397307     1  centrum   33   \n",
       "1  12625576   44.3  H387534     1  centrum   33   \n",
       "2  13205004   45.0  H391318     1  centrum   28   \n",
       "\n",
       "                                               url  price_sqm  \n",
       "0  https://www.oc.hu/ingatlanok/H397307?c=1b06e8e0    2272727  \n",
       "1  https://www.oc.hu/ingatlanok/H387534?c=1b06e8e0    1342424  \n",
       "2  https://www.oc.hu/ingatlanok/H391318?c=1b06e8e0    1607142  "
      ]
     },
     "execution_count": 18,
     "metadata": {},
     "output_type": "execute_result"
    }
   ],
   "source": [
    "Cen.head(3)"
   ]
  },
  {
   "cell_type": "markdown",
   "metadata": {},
   "source": [
    "#### create one DB"
   ]
  },
  {
   "cell_type": "code",
   "execution_count": 19,
   "metadata": {},
   "outputs": [
    {
     "data": {
      "text/plain": [
       "(191, 11)"
      ]
     },
     "execution_count": 19,
     "metadata": {},
     "output_type": "execute_result"
    }
   ],
   "source": [
    "VkerDB = pd.concat([Hun,Com,Cen], axis = 0, sort = True, ignore_index = True)\n",
    "VkerDB.shape"
   ]
  },
  {
   "cell_type": "code",
   "execution_count": 20,
   "metadata": {},
   "outputs": [
    {
     "data": {
      "text/plain": [
       "1    176\n",
       "2     13\n",
       "0      2\n",
       "Name: room, dtype: int64"
      ]
     },
     "execution_count": 20,
     "metadata": {},
     "output_type": "execute_result"
    }
   ],
   "source": [
    "# cleaning-up 'room'\n",
    "VkerDB['room'].value_counts()"
   ]
  },
  {
   "cell_type": "code",
   "execution_count": 21,
   "metadata": {},
   "outputs": [
    {
     "name": "stderr",
     "output_type": "stream",
     "text": [
      "/home/trismegistos/anaconda3/lib/python3.7/site-packages/pandas/core/ops.py:1649: FutureWarning: elementwise comparison failed; returning scalar instead, but in the future will perform elementwise comparison\n",
      "  result = method(y)\n"
     ]
    }
   ],
   "source": [
    "VkerDB.loc[VkerDB['room'] == '1 + 1 félszoba', 'room'] = 1.5\n",
    "VkerDB['room'] = VkerDB['room'].astype(float)\n",
    "VkerDB.loc[VkerDB['room'] == 0.0, 'room'] = 1.0"
   ]
  },
  {
   "cell_type": "code",
   "execution_count": 22,
   "metadata": {},
   "outputs": [
    {
     "data": {
      "text/plain": [
       "1.0    92\n",
       "2.0     7\n",
       "Name: room, dtype: int64"
      ]
     },
     "execution_count": 22,
     "metadata": {},
     "output_type": "execute_result"
    }
   ],
   "source": [
    "VkerDB['room'].value_counts()"
   ]
  },
  {
   "cell_type": "code",
   "execution_count": 66,
   "metadata": {},
   "outputs": [
    {
     "data": {
      "text/plain": [
       "Tégla    987\n",
       "Nincs     40\n",
       "Name: type, dtype: int64"
      ]
     },
     "execution_count": 66,
     "metadata": {},
     "output_type": "execute_result"
    }
   ],
   "source": [
    "#cleaning-up 'type'\n",
    "#VkerDB['type'].value_counts()"
   ]
  },
  {
   "cell_type": "code",
   "execution_count": 69,
   "metadata": {},
   "outputs": [],
   "source": [
    "#Type is not informative, delete from data extraction\n",
    "#VkerDB.drop(['type'], axis = 1, inplace= True)"
   ]
  },
  {
   "cell_type": "code",
   "execution_count": 21,
   "metadata": {},
   "outputs": [
    {
     "data": {
      "text/plain": [
       "Saját hirdetés                              10\n",
       "CDC Ingatlan IV.Ker. Szita Ingatlan Kft.     7\n",
       "Gold House Ingatlaniroda                     6\n",
       "CDC Bokréta                                  4\n",
       "CDC Báthory                                  4\n",
       "Cdci Teréz krt-i iroda                       4\n",
       "GDN Ingatlaniroda.                           2\n",
       "Homexpress Ingatlaniroda                     2\n",
       "GREAT HOME                                   2\n",
       "OTP Ingatlanpont Hűvösvölgyi út              1\n",
       "OTP Ingatlanpont Szépvölgyi út               1\n",
       "Name: agency, dtype: int64"
      ]
     },
     "execution_count": 21,
     "metadata": {},
     "output_type": "execute_result"
    }
   ],
   "source": [
    "#cleaning-up agency\n",
    "VkerDB['agency'].value_counts()"
   ]
  },
  {
   "cell_type": "code",
   "execution_count": 22,
   "metadata": {},
   "outputs": [
    {
     "data": {
      "text/plain": [
       "agency         148\n",
       "date             0\n",
       "description    130\n",
       "id               0\n",
       "price            0\n",
       "price_sqm        0\n",
       "region          47\n",
       "room             0\n",
       "source           0\n",
       "sqm              0\n",
       "url              0\n",
       "dtype: int64"
      ]
     },
     "execution_count": 22,
     "metadata": {},
     "output_type": "execute_result"
    }
   ],
   "source": [
    "VkerDB.isnull().sum()"
   ]
  },
  {
   "cell_type": "code",
   "execution_count": 23,
   "metadata": {},
   "outputs": [],
   "source": [
    "# reorganise columns\n",
    "VkerDB = VkerDB[['id', 'date', 'price', 'price_sqm', 'room', 'sqm','region','description','agency', 'source','url']]"
   ]
  },
  {
   "cell_type": "code",
   "execution_count": 47,
   "metadata": {},
   "outputs": [
    {
     "name": "stdout",
     "output_type": "stream",
     "text": [
      "No of before ads:  (2907, 11)\n",
      "No of ads after: (2907, 11)\n"
     ]
    }
   ],
   "source": [
    "Dbfull = pd.read_csv('VkerDB.csv')\n",
    "print('No of before ads: ',Dbfull.shape)\n",
    "alls = pd.concat([Dbfull,VkerDB], axis = 0, ignore_index= True)\n",
    "print('No of ads after: {}'.format(alls.shape))"
   ]
  },
  {
   "cell_type": "code",
   "execution_count": 25,
   "metadata": {},
   "outputs": [],
   "source": [
    "#archive data\n",
    "#alls.to_csv('VkerDB.csv', index=False, index_label=None)"
   ]
  },
  {
   "cell_type": "code",
   "execution_count": 48,
   "metadata": {},
   "outputs": [],
   "source": [
    "counts = sorted(zip(alls['date'].value_counts().index,alls['date'].value_counts()))"
   ]
  },
  {
   "cell_type": "code",
   "execution_count": 78,
   "metadata": {},
   "outputs": [
    {
     "data": {
      "image/png": "[encoded data removed]",
      "text/plain": [
       "<Figure size 720x144 with 1 Axes>"
      ]
     },
     "metadata": {
      "needs_background": "light"
     },
     "output_type": "display_data"
    }
   ],
   "source": [
    "fig = plt.figure(figsize=(10,2))\n",
    "plt.bar([i[0] for i in counts],[i[1] for i in counts])\n",
    "plt.plot((counts[8][0], counts[8][0]),(0,100), c= 'r')\n",
    "plt.plot([counts[0][0],counts[-1][0]],[100,100], c='#cccccc', linewidth = 1)\n",
    "plt.title('No of ads from .hu, centrum & .com sites')\n",
    "plt.xticks(rotation=30, ha = 'right', fontsize = '6')\n",
    "plt.show()"
   ]
  },
  {
   "cell_type": "code",
   "execution_count": null,
   "metadata": {},
   "outputs": [],
   "source": []
  }
 ],
 "metadata": {
  "kernelspec": {
   "display_name": "Python 3",
   "language": "python",
   "name": "python3"
  },
  "language_info": {
   "codemirror_mode": {
    "name": "ipython",
    "version": 3
   },
   "file_extension": ".py",
   "mimetype": "text/x-python",
   "name": "python",
   "nbconvert_exporter": "python",
   "pygments_lexer": "ipython3",
   "version": "3.7.3"
  }
 },
 "nbformat": 4,
 "nbformat_minor": 2
}
