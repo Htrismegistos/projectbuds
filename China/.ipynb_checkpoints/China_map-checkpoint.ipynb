{
 "cells": [
  {
   "cell_type": "code",
   "execution_count": 1,
   "metadata": {},
   "outputs": [],
   "source": [
    "# libraries\n",
    "import pandas as pd\n",
    "import numpy as np\n",
    "from mpl_toolkits.basemap import Basemap\n",
    "import matplotlib.pyplot as plt\n",
    "import json\n",
    "from bs4 import BeautifulSoup as beauty"
   ]
  },
  {
   "cell_type": "code",
   "execution_count": 3,
   "metadata": {},
   "outputs": [
    {
     "data": {
      "text/plain": [
       "59"
      ]
     },
     "execution_count": 3,
     "metadata": {},
     "output_type": "execute_result"
    }
   ],
   "source": [
    "tables = json.load(open('china_tables.json', 'r'))\n",
    "len(tables)"
   ]
  },
  {
   "cell_type": "code",
   "execution_count": 8,
   "metadata": {},
   "outputs": [],
   "source": [
    "dates = sorted(list(tables.keys()))"
   ]
  },
  {
   "cell_type": "code",
   "execution_count": null,
   "metadata": {},
   "outputs": [],
   "source": []
  },
  {
   "cell_type": "code",
   "execution_count": null,
   "metadata": {},
   "outputs": [],
   "source": [
    "\n",
    " \n",
    "# Make a data frame with the GPS of a few cities:\n",
    "data = pd.DataFrame({\n",
    "'lon':[39.1422200],\n",
    "'lat':[117.1766700],\n",
    "'name':['Tianjin']\n",
    "})\n",
    " \n",
    "# A basic map\n",
    "m=Basemap(llcrnrlon=30, llcrnrlat=0,urcrnrlon=160,urcrnrlat=80)\n",
    "fig = plt.figure(figsize=(8, 8))\n",
    "\n",
    "m.drawmapboundary(fill_color='#A6CAE0', linewidth=0)\n",
    "m.fillcontinents(color='grey', alpha=0.7, lake_color='grey')\n",
    "m.drawcoastlines(linewidth=0.1, color=\"white\")\n",
    " \n",
    "# Add a marker per city of the data frame!\n",
    "m.plot(data['lat'], data['lon'], linestyle='none', marker=\"o\", markersize=40, \\\n",
    "       alpha=0.6, c=\"orange\", markeredgecolor=\"black\", markeredgewidth=1)"
   ]
  },
  {
   "cell_type": "code",
   "execution_count": null,
   "metadata": {},
   "outputs": [],
   "source": [
    "fig = plt.figure(figsize=(8, 8))\n",
    "m = Basemap(projection='lcc', resolution='c',\n",
    "            width=3E6, height=3E6, \n",
    "            lat_0=30, lon_0=110,)\n",
    "m.etopo(scale=0.5, alpha=0.5)\n",
    "cities = [[39.1422,117.1766,'Tianjin', 3.54],\n",
    "          [39.9075000,116.3972300, 'Beijing', 4.54],\n",
    "          [30.6666700, 104.0666700, 'Chengdu', 1.78],\n",
    "          [22.5455400,114.0683000, 'Shenzhen', 5.13],\n",
    "          [38.0413900,114.4786100,'Shijiazhuang',2.61],\n",
    "          [22.8166700,108.3166700,'Nanning', 2.76],\n",
    "          [28.1987400,112.9708700,'Changsha',3.58],\n",
    "          [25.5847400,100.2122900,'Dali',2]\n",
    "         ]\n",
    "# Map (long, lat) to (x, y) for plotting\n",
    "for i in cities:\n",
    "    x, y = m(i[1], i[0])\n",
    "    plt.plot(x, y, 'ok', markersize= i[3]*2)\n",
    "    plt.text(x*(1+i[3]/200), y, i[2], fontsize=12, ha = 'left', va='bottom')\n",
    "\n",
    "plt.show()"
   ]
  }
 ],
 "metadata": {
  "kernelspec": {
   "display_name": "Python 3",
   "language": "python",
   "name": "python3"
  },
  "language_info": {
   "codemirror_mode": {
    "name": "ipython",
    "version": 3
   },
   "file_extension": ".py",
   "mimetype": "text/x-python",
   "name": "python",
   "nbconvert_exporter": "python",
   "pygments_lexer": "ipython3",
   "version": "3.7.3"
  }
 },
 "nbformat": 4,
 "nbformat_minor": 2
}
