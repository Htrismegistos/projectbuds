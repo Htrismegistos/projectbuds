{
 "cells": [
  {
   "cell_type": "markdown",
   "metadata": {},
   "source": [
    "Aim:\n",
    "format the data and merge them in one table"
   ]
  },
  {
   "cell_type": "code",
   "execution_count": 1,
   "metadata": {},
   "outputs": [],
   "source": [
    "import pandas as pd\n",
    "import numpy as np\n",
    "import datetime as dt"
   ]
  },
  {
   "cell_type": "code",
   "execution_count": 90,
   "metadata": {},
   "outputs": [],
   "source": [
    "HUN = pd.read_csv('HU_Vker1809-2110.csv')\n",
    "Com = pd.read_csv('Com_Vker2110.csv')\n",
    "Cen = pd.read_csv('Cen_Vker1809-2110.csv')"
   ]
  },
  {
   "cell_type": "code",
   "execution_count": 48,
   "metadata": {},
   "outputs": [
    {
     "name": "stdout",
     "output_type": "stream",
     "text": [
      "<class 'pandas.core.frame.DataFrame'>\n",
      "RangeIndex: 189 entries, 0 to 188\n",
      "Data columns (total 9 columns):\n",
      "id             189 non-null object\n",
      "sqm            185 non-null float64\n",
      "room           185 non-null float64\n",
      "type           185 non-null object\n",
      "price          185 non-null float64\n",
      "description    185 non-null object\n",
      "agency         150 non-null object\n",
      "url            189 non-null object\n",
      "date           189 non-null object\n",
      "dtypes: float64(3), object(6)\n",
      "memory usage: 13.4+ KB\n"
     ]
    }
   ],
   "source": [
    "HUN.info()"
   ]
  },
  {
   "cell_type": "code",
   "execution_count": 49,
   "metadata": {},
   "outputs": [
    {
     "data": {
      "text/plain": [
       "id              0\n",
       "sqm             4\n",
       "room            4\n",
       "type            4\n",
       "price           4\n",
       "description     4\n",
       "agency         39\n",
       "url             0\n",
       "date            0\n",
       "dtype: int64"
      ]
     },
     "execution_count": 49,
     "metadata": {},
     "output_type": "execute_result"
    }
   ],
   "source": [
    "HUN.isnull().sum()"
   ]
  },
  {
   "cell_type": "code",
   "execution_count": 50,
   "metadata": {},
   "outputs": [
    {
     "data": {
      "text/html": [
       "<div>\n",
       "<style scoped>\n",
       "    .dataframe tbody tr th:only-of-type {\n",
       "        vertical-align: middle;\n",
       "    }\n",
       "\n",
       "    .dataframe tbody tr th {\n",
       "        vertical-align: top;\n",
       "    }\n",
       "\n",
       "    .dataframe thead th {\n",
       "        text-align: right;\n",
       "    }\n",
       "</style>\n",
       "<table border=\"1\" class=\"dataframe\">\n",
       "  <thead>\n",
       "    <tr style=\"text-align: right;\">\n",
       "      <th></th>\n",
       "      <th>id</th>\n",
       "      <th>sqm</th>\n",
       "      <th>room</th>\n",
       "      <th>type</th>\n",
       "      <th>price</th>\n",
       "      <th>description</th>\n",
       "      <th>agency</th>\n",
       "      <th>url</th>\n",
       "      <th>date</th>\n",
       "    </tr>\n",
       "  </thead>\n",
       "  <tbody>\n",
       "    <tr>\n",
       "      <th>58</th>\n",
       "      <td>javascript:;</td>\n",
       "      <td>NaN</td>\n",
       "      <td>NaN</td>\n",
       "      <td>NaN</td>\n",
       "      <td>NaN</td>\n",
       "      <td>NaN</td>\n",
       "      <td>NaN</td>\n",
       "      <td>https://ingatlanok.hu/elado/lakas/budapest_v_k...</td>\n",
       "      <td>2019-09-24</td>\n",
       "    </tr>\n",
       "    <tr>\n",
       "      <th>59</th>\n",
       "      <td>javascript:;</td>\n",
       "      <td>NaN</td>\n",
       "      <td>NaN</td>\n",
       "      <td>NaN</td>\n",
       "      <td>NaN</td>\n",
       "      <td>NaN</td>\n",
       "      <td>NaN</td>\n",
       "      <td>https://ingatlanok.hu/elado/lakas/budapest_v_k...</td>\n",
       "      <td>2019-09-24</td>\n",
       "    </tr>\n",
       "    <tr>\n",
       "      <th>60</th>\n",
       "      <td>javascript:;</td>\n",
       "      <td>NaN</td>\n",
       "      <td>NaN</td>\n",
       "      <td>NaN</td>\n",
       "      <td>NaN</td>\n",
       "      <td>NaN</td>\n",
       "      <td>NaN</td>\n",
       "      <td>https://ingatlanok.hu/elado/lakas/budapest_v_k...</td>\n",
       "      <td>2019-09-24</td>\n",
       "    </tr>\n",
       "    <tr>\n",
       "      <th>61</th>\n",
       "      <td>javascript:;</td>\n",
       "      <td>NaN</td>\n",
       "      <td>NaN</td>\n",
       "      <td>NaN</td>\n",
       "      <td>NaN</td>\n",
       "      <td>NaN</td>\n",
       "      <td>NaN</td>\n",
       "      <td>https://ingatlanok.hu/elado/lakas/budapest_v_k...</td>\n",
       "      <td>2019-09-24</td>\n",
       "    </tr>\n",
       "  </tbody>\n",
       "</table>\n",
       "</div>"
      ],
      "text/plain": [
       "              id  sqm  room type  price description agency  \\\n",
       "58  javascript:;  NaN   NaN  NaN    NaN         NaN    NaN   \n",
       "59  javascript:;  NaN   NaN  NaN    NaN         NaN    NaN   \n",
       "60  javascript:;  NaN   NaN  NaN    NaN         NaN    NaN   \n",
       "61  javascript:;  NaN   NaN  NaN    NaN         NaN    NaN   \n",
       "\n",
       "                                                  url        date  \n",
       "58  https://ingatlanok.hu/elado/lakas/budapest_v_k...  2019-09-24  \n",
       "59  https://ingatlanok.hu/elado/lakas/budapest_v_k...  2019-09-24  \n",
       "60  https://ingatlanok.hu/elado/lakas/budapest_v_k...  2019-09-24  \n",
       "61  https://ingatlanok.hu/elado/lakas/budapest_v_k...  2019-09-24  "
      ]
     },
     "execution_count": 50,
     "metadata": {},
     "output_type": "execute_result"
    }
   ],
   "source": [
    "HUN.loc[HUN['sqm'].isnull()]"
   ]
  },
  {
   "cell_type": "code",
   "execution_count": 51,
   "metadata": {},
   "outputs": [
    {
     "name": "stdout",
     "output_type": "stream",
     "text": [
      "58 https://ingatlanok.hu/elado/lakas/budapest_v_ker/39-millio-ft;32-negyzetmeter;1-szoba;tegla-epitesu/9737619\n",
      "59 https://ingatlanok.hu/elado/lakas/budapest_v_ker/39-millio-ft;32-negyzetmeter;1-szoba;tegla-epitesu/9737619\n",
      "60 https://ingatlanok.hu/elado/lakas/budapest_v_ker/39-millio-ft;32-negyzetmeter;1-szoba;tegla-epitesu/9737619\n",
      "61 https://ingatlanok.hu/elado/lakas/budapest_v_ker/39-millio-ft;32-negyzetmeter;1-szoba;tegla-epitesu/9737619\n"
     ]
    }
   ],
   "source": [
    "for i in HUN.loc[HUN['sqm'].isnull()].index:\n",
    "    print(i,HUN.at[i,'url'])\n",
    "# all missing rows refer to the same adv."
   ]
  },
  {
   "cell_type": "code",
   "execution_count": 91,
   "metadata": {},
   "outputs": [],
   "source": [
    "#manual retrival of the data\n",
    "cols = ['id','sqm','room','price','description', 'agency']\n",
    "v58 = ['9737619', 32.0, 1,39900000, '3 az 1-ben! Tökéletes befektetés, ahol a modern stílus, és a belvárosi életérzés találkozik. A NYUGATI TÉRHEZ KÖZEL, FELÚJÍTOTT, EMELETI LAKÁSOK ELADÓK!!! AZ V. KERÜLETBEN, LIPÓTVÁROS kedvelt részén, kerültek kialakításra egy 30 m2-s, amerikai konyhás nappalis + fél szobás, egy 32 m2-s amerikai konyhás nappali + 6 m2 galériás és egy 20 m2-s amerikai konyhás nappalis + fél szobás, apartmanok.','CDC Ingatlan IV.Ker. Szita Ingatlan Kft.']\n",
    "for i,n in zip(cols,v58):\n",
    "    HUN.loc[58,i] = n"
   ]
  },
  {
   "cell_type": "code",
   "execution_count": 92,
   "metadata": {},
   "outputs": [
    {
     "data": {
      "text/plain": [
       "(186, 9)"
      ]
     },
     "execution_count": 92,
     "metadata": {},
     "output_type": "execute_result"
    }
   ],
   "source": [
    "#delete the extra rows\n",
    "HUN.drop(HUN.loc[HUN['sqm'].isnull()].index, axis = 0, inplace= True)\n",
    "HUN.shape"
   ]
  },
  {
   "cell_type": "code",
   "execution_count": 81,
   "metadata": {},
   "outputs": [
    {
     "data": {
      "text/plain": [
       "id                                                       9737619\n",
       "sqm                                                           32\n",
       "room                                                           1\n",
       "type                                                         NaN\n",
       "price                                                   3.99e+07\n",
       "description    3 az 1-ben! Tökéletes befektetés, ahol a moder...\n",
       "agency                  CDC Ingatlan IV.Ker. Szita Ingatlan Kft.\n",
       "url            https://ingatlanok.hu/elado/lakas/budapest_v_k...\n",
       "date                                                  2019-09-24\n",
       "Name: 58, dtype: object"
      ]
     },
     "execution_count": 81,
     "metadata": {},
     "output_type": "execute_result"
    }
   ],
   "source": [
    "HUN.loc[58,:]"
   ]
  },
  {
   "cell_type": "code",
   "execution_count": 93,
   "metadata": {},
   "outputs": [],
   "source": [
    "#create 'price_sqm' column\n",
    "HUN['price_sqm'] = HUN['price'] / HUN['sqm']\n",
    "HUN['price_sqm'] = HUN['price_sqm'].astype(int)\n",
    "HUN['price'] = HUN['price'] / 1000000.0"
   ]
  },
  {
   "cell_type": "code",
   "execution_count": 95,
   "metadata": {},
   "outputs": [
    {
     "data": {
      "text/html": [
       "<div>\n",
       "<style scoped>\n",
       "    .dataframe tbody tr th:only-of-type {\n",
       "        vertical-align: middle;\n",
       "    }\n",
       "\n",
       "    .dataframe tbody tr th {\n",
       "        vertical-align: top;\n",
       "    }\n",
       "\n",
       "    .dataframe thead th {\n",
       "        text-align: right;\n",
       "    }\n",
       "</style>\n",
       "<table border=\"1\" class=\"dataframe\">\n",
       "  <thead>\n",
       "    <tr style=\"text-align: right;\">\n",
       "      <th></th>\n",
       "      <th>id</th>\n",
       "      <th>sqm</th>\n",
       "      <th>room</th>\n",
       "      <th>type</th>\n",
       "      <th>price</th>\n",
       "      <th>description</th>\n",
       "      <th>agency</th>\n",
       "      <th>url</th>\n",
       "      <th>date</th>\n",
       "      <th>price_sqm</th>\n",
       "    </tr>\n",
       "  </thead>\n",
       "  <tbody>\n",
       "    <tr>\n",
       "      <th>0</th>\n",
       "      <td>9721878</td>\n",
       "      <td>32.0</td>\n",
       "      <td>1.0</td>\n",
       "      <td>Tégla</td>\n",
       "      <td>39.9</td>\n",
       "      <td>3 az 1-ben! Tökéletes befektetés, ahol a moder...</td>\n",
       "      <td>CDC Ingatlan IV.Ker. Szita Ingatlan Kft.</td>\n",
       "      <td>https://ingatlanok.hu/elado/lakas/budapest_v_k...</td>\n",
       "      <td>2019-09-18</td>\n",
       "      <td>1246875</td>\n",
       "    </tr>\n",
       "    <tr>\n",
       "      <th>1</th>\n",
       "      <td>9729036</td>\n",
       "      <td>30.0</td>\n",
       "      <td>1.0</td>\n",
       "      <td>Tégla</td>\n",
       "      <td>37.5</td>\n",
       "      <td>3 az 1-ben! Tökéletes befektetés, ahol a moder...</td>\n",
       "      <td>CDC Ingatlan IV.Ker. Szita Ingatlan Kft.</td>\n",
       "      <td>https://ingatlanok.hu/elado/lakas/budapest_v_k...</td>\n",
       "      <td>2019-09-18</td>\n",
       "      <td>1250000</td>\n",
       "    </tr>\n",
       "    <tr>\n",
       "      <th>2</th>\n",
       "      <td>9721669</td>\n",
       "      <td>32.0</td>\n",
       "      <td>1.0</td>\n",
       "      <td>Tégla</td>\n",
       "      <td>39.9</td>\n",
       "      <td>3 az 1-ben! Tökéletes befektetés, ahol a moder...</td>\n",
       "      <td>Cdci Teréz krt-i iroda</td>\n",
       "      <td>https://ingatlanok.hu/elado/lakas/budapest_v_k...</td>\n",
       "      <td>2019-09-18</td>\n",
       "      <td>1246875</td>\n",
       "    </tr>\n",
       "  </tbody>\n",
       "</table>\n",
       "</div>"
      ],
      "text/plain": [
       "        id   sqm  room   type  price  \\\n",
       "0  9721878  32.0   1.0  Tégla   39.9   \n",
       "1  9729036  30.0   1.0  Tégla   37.5   \n",
       "2  9721669  32.0   1.0  Tégla   39.9   \n",
       "\n",
       "                                         description  \\\n",
       "0  3 az 1-ben! Tökéletes befektetés, ahol a moder...   \n",
       "1  3 az 1-ben! Tökéletes befektetés, ahol a moder...   \n",
       "2  3 az 1-ben! Tökéletes befektetés, ahol a moder...   \n",
       "\n",
       "                                     agency  \\\n",
       "0  CDC Ingatlan IV.Ker. Szita Ingatlan Kft.   \n",
       "1  CDC Ingatlan IV.Ker. Szita Ingatlan Kft.   \n",
       "2                    Cdci Teréz krt-i iroda   \n",
       "\n",
       "                                                 url        date  price_sqm  \n",
       "0  https://ingatlanok.hu/elado/lakas/budapest_v_k...  2019-09-18    1246875  \n",
       "1  https://ingatlanok.hu/elado/lakas/budapest_v_k...  2019-09-18    1250000  \n",
       "2  https://ingatlanok.hu/elado/lakas/budapest_v_k...  2019-09-18    1246875  "
      ]
     },
     "execution_count": 95,
     "metadata": {},
     "output_type": "execute_result"
    }
   ],
   "source": [
    "HUN.head(3)"
   ]
  },
  {
   "cell_type": "code",
   "execution_count": 7,
   "metadata": {},
   "outputs": [
    {
     "name": "stdout",
     "output_type": "stream",
     "text": [
      "<class 'pandas.core.frame.DataFrame'>\n",
      "RangeIndex: 27 entries, 0 to 26\n",
      "Data columns (total 11 columns):\n",
      "id             27 non-null int64\n",
      "sqm            27 non-null int64\n",
      "room           27 non-null int64\n",
      "type           0 non-null float64\n",
      "price          27 non-null float64\n",
      "price_sqm      27 non-null int64\n",
      "description    0 non-null float64\n",
      "agency         1 non-null object\n",
      "url            27 non-null object\n",
      "region         27 non-null object\n",
      "date           27 non-null object\n",
      "dtypes: float64(3), int64(4), object(4)\n",
      "memory usage: 2.4+ KB\n"
     ]
    }
   ],
   "source": [
    "Com.info()"
   ]
  },
  {
   "cell_type": "code",
   "execution_count": 6,
   "metadata": {},
   "outputs": [
    {
     "data": {
      "text/html": [
       "<div>\n",
       "<style scoped>\n",
       "    .dataframe tbody tr th:only-of-type {\n",
       "        vertical-align: middle;\n",
       "    }\n",
       "\n",
       "    .dataframe tbody tr th {\n",
       "        vertical-align: top;\n",
       "    }\n",
       "\n",
       "    .dataframe thead th {\n",
       "        text-align: right;\n",
       "    }\n",
       "</style>\n",
       "<table border=\"1\" class=\"dataframe\">\n",
       "  <thead>\n",
       "    <tr style=\"text-align: right;\">\n",
       "      <th></th>\n",
       "      <th>id</th>\n",
       "      <th>sqm</th>\n",
       "      <th>room</th>\n",
       "      <th>type</th>\n",
       "      <th>price</th>\n",
       "      <th>price_sqm</th>\n",
       "      <th>description</th>\n",
       "      <th>agency</th>\n",
       "      <th>url</th>\n",
       "      <th>region</th>\n",
       "      <th>date</th>\n",
       "    </tr>\n",
       "  </thead>\n",
       "  <tbody>\n",
       "    <tr>\n",
       "      <th>0</th>\n",
       "      <td>30477505</td>\n",
       "      <td>27</td>\n",
       "      <td>2</td>\n",
       "      <td>NaN</td>\n",
       "      <td>22.7</td>\n",
       "      <td>840741</td>\n",
       "      <td>NaN</td>\n",
       "      <td>Saját hirdetés</td>\n",
       "      <td>https://ingatlan.com/v-ker/elado+lakas/tegla-e...</td>\n",
       "      <td>Lipótváros, V. kerület</td>\n",
       "      <td>2019-10-21</td>\n",
       "    </tr>\n",
       "    <tr>\n",
       "      <th>1</th>\n",
       "      <td>30301385</td>\n",
       "      <td>27</td>\n",
       "      <td>1</td>\n",
       "      <td>NaN</td>\n",
       "      <td>22.8</td>\n",
       "      <td>844444</td>\n",
       "      <td>NaN</td>\n",
       "      <td>NaN</td>\n",
       "      <td>https://ingatlan.com/v-ker/elado+lakas/tegla-e...</td>\n",
       "      <td>Szent István körút, V. kerület</td>\n",
       "      <td>2019-10-21</td>\n",
       "    </tr>\n",
       "    <tr>\n",
       "      <th>2</th>\n",
       "      <td>30407710</td>\n",
       "      <td>26</td>\n",
       "      <td>1</td>\n",
       "      <td>NaN</td>\n",
       "      <td>26.4</td>\n",
       "      <td>1015385</td>\n",
       "      <td>NaN</td>\n",
       "      <td>NaN</td>\n",
       "      <td>https://ingatlan.com/v-ker/elado+lakas/tegla-e...</td>\n",
       "      <td>Lipótváros, V. kerület</td>\n",
       "      <td>2019-10-21</td>\n",
       "    </tr>\n",
       "  </tbody>\n",
       "</table>\n",
       "</div>"
      ],
      "text/plain": [
       "         id  sqm  room  type  price  price_sqm  description          agency  \\\n",
       "0  30477505   27     2   NaN   22.7     840741          NaN  Saját hirdetés   \n",
       "1  30301385   27     1   NaN   22.8     844444          NaN             NaN   \n",
       "2  30407710   26     1   NaN   26.4    1015385          NaN             NaN   \n",
       "\n",
       "                                                 url  \\\n",
       "0  https://ingatlan.com/v-ker/elado+lakas/tegla-e...   \n",
       "1  https://ingatlan.com/v-ker/elado+lakas/tegla-e...   \n",
       "2  https://ingatlan.com/v-ker/elado+lakas/tegla-e...   \n",
       "\n",
       "                           region        date  \n",
       "0          Lipótváros, V. kerület  2019-10-21  \n",
       "1  Szent István körút, V. kerület  2019-10-21  \n",
       "2          Lipótváros, V. kerület  2019-10-21  "
      ]
     },
     "execution_count": 6,
     "metadata": {},
     "output_type": "execute_result"
    }
   ],
   "source": [
    "Com.head(3)"
   ]
  },
  {
   "cell_type": "code",
   "execution_count": 96,
   "metadata": {},
   "outputs": [
    {
     "data": {
      "text/plain": [
       "id              0\n",
       "sqm             0\n",
       "room            0\n",
       "type           27\n",
       "price           0\n",
       "price_sqm       0\n",
       "description    27\n",
       "agency         26\n",
       "url             0\n",
       "region          0\n",
       "date            0\n",
       "dtype: int64"
      ]
     },
     "execution_count": 96,
     "metadata": {},
     "output_type": "execute_result"
    }
   ],
   "source": [
    "Com.isnull().sum()"
   ]
  },
  {
   "cell_type": "code",
   "execution_count": 97,
   "metadata": {},
   "outputs": [
    {
     "name": "stdout",
     "output_type": "stream",
     "text": [
      "<class 'pandas.core.frame.DataFrame'>\n",
      "RangeIndex: 45 entries, 0 to 44\n",
      "Data columns (total 10 columns):\n",
      "id             45 non-null int64\n",
      "sqm            45 non-null int64\n",
      "room           45 non-null object\n",
      "type           45 non-null object\n",
      "price          45 non-null float64\n",
      "description    45 non-null object\n",
      "agency         0 non-null float64\n",
      "url            45 non-null object\n",
      "region         45 non-null object\n",
      "date           45 non-null object\n",
      "dtypes: float64(2), int64(2), object(6)\n",
      "memory usage: 3.6+ KB\n"
     ]
    }
   ],
   "source": [
    "Cen.info()"
   ]
  },
  {
   "cell_type": "code",
   "execution_count": 98,
   "metadata": {},
   "outputs": [
    {
     "data": {
      "text/html": [
       "<div>\n",
       "<style scoped>\n",
       "    .dataframe tbody tr th:only-of-type {\n",
       "        vertical-align: middle;\n",
       "    }\n",
       "\n",
       "    .dataframe tbody tr th {\n",
       "        vertical-align: top;\n",
       "    }\n",
       "\n",
       "    .dataframe thead th {\n",
       "        text-align: right;\n",
       "    }\n",
       "</style>\n",
       "<table border=\"1\" class=\"dataframe\">\n",
       "  <thead>\n",
       "    <tr style=\"text-align: right;\">\n",
       "      <th></th>\n",
       "      <th>id</th>\n",
       "      <th>sqm</th>\n",
       "      <th>room</th>\n",
       "      <th>type</th>\n",
       "      <th>price</th>\n",
       "      <th>description</th>\n",
       "      <th>agency</th>\n",
       "      <th>url</th>\n",
       "      <th>region</th>\n",
       "      <th>date</th>\n",
       "    </tr>\n",
       "  </thead>\n",
       "  <tbody>\n",
       "    <tr>\n",
       "      <th>0</th>\n",
       "      <td>13540521</td>\n",
       "      <td>31</td>\n",
       "      <td>1</td>\n",
       "      <td>Tégla</td>\n",
       "      <td>36.9</td>\n",
       "      <td>Rövidtávú kiadásra (airbnb) tökéletes! Legjobb...</td>\n",
       "      <td>NaN</td>\n",
       "      <td>https://www.oc.hu/ingatlanok/H393835?c=1b06e8e0</td>\n",
       "      <td>H393835</td>\n",
       "      <td>2019-09-18</td>\n",
       "    </tr>\n",
       "    <tr>\n",
       "      <th>1</th>\n",
       "      <td>12625576</td>\n",
       "      <td>33</td>\n",
       "      <td>1</td>\n",
       "      <td>Tégla</td>\n",
       "      <td>44.3</td>\n",
       "      <td>Garzonlakás a Váci utcában\\nFelújítandó egy sz...</td>\n",
       "      <td>NaN</td>\n",
       "      <td>https://www.oc.hu/ingatlanok/H387534?c=1b06e8e0</td>\n",
       "      <td>H387534</td>\n",
       "      <td>2019-09-18</td>\n",
       "    </tr>\n",
       "    <tr>\n",
       "      <th>2</th>\n",
       "      <td>13243082</td>\n",
       "      <td>30</td>\n",
       "      <td>1 + 1 félszoba</td>\n",
       "      <td>Tégla</td>\n",
       "      <td>37.5</td>\n",
       "      <td>FELÚJÍTOTT LAKÁS A SZENT ISTVÁN KÖRÚTON\\nEladó...</td>\n",
       "      <td>NaN</td>\n",
       "      <td>https://www.oc.hu/ingatlanok/H391785?c=1b06e8e0</td>\n",
       "      <td>H391785</td>\n",
       "      <td>2019-09-18</td>\n",
       "    </tr>\n",
       "  </tbody>\n",
       "</table>\n",
       "</div>"
      ],
      "text/plain": [
       "         id  sqm            room   type  price  \\\n",
       "0  13540521   31               1  Tégla   36.9   \n",
       "1  12625576   33               1  Tégla   44.3   \n",
       "2  13243082   30  1 + 1 félszoba  Tégla   37.5   \n",
       "\n",
       "                                         description  agency  \\\n",
       "0  Rövidtávú kiadásra (airbnb) tökéletes! Legjobb...     NaN   \n",
       "1  Garzonlakás a Váci utcában\\nFelújítandó egy sz...     NaN   \n",
       "2  FELÚJÍTOTT LAKÁS A SZENT ISTVÁN KÖRÚTON\\nEladó...     NaN   \n",
       "\n",
       "                                               url   region        date  \n",
       "0  https://www.oc.hu/ingatlanok/H393835?c=1b06e8e0  H393835  2019-09-18  \n",
       "1  https://www.oc.hu/ingatlanok/H387534?c=1b06e8e0  H387534  2019-09-18  \n",
       "2  https://www.oc.hu/ingatlanok/H391785?c=1b06e8e0  H391785  2019-09-18  "
      ]
     },
     "execution_count": 98,
     "metadata": {},
     "output_type": "execute_result"
    }
   ],
   "source": [
    "Cen.head(3)"
   ]
  },
  {
   "cell_type": "code",
   "execution_count": 99,
   "metadata": {},
   "outputs": [],
   "source": [
    "Cen['price_sqm'] = Cen['price']*1000000 / Cen['sqm']\n",
    "Cen['price_sqm'] = Cen['price_sqm'].astype(int)"
   ]
  },
  {
   "cell_type": "code",
   "execution_count": 100,
   "metadata": {},
   "outputs": [
    {
     "data": {
      "text/html": [
       "<div>\n",
       "<style scoped>\n",
       "    .dataframe tbody tr th:only-of-type {\n",
       "        vertical-align: middle;\n",
       "    }\n",
       "\n",
       "    .dataframe tbody tr th {\n",
       "        vertical-align: top;\n",
       "    }\n",
       "\n",
       "    .dataframe thead th {\n",
       "        text-align: right;\n",
       "    }\n",
       "</style>\n",
       "<table border=\"1\" class=\"dataframe\">\n",
       "  <thead>\n",
       "    <tr style=\"text-align: right;\">\n",
       "      <th></th>\n",
       "      <th>id</th>\n",
       "      <th>sqm</th>\n",
       "      <th>room</th>\n",
       "      <th>type</th>\n",
       "      <th>price</th>\n",
       "      <th>description</th>\n",
       "      <th>agency</th>\n",
       "      <th>url</th>\n",
       "      <th>region</th>\n",
       "      <th>date</th>\n",
       "      <th>price_sqm</th>\n",
       "    </tr>\n",
       "  </thead>\n",
       "  <tbody>\n",
       "    <tr>\n",
       "      <th>0</th>\n",
       "      <td>13540521</td>\n",
       "      <td>31</td>\n",
       "      <td>1</td>\n",
       "      <td>Tégla</td>\n",
       "      <td>36.9</td>\n",
       "      <td>Rövidtávú kiadásra (airbnb) tökéletes! Legjobb...</td>\n",
       "      <td>NaN</td>\n",
       "      <td>https://www.oc.hu/ingatlanok/H393835?c=1b06e8e0</td>\n",
       "      <td>H393835</td>\n",
       "      <td>2019-09-18</td>\n",
       "      <td>1190322</td>\n",
       "    </tr>\n",
       "    <tr>\n",
       "      <th>1</th>\n",
       "      <td>12625576</td>\n",
       "      <td>33</td>\n",
       "      <td>1</td>\n",
       "      <td>Tégla</td>\n",
       "      <td>44.3</td>\n",
       "      <td>Garzonlakás a Váci utcában\\nFelújítandó egy sz...</td>\n",
       "      <td>NaN</td>\n",
       "      <td>https://www.oc.hu/ingatlanok/H387534?c=1b06e8e0</td>\n",
       "      <td>H387534</td>\n",
       "      <td>2019-09-18</td>\n",
       "      <td>1342424</td>\n",
       "    </tr>\n",
       "    <tr>\n",
       "      <th>2</th>\n",
       "      <td>13243082</td>\n",
       "      <td>30</td>\n",
       "      <td>1 + 1 félszoba</td>\n",
       "      <td>Tégla</td>\n",
       "      <td>37.5</td>\n",
       "      <td>FELÚJÍTOTT LAKÁS A SZENT ISTVÁN KÖRÚTON\\nEladó...</td>\n",
       "      <td>NaN</td>\n",
       "      <td>https://www.oc.hu/ingatlanok/H391785?c=1b06e8e0</td>\n",
       "      <td>H391785</td>\n",
       "      <td>2019-09-18</td>\n",
       "      <td>1250000</td>\n",
       "    </tr>\n",
       "  </tbody>\n",
       "</table>\n",
       "</div>"
      ],
      "text/plain": [
       "         id  sqm            room   type  price  \\\n",
       "0  13540521   31               1  Tégla   36.9   \n",
       "1  12625576   33               1  Tégla   44.3   \n",
       "2  13243082   30  1 + 1 félszoba  Tégla   37.5   \n",
       "\n",
       "                                         description  agency  \\\n",
       "0  Rövidtávú kiadásra (airbnb) tökéletes! Legjobb...     NaN   \n",
       "1  Garzonlakás a Váci utcában\\nFelújítandó egy sz...     NaN   \n",
       "2  FELÚJÍTOTT LAKÁS A SZENT ISTVÁN KÖRÚTON\\nEladó...     NaN   \n",
       "\n",
       "                                               url   region        date  \\\n",
       "0  https://www.oc.hu/ingatlanok/H393835?c=1b06e8e0  H393835  2019-09-18   \n",
       "1  https://www.oc.hu/ingatlanok/H387534?c=1b06e8e0  H387534  2019-09-18   \n",
       "2  https://www.oc.hu/ingatlanok/H391785?c=1b06e8e0  H391785  2019-09-18   \n",
       "\n",
       "   price_sqm  \n",
       "0    1190322  \n",
       "1    1342424  \n",
       "2    1250000  "
      ]
     },
     "execution_count": 100,
     "metadata": {},
     "output_type": "execute_result"
    }
   ],
   "source": [
    "Cen.head(3)"
   ]
  },
  {
   "cell_type": "code",
   "execution_count": 116,
   "metadata": {},
   "outputs": [
    {
     "name": "stderr",
     "output_type": "stream",
     "text": [
      "/home/trismegistos/anaconda3/lib/python3.7/site-packages/ipykernel_launcher.py:1: FutureWarning: Sorting because non-concatenation axis is not aligned. A future version\n",
      "of pandas will change to not sort by default.\n",
      "\n",
      "To accept the future behavior, pass 'sort=False'.\n",
      "\n",
      "To retain the current behavior and silence the warning, pass 'sort=True'.\n",
      "\n",
      "  \"\"\"Entry point for launching an IPython kernel.\n"
     ]
    },
    {
     "data": {
      "text/plain": [
       "(258, 11)"
      ]
     },
     "execution_count": 116,
     "metadata": {},
     "output_type": "execute_result"
    }
   ],
   "source": [
    "VkerDB = pd.concat([HUN,Cen,Com], axis = 0, ignore_index = True)\n",
    "VkerDB.shape"
   ]
  },
  {
   "cell_type": "code",
   "execution_count": 102,
   "metadata": {},
   "outputs": [
    {
     "data": {
      "text/html": [
       "<div>\n",
       "<style scoped>\n",
       "    .dataframe tbody tr th:only-of-type {\n",
       "        vertical-align: middle;\n",
       "    }\n",
       "\n",
       "    .dataframe tbody tr th {\n",
       "        vertical-align: top;\n",
       "    }\n",
       "\n",
       "    .dataframe thead th {\n",
       "        text-align: right;\n",
       "    }\n",
       "</style>\n",
       "<table border=\"1\" class=\"dataframe\">\n",
       "  <thead>\n",
       "    <tr style=\"text-align: right;\">\n",
       "      <th></th>\n",
       "      <th>agency</th>\n",
       "      <th>date</th>\n",
       "      <th>description</th>\n",
       "      <th>id</th>\n",
       "      <th>price</th>\n",
       "      <th>price_sqm</th>\n",
       "      <th>region</th>\n",
       "      <th>room</th>\n",
       "      <th>sqm</th>\n",
       "      <th>type</th>\n",
       "      <th>url</th>\n",
       "    </tr>\n",
       "  </thead>\n",
       "  <tbody>\n",
       "    <tr>\n",
       "      <th>0</th>\n",
       "      <td>CDC Ingatlan IV.Ker. Szita Ingatlan Kft.</td>\n",
       "      <td>2019-09-18</td>\n",
       "      <td>3 az 1-ben! Tökéletes befektetés, ahol a moder...</td>\n",
       "      <td>9721878</td>\n",
       "      <td>39.9</td>\n",
       "      <td>1246875</td>\n",
       "      <td>NaN</td>\n",
       "      <td>1</td>\n",
       "      <td>32.0</td>\n",
       "      <td>Tégla</td>\n",
       "      <td>https://ingatlanok.hu/elado/lakas/budapest_v_k...</td>\n",
       "    </tr>\n",
       "    <tr>\n",
       "      <th>1</th>\n",
       "      <td>CDC Ingatlan IV.Ker. Szita Ingatlan Kft.</td>\n",
       "      <td>2019-09-18</td>\n",
       "      <td>3 az 1-ben! Tökéletes befektetés, ahol a moder...</td>\n",
       "      <td>9729036</td>\n",
       "      <td>37.5</td>\n",
       "      <td>1250000</td>\n",
       "      <td>NaN</td>\n",
       "      <td>1</td>\n",
       "      <td>30.0</td>\n",
       "      <td>Tégla</td>\n",
       "      <td>https://ingatlanok.hu/elado/lakas/budapest_v_k...</td>\n",
       "    </tr>\n",
       "    <tr>\n",
       "      <th>2</th>\n",
       "      <td>Cdci Teréz krt-i iroda</td>\n",
       "      <td>2019-09-18</td>\n",
       "      <td>3 az 1-ben! Tökéletes befektetés, ahol a moder...</td>\n",
       "      <td>9721669</td>\n",
       "      <td>39.9</td>\n",
       "      <td>1246875</td>\n",
       "      <td>NaN</td>\n",
       "      <td>1</td>\n",
       "      <td>32.0</td>\n",
       "      <td>Tégla</td>\n",
       "      <td>https://ingatlanok.hu/elado/lakas/budapest_v_k...</td>\n",
       "    </tr>\n",
       "  </tbody>\n",
       "</table>\n",
       "</div>"
      ],
      "text/plain": [
       "                                     agency        date  \\\n",
       "0  CDC Ingatlan IV.Ker. Szita Ingatlan Kft.  2019-09-18   \n",
       "1  CDC Ingatlan IV.Ker. Szita Ingatlan Kft.  2019-09-18   \n",
       "2                    Cdci Teréz krt-i iroda  2019-09-18   \n",
       "\n",
       "                                         description       id  price  \\\n",
       "0  3 az 1-ben! Tökéletes befektetés, ahol a moder...  9721878   39.9   \n",
       "1  3 az 1-ben! Tökéletes befektetés, ahol a moder...  9729036   37.5   \n",
       "2  3 az 1-ben! Tökéletes befektetés, ahol a moder...  9721669   39.9   \n",
       "\n",
       "   price_sqm region room   sqm   type  \\\n",
       "0    1246875    NaN    1  32.0  Tégla   \n",
       "1    1250000    NaN    1  30.0  Tégla   \n",
       "2    1246875    NaN    1  32.0  Tégla   \n",
       "\n",
       "                                                 url  \n",
       "0  https://ingatlanok.hu/elado/lakas/budapest_v_k...  \n",
       "1  https://ingatlanok.hu/elado/lakas/budapest_v_k...  \n",
       "2  https://ingatlanok.hu/elado/lakas/budapest_v_k...  "
      ]
     },
     "execution_count": 102,
     "metadata": {},
     "output_type": "execute_result"
    }
   ],
   "source": [
    "VkerDB.head(3)"
   ]
  },
  {
   "cell_type": "code",
   "execution_count": 104,
   "metadata": {},
   "outputs": [
    {
     "data": {
      "text/plain": [
       "1.0               191\n",
       "1                  38\n",
       "2.0                16\n",
       "1 + 1 félszoba      6\n",
       "0.0                 6\n",
       "2                   1\n",
       "Name: room, dtype: int64"
      ]
     },
     "execution_count": 104,
     "metadata": {},
     "output_type": "execute_result"
    }
   ],
   "source": [
    "# cleaning-up 'room'\n",
    "VkerDB['room'].value_counts()"
   ]
  },
  {
   "cell_type": "code",
   "execution_count": 117,
   "metadata": {},
   "outputs": [],
   "source": [
    "VkerDB.loc[VkerDB['room'] == '1 + 1 félszoba', 'room'] = 1.5\n",
    "VkerDB['room'] = VkerDB['room'].astype(float)\n",
    "VkerDB.loc[VkerDB['room'] == 0.0, 'room'] = 1.0"
   ]
  },
  {
   "cell_type": "code",
   "execution_count": 118,
   "metadata": {},
   "outputs": [
    {
     "data": {
      "text/plain": [
       "1.0    235\n",
       "2.0     17\n",
       "1.5      6\n",
       "Name: room, dtype: int64"
      ]
     },
     "execution_count": 118,
     "metadata": {},
     "output_type": "execute_result"
    }
   ],
   "source": [
    "VkerDB['room'].value_counts()"
   ]
  },
  {
   "cell_type": "code",
   "execution_count": 119,
   "metadata": {},
   "outputs": [
    {
     "data": {
      "text/plain": [
       "Tégla    207\n",
       "Nincs     23\n",
       "Name: type, dtype: int64"
      ]
     },
     "execution_count": 119,
     "metadata": {},
     "output_type": "execute_result"
    }
   ],
   "source": [
    "#cleaning-up 'type'\n",
    "VkerDB['type'].value_counts()"
   ]
  },
  {
   "cell_type": "code",
   "execution_count": 120,
   "metadata": {},
   "outputs": [],
   "source": [
    "#not informative\n",
    "VkerDB.drop(['type'], axis = 1, inplace= True)"
   ]
  },
  {
   "cell_type": "code",
   "execution_count": 121,
   "metadata": {},
   "outputs": [
    {
     "data": {
      "text/plain": [
       "CDC Ingatlan IV.Ker. Szita Ingatlan Kft.    38\n",
       "CDC Báthory                                 29\n",
       "CDC Bokréta                                 20\n",
       "Cdci Teréz krt-i iroda                      18\n",
       "Gold House Ingatlaniroda                    12\n",
       "Tecnocasa                                   11\n",
       "GREAT HOME                                   6\n",
       "GDN Ingatlaniroda.                           6\n",
       "OTP Ingatlanpont Szépvölgyi út               6\n",
       "Homexpress Ingatlaniroda                     5\n",
       "Saját hirdetés                               1\n",
       "Name: agency, dtype: int64"
      ]
     },
     "execution_count": 121,
     "metadata": {},
     "output_type": "execute_result"
    }
   ],
   "source": [
    "#cleaning-up agency\n",
    "VkerDB['agency'].value_counts()"
   ]
  },
  {
   "cell_type": "code",
   "execution_count": 122,
   "metadata": {},
   "outputs": [
    {
     "data": {
      "text/plain": [
       "106"
      ]
     },
     "execution_count": 122,
     "metadata": {},
     "output_type": "execute_result"
    }
   ],
   "source": [
    "VkerDB['agency'].isnull().sum()"
   ]
  },
  {
   "cell_type": "code",
   "execution_count": 124,
   "metadata": {},
   "outputs": [
    {
     "data": {
      "text/plain": [
       "(258, 10)"
      ]
     },
     "execution_count": 124,
     "metadata": {},
     "output_type": "execute_result"
    }
   ],
   "source": [
    "VkerDB.shape"
   ]
  },
  {
   "cell_type": "code",
   "execution_count": 125,
   "metadata": {},
   "outputs": [
    {
     "data": {
      "text/plain": [
       "agency         106\n",
       "date             0\n",
       "description     27\n",
       "id               0\n",
       "price            0\n",
       "price_sqm        0\n",
       "region         186\n",
       "room             0\n",
       "sqm              0\n",
       "url              0\n",
       "dtype: int64"
      ]
     },
     "execution_count": 125,
     "metadata": {},
     "output_type": "execute_result"
    }
   ],
   "source": [
    "VkerDB.isnull().sum()"
   ]
  },
  {
   "cell_type": "code",
   "execution_count": 133,
   "metadata": {},
   "outputs": [],
   "source": [
    "VkerDB = VkerDB[['id', 'date', 'price', 'price_sqm', 'room', 'sqm','region','description','agency', 'url']]"
   ]
  },
  {
   "cell_type": "code",
   "execution_count": 134,
   "metadata": {},
   "outputs": [],
   "source": [
    "VkerDB.to_csv('VkerDB.csv', index=False, index_label=None)"
   ]
  },
  {
   "cell_type": "code",
   "execution_count": null,
   "metadata": {},
   "outputs": [],
   "source": []
  }
 ],
 "metadata": {
  "kernelspec": {
   "display_name": "Python 3",
   "language": "python",
   "name": "python3"
  },
  "language_info": {
   "codemirror_mode": {
    "name": "ipython",
    "version": 3
   },
   "file_extension": ".py",
   "mimetype": "text/x-python",
   "name": "python",
   "nbconvert_exporter": "python",
   "pygments_lexer": "ipython3",
   "version": "3.7.3"
  }
 },
 "nbformat": 4,
 "nbformat_minor": 2
}
