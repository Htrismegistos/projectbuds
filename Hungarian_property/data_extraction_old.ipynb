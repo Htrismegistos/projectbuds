{
 "cells": [
  {
   "cell_type": "markdown",
   "metadata": {},
   "source": [
    "Com not available between 30/04/2019 21/10/2019. they inroduced robot check."
   ]
  },
  {
   "cell_type": "code",
   "execution_count": 1,
   "metadata": {},
   "outputs": [],
   "source": [
    "from bs4 import BeautifulSoup as beauty\n",
    "import pandas as pd\n",
    "import numpy as np\n",
    "import os\n",
    "import re\n",
    "import datetime as dt"
   ]
  },
  {
   "cell_type": "code",
   "execution_count": 2,
   "metadata": {},
   "outputs": [
    {
     "name": "stdout",
     "output_type": "stream",
     "text": [
      "The last date processed: 2020-02-23\n"
     ]
    }
   ],
   "source": [
    "v = pd.read_csv('VkerDB.csv', usecols=['date']).max()[0]\n",
    "print('The last date processed: {}'.format((v).strip()))"
   ]
  },
  {
   "cell_type": "code",
   "execution_count": 3,
   "metadata": {},
   "outputs": [
    {
     "name": "stdout",
     "output_type": "stream",
     "text": [
      "List of files taken from .hu: \n",
      " [(0, 'ingatlanokHU_Vker_01032020.csv')]\n",
      "List of files taken from .com:\n",
      " [(0, 'ingatlanCOM_Vker_01032020.csv')]\n",
      "List of files taken from 'centrum':\n",
      " [(0, 'otthoncentrum_Vker_01032020.csv')]\n"
     ]
    }
   ],
   "source": [
    "list_Vker_Hu =sorted([i for i in os.listdir() if 'ingatlanokHU_Vker' in i])\n",
    "list_Vker_Com = sorted([i for i in os.listdir() if 'ingatlanCOM_Vker' in i])\n",
    "list_Vker_Cen = sorted([i for i in os.listdir() if 'otthoncentrum_Vker' in i])\n",
    "print('List of files taken from .hu: \\n', list(zip(range(len(list_Vker_Hu)),list_Vker_Hu)))\n",
    "print('List of files taken from .com:\\n', list(zip(range(len(list_Vker_Com)),list_Vker_Com)))\n",
    "print('List of files taken from \\'centrum\\':\\n', list(zip(range(len(list_Vker_Cen)) ,list_Vker_Cen)))"
   ]
  },
  {
   "cell_type": "code",
   "execution_count": 4,
   "metadata": {},
   "outputs": [],
   "source": [
    "#[list_Vker_Com[0],list_Vker_Com[2],*list_Vker_Com[4:]]"
   ]
  },
  {
   "cell_type": "code",
   "execution_count": 5,
   "metadata": {},
   "outputs": [],
   "source": [
    "HU = pd.DataFrame(columns =['id','sqm','room','price','description','agency','url','date', 'source'])\n",
    "for i in list_Vker_Hu:\n",
    "    html = open(i, 'r').read()\n",
    "    l = beauty(html, 'lxml')\n",
    "    for ii in range(len(l.find_all('div', attrs={'class': 'result-row'}))):\n",
    "        value = []\n",
    "        # ID\n",
    "        value.append(l.find_all('div', attrs={'class': 'result-row'})[ii].find_all('a')[1]['href'].split('/')[-1])\n",
    "        #sqm\n",
    "        sqm = l.find_all('div', attrs={'class': 'result-row'})[ii].find_all(attrs={'class':'column-first'})\n",
    "        if len(sqm) > 0:\n",
    "            value.append(sqm[0].text.strip().replace('\\n', ' ').split(' ')[1])\n",
    "        else: value.append(np.NAN)\n",
    "        #rooms\n",
    "        room = l.find_all('div', attrs={'class': 'result-row'})[ii].find_all(attrs={'class':'column'})\n",
    "        if len(room) > 0:\n",
    "            value.append(room[0].text.strip().replace('\\n', ' ').split(' ')[1])\n",
    "        else: value.append(np.NAN)\n",
    "        '''\n",
    "        # type: not informative\n",
    "        types = l.find_all('div', attrs={'class': 'result-row'})[ii].find_all(attrs={'class':'column'})\n",
    "        if len(types) > 1:\n",
    "            value.append(types[1].text.strip().replace('\\n', ' ').split(' ')[2])\n",
    "        else: value.append(np.NAN)\n",
    "        '''\n",
    "        # price\n",
    "        p = l.find_all('div', attrs={'class': 'result-row'})[ii].find_all(attrs={'class':'result-price left'})\n",
    "        if len(p) > 0:\n",
    "            value.append(p[0].text.strip().replace('.', '').split(' ')[0])\n",
    "        else: value.append(np.NAN)\n",
    "        #description\n",
    "        d = l.find_all('div', attrs={'class': 'result-row'})[ii].find_all(attrs={'class': 'result-short-description'})\n",
    "        if len(d) > 0:\n",
    "            value.append(d[0].text.strip())\n",
    "        else: value.append(np.NAN)\n",
    "        #agency\n",
    "        age = l.find_all('div', attrs={'class': 'result-row'})[ii].find_all(attrs={'class':'office-logo-container right'})\n",
    "        if len(age) > 0:\n",
    "            value.append(age[0].find('a')['title'])\n",
    "        else: value.append(np.NAN)\n",
    "        #url\n",
    "        value.append(l.find_all('div', attrs={'class': 'result-row'})[ii].find_all('a')[1]['href'])         \n",
    "        #date     \n",
    "        value.append(dt.datetime.date(dt.datetime.strptime(re.sub(r'\\D', '', i), '%d%m%Y')))\n",
    "        #source\n",
    "        value.append('hu')\n",
    "        HU.loc[len(HU), :] =  value"
   ]
  },
  {
   "cell_type": "code",
   "execution_count": 6,
   "metadata": {},
   "outputs": [
    {
     "data": {
      "text/plain": [
       "(20, 9)"
      ]
     },
     "execution_count": 6,
     "metadata": {},
     "output_type": "execute_result"
    }
   ],
   "source": [
    "HU.shape"
   ]
  },
  {
   "cell_type": "code",
   "execution_count": 7,
   "metadata": {},
   "outputs": [
    {
     "data": {
      "text/plain": [
       "array([datetime.date(2020, 3, 1)], dtype=object)"
      ]
     },
     "execution_count": 7,
     "metadata": {},
     "output_type": "execute_result"
    }
   ],
   "source": [
    "HU['date'].unique()"
   ]
  },
  {
   "cell_type": "code",
   "execution_count": 9,
   "metadata": {},
   "outputs": [],
   "source": [
    "#HU.to_csv('Hu_Vker'+str(dt.datetime.now().date())+'.csv', index=False, index_label= None)"
   ]
  },
  {
   "cell_type": "code",
   "execution_count": 10,
   "metadata": {},
   "outputs": [],
   "source": [
    "Cen = pd.DataFrame(columns = ['id','sqm','room','price','description','agency','url','region','date', 'source'])\n",
    "for i in list_Vker_Cen:\n",
    "    html = open(i,'r').read()\n",
    "    l = beauty(html, 'lxml')\n",
    "    for ii in l.find_all('div', attrs={'class': 'estate-list-box'}):\n",
    "        value = []\n",
    "        # ID\n",
    "        value.append(ii.find_all(attrs ={'class':'oc-icon icon-oc-oc-kedvenc estate-bookmark pls-login atRealEstateList-estateBookmark estate-add-localStorage'})[0]['data-estate-id'])\n",
    "        #sqm\n",
    "        sqm = ii.find_all(attrs={'class':'estate-size col-xs-6 text-right'})\n",
    "        if len(sqm) > 0:\n",
    "            value.append(sqm[0].text.strip().split(' ')[0])\n",
    "        else: value.append(np.NAN)\n",
    "        #rooms\n",
    "        room = ii.find_all(attrs={'class':'atEstateListItem-Rooms'})\n",
    "        if len(room) > 0:\n",
    "            value.append(room[0].text.strip())\n",
    "        else: value.append(np.NAN)\n",
    "        '''# type: not informative\n",
    "        types = ii.find_all(attrs={'class':'estate-type-size'})\n",
    "        if len(types) > 0:\n",
    "            value.append(types[0].text.strip().split(' ')[0])\n",
    "        else: value.append(np.NAN)'''\n",
    "        # price\n",
    "        p = ii.find_all(attrs={'class':'estate-price atEstateListItem-Price col-xs-6'})\n",
    "        if len(p) > 0:\n",
    "            value.append(p[0].text.strip().replace(',', '.').split(' ')[0])\n",
    "        else: value.append(np.NAN)\n",
    "        #description\n",
    "        d = ii.find_all(attrs={'class': 'inner-hide-description'})\n",
    "        if len(d) > 0:\n",
    "            value.append(d[0].text.strip())\n",
    "        else: value.append(np.NAN)\n",
    "        #agency\n",
    "        age = ii.find_all(attrs={'class':'office-logo-container right'})\n",
    "        if len(age) > 0:\n",
    "            value.append(age[0].find('a')['title'])\n",
    "        else: value.append(np.NAN)\n",
    "        #url\n",
    "        value.append('https://www.oc.hu'+ii.find_all('a')[0]['href'])  \n",
    "        #region\n",
    "        value.append(ii.find_all(attrs ={'class':'oc-icon icon-oc-oc-kedvenc estate-bookmark pls-login atRealEstateList-estateBookmark estate-add-localStorage'})[0]['data-estate-regno'])\n",
    "        #date     \n",
    "        value.append(dt.datetime.date(dt.datetime.strptime(re.sub(r'\\D', '', i), '%d%m%Y')))\n",
    "        #source\n",
    "        value.append('centrum')       \n",
    "        Cen.loc[len(Cen), :] =  value"
   ]
  },
  {
   "cell_type": "code",
   "execution_count": 11,
   "metadata": {},
   "outputs": [
    {
     "data": {
      "text/plain": [
       "(2, 10)"
      ]
     },
     "execution_count": 11,
     "metadata": {},
     "output_type": "execute_result"
    }
   ],
   "source": [
    "Cen.shape"
   ]
  },
  {
   "cell_type": "code",
   "execution_count": 12,
   "metadata": {},
   "outputs": [],
   "source": [
    "#Cen.to_csv('Cen_Vker'+str(dt.datetime.now().date())+'.csv', index=False, index_label=None)"
   ]
  },
  {
   "cell_type": "code",
   "execution_count": 13,
   "metadata": {},
   "outputs": [],
   "source": [
    "Com = pd.DataFrame(columns = ['id','sqm','room','price','price_sqm','description','agency','url','region','date', 'source'])\n",
    "for i in list_Vker_Com:\n",
    "    html = open(i,'r').read()\n",
    "    # two different class identifier for the ads\n",
    "    l = beauty(html,'lxml').find_all('div', attrs = {'class': 'listing js-listing listing--cluster-parent js-cluster-parent'})\n",
    "    l = l + (beauty(html,'lxml').find_all('div', attrs = {'class': 'listing js-listing'}))\n",
    "    for ii in l:\n",
    "        value = []\n",
    "        # ID\n",
    "        value.append(ii['data-id'])\n",
    "        #sqm\n",
    "        sqm = ii.find_all(attrs={'class':'listing__parameter listing__data--area-size'})\n",
    "        if len(sqm) > 0:\n",
    "            value.append(sqm[0].text.strip().split(' ')[0])\n",
    "        else: value.append(np.NAN)\n",
    "        #rooms\n",
    "        room = ii.find_all(attrs={'class':'listing__parameter listing__data--room-count'})\n",
    "        if len(room) > 0:\n",
    "            value.append(room[0].text.strip().split(' ')[0])\n",
    "        else: value.append(np.NAN)\n",
    "        '''## type not informative\n",
    "        types = ii.find_all(attrs={'class':'estate-type-size'})\n",
    "        if len(types) > 0:\n",
    "            value.append(types[0].text.strip().split(' ')[0])\n",
    "        else: value.append(np.NAN)'''\n",
    "        # price\n",
    "        p = ii.find_all(attrs={'class':'price'})\n",
    "        if len(p) > 0:\n",
    "            value.append(p[0].text.strip().split(' ')[0])\n",
    "        else: value.append(np.NAN)\n",
    "        # price_sqm\n",
    "        ps = ii.find_all(attrs={'class':'price--sqm'})\n",
    "        if len(ps) > 0:\n",
    "            value.append(re.sub(r'\\D','',ps[0].text)[:-1])\n",
    "        else: value.append(np.NAN)\n",
    "        ##description\n",
    "        d = ii.find_all(attrs={'class': 'inner-hide-description'})\n",
    "        if len(d) > 0:\n",
    "            value.append(d[0].text.strip())\n",
    "        else: value.append(np.NAN)\n",
    "        #agency\n",
    "        age = ii.find_all(attrs={'class':'listing__thumbnail is-empty js-listing-active-area'})\n",
    "        if len(age) > 0:\n",
    "            value.append(age[0]['data-is-own'])\n",
    "        else: value.append(np.NAN)\n",
    "        #url\n",
    "        value.append('https://ingatlan.com'+ii.find('a')['href'])  \n",
    "        #region\n",
    "        r = ii.find_all(attrs={'class':'listing__address'})\n",
    "        if len(r) > 0:\n",
    "            value.append(r[0].text.strip())\n",
    "        else: value.append(np.NAN)\n",
    "        #date     \n",
    "        value.append(dt.datetime.date(dt.datetime.strptime(re.sub(r'\\D', '', i), '%d%m%Y')))\n",
    "        #source\n",
    "        value.append('com')       \n",
    "        Com.loc[len(Com), :] =  value"
   ]
  },
  {
   "cell_type": "code",
   "execution_count": 14,
   "metadata": {},
   "outputs": [
    {
     "data": {
      "text/plain": [
       "(46, 11)"
      ]
     },
     "execution_count": 14,
     "metadata": {},
     "output_type": "execute_result"
    }
   ],
   "source": [
    "Com.shape"
   ]
  },
  {
   "cell_type": "code",
   "execution_count": 15,
   "metadata": {},
   "outputs": [],
   "source": [
    "Com.to_csv('Com_Vker'+str(dt.datetime.now().date())+'.csv', index=False, index_label =None)"
   ]
  },
  {
   "cell_type": "markdown",
   "metadata": {},
   "source": [
    "Exploring and validation codes"
   ]
  },
  {
   "cell_type": "code",
   "execution_count": null,
   "metadata": {},
   "outputs": [],
   "source": []
  },
  {
   "cell_type": "code",
   "execution_count": null,
   "metadata": {},
   "outputs": [],
   "source": []
  }
 ],
 "metadata": {
  "kernelspec": {
   "display_name": "Python 3",
   "language": "python",
   "name": "python3"
  },
  "language_info": {
   "codemirror_mode": {
    "name": "ipython",
    "version": 3
   },
   "file_extension": ".py",
   "mimetype": "text/x-python",
   "name": "python",
   "nbconvert_exporter": "python",
   "pygments_lexer": "ipython3",
   "version": "3.7.4"
  }
 },
 "nbformat": 4,
 "nbformat_minor": 2
}
