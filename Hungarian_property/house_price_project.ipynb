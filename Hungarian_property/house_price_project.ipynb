{
 "cells": [
  {
   "cell_type": "markdown",
   "metadata": {},
   "source": [
    "Data collection from 3 Hungarian property website\n",
    "The collection runs once a week manually"
   ]
  },
  {
   "cell_type": "code",
   "execution_count": 1,
   "metadata": {},
   "outputs": [],
   "source": [
    "import requests\n",
    "#from urllib.robotparser import RobotFileParser\n",
    "from bs4 import BeautifulSoup\n",
    "import urllib3\n",
    "import warnings\n",
    "warnings.filterwarnings('ignore')\n",
    "import datetime as dtime\n",
    "import time"
   ]
  },
  {
   "cell_type": "markdown",
   "metadata": {},
   "source": [
    "#### Simple request"
   ]
  },
  {
   "cell_type": "code",
   "execution_count": 2,
   "metadata": {},
   "outputs": [],
   "source": [
    "#ingatlan.hu, one page\n",
    "def simpleget(url):\n",
    "    '''\n",
    "    gets simple one page website from the URL\n",
    "    \n",
    "    returns body tag\n",
    "    '''\n",
    "    r=requests.get(url, headers={'User-Agent': 'Mozilla/5.0 (X11; Linux x86_64; rv:62.0) Gecko/20100101 Firefox/62.0'})\n",
    "    \n",
    "    page = BeautifulSoup(r.content, 'lxml')\n",
    "    body = page.body\n",
    "    return body\n"
   ]
  },
  {
   "cell_type": "markdown",
   "metadata": {},
   "source": [
    "#### Multi-page search retrieval"
   ]
  },
  {
   "cell_type": "code",
   "execution_count": 3,
   "metadata": {},
   "outputs": [],
   "source": [
    "#ingatlan.com, multi-page\n",
    "def inner_multi_get(url, n):\n",
    "    '''\n",
    "    gets multipages session based webpages like search results specialized to ingatlan.com site\n",
    "    \n",
    "    url for URL\n",
    "    n for number of pages to follow\n",
    "    \n",
    "    returns html tag named 'main'\n",
    "    '''\n",
    "    link = url + str(n)\n",
    "    print(link)\n",
    "    http = urllib3.PoolManager(headers={'User-Agent': 'Mozilla/5.0 (X11; Linux x86_64; rv:62.0) Gecko/20100101 Firefox/62.0'})\n",
    "    response = http.request('GET', link)\n",
    "    soup = BeautifulSoup(response.data, 'lxml')\n",
    "    body = soup.find_all('main')\n",
    "    \n",
    "    return body\n",
    "\n",
    "def multipages(url , v=1):\n",
    "    '''\n",
    "    wrapper for inner_multi_get(url, n) to handle returned htmls in one list \n",
    "    url for URL,\n",
    "    v for number of pages to return\n",
    "    \n",
    "    inner_multi_get:\n",
    "    gets multipages session based webpages like search results specialized to ingatlan.com site\n",
    "    \n",
    "    returns html tag named 'main'\n",
    "    '''\n",
    "    i=1\n",
    "    while i <= v:\n",
    "        text = inner_multi_get(url, n=i)\n",
    "        \n",
    "        if 'csvtext' in locals():\n",
    "            csvtext = csvtext + text\n",
    "        else: csvtext = text\n",
    "            \n",
    "        time.sleep(1)\n",
    "        i += 1\n",
    "    return csvtext"
   ]
  },
  {
   "cell_type": "markdown",
   "metadata": {},
   "source": [
    "#### Saving html source data into file"
   ]
  },
  {
   "cell_type": "code",
   "execution_count": 4,
   "metadata": {},
   "outputs": [],
   "source": [
    "def writeto(csvtext, fnev):\n",
    "    '''\n",
    "    write csvtext into file with the given filename (fnev)\n",
    "    \n",
    "    returns acknowladgement\n",
    "    '''\n",
    "    file = open(fnev, 'w')\n",
    "    file.write('%s' % csvtext)\n",
    "    file.close()   \n",
    "    return print('Data saved as %s' % fnev )\n",
    "\n",
    "def savetext(csvtext,fnev):\n",
    "    '''\n",
    "    wrapper to writeto() to create filename (fnev)\n",
    "    csvtext saved text\n",
    "    '''\n",
    "    \n",
    "    global fn\n",
    "    # file name includes day-month timestamp and page number for multi-page retievals\n",
    "    now = dtime.datetime.now()\n",
    "    m = [str(now.month) if len(str(now.month)) == 2 else '0' + str(now.month)]\n",
    "    d = [str(now.day) if len(str(now.day)) == 2 else '0' + str(now.day)]\n",
    "    y = str(now.year)\n",
    "    fn = fnev + '_' + d[0] + m[0] + y + '.csv'\n",
    "    writeto(csvtext,fn)   \n",
    "    return"
   ]
  },
  {
   "cell_type": "markdown",
   "metadata": {},
   "source": [
    "#### Check number of saved ads"
   ]
  },
  {
   "cell_type": "code",
   "execution_count": 5,
   "metadata": {},
   "outputs": [],
   "source": [
    "def check(fn , i):\n",
    "    '''\n",
    "    Checks the number of ads saved. based on the saved file.\n",
    "    html read specialized to surces\n",
    "    '''\n",
    "    html = (open(fn, 'r').read())\n",
    "    l = BeautifulSoup(html, 'lxml')\n",
    "    if 'ingatlanokHU' in fn:      \n",
    "        print(len(l.find_all('div', attrs={'class': 'result-row'})))\n",
    "    \n",
    "    elif 'otthoncentrum' in fn:  \n",
    "        print(len(l.find_all('div', attrs={'class': 'estate-list-box'})))\n",
    "\n",
    "    else:\n",
    "        a = len(l.find_all('div', attrs={'class': 'listing js-listing listing--cluster-parent js-cluster-parent'}))\n",
    "        b = len(l.find_all('div', attrs={'class': 'listing js-listing'}))\n",
    "        print(\"No of ads in {x} : {y}\".format(x= i  , y=a+b))"
   ]
  },
  {
   "cell_type": "markdown",
   "metadata": {},
   "source": [
    "### Set-up"
   ]
  },
  {
   "cell_type": "code",
   "execution_count": 6,
   "metadata": {},
   "outputs": [],
   "source": [
    "def retriveall_tofile():\n",
    "    '''\n",
    "    specalized setup for the webscrapeing with fixed urls, names\n",
    "    \n",
    "    returns saved files, counts of ads per file\n",
    "    '''\n",
    "    url1 = 'https://ingatlan.com/szukites/elado+lakas+v-ker+25-33-m2+ar-szerint?page='\n",
    "    url1a = 'https://ingatlan.com/szukites/elado+lakas+xi-ker+48-55-m2+ar-szerint?page='\n",
    "    url1b = 'https://ingatlan.com/szukites/elado+lakas+vi-ker+38-55-m2+ar-szerint?page='\n",
    "    url2 = 'https://ingatlanok.hu/elado/lakas+haz/budapest-v-ker:25nm-tol;33nm-ig?record=0&num=100'\n",
    "    url2a = 'https://ingatlanok.hu/elado/lakas+haz/budapest-xi-ker:48nm-tol;55nm-ig?record=0&num=100'\n",
    "    url2b = 'https://ingatlanok.hu/elado/lakas+haz/budapest-vi-ker:38nm-tol;55nm-ig?record=0&num=100'\n",
    "    url3 = 'https://www.oc.hu/ingatlanok/lista/oldalszam:48/rendezes:relevance/felhasznalas:elado/jogi-status:hasznalt/tipus:flat/stilus:brick,/hely-ertek:budapest05-kerulet/hely-id:budapest05-kerulet,/netto-alapterulet:28~33/emelet:1,8'\n",
    "    url3a = 'https://www.oc.hu/ingatlanok/lista/oldalszam:48/rendezes:relevance/felhasznalas:elado/jogi-status:hasznalt/tipus:flat/stilus:brick,/hely-ertek:budapest11-kerulet/hely-id:budapest11-kerulet,/netto-alapterulet:45~55/emelet:1,8'\n",
    "    url3b = 'https://www.oc.hu/ingatlanok/lista/oldalszam:48/rendezes:relevance/felhasznalas:elado/jogi-status:hasznalt/tipus:flat/stilus:brick,/hely-ertek:budapest06-kerulet/hely-id:budapest06-kerulet,/netto-alapterulet:38~55/emelet:1,8'\n",
    "    \n",
    "    hu = {\n",
    "        'ingatlanokHU_Vker': url2, \n",
    "        'ingatlanokHU_XIker': url2a,\n",
    "        'ingatlanokHU_VIker': url2b,\n",
    "        'otthoncentrum_Vker': url3,\n",
    "        'otthoncentrum_XIker': url3a,\n",
    "        'otthoncentrum_VIker': url3b\n",
    "    }\n",
    "    com = {\n",
    "        'ingatlanCOM_Vker': url1,\n",
    "        'ingatlanCOM_XIker': url1a,\n",
    "        'ingatlanCOM_VIker': url1b,\n",
    "\n",
    "    }\n",
    "       \n",
    "    #one page download\n",
    "    for i in hu.keys():\n",
    "        csvtext = simpleget(hu[i])\n",
    "        savetext(csvtext, i)\n",
    "        check(fn ,i)\n",
    "    \n",
    "    \n",
    "    #multipage download\n",
    "    for i in com.keys():\n",
    "        csvtext = multipages(com[i], v=10)\n",
    "        savetext(csvtext, i)\n",
    "        check(fn, i)\n",
    "        time.sleep(3)\n",
    "    "
   ]
  },
  {
   "cell_type": "markdown",
   "metadata": {},
   "source": [
    "#### Runing the show"
   ]
  },
  {
   "cell_type": "code",
   "execution_count": 7,
   "metadata": {},
   "outputs": [
    {
     "name": "stdout",
     "output_type": "stream",
     "text": [
      "Data saved as ingatlanokHU_Vker_23022020.csv\n",
      "17\n",
      "Data saved as ingatlanokHU_XIker_23022020.csv\n",
      "104\n",
      "Data saved as ingatlanokHU_VIker_23022020.csv\n",
      "100\n",
      "Data saved as otthoncentrum_Vker_23022020.csv\n",
      "3\n",
      "Data saved as otthoncentrum_XIker_23022020.csv\n",
      "32\n",
      "Data saved as otthoncentrum_VIker_23022020.csv\n",
      "48\n",
      "https://ingatlan.com/szukites/elado+lakas+v-ker+25-33-m2+ar-szerint?page=1\n",
      "https://ingatlan.com/szukites/elado+lakas+v-ker+25-33-m2+ar-szerint?page=2\n",
      "https://ingatlan.com/szukites/elado+lakas+v-ker+25-33-m2+ar-szerint?page=3\n",
      "https://ingatlan.com/szukites/elado+lakas+v-ker+25-33-m2+ar-szerint?page=4\n",
      "https://ingatlan.com/szukites/elado+lakas+v-ker+25-33-m2+ar-szerint?page=5\n",
      "https://ingatlan.com/szukites/elado+lakas+v-ker+25-33-m2+ar-szerint?page=6\n",
      "https://ingatlan.com/szukites/elado+lakas+v-ker+25-33-m2+ar-szerint?page=7\n",
      "https://ingatlan.com/szukites/elado+lakas+v-ker+25-33-m2+ar-szerint?page=8\n",
      "https://ingatlan.com/szukites/elado+lakas+v-ker+25-33-m2+ar-szerint?page=9\n",
      "https://ingatlan.com/szukites/elado+lakas+v-ker+25-33-m2+ar-szerint?page=10\n",
      "Data saved as ingatlanCOM_Vker_23022020.csv\n",
      "No of ads in ingatlanCOM_Vker : 44\n",
      "https://ingatlan.com/szukites/elado+lakas+xi-ker+48-55-m2+ar-szerint?page=1\n",
      "https://ingatlan.com/szukites/elado+lakas+xi-ker+48-55-m2+ar-szerint?page=2\n",
      "https://ingatlan.com/szukites/elado+lakas+xi-ker+48-55-m2+ar-szerint?page=3\n",
      "https://ingatlan.com/szukites/elado+lakas+xi-ker+48-55-m2+ar-szerint?page=4\n",
      "https://ingatlan.com/szukites/elado+lakas+xi-ker+48-55-m2+ar-szerint?page=5\n",
      "https://ingatlan.com/szukites/elado+lakas+xi-ker+48-55-m2+ar-szerint?page=6\n",
      "https://ingatlan.com/szukites/elado+lakas+xi-ker+48-55-m2+ar-szerint?page=7\n",
      "https://ingatlan.com/szukites/elado+lakas+xi-ker+48-55-m2+ar-szerint?page=8\n",
      "https://ingatlan.com/szukites/elado+lakas+xi-ker+48-55-m2+ar-szerint?page=9\n",
      "https://ingatlan.com/szukites/elado+lakas+xi-ker+48-55-m2+ar-szerint?page=10\n",
      "Data saved as ingatlanCOM_XIker_23022020.csv\n",
      "No of ads in ingatlanCOM_XIker : 200\n",
      "https://ingatlan.com/szukites/elado+lakas+vi-ker+38-55-m2+ar-szerint?page=1\n",
      "https://ingatlan.com/szukites/elado+lakas+vi-ker+38-55-m2+ar-szerint?page=2\n",
      "https://ingatlan.com/szukites/elado+lakas+vi-ker+38-55-m2+ar-szerint?page=3\n",
      "https://ingatlan.com/szukites/elado+lakas+vi-ker+38-55-m2+ar-szerint?page=4\n",
      "https://ingatlan.com/szukites/elado+lakas+vi-ker+38-55-m2+ar-szerint?page=5\n",
      "https://ingatlan.com/szukites/elado+lakas+vi-ker+38-55-m2+ar-szerint?page=6\n",
      "https://ingatlan.com/szukites/elado+lakas+vi-ker+38-55-m2+ar-szerint?page=7\n",
      "https://ingatlan.com/szukites/elado+lakas+vi-ker+38-55-m2+ar-szerint?page=8\n",
      "https://ingatlan.com/szukites/elado+lakas+vi-ker+38-55-m2+ar-szerint?page=9\n",
      "https://ingatlan.com/szukites/elado+lakas+vi-ker+38-55-m2+ar-szerint?page=10\n",
      "Data saved as ingatlanCOM_VIker_23022020.csv\n",
      "No of ads in ingatlanCOM_VIker : 200\n"
     ]
    }
   ],
   "source": [
    "retriveall_tofile()"
   ]
  },
  {
   "cell_type": "code",
   "execution_count": 7,
   "metadata": {},
   "outputs": [
    {
     "name": "stdout",
     "output_type": "stream",
     "text": [
      "Data saved as ingatlanokHU_Vker_16022020.csv\n",
      "21\n",
      "Data saved as ingatlanokHU_XIker_16022020.csv\n",
      "100\n",
      "Data saved as ingatlanokHU_VIker_16022020.csv\n",
      "100\n",
      "Data saved as otthoncentrum_Vker_16022020.csv\n",
      "4\n",
      "Data saved as otthoncentrum_XIker_16022020.csv\n",
      "34\n",
      "Data saved as otthoncentrum_VIker_16022020.csv\n",
      "48\n",
      "https://ingatlan.com/szukites/elado+lakas+v-ker+25-33-m2+ar-szerint?page=1\n",
      "https://ingatlan.com/szukites/elado+lakas+v-ker+25-33-m2+ar-szerint?page=2\n",
      "https://ingatlan.com/szukites/elado+lakas+v-ker+25-33-m2+ar-szerint?page=3\n",
      "https://ingatlan.com/szukites/elado+lakas+v-ker+25-33-m2+ar-szerint?page=4\n",
      "https://ingatlan.com/szukites/elado+lakas+v-ker+25-33-m2+ar-szerint?page=5\n",
      "https://ingatlan.com/szukites/elado+lakas+v-ker+25-33-m2+ar-szerint?page=6\n",
      "https://ingatlan.com/szukites/elado+lakas+v-ker+25-33-m2+ar-szerint?page=7\n",
      "https://ingatlan.com/szukites/elado+lakas+v-ker+25-33-m2+ar-szerint?page=8\n",
      "https://ingatlan.com/szukites/elado+lakas+v-ker+25-33-m2+ar-szerint?page=9\n",
      "https://ingatlan.com/szukites/elado+lakas+v-ker+25-33-m2+ar-szerint?page=10\n",
      "Data saved as ingatlanCOM_Vker_16022020.csv\n",
      "No of ads in ingatlanCOM_Vker : 52\n",
      "https://ingatlan.com/szukites/elado+lakas+xi-ker+48-55-m2+ar-szerint?page=1\n",
      "https://ingatlan.com/szukites/elado+lakas+xi-ker+48-55-m2+ar-szerint?page=2\n",
      "https://ingatlan.com/szukites/elado+lakas+xi-ker+48-55-m2+ar-szerint?page=3\n",
      "https://ingatlan.com/szukites/elado+lakas+xi-ker+48-55-m2+ar-szerint?page=4\n",
      "https://ingatlan.com/szukites/elado+lakas+xi-ker+48-55-m2+ar-szerint?page=5\n",
      "https://ingatlan.com/szukites/elado+lakas+xi-ker+48-55-m2+ar-szerint?page=6\n",
      "https://ingatlan.com/szukites/elado+lakas+xi-ker+48-55-m2+ar-szerint?page=7\n",
      "https://ingatlan.com/szukites/elado+lakas+xi-ker+48-55-m2+ar-szerint?page=8\n",
      "https://ingatlan.com/szukites/elado+lakas+xi-ker+48-55-m2+ar-szerint?page=9\n",
      "https://ingatlan.com/szukites/elado+lakas+xi-ker+48-55-m2+ar-szerint?page=10\n",
      "Data saved as ingatlanCOM_XIker_16022020.csv\n",
      "No of ads in ingatlanCOM_XIker : 200\n",
      "https://ingatlan.com/szukites/elado+lakas+vi-ker+38-55-m2+ar-szerint?page=1\n",
      "https://ingatlan.com/szukites/elado+lakas+vi-ker+38-55-m2+ar-szerint?page=2\n",
      "https://ingatlan.com/szukites/elado+lakas+vi-ker+38-55-m2+ar-szerint?page=3\n",
      "https://ingatlan.com/szukites/elado+lakas+vi-ker+38-55-m2+ar-szerint?page=4\n",
      "https://ingatlan.com/szukites/elado+lakas+vi-ker+38-55-m2+ar-szerint?page=5\n",
      "https://ingatlan.com/szukites/elado+lakas+vi-ker+38-55-m2+ar-szerint?page=6\n",
      "https://ingatlan.com/szukites/elado+lakas+vi-ker+38-55-m2+ar-szerint?page=7\n",
      "https://ingatlan.com/szukites/elado+lakas+vi-ker+38-55-m2+ar-szerint?page=8\n",
      "https://ingatlan.com/szukites/elado+lakas+vi-ker+38-55-m2+ar-szerint?page=9\n",
      "https://ingatlan.com/szukites/elado+lakas+vi-ker+38-55-m2+ar-szerint?page=10\n",
      "Data saved as ingatlanCOM_VIker_16022020.csv\n",
      "No of ads in ingatlanCOM_VIker : 200\n"
     ]
    }
   ],
   "source": [
    "retriveall_tofile()"
   ]
  },
  {
   "cell_type": "code",
   "execution_count": null,
   "metadata": {},
   "outputs": [],
   "source": []
  }
 ],
 "metadata": {
  "kernelspec": {
   "display_name": "Python 3",
   "language": "python",
   "name": "python3"
  },
  "language_info": {
   "codemirror_mode": {
    "name": "ipython",
    "version": 3
   },
   "file_extension": ".py",
   "mimetype": "text/x-python",
   "name": "python",
   "nbconvert_exporter": "python",
   "pygments_lexer": "ipython3",
   "version": "3.7.3"
  }
 },
 "nbformat": 4,
 "nbformat_minor": 2
}
