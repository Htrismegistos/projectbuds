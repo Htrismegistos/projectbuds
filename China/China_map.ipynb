{
 "cells": [
  {
   "cell_type": "code",
   "execution_count": 14,
   "metadata": {},
   "outputs": [],
   "source": []
  },
  {
   "cell_type": "code",
   "execution_count": 1,
   "metadata": {},
   "outputs": [],
   "source": [
    "# libraries\n",
    "#conda install -c anaconda basemap\n",
    "\n",
    "import pandas as pd\n",
    "import numpy as np\n",
    "#from mpl_toolkits.basemap import Basemap\n",
    "import matplotlib.pyplot as plt\n",
    "import json\n",
    "from bs4 import BeautifulSoup as beauty\n",
    "\n",
    "import warnings\n",
    "warnings.filterwarnings('ignore')"
   ]
  },
  {
   "cell_type": "code",
   "execution_count": 3,
   "metadata": {},
   "outputs": [],
   "source": [
    "cities = pd.read_csv('newRes90_clean.csv', index_col = 0)\n",
    "coord = pd.read_csv('coordiantes.csv', index_col = 0)\n",
    "coord['city'] = coord.index\n",
    "cities.shape, coord.shape\n",
    "cities = cities.join(coord)"
   ]
  },
  {
   "cell_type": "code",
   "execution_count": 12,
   "metadata": {},
   "outputs": [
    {
     "data": {
      "text/plain": [
       "201407          float64\n",
       "201408          float64\n",
       "201409          float64\n",
       "201410          float64\n",
       "201411          float64\n",
       "                 ...   \n",
       "Lat             float64\n",
       "Lon             float64\n",
       "tier             object\n",
       "chinese_name     object\n",
       "city             object\n",
       "Length: 75, dtype: object"
      ]
     },
     "execution_count": 12,
     "metadata": {},
     "output_type": "execute_result"
    }
   ],
   "source": [
    "cities.dtypes"
   ]
  },
  {
   "cell_type": "code",
   "execution_count": 9,
   "metadata": {},
   "outputs": [
    {
     "data": {
      "application/vnd.plotly.v1+json": {
       "config": {
        "plotlyServerURL": "https://plot.ly"
       },
       "data": [
        {
         "customdata": [
          [
           "Anqing"
          ],
          [
           "Beihai"
          ],
          [
           "Bengbu"
          ],
          [
           "Changde"
          ],
          [
           "Dali"
          ],
          [
           "Ganzhou"
          ],
          [
           "Jinzhou"
          ],
          [
           "Mudanjiang"
          ],
          [
           "Pingdingshan"
          ],
          [
           "Shaoguan"
          ],
          [
           "Taiyuan"
          ],
          [
           "Xiangfan"
          ],
          [
           "Zunyi"
          ]
         ],
         "hovertemplate": "<b>%{hovertext}</b><br><br>color=Tier 4<br>size=%{marker.size}<br>city=%{customdata[0]}<br>Lon=%{lat}<br>Lat=%{lon}<extra></extra>",
         "hovertext": [
          "安庆",
          "北海",
          "蚌埠",
          "常德",
          "大理镇",
          "赣州",
          "锦州",
          "牡丹江",
          "平顶山",
          "韶关",
          "太原",
          "襄阳",
          "遵义"
         ],
         "lat": [
          30.543494,
          21.481254,
          32.916287,
          29.031673,
          25.606486,
          25.831829,
          22.792258,
          44.551653,
          33.76617,
          24.810403,
          37.87059,
          32.008986,
          27.725654
         ],
         "legendgroup": "Tier 4",
         "lon": [
          117.063755,
          109.119927,
          117.389719,
          111.698497,
          100.267638,
          114.93503,
          113.538971,
          129.63316899999998,
          113.19266100000002,
          113.597522,
          112.548879,
          112.122415,
          106.927389
         ],
         "marker": {
          "color": "grey",
          "size": [
           2.5,
           3,
           2.9000000000000057,
           2.299999999999997,
           3.5,
           2,
           3.5,
           3,
           3.4000000000000057,
           2.9000000000000057,
           3.4000000000000057,
           3,
           3.0999999999999943
          ],
          "sizemode": "area",
          "sizeref": 0.010249999999999987
         },
         "mode": "markers",
         "name": "Tier 4",
         "showlegend": true,
         "subplot": "mapbox",
         "type": "scattermapbox"
        },
        {
         "customdata": [
          [
           "Baotou"
          ],
          [
           "Dandong"
          ],
          [
           "Guilin"
          ],
          [
           "Hohhot"
          ],
          [
           "Jilin"
          ],
          [
           "Jining"
          ],
          [
           "Jiujiang"
          ],
          [
           "Luoyang"
          ],
          [
           "Luzhou"
          ],
          [
           "Nanchong"
          ],
          [
           "Qinhuangdao"
          ],
          [
           "Sanya"
          ],
          [
           "Tangshan"
          ],
          [
           "Xining"
          ],
          [
           "Yangzhou"
          ],
          [
           "Yichang"
          ],
          [
           "Yinchuan"
          ],
          [
           "Yueyang"
          ],
          [
           "Zhanjiang"
          ]
         ],
         "hovertemplate": "<b>%{hovertext}</b><br><br>color=Tier 3<br>size=%{marker.size}<br>city=%{customdata[0]}<br>Lon=%{lat}<br>Lat=%{lon}<extra></extra>",
         "hovertext": [
          "包头市",
          "丹东市",
          "桂林市",
          "呼和浩特市",
          "吉林市",
          "济宁市",
          "九江市",
          "洛阳市",
          "泰安市",
          "马鞍山市",
          "秦皇岛市",
          "三亚市",
          "唐山市",
          "南充市",
          "扬州市",
          "宜昌市",
          "银川市",
          "丽水市",
          "湛江市"
         ],
         "lat": [
          40.657378,
          40.000787,
          25.273566,
          40.842585,
          43.83788300000001,
          35.414921,
          29.705078000000004,
          34.619683,
          28.871811,
          28.682892,
          39.935385,
          18.252847,
          39.630867,
          36.617134,
          32.39421,
          30.691967,
          38.487194,
          29.357104,
          21.270708
         ],
         "legendgroup": "Tier 3",
         "lon": [
          109.840349,
          124.354451,
          110.290195,
          111.749181,
          126.549572,
          116.587099,
          116.00193,
          112.45404,
          105.442258,
          115.858198,
          119.600493,
          109.511909,
          118.180194,
          101.778224,
          119.412966,
          111.286471,
          106.230909,
          113.128958,
          110.359377
         ],
         "marker": {
          "color": "yellow",
          "size": [
           3.0999999999999943,
           3,
           2.799999999999997,
           3,
           3.200000000000003,
           4.099999999999994,
           3.4000000000000057,
           3,
           2.299999999999997,
           3.5999999999999943,
           3.9000000000000057,
           3.200000000000003,
           3.5999999999999943,
           3.799999999999997,
           3.799999999999997,
           2.4000000000000057,
           3.9000000000000057,
           3.200000000000003,
           2.5999999999999943
          ],
          "sizemode": "area",
          "sizeref": 0.010249999999999987
         },
         "mode": "markers",
         "name": "Tier 3",
         "showlegend": true,
         "subplot": "mapbox",
         "type": "scattermapbox"
        },
        {
         "customdata": [
          [
           "Beijing"
          ],
          [
           "Changsha"
          ],
          [
           "Chengdu"
          ],
          [
           "Chongqing"
          ],
          [
           "Dalian"
          ],
          [
           "Guangzhou"
          ],
          [
           "Hangzhou"
          ],
          [
           "Nanjing"
          ],
          [
           "Ningbo"
          ],
          [
           "Qingdao"
          ],
          [
           "Shanghai"
          ],
          [
           "Shenyang"
          ],
          [
           "Shenzhen"
          ],
          [
           "Tianjin"
          ],
          [
           "Wuhan"
          ],
          [
           "Xi’an"
          ],
          [
           "Zhengzhou"
          ]
         ],
         "hovertemplate": "<b>%{hovertext}</b><br><br>color=Tier 1<br>size=%{marker.size}<br>city=%{customdata[0]}<br>Lon=%{lat}<br>Lat=%{lon}<extra></extra>",
         "hovertext": [
          "北京市",
          "长沙市",
          "成都市",
          "重庆市",
          "大连市",
          "广州市",
          "杭州市",
          "南京市",
          "宁波市",
          "青岛市",
          "上海市",
          "沈阳市",
          "深圳市",
          "天津市",
          "武汉市",
          "西安市",
          "郑州市"
         ],
         "lat": [
          39.904211,
          28.228209000000003,
          30.572269,
          29.56301,
          38.914003,
          23.12911,
          30.274085,
          32.060255,
          29.868336,
          36.067117,
          31.230416,
          41.805699,
          22.543099,
          39.084158,
          30.593099,
          36.617134,
          34.747041
         ],
         "legendgroup": "Tier 1",
         "lon": [
          116.407395,
          112.938814,
          104.066541,
          106.551557,
          121.614682,
          113.264385,
          120.15507,
          118.796877,
          121.54399,
          120.382612,
          121.473701,
          123.431472,
          114.057868,
          117.200983,
          114.305393,
          101.778224,
          113.625805
         ],
         "marker": {
          "color": "grey",
          "size": [
           3.4000000000000057,
           3.5999999999999943,
           3.799999999999997,
           3.0999999999999943,
           3.9000000000000057,
           2.5,
           4.099999999999994,
           3.0999999999999943,
           3.5999999999999943,
           2.700000000000003,
           3.0999999999999943,
           3.4000000000000057,
           3.5999999999999943,
           2.9000000000000057,
           3,
           3.5,
           2.799999999999997
          ],
          "sizemode": "area",
          "sizeref": 0.010249999999999987
         },
         "mode": "markers",
         "name": "Tier 1",
         "showlegend": true,
         "subplot": "mapbox",
         "type": "scattermapbox"
        },
        {
         "customdata": [
          [
           "Changchun"
          ],
          [
           "Fuzhou"
          ],
          [
           "Guiyang"
          ],
          [
           "Haikou"
          ],
          [
           "Harbin"
          ],
          [
           "Hefei"
          ],
          [
           "Huizhou"
          ],
          [
           "Jinan"
          ],
          [
           "Jinhua"
          ],
          [
           "Kunming"
          ],
          [
           "Lanzhou"
          ],
          [
           "Nanchang"
          ],
          [
           "Nanning"
          ],
          [
           "Quanzhou"
          ],
          [
           "Shijiazhuang"
          ],
          [
           "Urumqi"
          ],
          [
           "Wenzhou"
          ],
          [
           "Wuxi"
          ],
          [
           "Xiamen"
          ],
          [
           "Xuzhou"
          ],
          [
           "Yantai"
          ]
         ],
         "hovertemplate": "<b>%{hovertext}</b><br><br>color=Tier 2<br>size=%{marker.size}<br>city=%{customdata[0]}<br>Lon=%{lat}<br>Lat=%{lon}<extra></extra>",
         "hovertext": [
          "长春市",
          "福州市",
          "贵阳市",
          "海口市",
          "哈尔滨市",
          "合肥市",
          "惠州市",
          "济南市",
          "金华市",
          "昆明市",
          "兰州市",
          "南昌市",
          "南宁市",
          "泉州市",
          "石家庄市",
          "乌鲁木齐市",
          "温州市",
          "无锡市",
          "厦门市",
          "徐州市",
          "烟台市"
         ],
         "lat": [
          43.817072,
          26.074508,
          26.647661,
          20.044002,
          25.827973,
          31.820587,
          23.111847,
          36.651216,
          29.079059,
          24.880095,
          36.061089,
          28.682892,
          22.817002,
          24.874132,
          38.042307,
          43.825592,
          27.994267,
          31.49117,
          24.479834,
          34.205768,
          37.463822
         ],
         "legendgroup": "Tier 2",
         "lon": [
          125.323544,
          119.296494,
          106.630154,
          110.198293,
          114.941089,
          117.22723899999998,
          114.416196,
          117.12,
          119.647445,
          102.832892,
          103.834304,
          115.858198,
          108.366543,
          118.675676,
          114.51486,
          87.616848,
          120.699367,
          120.31191,
          118.089425,
          117.284124,
          121.44793500000002
         ],
         "marker": {
          "color": "green",
          "size": [
           3.200000000000003,
           3.0999999999999943,
           2.799999999999997,
           3.200000000000003,
           3.0999999999999943,
           2.9000000000000057,
           2.799999999999997,
           3.299999999999997,
           3.200000000000003,
           3.5999999999999943,
           3.200000000000003,
           2.5999999999999943,
           3.200000000000003,
           3.4000000000000057,
           2.5,
           3.0999999999999943,
           2.700000000000003,
           3.5999999999999943,
           2.5999999999999943,
           4,
           3.200000000000003
          ],
          "sizemode": "area",
          "sizeref": 0.010249999999999987
         },
         "mode": "markers",
         "name": "Tier 2",
         "showlegend": true,
         "subplot": "mapbox",
         "type": "scattermapbox"
        }
       ],
       "layout": {
        "height": 500,
        "legend": {
         "itemsizing": "constant",
         "title": {
          "text": "color"
         },
         "tracegroupgap": 0
        },
        "mapbox": {
         "center": {
          "lat": 31.665341185714293,
          "lon": 114.09400358571426
         },
         "domain": {
          "x": [
           0,
           1
          ],
          "y": [
           0,
           1
          ]
         },
         "style": "carto-darkmatter",
         "zoom": 2.8
        },
        "margin": {
         "b": 0,
         "l": 0,
         "r": 0,
         "t": 0
        },
        "template": {
         "data": {
          "bar": [
           {
            "error_x": {
             "color": "#2a3f5f"
            },
            "error_y": {
             "color": "#2a3f5f"
            },
            "marker": {
             "line": {
              "color": "#E5ECF6",
              "width": 0.5
             }
            },
            "type": "bar"
           }
          ],
          "barpolar": [
           {
            "marker": {
             "line": {
              "color": "#E5ECF6",
              "width": 0.5
             }
            },
            "type": "barpolar"
           }
          ],
          "carpet": [
           {
            "aaxis": {
             "endlinecolor": "#2a3f5f",
             "gridcolor": "white",
             "linecolor": "white",
             "minorgridcolor": "white",
             "startlinecolor": "#2a3f5f"
            },
            "baxis": {
             "endlinecolor": "#2a3f5f",
             "gridcolor": "white",
             "linecolor": "white",
             "minorgridcolor": "white",
             "startlinecolor": "#2a3f5f"
            },
            "type": "carpet"
           }
          ],
          "choropleth": [
           {
            "colorbar": {
             "outlinewidth": 0,
             "ticks": ""
            },
            "type": "choropleth"
           }
          ],
          "contour": [
           {
            "colorbar": {
             "outlinewidth": 0,
             "ticks": ""
            },
            "colorscale": [
             [
              0,
              "#0d0887"
             ],
             [
              0.1111111111111111,
              "#46039f"
             ],
             [
              0.2222222222222222,
              "#7201a8"
             ],
             [
              0.3333333333333333,
              "#9c179e"
             ],
             [
              0.4444444444444444,
              "#bd3786"
             ],
             [
              0.5555555555555556,
              "#d8576b"
             ],
             [
              0.6666666666666666,
              "#ed7953"
             ],
             [
              0.7777777777777778,
              "#fb9f3a"
             ],
             [
              0.8888888888888888,
              "#fdca26"
             ],
             [
              1,
              "#f0f921"
             ]
            ],
            "type": "contour"
           }
          ],
          "contourcarpet": [
           {
            "colorbar": {
             "outlinewidth": 0,
             "ticks": ""
            },
            "type": "contourcarpet"
           }
          ],
          "heatmap": [
           {
            "colorbar": {
             "outlinewidth": 0,
             "ticks": ""
            },
            "colorscale": [
             [
              0,
              "#0d0887"
             ],
             [
              0.1111111111111111,
              "#46039f"
             ],
             [
              0.2222222222222222,
              "#7201a8"
             ],
             [
              0.3333333333333333,
              "#9c179e"
             ],
             [
              0.4444444444444444,
              "#bd3786"
             ],
             [
              0.5555555555555556,
              "#d8576b"
             ],
             [
              0.6666666666666666,
              "#ed7953"
             ],
             [
              0.7777777777777778,
              "#fb9f3a"
             ],
             [
              0.8888888888888888,
              "#fdca26"
             ],
             [
              1,
              "#f0f921"
             ]
            ],
            "type": "heatmap"
           }
          ],
          "heatmapgl": [
           {
            "colorbar": {
             "outlinewidth": 0,
             "ticks": ""
            },
            "colorscale": [
             [
              0,
              "#0d0887"
             ],
             [
              0.1111111111111111,
              "#46039f"
             ],
             [
              0.2222222222222222,
              "#7201a8"
             ],
             [
              0.3333333333333333,
              "#9c179e"
             ],
             [
              0.4444444444444444,
              "#bd3786"
             ],
             [
              0.5555555555555556,
              "#d8576b"
             ],
             [
              0.6666666666666666,
              "#ed7953"
             ],
             [
              0.7777777777777778,
              "#fb9f3a"
             ],
             [
              0.8888888888888888,
              "#fdca26"
             ],
             [
              1,
              "#f0f921"
             ]
            ],
            "type": "heatmapgl"
           }
          ],
          "histogram": [
           {
            "marker": {
             "colorbar": {
              "outlinewidth": 0,
              "ticks": ""
             }
            },
            "type": "histogram"
           }
          ],
          "histogram2d": [
           {
            "colorbar": {
             "outlinewidth": 0,
             "ticks": ""
            },
            "colorscale": [
             [
              0,
              "#0d0887"
             ],
             [
              0.1111111111111111,
              "#46039f"
             ],
             [
              0.2222222222222222,
              "#7201a8"
             ],
             [
              0.3333333333333333,
              "#9c179e"
             ],
             [
              0.4444444444444444,
              "#bd3786"
             ],
             [
              0.5555555555555556,
              "#d8576b"
             ],
             [
              0.6666666666666666,
              "#ed7953"
             ],
             [
              0.7777777777777778,
              "#fb9f3a"
             ],
             [
              0.8888888888888888,
              "#fdca26"
             ],
             [
              1,
              "#f0f921"
             ]
            ],
            "type": "histogram2d"
           }
          ],
          "histogram2dcontour": [
           {
            "colorbar": {
             "outlinewidth": 0,
             "ticks": ""
            },
            "colorscale": [
             [
              0,
              "#0d0887"
             ],
             [
              0.1111111111111111,
              "#46039f"
             ],
             [
              0.2222222222222222,
              "#7201a8"
             ],
             [
              0.3333333333333333,
              "#9c179e"
             ],
             [
              0.4444444444444444,
              "#bd3786"
             ],
             [
              0.5555555555555556,
              "#d8576b"
             ],
             [
              0.6666666666666666,
              "#ed7953"
             ],
             [
              0.7777777777777778,
              "#fb9f3a"
             ],
             [
              0.8888888888888888,
              "#fdca26"
             ],
             [
              1,
              "#f0f921"
             ]
            ],
            "type": "histogram2dcontour"
           }
          ],
          "mesh3d": [
           {
            "colorbar": {
             "outlinewidth": 0,
             "ticks": ""
            },
            "type": "mesh3d"
           }
          ],
          "parcoords": [
           {
            "line": {
             "colorbar": {
              "outlinewidth": 0,
              "ticks": ""
             }
            },
            "type": "parcoords"
           }
          ],
          "pie": [
           {
            "automargin": true,
            "type": "pie"
           }
          ],
          "scatter": [
           {
            "marker": {
             "colorbar": {
              "outlinewidth": 0,
              "ticks": ""
             }
            },
            "type": "scatter"
           }
          ],
          "scatter3d": [
           {
            "line": {
             "colorbar": {
              "outlinewidth": 0,
              "ticks": ""
             }
            },
            "marker": {
             "colorbar": {
              "outlinewidth": 0,
              "ticks": ""
             }
            },
            "type": "scatter3d"
           }
          ],
          "scattercarpet": [
           {
            "marker": {
             "colorbar": {
              "outlinewidth": 0,
              "ticks": ""
             }
            },
            "type": "scattercarpet"
           }
          ],
          "scattergeo": [
           {
            "marker": {
             "colorbar": {
              "outlinewidth": 0,
              "ticks": ""
             }
            },
            "type": "scattergeo"
           }
          ],
          "scattergl": [
           {
            "marker": {
             "colorbar": {
              "outlinewidth": 0,
              "ticks": ""
             }
            },
            "type": "scattergl"
           }
          ],
          "scattermapbox": [
           {
            "marker": {
             "colorbar": {
              "outlinewidth": 0,
              "ticks": ""
             }
            },
            "type": "scattermapbox"
           }
          ],
          "scatterpolar": [
           {
            "marker": {
             "colorbar": {
              "outlinewidth": 0,
              "ticks": ""
             }
            },
            "type": "scatterpolar"
           }
          ],
          "scatterpolargl": [
           {
            "marker": {
             "colorbar": {
              "outlinewidth": 0,
              "ticks": ""
             }
            },
            "type": "scatterpolargl"
           }
          ],
          "scatterternary": [
           {
            "marker": {
             "colorbar": {
              "outlinewidth": 0,
              "ticks": ""
             }
            },
            "type": "scatterternary"
           }
          ],
          "surface": [
           {
            "colorbar": {
             "outlinewidth": 0,
             "ticks": ""
            },
            "colorscale": [
             [
              0,
              "#0d0887"
             ],
             [
              0.1111111111111111,
              "#46039f"
             ],
             [
              0.2222222222222222,
              "#7201a8"
             ],
             [
              0.3333333333333333,
              "#9c179e"
             ],
             [
              0.4444444444444444,
              "#bd3786"
             ],
             [
              0.5555555555555556,
              "#d8576b"
             ],
             [
              0.6666666666666666,
              "#ed7953"
             ],
             [
              0.7777777777777778,
              "#fb9f3a"
             ],
             [
              0.8888888888888888,
              "#fdca26"
             ],
             [
              1,
              "#f0f921"
             ]
            ],
            "type": "surface"
           }
          ],
          "table": [
           {
            "cells": {
             "fill": {
              "color": "#EBF0F8"
             },
             "line": {
              "color": "white"
             }
            },
            "header": {
             "fill": {
              "color": "#C8D4E3"
             },
             "line": {
              "color": "white"
             }
            },
            "type": "table"
           }
          ]
         },
         "layout": {
          "annotationdefaults": {
           "arrowcolor": "#2a3f5f",
           "arrowhead": 0,
           "arrowwidth": 1
          },
          "coloraxis": {
           "colorbar": {
            "outlinewidth": 0,
            "ticks": ""
           }
          },
          "colorscale": {
           "diverging": [
            [
             0,
             "#8e0152"
            ],
            [
             0.1,
             "#c51b7d"
            ],
            [
             0.2,
             "#de77ae"
            ],
            [
             0.3,
             "#f1b6da"
            ],
            [
             0.4,
             "#fde0ef"
            ],
            [
             0.5,
             "#f7f7f7"
            ],
            [
             0.6,
             "#e6f5d0"
            ],
            [
             0.7,
             "#b8e186"
            ],
            [
             0.8,
             "#7fbc41"
            ],
            [
             0.9,
             "#4d9221"
            ],
            [
             1,
             "#276419"
            ]
           ],
           "sequential": [
            [
             0,
             "#0d0887"
            ],
            [
             0.1111111111111111,
             "#46039f"
            ],
            [
             0.2222222222222222,
             "#7201a8"
            ],
            [
             0.3333333333333333,
             "#9c179e"
            ],
            [
             0.4444444444444444,
             "#bd3786"
            ],
            [
             0.5555555555555556,
             "#d8576b"
            ],
            [
             0.6666666666666666,
             "#ed7953"
            ],
            [
             0.7777777777777778,
             "#fb9f3a"
            ],
            [
             0.8888888888888888,
             "#fdca26"
            ],
            [
             1,
             "#f0f921"
            ]
           ],
           "sequentialminus": [
            [
             0,
             "#0d0887"
            ],
            [
             0.1111111111111111,
             "#46039f"
            ],
            [
             0.2222222222222222,
             "#7201a8"
            ],
            [
             0.3333333333333333,
             "#9c179e"
            ],
            [
             0.4444444444444444,
             "#bd3786"
            ],
            [
             0.5555555555555556,
             "#d8576b"
            ],
            [
             0.6666666666666666,
             "#ed7953"
            ],
            [
             0.7777777777777778,
             "#fb9f3a"
            ],
            [
             0.8888888888888888,
             "#fdca26"
            ],
            [
             1,
             "#f0f921"
            ]
           ]
          },
          "colorway": [
           "#636efa",
           "#EF553B",
           "#00cc96",
           "#ab63fa",
           "#FFA15A",
           "#19d3f3",
           "#FF6692",
           "#B6E880",
           "#FF97FF",
           "#FECB52"
          ],
          "font": {
           "color": "#2a3f5f"
          },
          "geo": {
           "bgcolor": "white",
           "lakecolor": "white",
           "landcolor": "#E5ECF6",
           "showlakes": true,
           "showland": true,
           "subunitcolor": "white"
          },
          "hoverlabel": {
           "align": "left"
          },
          "hovermode": "closest",
          "mapbox": {
           "style": "light"
          },
          "paper_bgcolor": "white",
          "plot_bgcolor": "#E5ECF6",
          "polar": {
           "angularaxis": {
            "gridcolor": "white",
            "linecolor": "white",
            "ticks": ""
           },
           "bgcolor": "#E5ECF6",
           "radialaxis": {
            "gridcolor": "white",
            "linecolor": "white",
            "ticks": ""
           }
          },
          "scene": {
           "xaxis": {
            "backgroundcolor": "#E5ECF6",
            "gridcolor": "white",
            "gridwidth": 2,
            "linecolor": "white",
            "showbackground": true,
            "ticks": "",
            "zerolinecolor": "white"
           },
           "yaxis": {
            "backgroundcolor": "#E5ECF6",
            "gridcolor": "white",
            "gridwidth": 2,
            "linecolor": "white",
            "showbackground": true,
            "ticks": "",
            "zerolinecolor": "white"
           },
           "zaxis": {
            "backgroundcolor": "#E5ECF6",
            "gridcolor": "white",
            "gridwidth": 2,
            "linecolor": "white",
            "showbackground": true,
            "ticks": "",
            "zerolinecolor": "white"
           }
          },
          "shapedefaults": {
           "line": {
            "color": "#2a3f5f"
           }
          },
          "ternary": {
           "aaxis": {
            "gridcolor": "white",
            "linecolor": "white",
            "ticks": ""
           },
           "baxis": {
            "gridcolor": "white",
            "linecolor": "white",
            "ticks": ""
           },
           "bgcolor": "#E5ECF6",
           "caxis": {
            "gridcolor": "white",
            "linecolor": "white",
            "ticks": ""
           }
          },
          "title": {
           "x": 0.05
          },
          "xaxis": {
           "automargin": true,
           "gridcolor": "white",
           "linecolor": "white",
           "ticks": "",
           "title": {
            "standoff": 15
           },
           "zerolinecolor": "white",
           "zerolinewidth": 2
          },
          "yaxis": {
           "automargin": true,
           "gridcolor": "white",
           "linecolor": "white",
           "ticks": "",
           "title": {
            "standoff": 15
           },
           "zerolinecolor": "white",
           "zerolinewidth": 2
          }
         }
        }
       }
      },
      "text/html": [
       "<div>\n",
       "        \n",
       "        \n",
       "            <div id=\"0427dd9b-e6de-4b8d-b0b4-290164fc82d4\" class=\"plotly-graph-div\" style=\"height:500px; width:100%;\"></div>\n",
       "            <script type=\"text/javascript\">\n",
       "                require([\"plotly\"], function(Plotly) {\n",
       "                    window.PLOTLYENV=window.PLOTLYENV || {};\n",
       "                    \n",
       "                if (document.getElementById(\"0427dd9b-e6de-4b8d-b0b4-290164fc82d4\")) {\n",
       "                    Plotly.newPlot(\n",
       "                        '0427dd9b-e6de-4b8d-b0b4-290164fc82d4',\n",
       "                        [{\"customdata\": [[\"Anqing\"], [\"Beihai\"], [\"Bengbu\"], [\"Changde\"], [\"Dali\"], [\"Ganzhou\"], [\"Jinzhou\"], [\"Mudanjiang\"], [\"Pingdingshan\"], [\"Shaoguan\"], [\"Taiyuan\"], [\"Xiangfan\"], [\"Zunyi\"]], \"hovertemplate\": \"<b>%{hovertext}</b><br><br>color=Tier 4<br>size=%{marker.size}<br>city=%{customdata[0]}<br>Lon=%{lat}<br>Lat=%{lon}<extra></extra>\", \"hovertext\": [\"\\u5b89\\u5e86\", \"\\u5317\\u6d77\", \"\\u868c\\u57e0\", \"\\u5e38\\u5fb7\", \"\\u5927\\u7406\\u9547\", \"\\u8d63\\u5dde\", \"\\u9526\\u5dde\", \"\\u7261\\u4e39\\u6c5f\", \"\\u5e73\\u9876\\u5c71\", \"\\u97f6\\u5173\", \"\\u592a\\u539f\", \"\\u8944\\u9633\", \"\\u9075\\u4e49\"], \"lat\": [30.543494, 21.481254, 32.916287, 29.031673, 25.606486, 25.831829, 22.792258, 44.551653, 33.76617, 24.810403, 37.87059, 32.008986, 27.725654], \"legendgroup\": \"Tier 4\", \"lon\": [117.063755, 109.119927, 117.389719, 111.698497, 100.267638, 114.93503, 113.538971, 129.63316899999998, 113.19266100000002, 113.597522, 112.548879, 112.122415, 106.927389], \"marker\": {\"color\": \"grey\", \"size\": [2.5, 3.0, 2.9000000000000057, 2.299999999999997, 3.5, 2.0, 3.5, 3.0, 3.4000000000000057, 2.9000000000000057, 3.4000000000000057, 3.0, 3.0999999999999943], \"sizemode\": \"area\", \"sizeref\": 0.010249999999999987}, \"mode\": \"markers\", \"name\": \"Tier 4\", \"showlegend\": true, \"subplot\": \"mapbox\", \"type\": \"scattermapbox\"}, {\"customdata\": [[\"Baotou\"], [\"Dandong\"], [\"Guilin\"], [\"Hohhot\"], [\"Jilin\"], [\"Jining\"], [\"Jiujiang\"], [\"Luoyang\"], [\"Luzhou\"], [\"Nanchong\"], [\"Qinhuangdao\"], [\"Sanya\"], [\"Tangshan\"], [\"Xining\"], [\"Yangzhou\"], [\"Yichang\"], [\"Yinchuan\"], [\"Yueyang\"], [\"Zhanjiang\"]], \"hovertemplate\": \"<b>%{hovertext}</b><br><br>color=Tier 3<br>size=%{marker.size}<br>city=%{customdata[0]}<br>Lon=%{lat}<br>Lat=%{lon}<extra></extra>\", \"hovertext\": [\"\\u5305\\u5934\\u5e02\", \"\\u4e39\\u4e1c\\u5e02\", \"\\u6842\\u6797\\u5e02\", \"\\u547c\\u548c\\u6d69\\u7279\\u5e02\", \"\\u5409\\u6797\\u5e02\", \"\\u6d4e\\u5b81\\u5e02\", \"\\u4e5d\\u6c5f\\u5e02\", \"\\u6d1b\\u9633\\u5e02\", \"\\u6cf0\\u5b89\\u5e02\", \"\\u9a6c\\u978d\\u5c71\\u5e02\", \"\\u79e6\\u7687\\u5c9b\\u5e02\", \"\\u4e09\\u4e9a\\u5e02\", \"\\u5510\\u5c71\\u5e02\", \"\\u5357\\u5145\\u5e02\", \"\\u626c\\u5dde\\u5e02\", \"\\u5b9c\\u660c\\u5e02\", \"\\u94f6\\u5ddd\\u5e02\", \"\\u4e3d\\u6c34\\u5e02\", \"\\u6e5b\\u6c5f\\u5e02\"], \"lat\": [40.657378, 40.000787, 25.273566, 40.842585, 43.83788300000001, 35.414921, 29.705078000000004, 34.619683, 28.871811, 28.682892, 39.935385, 18.252847, 39.630867, 36.617134, 32.39421, 30.691967, 38.487194, 29.357104, 21.270708], \"legendgroup\": \"Tier 3\", \"lon\": [109.840349, 124.354451, 110.290195, 111.749181, 126.549572, 116.587099, 116.00193, 112.45404, 105.442258, 115.858198, 119.600493, 109.511909, 118.180194, 101.778224, 119.412966, 111.286471, 106.230909, 113.128958, 110.359377], \"marker\": {\"color\": \"yellow\", \"size\": [3.0999999999999943, 3.0, 2.799999999999997, 3.0, 3.200000000000003, 4.099999999999994, 3.4000000000000057, 3.0, 2.299999999999997, 3.5999999999999943, 3.9000000000000057, 3.200000000000003, 3.5999999999999943, 3.799999999999997, 3.799999999999997, 2.4000000000000057, 3.9000000000000057, 3.200000000000003, 2.5999999999999943], \"sizemode\": \"area\", \"sizeref\": 0.010249999999999987}, \"mode\": \"markers\", \"name\": \"Tier 3\", \"showlegend\": true, \"subplot\": \"mapbox\", \"type\": \"scattermapbox\"}, {\"customdata\": [[\"Beijing\"], [\"Changsha\"], [\"Chengdu\"], [\"Chongqing\"], [\"Dalian\"], [\"Guangzhou\"], [\"Hangzhou\"], [\"Nanjing\"], [\"Ningbo\"], [\"Qingdao\"], [\"Shanghai\"], [\"Shenyang\"], [\"Shenzhen\"], [\"Tianjin\"], [\"Wuhan\"], [\"Xi\\u2019an\"], [\"Zhengzhou\"]], \"hovertemplate\": \"<b>%{hovertext}</b><br><br>color=Tier 1<br>size=%{marker.size}<br>city=%{customdata[0]}<br>Lon=%{lat}<br>Lat=%{lon}<extra></extra>\", \"hovertext\": [\"\\u5317\\u4eac\\u5e02\", \"\\u957f\\u6c99\\u5e02\", \"\\u6210\\u90fd\\u5e02\", \"\\u91cd\\u5e86\\u5e02\", \"\\u5927\\u8fde\\u5e02\", \"\\u5e7f\\u5dde\\u5e02\", \"\\u676d\\u5dde\\u5e02\", \"\\u5357\\u4eac\\u5e02\", \"\\u5b81\\u6ce2\\u5e02\", \"\\u9752\\u5c9b\\u5e02\", \"\\u4e0a\\u6d77\\u5e02\", \"\\u6c88\\u9633\\u5e02\", \"\\u6df1\\u5733\\u5e02\", \"\\u5929\\u6d25\\u5e02\", \"\\u6b66\\u6c49\\u5e02\", \"\\u897f\\u5b89\\u5e02\", \"\\u90d1\\u5dde\\u5e02\"], \"lat\": [39.904211, 28.228209000000003, 30.572269, 29.56301, 38.914003, 23.12911, 30.274085, 32.060255, 29.868336, 36.067117, 31.230416, 41.805699, 22.543099, 39.084158, 30.593099, 36.617134, 34.747041], \"legendgroup\": \"Tier 1\", \"lon\": [116.407395, 112.938814, 104.066541, 106.551557, 121.614682, 113.264385, 120.15507, 118.796877, 121.54399, 120.382612, 121.473701, 123.431472, 114.057868, 117.200983, 114.305393, 101.778224, 113.625805], \"marker\": {\"color\": \"grey\", \"size\": [3.4000000000000057, 3.5999999999999943, 3.799999999999997, 3.0999999999999943, 3.9000000000000057, 2.5, 4.099999999999994, 3.0999999999999943, 3.5999999999999943, 2.700000000000003, 3.0999999999999943, 3.4000000000000057, 3.5999999999999943, 2.9000000000000057, 3.0, 3.5, 2.799999999999997], \"sizemode\": \"area\", \"sizeref\": 0.010249999999999987}, \"mode\": \"markers\", \"name\": \"Tier 1\", \"showlegend\": true, \"subplot\": \"mapbox\", \"type\": \"scattermapbox\"}, {\"customdata\": [[\"Changchun\"], [\"Fuzhou\"], [\"Guiyang\"], [\"Haikou\"], [\"Harbin\"], [\"Hefei\"], [\"Huizhou\"], [\"Jinan\"], [\"Jinhua\"], [\"Kunming\"], [\"Lanzhou\"], [\"Nanchang\"], [\"Nanning\"], [\"Quanzhou\"], [\"Shijiazhuang\"], [\"Urumqi\"], [\"Wenzhou\"], [\"Wuxi\"], [\"Xiamen\"], [\"Xuzhou\"], [\"Yantai\"]], \"hovertemplate\": \"<b>%{hovertext}</b><br><br>color=Tier 2<br>size=%{marker.size}<br>city=%{customdata[0]}<br>Lon=%{lat}<br>Lat=%{lon}<extra></extra>\", \"hovertext\": [\"\\u957f\\u6625\\u5e02\", \"\\u798f\\u5dde\\u5e02\", \"\\u8d35\\u9633\\u5e02\", \"\\u6d77\\u53e3\\u5e02\", \"\\u54c8\\u5c14\\u6ee8\\u5e02\", \"\\u5408\\u80a5\\u5e02\", \"\\u60e0\\u5dde\\u5e02\", \"\\u6d4e\\u5357\\u5e02\", \"\\u91d1\\u534e\\u5e02\", \"\\u6606\\u660e\\u5e02\", \"\\u5170\\u5dde\\u5e02\", \"\\u5357\\u660c\\u5e02\", \"\\u5357\\u5b81\\u5e02\", \"\\u6cc9\\u5dde\\u5e02\", \"\\u77f3\\u5bb6\\u5e84\\u5e02\", \"\\u4e4c\\u9c81\\u6728\\u9f50\\u5e02\", \"\\u6e29\\u5dde\\u5e02\", \"\\u65e0\\u9521\\u5e02\", \"\\u53a6\\u95e8\\u5e02\", \"\\u5f90\\u5dde\\u5e02\", \"\\u70df\\u53f0\\u5e02\"], \"lat\": [43.817072, 26.074508, 26.647661, 20.044002, 25.827973, 31.820587, 23.111847, 36.651216, 29.079059, 24.880095, 36.061089, 28.682892, 22.817002, 24.874132, 38.042307, 43.825592, 27.994267, 31.49117, 24.479834, 34.205768, 37.463822], \"legendgroup\": \"Tier 2\", \"lon\": [125.323544, 119.296494, 106.630154, 110.198293, 114.941089, 117.22723899999998, 114.416196, 117.12, 119.647445, 102.832892, 103.834304, 115.858198, 108.366543, 118.675676, 114.51486, 87.616848, 120.699367, 120.31191, 118.089425, 117.284124, 121.44793500000002], \"marker\": {\"color\": \"green\", \"size\": [3.200000000000003, 3.0999999999999943, 2.799999999999997, 3.200000000000003, 3.0999999999999943, 2.9000000000000057, 2.799999999999997, 3.299999999999997, 3.200000000000003, 3.5999999999999943, 3.200000000000003, 2.5999999999999943, 3.200000000000003, 3.4000000000000057, 2.5, 3.0999999999999943, 2.700000000000003, 3.5999999999999943, 2.5999999999999943, 4.0, 3.200000000000003], \"sizemode\": \"area\", \"sizeref\": 0.010249999999999987}, \"mode\": \"markers\", \"name\": \"Tier 2\", \"showlegend\": true, \"subplot\": \"mapbox\", \"type\": \"scattermapbox\"}],\n",
       "                        {\"height\": 500, \"legend\": {\"itemsizing\": \"constant\", \"title\": {\"text\": \"color\"}, \"tracegroupgap\": 0}, \"mapbox\": {\"center\": {\"lat\": 31.665341185714293, \"lon\": 114.09400358571426}, \"domain\": {\"x\": [0.0, 1.0], \"y\": [0.0, 1.0]}, \"style\": \"carto-darkmatter\", \"zoom\": 2.8}, \"margin\": {\"b\": 0, \"l\": 0, \"r\": 0, \"t\": 0}, \"template\": {\"data\": {\"bar\": [{\"error_x\": {\"color\": \"#2a3f5f\"}, \"error_y\": {\"color\": \"#2a3f5f\"}, \"marker\": {\"line\": {\"color\": \"#E5ECF6\", \"width\": 0.5}}, \"type\": \"bar\"}], \"barpolar\": [{\"marker\": {\"line\": {\"color\": \"#E5ECF6\", \"width\": 0.5}}, \"type\": \"barpolar\"}], \"carpet\": [{\"aaxis\": {\"endlinecolor\": \"#2a3f5f\", \"gridcolor\": \"white\", \"linecolor\": \"white\", \"minorgridcolor\": \"white\", \"startlinecolor\": \"#2a3f5f\"}, \"baxis\": {\"endlinecolor\": \"#2a3f5f\", \"gridcolor\": \"white\", \"linecolor\": \"white\", \"minorgridcolor\": \"white\", \"startlinecolor\": \"#2a3f5f\"}, \"type\": \"carpet\"}], \"choropleth\": [{\"colorbar\": {\"outlinewidth\": 0, \"ticks\": \"\"}, \"type\": \"choropleth\"}], \"contour\": [{\"colorbar\": {\"outlinewidth\": 0, \"ticks\": \"\"}, \"colorscale\": [[0.0, \"#0d0887\"], [0.1111111111111111, \"#46039f\"], [0.2222222222222222, \"#7201a8\"], [0.3333333333333333, \"#9c179e\"], [0.4444444444444444, \"#bd3786\"], [0.5555555555555556, \"#d8576b\"], [0.6666666666666666, \"#ed7953\"], [0.7777777777777778, \"#fb9f3a\"], [0.8888888888888888, \"#fdca26\"], [1.0, \"#f0f921\"]], \"type\": \"contour\"}], \"contourcarpet\": [{\"colorbar\": {\"outlinewidth\": 0, \"ticks\": \"\"}, \"type\": \"contourcarpet\"}], \"heatmap\": [{\"colorbar\": {\"outlinewidth\": 0, \"ticks\": \"\"}, \"colorscale\": [[0.0, \"#0d0887\"], [0.1111111111111111, \"#46039f\"], [0.2222222222222222, \"#7201a8\"], [0.3333333333333333, \"#9c179e\"], [0.4444444444444444, \"#bd3786\"], [0.5555555555555556, \"#d8576b\"], [0.6666666666666666, \"#ed7953\"], [0.7777777777777778, \"#fb9f3a\"], [0.8888888888888888, \"#fdca26\"], [1.0, \"#f0f921\"]], \"type\": \"heatmap\"}], \"heatmapgl\": [{\"colorbar\": {\"outlinewidth\": 0, \"ticks\": \"\"}, \"colorscale\": [[0.0, \"#0d0887\"], [0.1111111111111111, \"#46039f\"], [0.2222222222222222, \"#7201a8\"], [0.3333333333333333, \"#9c179e\"], [0.4444444444444444, \"#bd3786\"], [0.5555555555555556, \"#d8576b\"], [0.6666666666666666, \"#ed7953\"], [0.7777777777777778, \"#fb9f3a\"], [0.8888888888888888, \"#fdca26\"], [1.0, \"#f0f921\"]], \"type\": \"heatmapgl\"}], \"histogram\": [{\"marker\": {\"colorbar\": {\"outlinewidth\": 0, \"ticks\": \"\"}}, \"type\": \"histogram\"}], \"histogram2d\": [{\"colorbar\": {\"outlinewidth\": 0, \"ticks\": \"\"}, \"colorscale\": [[0.0, \"#0d0887\"], [0.1111111111111111, \"#46039f\"], [0.2222222222222222, \"#7201a8\"], [0.3333333333333333, \"#9c179e\"], [0.4444444444444444, \"#bd3786\"], [0.5555555555555556, \"#d8576b\"], [0.6666666666666666, \"#ed7953\"], [0.7777777777777778, \"#fb9f3a\"], [0.8888888888888888, \"#fdca26\"], [1.0, \"#f0f921\"]], \"type\": \"histogram2d\"}], \"histogram2dcontour\": [{\"colorbar\": {\"outlinewidth\": 0, \"ticks\": \"\"}, \"colorscale\": [[0.0, \"#0d0887\"], [0.1111111111111111, \"#46039f\"], [0.2222222222222222, \"#7201a8\"], [0.3333333333333333, \"#9c179e\"], [0.4444444444444444, \"#bd3786\"], [0.5555555555555556, \"#d8576b\"], [0.6666666666666666, \"#ed7953\"], [0.7777777777777778, \"#fb9f3a\"], [0.8888888888888888, \"#fdca26\"], [1.0, \"#f0f921\"]], \"type\": \"histogram2dcontour\"}], \"mesh3d\": [{\"colorbar\": {\"outlinewidth\": 0, \"ticks\": \"\"}, \"type\": \"mesh3d\"}], \"parcoords\": [{\"line\": {\"colorbar\": {\"outlinewidth\": 0, \"ticks\": \"\"}}, \"type\": \"parcoords\"}], \"pie\": [{\"automargin\": true, \"type\": \"pie\"}], \"scatter\": [{\"marker\": {\"colorbar\": {\"outlinewidth\": 0, \"ticks\": \"\"}}, \"type\": \"scatter\"}], \"scatter3d\": [{\"line\": {\"colorbar\": {\"outlinewidth\": 0, \"ticks\": \"\"}}, \"marker\": {\"colorbar\": {\"outlinewidth\": 0, \"ticks\": \"\"}}, \"type\": \"scatter3d\"}], \"scattercarpet\": [{\"marker\": {\"colorbar\": {\"outlinewidth\": 0, \"ticks\": \"\"}}, \"type\": \"scattercarpet\"}], \"scattergeo\": [{\"marker\": {\"colorbar\": {\"outlinewidth\": 0, \"ticks\": \"\"}}, \"type\": \"scattergeo\"}], \"scattergl\": [{\"marker\": {\"colorbar\": {\"outlinewidth\": 0, \"ticks\": \"\"}}, \"type\": \"scattergl\"}], \"scattermapbox\": [{\"marker\": {\"colorbar\": {\"outlinewidth\": 0, \"ticks\": \"\"}}, \"type\": \"scattermapbox\"}], \"scatterpolar\": [{\"marker\": {\"colorbar\": {\"outlinewidth\": 0, \"ticks\": \"\"}}, \"type\": \"scatterpolar\"}], \"scatterpolargl\": [{\"marker\": {\"colorbar\": {\"outlinewidth\": 0, \"ticks\": \"\"}}, \"type\": \"scatterpolargl\"}], \"scatterternary\": [{\"marker\": {\"colorbar\": {\"outlinewidth\": 0, \"ticks\": \"\"}}, \"type\": \"scatterternary\"}], \"surface\": [{\"colorbar\": {\"outlinewidth\": 0, \"ticks\": \"\"}, \"colorscale\": [[0.0, \"#0d0887\"], [0.1111111111111111, \"#46039f\"], [0.2222222222222222, \"#7201a8\"], [0.3333333333333333, \"#9c179e\"], [0.4444444444444444, \"#bd3786\"], [0.5555555555555556, \"#d8576b\"], [0.6666666666666666, \"#ed7953\"], [0.7777777777777778, \"#fb9f3a\"], [0.8888888888888888, \"#fdca26\"], [1.0, \"#f0f921\"]], \"type\": \"surface\"}], \"table\": [{\"cells\": {\"fill\": {\"color\": \"#EBF0F8\"}, \"line\": {\"color\": \"white\"}}, \"header\": {\"fill\": {\"color\": \"#C8D4E3\"}, \"line\": {\"color\": \"white\"}}, \"type\": \"table\"}]}, \"layout\": {\"annotationdefaults\": {\"arrowcolor\": \"#2a3f5f\", \"arrowhead\": 0, \"arrowwidth\": 1}, \"coloraxis\": {\"colorbar\": {\"outlinewidth\": 0, \"ticks\": \"\"}}, \"colorscale\": {\"diverging\": [[0, \"#8e0152\"], [0.1, \"#c51b7d\"], [0.2, \"#de77ae\"], [0.3, \"#f1b6da\"], [0.4, \"#fde0ef\"], [0.5, \"#f7f7f7\"], [0.6, \"#e6f5d0\"], [0.7, \"#b8e186\"], [0.8, \"#7fbc41\"], [0.9, \"#4d9221\"], [1, \"#276419\"]], \"sequential\": [[0.0, \"#0d0887\"], [0.1111111111111111, \"#46039f\"], [0.2222222222222222, \"#7201a8\"], [0.3333333333333333, \"#9c179e\"], [0.4444444444444444, \"#bd3786\"], [0.5555555555555556, \"#d8576b\"], [0.6666666666666666, \"#ed7953\"], [0.7777777777777778, \"#fb9f3a\"], [0.8888888888888888, \"#fdca26\"], [1.0, \"#f0f921\"]], \"sequentialminus\": [[0.0, \"#0d0887\"], [0.1111111111111111, \"#46039f\"], [0.2222222222222222, \"#7201a8\"], [0.3333333333333333, \"#9c179e\"], [0.4444444444444444, \"#bd3786\"], [0.5555555555555556, \"#d8576b\"], [0.6666666666666666, \"#ed7953\"], [0.7777777777777778, \"#fb9f3a\"], [0.8888888888888888, \"#fdca26\"], [1.0, \"#f0f921\"]]}, \"colorway\": [\"#636efa\", \"#EF553B\", \"#00cc96\", \"#ab63fa\", \"#FFA15A\", \"#19d3f3\", \"#FF6692\", \"#B6E880\", \"#FF97FF\", \"#FECB52\"], \"font\": {\"color\": \"#2a3f5f\"}, \"geo\": {\"bgcolor\": \"white\", \"lakecolor\": \"white\", \"landcolor\": \"#E5ECF6\", \"showlakes\": true, \"showland\": true, \"subunitcolor\": \"white\"}, \"hoverlabel\": {\"align\": \"left\"}, \"hovermode\": \"closest\", \"mapbox\": {\"style\": \"light\"}, \"paper_bgcolor\": \"white\", \"plot_bgcolor\": \"#E5ECF6\", \"polar\": {\"angularaxis\": {\"gridcolor\": \"white\", \"linecolor\": \"white\", \"ticks\": \"\"}, \"bgcolor\": \"#E5ECF6\", \"radialaxis\": {\"gridcolor\": \"white\", \"linecolor\": \"white\", \"ticks\": \"\"}}, \"scene\": {\"xaxis\": {\"backgroundcolor\": \"#E5ECF6\", \"gridcolor\": \"white\", \"gridwidth\": 2, \"linecolor\": \"white\", \"showbackground\": true, \"ticks\": \"\", \"zerolinecolor\": \"white\"}, \"yaxis\": {\"backgroundcolor\": \"#E5ECF6\", \"gridcolor\": \"white\", \"gridwidth\": 2, \"linecolor\": \"white\", \"showbackground\": true, \"ticks\": \"\", \"zerolinecolor\": \"white\"}, \"zaxis\": {\"backgroundcolor\": \"#E5ECF6\", \"gridcolor\": \"white\", \"gridwidth\": 2, \"linecolor\": \"white\", \"showbackground\": true, \"ticks\": \"\", \"zerolinecolor\": \"white\"}}, \"shapedefaults\": {\"line\": {\"color\": \"#2a3f5f\"}}, \"ternary\": {\"aaxis\": {\"gridcolor\": \"white\", \"linecolor\": \"white\", \"ticks\": \"\"}, \"baxis\": {\"gridcolor\": \"white\", \"linecolor\": \"white\", \"ticks\": \"\"}, \"bgcolor\": \"#E5ECF6\", \"caxis\": {\"gridcolor\": \"white\", \"linecolor\": \"white\", \"ticks\": \"\"}}, \"title\": {\"x\": 0.05}, \"xaxis\": {\"automargin\": true, \"gridcolor\": \"white\", \"linecolor\": \"white\", \"ticks\": \"\", \"title\": {\"standoff\": 15}, \"zerolinecolor\": \"white\", \"zerolinewidth\": 2}, \"yaxis\": {\"automargin\": true, \"gridcolor\": \"white\", \"linecolor\": \"white\", \"ticks\": \"\", \"title\": {\"standoff\": 15}, \"zerolinecolor\": \"white\", \"zerolinewidth\": 2}}}},\n",
       "                        {\"responsive\": true}\n",
       "                    ).then(function(){\n",
       "                            \n",
       "var gd = document.getElementById('0427dd9b-e6de-4b8d-b0b4-290164fc82d4');\n",
       "var x = new MutationObserver(function (mutations, observer) {{\n",
       "        var display = window.getComputedStyle(gd).display;\n",
       "        if (!display || display === 'none') {{\n",
       "            console.log([gd, 'removed!']);\n",
       "            Plotly.purge(gd);\n",
       "            observer.disconnect();\n",
       "        }}\n",
       "}});\n",
       "\n",
       "// Listen for the removal of the full notebook cells\n",
       "var notebookContainer = gd.closest('#notebook-container');\n",
       "if (notebookContainer) {{\n",
       "    x.observe(notebookContainer, {childList: true});\n",
       "}}\n",
       "\n",
       "// Listen for the clearing of the current output cell\n",
       "var outputEl = gd.closest('.output');\n",
       "if (outputEl) {{\n",
       "    x.observe(outputEl, {childList: true});\n",
       "}}\n",
       "\n",
       "                        })\n",
       "                };\n",
       "                });\n",
       "            </script>\n",
       "        </div>"
      ]
     },
     "metadata": {},
     "output_type": "display_data"
    }
   ],
   "source": [
    "import plotly.express as px\n",
    "\n",
    "colour_map = {'Tier 1': 'green', 'Tier 2': 'blue', 'Tier 3': 'yellow', 'Tier 4': 'grey'}\n",
    "colour_map2 = {'Tier 1': 'Tier 1', 'Tier 2': 'Tier 2', 'Tier 3': 'Tier 3', 'Tier 4': 'Tier 4'}\n",
    "\n",
    "fig = px.scatter_mapbox(cities, lat=\"Lon\", lon=\"Lat\", hover_name= 'chinese_name', hover_data=['city'],\n",
    "                         zoom=2.8, height=500, \\\n",
    "                        color=cities['tier'].map(colour_map2) ,\\\n",
    "                        color_discrete_sequence=cities['tier'].map(colour_map),\\\n",
    "                       size=(cities.loc[:,'202004']- 97))\n",
    "fig.update_layout(mapbox_style=\"carto-darkmatter\") #stamen-terrain, open-street-map,carto-positron,carto-darkmatter\n",
    "'''fig.update_layout(\n",
    "    mapbox_style=\"white-bg\",\n",
    "    mapbox_layers=[\n",
    "        {\n",
    "            \"below\": 'traces',\n",
    "            \"sourcetype\": \"raster\",\n",
    "            \"source\": [\n",
    "                \"https://basemap.nationalmap.gov/arcgis/rest/services/USGSImageryOnly/MapServer/tile/{z}/{y}/{x}\"\n",
    "            ]\n",
    "        }\n",
    "      ])'''\n",
    "fig.update_layout(margin={\"r\":0,\"t\":0,\"l\":0,\"b\":0})\n",
    "fig.show()"
   ]
  },
  {
   "cell_type": "code",
   "execution_count": 30,
   "metadata": {},
   "outputs": [],
   "source": [
    "from ipywidgets import interactive\n",
    "import matplotlib.font_manager as mfm\n",
    "font_path = \"/usr/share/fonts/truetype/NotoSansSC-Regular.otf\"\n",
    "font_path = \"/usr/share/fonts/truetype/DroidSansFallbackFull.ttf\"\n",
    "font_path = \"/usr/share/fonts/truetype/NotoSansTC-Bold.otf\"\n",
    "prop = mfm.FontProperties(fname=font_path)\n",
    "#plt.rcParams['font.family']= 'DejaVu Sans'\n",
    "\n",
    "def price():\n",
    "   \n",
    "    def _cdef(Date,City, Price):\n",
    "        c = City       \n",
    "        p = Price\n",
    "        t = Date\n",
    "        \n",
    "        \n",
    "        fig = plt.figure(figsize = (15,4))\n",
    "        ax = fig.add_subplot(1,1,1)\n",
    "        for i, l  in zip([new,sec],['new', '2nd hand']):\n",
    "            i = i.loc[c, t:]\n",
    "            plt.plot(i.index, i.values, label= c+' '+l)\n",
    "            plt.fill_between(i.index, i.values,\n",
    "                100, # the price of reference, buying price eg. exact No. also good\n",
    "                where = (i.values > 100), #shows only when higher then the buying price\n",
    "                facecolor = 'g',\n",
    "                alpha = 0.5\n",
    "                )\n",
    "            plt.fill_between(i.index, i.values,\n",
    "                100, # the price of reference, buying price eg. exact No. also good\n",
    "                where = (i.values <= 100), #shows only when higher then the buying price\n",
    "                facecolor = 'r',\n",
    "                alpha = 0.5\n",
    "                )\n",
    "\n",
    "        plt.xticks(rotation = 45)\n",
    "        plt.legend(loc = (0.8,0.85))\n",
    "        ax.spines['top'].set_visible(False)\n",
    "        ax.spines['right'].set_visible(False)\n",
    "        ax.axhline(100,color = 'red', linewidth = 1)\n",
    "        plt.suptitle('Property price index change between {} and today'.format(t), fontsize = 16)\n",
    "        plt.title('{}至今天之间的房地产价格变化'.format(t), fontproperties=prop, fontsize = 14)\n",
    "        \n",
    "        \n",
    "        plt.show()\n",
    "        \n",
    "        #price calculation\n",
    "        p1 = p\n",
    "        if d == 'new':\n",
    "            plist = new.loc[c,t:]\n",
    "        else:\n",
    "            plist = sec.loc[c,t:]\n",
    "        for i in plist:\n",
    "            p1 *=(float(i)/100)\n",
    "        pp1 = p1/p*100\n",
    "        \n",
    "        \n",
    "        print('The price increase in the last {} month is {:.2f} %, value {:0.0f}'.format(len(plist), pp1, p1))\n",
    "        print('最近{}个月的价格上涨值为{:.2f} %, RMB {:0.0f}'.format(len(plist), pp1, p1))\n",
    "        \n",
    "        return\n",
    "    \n",
    "    new = pd.read_csv('newRes90_clean.csv', index_col = 0)\n",
    "    sec = pd.read_csv('secRes90_clean.csv', index_col = 0)\n",
    "\n",
    "    #t = input('date 201810: ')\n",
    "    d = input('Property type: ')\n",
    "    c = interactive(_cdef,Date = sec.columns, City = sec.index, Price = (200000,1500000,50000))\n",
    "    #display(c)\n",
    "    return c"
   ]
  },
  {
   "cell_type": "code",
   "execution_count": 31,
   "metadata": {},
   "outputs": [
    {
     "name": "stdout",
     "output_type": "stream",
     "text": [
      "Property type: \n"
     ]
    },
    {
     "data": {
      "application/vnd.jupyter.widget-view+json": {
       "model_id": "5c75b89ab7744a57a5af76269274a520",
       "version_major": 2,
       "version_minor": 0
      },
      "text/plain": [
       "interactive(children=(Dropdown(description='Date', options=('201407', '201408', '201409', '201410', '201411', …"
      ]
     },
     "metadata": {},
     "output_type": "display_data"
    }
   ],
   "source": [
    "price()"
   ]
  },
  {
   "cell_type": "code",
   "execution_count": null,
   "metadata": {},
   "outputs": [],
   "source": []
  },
  {
   "cell_type": "code",
   "execution_count": 52,
   "metadata": {},
   "outputs": [],
   "source": [
    "inflation = [\n",
    "            { 'year':'2019' ,'inflation':2.7},\n",
    "            { 'year':'2018' ,'inflation': 2.1},\n",
    "            { 'year':'2017' ,'inflation':1.56},\n",
    "            { 'year':'2016' ,'inflation': 2},\n",
    "            { 'year':'2015' ,'inflation':1.44},\n",
    "            { 'year':'2014' ,'inflation':1.99}\n",
    "            ]"
   ]
  },
  {
   "cell_type": "code",
   "execution_count": 53,
   "metadata": {},
   "outputs": [
    {
     "data": {
      "text/plain": [
       "{'year': '2015', 'inflation': 1.44}"
      ]
     },
     "execution_count": 53,
     "metadata": {},
     "output_type": "execute_result"
    }
   ],
   "source": [
    "def get_y(js):\n",
    "    return js['inflation']\n",
    "\n",
    "m = sorted(inflation, key= get_y)\n",
    "m = min(inflation, key= lambda x: x['inflation'])\n",
    "m"
   ]
  },
  {
   "cell_type": "code",
   "execution_count": 54,
   "metadata": {},
   "outputs": [
    {
     "name": "stdout",
     "output_type": "stream",
     "text": [
      "year\n",
      "inflation\n"
     ]
    }
   ],
   "source": [
    "for i in m:\n",
    "    print(i)"
   ]
  },
  {
   "cell_type": "code",
   "execution_count": 12,
   "metadata": {},
   "outputs": [],
   "source": [
    "import matplotlib.pyplot as plt\n",
    "import pandas as pd\n",
    "import random as rd\n",
    "import numpy as np"
   ]
  },
  {
   "cell_type": "code",
   "execution_count": 36,
   "metadata": {},
   "outputs": [],
   "source": [
    "from ipywidgets import interactive\n",
    "import matplotlib.font_manager as mfm\n",
    "font_path = \"/usr/share/fonts/truetype/NotoSansSC-Regular.otf\"\n",
    "font_path = \"/usr/share/fonts/truetype/DroidSansFallbackFull.ttf\"\n",
    "font_path = \"/usr/share/fonts/truetype/NotoSansTC-Bold.otf\"\n",
    "prop = mfm.FontProperties(fname=font_path)\n",
    "#plt.rcParams['font.family']= 'DejaVu Sans'\n",
    "\n",
    "def price():\n",
    "   \n",
    "    def _cdef(Date,City, Price):\n",
    "        c = City       \n",
    "        p = Price\n",
    "        t = Date\n",
    "        \n",
    "        def _colour(i):\n",
    "            if i > 100:\n",
    "                 return 'green'\n",
    "            else: return 'red'\n",
    "        \n",
    "        fig = plt.figure(figsize = (15,4))\n",
    "        ax = fig.add_subplot(1,1,1)\n",
    "        for i, l  in zip([sec],['2nd hand']):\n",
    "            i = i.loc[c, t:]\n",
    "            plt.bar(i.index, i.values-100, label= c+' '+l, color = i.map(_colour), bottom = 100)\n",
    "            \n",
    "\n",
    "        plt.xticks(rotation = 45)\n",
    "        plt.legend(loc = (0.8,0.85))\n",
    "        ax.spines['top'].set_visible(False)\n",
    "        ax.spines['right'].set_visible(False)\n",
    "        ax.axhline(100,color = 'red', linewidth = 1)\n",
    "        plt.suptitle('Property price index change between {} and today'.format(t), fontsize = 16)\n",
    "        plt.title('{}至今天之间的房地产价格变化'.format(t), fontproperties=prop, fontsize = 14)\n",
    "        \n",
    "        \n",
    "        plt.show()\n",
    "        \n",
    "        #price calculation\n",
    "        p1 = p\n",
    "        if d == 'new':\n",
    "            plist = new.loc[c,t:]\n",
    "        else:\n",
    "            plist = sec.loc[c,t:]\n",
    "        for i in plist:\n",
    "            p1 *=(float(i)/100)\n",
    "        pp1 = p1/p*100\n",
    "        \n",
    "        \n",
    "        print('The price increase in the last {} month is {:.2f} %, value {:0.0f}'.format(len(plist), pp1, p1))\n",
    "        print('最近{}个月的价格上涨值为{:.2f} %, RMB {:0.0f}'.format(len(plist), pp1, p1))\n",
    "        \n",
    "        return\n",
    "    \n",
    "    #new = pd.read_csv('newRes90_clean.csv', index_col = 0)\n",
    "    sec = pd.read_csv('secRes90_clean.csv', index_col = 0)\n",
    "\n",
    "    #t = input('date 201810: ')\n",
    "    d = input('Property type: ')\n",
    "    c = interactive(_cdef,Date = sec.columns, City = sec.index, Price = (200000,1500000,50000))\n",
    "    #display(c)\n",
    "    return c"
   ]
  },
  {
   "cell_type": "code",
   "execution_count": 37,
   "metadata": {},
   "outputs": [
    {
     "name": "stdout",
     "output_type": "stream",
     "text": [
      "Property type: \n"
     ]
    },
    {
     "data": {
      "application/vnd.jupyter.widget-view+json": {
       "model_id": "d7deaad77c224bbc883f34feabe6ff74",
       "version_major": 2,
       "version_minor": 0
      },
      "text/plain": [
       "interactive(children=(Dropdown(description='Date', options=('201407', '201408', '201409', '201410', '201411', …"
      ]
     },
     "metadata": {},
     "output_type": "display_data"
    }
   ],
   "source": [
    "price()"
   ]
  },
  {
   "cell_type": "code",
   "execution_count": 28,
   "metadata": {
    "scrolled": true
   },
   "outputs": [
    {
     "data": {
      "text/plain": [
       "(70, 70)"
      ]
     },
     "execution_count": 28,
     "metadata": {},
     "output_type": "execute_result"
    }
   ],
   "source": [
    "new = pd.read_csv('newRes90_clean.csv', index_col = 0)\n",
    "new.shape"
   ]
  },
  {
   "cell_type": "code",
   "execution_count": 21,
   "metadata": {
    "scrolled": true
   },
   "outputs": [
    {
     "data": {
      "text/html": [
       "<div>\n",
       "<style scoped>\n",
       "    .dataframe tbody tr th:only-of-type {\n",
       "        vertical-align: middle;\n",
       "    }\n",
       "\n",
       "    .dataframe tbody tr th {\n",
       "        vertical-align: top;\n",
       "    }\n",
       "\n",
       "    .dataframe thead th {\n",
       "        text-align: right;\n",
       "    }\n",
       "</style>\n",
       "<table border=\"1\" class=\"dataframe\">\n",
       "  <thead>\n",
       "    <tr style=\"text-align: right;\">\n",
       "      <th></th>\n",
       "      <th>0</th>\n",
       "    </tr>\n",
       "  </thead>\n",
       "  <tbody>\n",
       "    <tr>\n",
       "      <th>201903</th>\n",
       "      <td>object</td>\n",
       "    </tr>\n",
       "  </tbody>\n",
       "</table>\n",
       "</div>"
      ],
      "text/plain": [
       "             0\n",
       "201903  object"
      ]
     },
     "execution_count": 21,
     "metadata": {},
     "output_type": "execute_result"
    }
   ],
   "source": [
    "new.dtypes.to_frame().loc[new.dtypes != 'float64']"
   ]
  },
  {
   "cell_type": "code",
   "execution_count": 29,
   "metadata": {},
   "outputs": [
    {
     "data": {
      "text/plain": [
       "nan"
      ]
     },
     "execution_count": 29,
     "metadata": {},
     "output_type": "execute_result"
    }
   ],
   "source": [
    "new.loc['Anqing','201903']"
   ]
  },
  {
   "cell_type": "code",
   "execution_count": 27,
   "metadata": {},
   "outputs": [],
   "source": [
    "new.to_csv('newRes90_clean.csv')"
   ]
  },
  {
   "cell_type": "code",
   "execution_count": null,
   "metadata": {},
   "outputs": [],
   "source": []
  }
 ],
 "metadata": {
  "kernelspec": {
   "display_name": "Python 3",
   "language": "python",
   "name": "python3"
  },
  "language_info": {
   "codemirror_mode": {
    "name": "ipython",
    "version": 3
   },
   "file_extension": ".py",
   "mimetype": "text/x-python",
   "name": "python",
   "nbconvert_exporter": "python",
   "pygments_lexer": "ipython3",
   "version": "3.7.6"
  }
 },
 "nbformat": 4,
 "nbformat_minor": 2
}
