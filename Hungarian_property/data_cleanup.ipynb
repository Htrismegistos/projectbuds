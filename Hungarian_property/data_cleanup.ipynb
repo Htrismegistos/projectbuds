{
 "cells": [
  {
   "cell_type": "markdown",
   "metadata": {},
   "source": [
    "Aim:\n",
    "format the data and merge them in one table"
   ]
  },
  {
   "cell_type": "code",
   "execution_count": 1,
   "metadata": {},
   "outputs": [],
   "source": [
    "import pandas as pd\n",
    "import numpy as np\n",
    "import datetime as dt"
   ]
  },
  {
   "cell_type": "code",
   "execution_count": 46,
   "metadata": {},
   "outputs": [],
   "source": [
    "HUN = pd.read_csv('HU_Vker.csv')\n",
    "Com = pd.read_csv('Com_Vker.csv')\n",
    "Cen = pd.read_csv('Cen_Vker.csv')"
   ]
  },
  {
   "cell_type": "markdown",
   "metadata": {},
   "source": [
    "#### clean up the source data"
   ]
  },
  {
   "cell_type": "code",
   "execution_count": 43,
   "metadata": {},
   "outputs": [
    {
     "name": "stdout",
     "output_type": "stream",
     "text": [
      "<class 'pandas.core.frame.DataFrame'>\n",
      "RangeIndex: 971 entries, 0 to 970\n",
      "Data columns (total 10 columns):\n",
      "id             971 non-null object\n",
      "sqm            867 non-null float64\n",
      "room           867 non-null float64\n",
      "type           867 non-null object\n",
      "price          867 non-null float64\n",
      "description    867 non-null object\n",
      "agency         719 non-null object\n",
      "url            971 non-null object\n",
      "date           971 non-null object\n",
      "source         971 non-null object\n",
      "dtypes: float64(3), object(7)\n",
      "memory usage: 75.9+ KB\n"
     ]
    }
   ],
   "source": [
    "HUN.info()"
   ]
  },
  {
   "cell_type": "code",
   "execution_count": 44,
   "metadata": {},
   "outputs": [
    {
     "data": {
      "text/plain": [
       "id               0\n",
       "sqm            104\n",
       "room           104\n",
       "type           104\n",
       "price          104\n",
       "description    104\n",
       "agency         252\n",
       "url              0\n",
       "date             0\n",
       "source           0\n",
       "dtype: int64"
      ]
     },
     "execution_count": 44,
     "metadata": {},
     "output_type": "execute_result"
    }
   ],
   "source": [
    "HUN.isnull().sum()"
   ]
  },
  {
   "cell_type": "code",
   "execution_count": 32,
   "metadata": {},
   "outputs": [],
   "source": [
    "#HUN.loc[HUN['sqm'].isnull()]"
   ]
  },
  {
   "cell_type": "code",
   "execution_count": 48,
   "metadata": {},
   "outputs": [
    {
     "data": {
      "text/plain": [
       "(867, 10)"
      ]
     },
     "execution_count": 48,
     "metadata": {},
     "output_type": "execute_result"
    }
   ],
   "source": [
    "#delete the extra rows\n",
    "HUN.drop(HUN.loc[HUN['sqm'].isnull()].index, axis = 0, inplace= True)\n",
    "HUN.shape"
   ]
  },
  {
   "cell_type": "code",
   "execution_count": 51,
   "metadata": {},
   "outputs": [],
   "source": [
    "#create 'price_sqm' column\n",
    "HUN['price_sqm'] = HUN['price'] / HUN['sqm']\n",
    "HUN['price_sqm'] = HUN['price_sqm'].astype(int)\n",
    "HUN['price'] = HUN['price'] / 1000000.0"
   ]
  },
  {
   "cell_type": "code",
   "execution_count": 52,
   "metadata": {},
   "outputs": [
    {
     "data": {
      "text/html": [
       "<div>\n",
       "<style scoped>\n",
       "    .dataframe tbody tr th:only-of-type {\n",
       "        vertical-align: middle;\n",
       "    }\n",
       "\n",
       "    .dataframe tbody tr th {\n",
       "        vertical-align: top;\n",
       "    }\n",
       "\n",
       "    .dataframe thead th {\n",
       "        text-align: right;\n",
       "    }\n",
       "</style>\n",
       "<table border=\"1\" class=\"dataframe\">\n",
       "  <thead>\n",
       "    <tr style=\"text-align: right;\">\n",
       "      <th></th>\n",
       "      <th>id</th>\n",
       "      <th>sqm</th>\n",
       "      <th>room</th>\n",
       "      <th>type</th>\n",
       "      <th>price</th>\n",
       "      <th>description</th>\n",
       "      <th>agency</th>\n",
       "      <th>url</th>\n",
       "      <th>date</th>\n",
       "      <th>source</th>\n",
       "      <th>price_sqm</th>\n",
       "    </tr>\n",
       "  </thead>\n",
       "  <tbody>\n",
       "    <tr>\n",
       "      <th>0</th>\n",
       "      <td>9737619</td>\n",
       "      <td>32.0</td>\n",
       "      <td>1.0</td>\n",
       "      <td>Tégla</td>\n",
       "      <td>39.9</td>\n",
       "      <td>3 az 1-ben! Tökéletes befektetés, ahol a moder...</td>\n",
       "      <td>CDC Ingatlan IV.Ker. Szita Ingatlan Kft.</td>\n",
       "      <td>https://ingatlanok.hu/elado/lakas/budapest_v_k...</td>\n",
       "      <td>2019-09-24</td>\n",
       "      <td>hu</td>\n",
       "      <td>1246875</td>\n",
       "    </tr>\n",
       "    <tr>\n",
       "      <th>1</th>\n",
       "      <td>9737341</td>\n",
       "      <td>30.0</td>\n",
       "      <td>1.0</td>\n",
       "      <td>Tégla</td>\n",
       "      <td>37.5</td>\n",
       "      <td>3 az 1-ben! Tökéletes befektetés, ahol a moder...</td>\n",
       "      <td>CDC Ingatlan IV.Ker. Szita Ingatlan Kft.</td>\n",
       "      <td>https://ingatlanok.hu/elado/lakas/budapest_v_k...</td>\n",
       "      <td>2019-09-24</td>\n",
       "      <td>hu</td>\n",
       "      <td>1250000</td>\n",
       "    </tr>\n",
       "    <tr>\n",
       "      <th>2</th>\n",
       "      <td>9729036</td>\n",
       "      <td>30.0</td>\n",
       "      <td>1.0</td>\n",
       "      <td>Tégla</td>\n",
       "      <td>37.5</td>\n",
       "      <td>3 az 1-ben! Tökéletes befektetés, ahol a moder...</td>\n",
       "      <td>CDC Ingatlan IV.Ker. Szita Ingatlan Kft.</td>\n",
       "      <td>https://ingatlanok.hu/elado/lakas/budapest_v_k...</td>\n",
       "      <td>2019-09-24</td>\n",
       "      <td>hu</td>\n",
       "      <td>1250000</td>\n",
       "    </tr>\n",
       "  </tbody>\n",
       "</table>\n",
       "</div>"
      ],
      "text/plain": [
       "        id   sqm  room   type  price  \\\n",
       "0  9737619  32.0   1.0  Tégla   39.9   \n",
       "1  9737341  30.0   1.0  Tégla   37.5   \n",
       "2  9729036  30.0   1.0  Tégla   37.5   \n",
       "\n",
       "                                         description  \\\n",
       "0  3 az 1-ben! Tökéletes befektetés, ahol a moder...   \n",
       "1  3 az 1-ben! Tökéletes befektetés, ahol a moder...   \n",
       "2  3 az 1-ben! Tökéletes befektetés, ahol a moder...   \n",
       "\n",
       "                                     agency  \\\n",
       "0  CDC Ingatlan IV.Ker. Szita Ingatlan Kft.   \n",
       "1  CDC Ingatlan IV.Ker. Szita Ingatlan Kft.   \n",
       "2  CDC Ingatlan IV.Ker. Szita Ingatlan Kft.   \n",
       "\n",
       "                                                 url        date source  \\\n",
       "0  https://ingatlanok.hu/elado/lakas/budapest_v_k...  2019-09-24     hu   \n",
       "1  https://ingatlanok.hu/elado/lakas/budapest_v_k...  2019-09-24     hu   \n",
       "2  https://ingatlanok.hu/elado/lakas/budapest_v_k...  2019-09-24     hu   \n",
       "\n",
       "   price_sqm  \n",
       "0    1246875  \n",
       "1    1250000  \n",
       "2    1250000  "
      ]
     },
     "execution_count": 52,
     "metadata": {},
     "output_type": "execute_result"
    }
   ],
   "source": [
    "HUN.head(3)"
   ]
  },
  {
   "cell_type": "code",
   "execution_count": 53,
   "metadata": {},
   "outputs": [
    {
     "name": "stdout",
     "output_type": "stream",
     "text": [
      "<class 'pandas.core.frame.DataFrame'>\n",
      "RangeIndex: 907 entries, 0 to 906\n",
      "Data columns (total 12 columns):\n",
      "id             907 non-null int64\n",
      "sqm            907 non-null int64\n",
      "room           907 non-null int64\n",
      "type           0 non-null float64\n",
      "price          907 non-null float64\n",
      "price_sqm      907 non-null int64\n",
      "description    0 non-null float64\n",
      "agency         39 non-null object\n",
      "url            907 non-null object\n",
      "region         907 non-null object\n",
      "date           907 non-null object\n",
      "source         907 non-null object\n",
      "dtypes: float64(3), int64(4), object(5)\n",
      "memory usage: 85.1+ KB\n"
     ]
    }
   ],
   "source": [
    "Com.info()"
   ]
  },
  {
   "cell_type": "code",
   "execution_count": 54,
   "metadata": {},
   "outputs": [
    {
     "data": {
      "text/plain": [
       "id               0\n",
       "sqm              0\n",
       "room             0\n",
       "type           907\n",
       "price            0\n",
       "price_sqm        0\n",
       "description    907\n",
       "agency         868\n",
       "url              0\n",
       "region           0\n",
       "date             0\n",
       "source           0\n",
       "dtype: int64"
      ]
     },
     "execution_count": 54,
     "metadata": {},
     "output_type": "execute_result"
    }
   ],
   "source": [
    "Com.isnull().sum()"
   ]
  },
  {
   "cell_type": "code",
   "execution_count": 55,
   "metadata": {},
   "outputs": [
    {
     "data": {
      "text/html": [
       "<div>\n",
       "<style scoped>\n",
       "    .dataframe tbody tr th:only-of-type {\n",
       "        vertical-align: middle;\n",
       "    }\n",
       "\n",
       "    .dataframe tbody tr th {\n",
       "        vertical-align: top;\n",
       "    }\n",
       "\n",
       "    .dataframe thead th {\n",
       "        text-align: right;\n",
       "    }\n",
       "</style>\n",
       "<table border=\"1\" class=\"dataframe\">\n",
       "  <thead>\n",
       "    <tr style=\"text-align: right;\">\n",
       "      <th></th>\n",
       "      <th>id</th>\n",
       "      <th>sqm</th>\n",
       "      <th>room</th>\n",
       "      <th>type</th>\n",
       "      <th>price</th>\n",
       "      <th>price_sqm</th>\n",
       "      <th>description</th>\n",
       "      <th>agency</th>\n",
       "      <th>url</th>\n",
       "      <th>region</th>\n",
       "      <th>date</th>\n",
       "      <th>source</th>\n",
       "    </tr>\n",
       "  </thead>\n",
       "  <tbody>\n",
       "    <tr>\n",
       "      <th>0</th>\n",
       "      <td>30477505</td>\n",
       "      <td>27</td>\n",
       "      <td>2</td>\n",
       "      <td>NaN</td>\n",
       "      <td>22.7</td>\n",
       "      <td>840741</td>\n",
       "      <td>NaN</td>\n",
       "      <td>Saját hirdetés</td>\n",
       "      <td>https://ingatlan.com/v-ker/elado+lakas/tegla-e...</td>\n",
       "      <td>Lipótváros, V. kerület</td>\n",
       "      <td>2019-10-21</td>\n",
       "      <td>com</td>\n",
       "    </tr>\n",
       "    <tr>\n",
       "      <th>1</th>\n",
       "      <td>30301385</td>\n",
       "      <td>27</td>\n",
       "      <td>1</td>\n",
       "      <td>NaN</td>\n",
       "      <td>22.8</td>\n",
       "      <td>844444</td>\n",
       "      <td>NaN</td>\n",
       "      <td>NaN</td>\n",
       "      <td>https://ingatlan.com/v-ker/elado+lakas/tegla-e...</td>\n",
       "      <td>Szent István körút, V. kerület</td>\n",
       "      <td>2019-10-21</td>\n",
       "      <td>com</td>\n",
       "    </tr>\n",
       "    <tr>\n",
       "      <th>2</th>\n",
       "      <td>30407710</td>\n",
       "      <td>26</td>\n",
       "      <td>1</td>\n",
       "      <td>NaN</td>\n",
       "      <td>26.4</td>\n",
       "      <td>1015385</td>\n",
       "      <td>NaN</td>\n",
       "      <td>NaN</td>\n",
       "      <td>https://ingatlan.com/v-ker/elado+lakas/tegla-e...</td>\n",
       "      <td>Lipótváros, V. kerület</td>\n",
       "      <td>2019-10-21</td>\n",
       "      <td>com</td>\n",
       "    </tr>\n",
       "  </tbody>\n",
       "</table>\n",
       "</div>"
      ],
      "text/plain": [
       "         id  sqm  room  type  price  price_sqm  description          agency  \\\n",
       "0  30477505   27     2   NaN   22.7     840741          NaN  Saját hirdetés   \n",
       "1  30301385   27     1   NaN   22.8     844444          NaN             NaN   \n",
       "2  30407710   26     1   NaN   26.4    1015385          NaN             NaN   \n",
       "\n",
       "                                                 url  \\\n",
       "0  https://ingatlan.com/v-ker/elado+lakas/tegla-e...   \n",
       "1  https://ingatlan.com/v-ker/elado+lakas/tegla-e...   \n",
       "2  https://ingatlan.com/v-ker/elado+lakas/tegla-e...   \n",
       "\n",
       "                           region        date source  \n",
       "0          Lipótváros, V. kerület  2019-10-21    com  \n",
       "1  Szent István körút, V. kerület  2019-10-21    com  \n",
       "2          Lipótváros, V. kerület  2019-10-21    com  "
      ]
     },
     "execution_count": 55,
     "metadata": {},
     "output_type": "execute_result"
    }
   ],
   "source": [
    "Com.head(3)"
   ]
  },
  {
   "cell_type": "code",
   "execution_count": 56,
   "metadata": {},
   "outputs": [
    {
     "name": "stdout",
     "output_type": "stream",
     "text": [
      "<class 'pandas.core.frame.DataFrame'>\n",
      "RangeIndex: 160 entries, 0 to 159\n",
      "Data columns (total 11 columns):\n",
      "id             160 non-null int64\n",
      "sqm            160 non-null int64\n",
      "room           160 non-null object\n",
      "type           160 non-null object\n",
      "price          160 non-null float64\n",
      "description    160 non-null object\n",
      "agency         0 non-null float64\n",
      "url            160 non-null object\n",
      "region         160 non-null object\n",
      "date           160 non-null object\n",
      "source         160 non-null object\n",
      "dtypes: float64(2), int64(2), object(7)\n",
      "memory usage: 13.8+ KB\n"
     ]
    }
   ],
   "source": [
    "Cen.info()"
   ]
  },
  {
   "cell_type": "code",
   "execution_count": 57,
   "metadata": {},
   "outputs": [
    {
     "data": {
      "text/plain": [
       "id               0\n",
       "sqm              0\n",
       "room             0\n",
       "type             0\n",
       "price            0\n",
       "description      0\n",
       "agency         160\n",
       "url              0\n",
       "region           0\n",
       "date             0\n",
       "source           0\n",
       "dtype: int64"
      ]
     },
     "execution_count": 57,
     "metadata": {},
     "output_type": "execute_result"
    }
   ],
   "source": [
    "Cen.isnull().sum()"
   ]
  },
  {
   "cell_type": "code",
   "execution_count": 58,
   "metadata": {},
   "outputs": [
    {
     "data": {
      "text/html": [
       "<div>\n",
       "<style scoped>\n",
       "    .dataframe tbody tr th:only-of-type {\n",
       "        vertical-align: middle;\n",
       "    }\n",
       "\n",
       "    .dataframe tbody tr th {\n",
       "        vertical-align: top;\n",
       "    }\n",
       "\n",
       "    .dataframe thead th {\n",
       "        text-align: right;\n",
       "    }\n",
       "</style>\n",
       "<table border=\"1\" class=\"dataframe\">\n",
       "  <thead>\n",
       "    <tr style=\"text-align: right;\">\n",
       "      <th></th>\n",
       "      <th>id</th>\n",
       "      <th>sqm</th>\n",
       "      <th>room</th>\n",
       "      <th>type</th>\n",
       "      <th>price</th>\n",
       "      <th>description</th>\n",
       "      <th>agency</th>\n",
       "      <th>url</th>\n",
       "      <th>region</th>\n",
       "      <th>date</th>\n",
       "      <th>source</th>\n",
       "    </tr>\n",
       "  </thead>\n",
       "  <tbody>\n",
       "    <tr>\n",
       "      <th>0</th>\n",
       "      <td>13540521</td>\n",
       "      <td>31</td>\n",
       "      <td>1</td>\n",
       "      <td>Tégla</td>\n",
       "      <td>36.9</td>\n",
       "      <td>Rövidtávú kiadásra (airbnb) tökéletes! Legjobb...</td>\n",
       "      <td>NaN</td>\n",
       "      <td>https://www.oc.hu/ingatlanok/H393835?c=1b06e8e0</td>\n",
       "      <td>H393835</td>\n",
       "      <td>2019-09-18</td>\n",
       "      <td>centrum</td>\n",
       "    </tr>\n",
       "    <tr>\n",
       "      <th>1</th>\n",
       "      <td>12625576</td>\n",
       "      <td>33</td>\n",
       "      <td>1</td>\n",
       "      <td>Tégla</td>\n",
       "      <td>44.3</td>\n",
       "      <td>Garzonlakás a Váci utcában\\nFelújítandó egy sz...</td>\n",
       "      <td>NaN</td>\n",
       "      <td>https://www.oc.hu/ingatlanok/H387534?c=1b06e8e0</td>\n",
       "      <td>H387534</td>\n",
       "      <td>2019-09-18</td>\n",
       "      <td>centrum</td>\n",
       "    </tr>\n",
       "    <tr>\n",
       "      <th>2</th>\n",
       "      <td>13243082</td>\n",
       "      <td>30</td>\n",
       "      <td>1 + 1 félszoba</td>\n",
       "      <td>Tégla</td>\n",
       "      <td>37.5</td>\n",
       "      <td>FELÚJÍTOTT LAKÁS A SZENT ISTVÁN KÖRÚTON\\nEladó...</td>\n",
       "      <td>NaN</td>\n",
       "      <td>https://www.oc.hu/ingatlanok/H391785?c=1b06e8e0</td>\n",
       "      <td>H391785</td>\n",
       "      <td>2019-09-18</td>\n",
       "      <td>centrum</td>\n",
       "    </tr>\n",
       "  </tbody>\n",
       "</table>\n",
       "</div>"
      ],
      "text/plain": [
       "         id  sqm            room   type  price  \\\n",
       "0  13540521   31               1  Tégla   36.9   \n",
       "1  12625576   33               1  Tégla   44.3   \n",
       "2  13243082   30  1 + 1 félszoba  Tégla   37.5   \n",
       "\n",
       "                                         description  agency  \\\n",
       "0  Rövidtávú kiadásra (airbnb) tökéletes! Legjobb...     NaN   \n",
       "1  Garzonlakás a Váci utcában\\nFelújítandó egy sz...     NaN   \n",
       "2  FELÚJÍTOTT LAKÁS A SZENT ISTVÁN KÖRÚTON\\nEladó...     NaN   \n",
       "\n",
       "                                               url   region        date  \\\n",
       "0  https://www.oc.hu/ingatlanok/H393835?c=1b06e8e0  H393835  2019-09-18   \n",
       "1  https://www.oc.hu/ingatlanok/H387534?c=1b06e8e0  H387534  2019-09-18   \n",
       "2  https://www.oc.hu/ingatlanok/H391785?c=1b06e8e0  H391785  2019-09-18   \n",
       "\n",
       "    source  \n",
       "0  centrum  \n",
       "1  centrum  \n",
       "2  centrum  "
      ]
     },
     "execution_count": 58,
     "metadata": {},
     "output_type": "execute_result"
    }
   ],
   "source": [
    "Cen.head(3)"
   ]
  },
  {
   "cell_type": "code",
   "execution_count": 59,
   "metadata": {},
   "outputs": [],
   "source": [
    "Cen['price_sqm'] = Cen['price']*1000000 / Cen['sqm']\n",
    "Cen['price_sqm'] = Cen['price_sqm'].astype(int)"
   ]
  },
  {
   "cell_type": "markdown",
   "metadata": {},
   "source": [
    "#### create one DB"
   ]
  },
  {
   "cell_type": "code",
   "execution_count": 61,
   "metadata": {},
   "outputs": [
    {
     "data": {
      "text/plain": [
       "(1934, 12)"
      ]
     },
     "execution_count": 61,
     "metadata": {},
     "output_type": "execute_result"
    }
   ],
   "source": [
    "VkerDB = pd.concat([HUN,Cen,Com], axis = 0, sort = True, ignore_index = True)\n",
    "VkerDB.shape"
   ]
  },
  {
   "cell_type": "code",
   "execution_count": 62,
   "metadata": {},
   "outputs": [
    {
     "data": {
      "text/html": [
       "<div>\n",
       "<style scoped>\n",
       "    .dataframe tbody tr th:only-of-type {\n",
       "        vertical-align: middle;\n",
       "    }\n",
       "\n",
       "    .dataframe tbody tr th {\n",
       "        vertical-align: top;\n",
       "    }\n",
       "\n",
       "    .dataframe thead th {\n",
       "        text-align: right;\n",
       "    }\n",
       "</style>\n",
       "<table border=\"1\" class=\"dataframe\">\n",
       "  <thead>\n",
       "    <tr style=\"text-align: right;\">\n",
       "      <th></th>\n",
       "      <th>agency</th>\n",
       "      <th>date</th>\n",
       "      <th>description</th>\n",
       "      <th>id</th>\n",
       "      <th>price</th>\n",
       "      <th>price_sqm</th>\n",
       "      <th>region</th>\n",
       "      <th>room</th>\n",
       "      <th>source</th>\n",
       "      <th>sqm</th>\n",
       "      <th>type</th>\n",
       "      <th>url</th>\n",
       "    </tr>\n",
       "  </thead>\n",
       "  <tbody>\n",
       "    <tr>\n",
       "      <th>0</th>\n",
       "      <td>CDC Ingatlan IV.Ker. Szita Ingatlan Kft.</td>\n",
       "      <td>2019-09-24</td>\n",
       "      <td>3 az 1-ben! Tökéletes befektetés, ahol a moder...</td>\n",
       "      <td>9737619</td>\n",
       "      <td>39.9</td>\n",
       "      <td>1246875</td>\n",
       "      <td>NaN</td>\n",
       "      <td>1</td>\n",
       "      <td>hu</td>\n",
       "      <td>32.0</td>\n",
       "      <td>Tégla</td>\n",
       "      <td>https://ingatlanok.hu/elado/lakas/budapest_v_k...</td>\n",
       "    </tr>\n",
       "    <tr>\n",
       "      <th>1</th>\n",
       "      <td>CDC Ingatlan IV.Ker. Szita Ingatlan Kft.</td>\n",
       "      <td>2019-09-24</td>\n",
       "      <td>3 az 1-ben! Tökéletes befektetés, ahol a moder...</td>\n",
       "      <td>9737341</td>\n",
       "      <td>37.5</td>\n",
       "      <td>1250000</td>\n",
       "      <td>NaN</td>\n",
       "      <td>1</td>\n",
       "      <td>hu</td>\n",
       "      <td>30.0</td>\n",
       "      <td>Tégla</td>\n",
       "      <td>https://ingatlanok.hu/elado/lakas/budapest_v_k...</td>\n",
       "    </tr>\n",
       "    <tr>\n",
       "      <th>2</th>\n",
       "      <td>CDC Ingatlan IV.Ker. Szita Ingatlan Kft.</td>\n",
       "      <td>2019-09-24</td>\n",
       "      <td>3 az 1-ben! Tökéletes befektetés, ahol a moder...</td>\n",
       "      <td>9729036</td>\n",
       "      <td>37.5</td>\n",
       "      <td>1250000</td>\n",
       "      <td>NaN</td>\n",
       "      <td>1</td>\n",
       "      <td>hu</td>\n",
       "      <td>30.0</td>\n",
       "      <td>Tégla</td>\n",
       "      <td>https://ingatlanok.hu/elado/lakas/budapest_v_k...</td>\n",
       "    </tr>\n",
       "  </tbody>\n",
       "</table>\n",
       "</div>"
      ],
      "text/plain": [
       "                                     agency        date  \\\n",
       "0  CDC Ingatlan IV.Ker. Szita Ingatlan Kft.  2019-09-24   \n",
       "1  CDC Ingatlan IV.Ker. Szita Ingatlan Kft.  2019-09-24   \n",
       "2  CDC Ingatlan IV.Ker. Szita Ingatlan Kft.  2019-09-24   \n",
       "\n",
       "                                         description       id  price  \\\n",
       "0  3 az 1-ben! Tökéletes befektetés, ahol a moder...  9737619   39.9   \n",
       "1  3 az 1-ben! Tökéletes befektetés, ahol a moder...  9737341   37.5   \n",
       "2  3 az 1-ben! Tökéletes befektetés, ahol a moder...  9729036   37.5   \n",
       "\n",
       "   price_sqm region room source   sqm   type  \\\n",
       "0    1246875    NaN    1     hu  32.0  Tégla   \n",
       "1    1250000    NaN    1     hu  30.0  Tégla   \n",
       "2    1250000    NaN    1     hu  30.0  Tégla   \n",
       "\n",
       "                                                 url  \n",
       "0  https://ingatlanok.hu/elado/lakas/budapest_v_k...  \n",
       "1  https://ingatlanok.hu/elado/lakas/budapest_v_k...  \n",
       "2  https://ingatlanok.hu/elado/lakas/budapest_v_k...  "
      ]
     },
     "execution_count": 62,
     "metadata": {},
     "output_type": "execute_result"
    }
   ],
   "source": [
    "VkerDB.head(3)"
   ]
  },
  {
   "cell_type": "code",
   "execution_count": 63,
   "metadata": {},
   "outputs": [
    {
     "data": {
      "text/plain": [
       "1.0               1604\n",
       "1                  121\n",
       "2.0                113\n",
       "0.0                 57\n",
       "1 + 1 félszoba      38\n",
       "2                    1\n",
       "Name: room, dtype: int64"
      ]
     },
     "execution_count": 63,
     "metadata": {},
     "output_type": "execute_result"
    }
   ],
   "source": [
    "# cleaning-up 'room'\n",
    "VkerDB['room'].value_counts()"
   ]
  },
  {
   "cell_type": "code",
   "execution_count": 64,
   "metadata": {},
   "outputs": [],
   "source": [
    "VkerDB.loc[VkerDB['room'] == '1 + 1 félszoba', 'room'] = 1.5\n",
    "VkerDB['room'] = VkerDB['room'].astype(float)\n",
    "VkerDB.loc[VkerDB['room'] == 0.0, 'room'] = 1.0"
   ]
  },
  {
   "cell_type": "code",
   "execution_count": 65,
   "metadata": {},
   "outputs": [
    {
     "data": {
      "text/plain": [
       "1.0    1782\n",
       "2.0     114\n",
       "1.5      38\n",
       "Name: room, dtype: int64"
      ]
     },
     "execution_count": 65,
     "metadata": {},
     "output_type": "execute_result"
    }
   ],
   "source": [
    "VkerDB['room'].value_counts()"
   ]
  },
  {
   "cell_type": "code",
   "execution_count": 66,
   "metadata": {},
   "outputs": [
    {
     "data": {
      "text/plain": [
       "Tégla    987\n",
       "Nincs     40\n",
       "Name: type, dtype: int64"
      ]
     },
     "execution_count": 66,
     "metadata": {},
     "output_type": "execute_result"
    }
   ],
   "source": [
    "#cleaning-up 'type'\n",
    "#VkerDB['type'].value_counts()"
   ]
  },
  {
   "cell_type": "code",
   "execution_count": 69,
   "metadata": {},
   "outputs": [],
   "source": [
    "#Type is not informative, delete from data extraction\n",
    "#VkerDB.drop(['type'], axis = 1, inplace= True)"
   ]
  },
  {
   "cell_type": "code",
   "execution_count": 70,
   "metadata": {},
   "outputs": [
    {
     "data": {
      "text/plain": [
       "CDC Ingatlan IV.Ker. Szita Ingatlan Kft.     88\n",
       "Homexpress Ingatlaniroda                     63\n",
       "Gold House Ingatlaniroda                     59\n",
       "Cdci Teréz krt-i iroda                       50\n",
       "Duna House - XII. ker, Városmajor utca u.    48\n",
       "GREAT HOME                                   48\n",
       "Tecnocasa                                    40\n",
       "CDC Bokréta                                  39\n",
       "Saját hirdetés                               39\n",
       "GDN Ingatlaniroda.                           38\n",
       "CDC Báthory                                  37\n",
       "OTP Ingatlanpont Szépvölgyi út               28\n",
       "Smart Falk Miksa                             25\n",
       "CDC Keleti károly                            19\n",
       "Duna House Kossuth Utca                      18\n",
       "OTP Ingatlanpont Hűvösvölgyi út              18\n",
       "Városi Ingatlaniroda                         17\n",
       "OTPIP Kreativ Ingatlaniroda                  16\n",
       "Central Home                                 12\n",
       "Smart Ingatlan Podmaniczky utca              12\n",
       "Duna House József Attila Lakótelep           11\n",
       "OTPIP Dezseffy utca                           8\n",
       "H-KONTAKT GROUP KFT.                          5\n",
       "OTPIP Petneházy utca                          5\n",
       "Duna House Nemes utca                         4\n",
       "Smart Ingatlan - József krt                   4\n",
       "Ingatlan48                                    2\n",
       "OTPIP Szilágyi Erzsébet fasor                 2\n",
       "Travnik Otpip                                 1\n",
       "MAXIINGATLAN                                  1\n",
       "Duna House Béke tér                           1\n",
       "Name: agency, dtype: int64"
      ]
     },
     "execution_count": 70,
     "metadata": {},
     "output_type": "execute_result"
    }
   ],
   "source": [
    "#cleaning-up agency\n",
    "VkerDB['agency'].value_counts()"
   ]
  },
  {
   "cell_type": "code",
   "execution_count": 72,
   "metadata": {},
   "outputs": [
    {
     "data": {
      "text/plain": [
       "agency         1176\n",
       "date              0\n",
       "description     907\n",
       "id                0\n",
       "price             0\n",
       "price_sqm         0\n",
       "region          867\n",
       "room              0\n",
       "source            0\n",
       "sqm               0\n",
       "url               0\n",
       "dtype: int64"
      ]
     },
     "execution_count": 72,
     "metadata": {},
     "output_type": "execute_result"
    }
   ],
   "source": [
    "VkerDB.isnull().sum()"
   ]
  },
  {
   "cell_type": "markdown",
   "metadata": {},
   "source": [
    "#### reorganise columns"
   ]
  },
  {
   "cell_type": "code",
   "execution_count": 73,
   "metadata": {},
   "outputs": [],
   "source": [
    "VkerDB = VkerDB[['id', 'date', 'price', 'price_sqm', 'room', 'sqm','region','description','agency', 'url']]"
   ]
  },
  {
   "cell_type": "code",
   "execution_count": 74,
   "metadata": {},
   "outputs": [],
   "source": [
    "VkerDB.to_csv('VkerDB.csv', index=False, index_label=None)"
   ]
  },
  {
   "cell_type": "code",
   "execution_count": 76,
   "metadata": {},
   "outputs": [
    {
     "data": {
      "text/plain": [
       "[('2018-11-04', 77),\n",
       " ('2018-11-11', 70),\n",
       " ('2018-11-14', 66),\n",
       " ('2018-11-21', 67),\n",
       " ('2018-12-04', 74),\n",
       " ('2018-12-09', 71),\n",
       " ('2018-12-17', 56),\n",
       " ('2018-12-25', 61),\n",
       " ('2019-01-02', 43),\n",
       " ('2019-01-09', 47),\n",
       " ('2019-01-20', 62),\n",
       " ('2019-01-25', 48),\n",
       " ('2019-01-30', 57),\n",
       " ('2019-02-02', 66),\n",
       " ('2019-02-07', 78),\n",
       " ('2019-02-12', 76),\n",
       " ('2019-02-25', 54),\n",
       " ('2019-03-13', 56),\n",
       " ('2019-03-24', 57),\n",
       " ('2019-03-29', 56),\n",
       " ('2019-04-02', 19),\n",
       " ('2019-04-06', 16),\n",
       " ('2019-04-10', 13),\n",
       " ('2019-04-24', 14),\n",
       " ('2019-04-30', 32),\n",
       " ('2019-05-03', 13),\n",
       " ('2019-05-14', 12),\n",
       " ('2019-05-28', 15),\n",
       " ('2019-05-31', 15),\n",
       " ('2019-06-03', 14),\n",
       " ('2019-06-07', 13),\n",
       " ('2019-06-24', 14),\n",
       " ('2019-06-28', 14),\n",
       " ('2019-07-04', 14),\n",
       " ('2019-07-07', 14),\n",
       " ('2019-07-12', 15),\n",
       " ('2019-07-23', 13),\n",
       " ('2019-07-26', 13),\n",
       " ('2019-07-30', 14),\n",
       " ('2019-08-05', 14),\n",
       " ('2019-08-14', 16),\n",
       " ('2019-08-20', 19),\n",
       " ('2019-08-26', 18),\n",
       " ('2019-08-30', 16),\n",
       " ('2019-09-02', 15),\n",
       " ('2019-09-06', 26),\n",
       " ('2019-09-14', 30),\n",
       " ('2019-09-18', 32),\n",
       " ('2019-09-24', 39),\n",
       " ('2019-09-30', 39),\n",
       " ('2019-10-10', 40),\n",
       " ('2019-10-14', 42),\n",
       " ('2019-10-21', 59)]"
      ]
     },
     "execution_count": 76,
     "metadata": {},
     "output_type": "execute_result"
    }
   ],
   "source": [
    "sorted(zip(VkerDB['date'].value_counts().index,VkerDB['date'].value_counts()))"
   ]
  },
  {
   "cell_type": "code",
   "execution_count": null,
   "metadata": {},
   "outputs": [],
   "source": []
  }
 ],
 "metadata": {
  "kernelspec": {
   "display_name": "Python 3",
   "language": "python",
   "name": "python3"
  },
  "language_info": {
   "codemirror_mode": {
    "name": "ipython",
    "version": 3
   },
   "file_extension": ".py",
   "mimetype": "text/x-python",
   "name": "python",
   "nbconvert_exporter": "python",
   "pygments_lexer": "ipython3",
   "version": "3.7.3"
  }
 },
 "nbformat": 4,
 "nbformat_minor": 2
}
