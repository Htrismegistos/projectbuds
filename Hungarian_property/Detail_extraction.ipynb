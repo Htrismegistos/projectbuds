{
 "cells": [
  {
   "cell_type": "markdown",
   "metadata": {},
   "source": [
    "Extract detailed information from detail_scrape"
   ]
  },
  {
   "cell_type": "code",
   "execution_count": 14,
   "metadata": {},
   "outputs": [],
   "source": [
    "import pandas as pd\n",
    "import numpy as np\n",
    "from bs4 import BeautifulSoup\n",
    "import re\n",
    "import os\n",
    "import datetime as dt\n",
    "import sqlite3 as sq3\n",
    "\n",
    "def sql_save(df, table):\n",
    "    '''\n",
    "    save dataframe to sql\n",
    "    df - dataframe\n",
    "    table - name of the table\n",
    "    '''\n",
    "    with sq3.connect('PropertyDetails_orininal.sql') as conn:\n",
    "        df.to_sql(table, conn)\n",
    "        return\n",
    "    \n",
    "def sql_open(q):\n",
    "    '''\n",
    "    save dataframe to sql\n",
    "    df - dataframe\n",
    "    table - name of the table\n",
    "    '''\n",
    "    with sq3.connect('PropertyDetails_orininal.sql') as conn:\n",
    "        return pd.read_sql(q,conn)"
   ]
  },
  {
   "cell_type": "code",
   "execution_count": 25,
   "metadata": {
    "scrolled": true
   },
   "outputs": [
    {
     "data": {
      "text/html": [
       "<div>\n",
       "<style scoped>\n",
       "    .dataframe tbody tr th:only-of-type {\n",
       "        vertical-align: middle;\n",
       "    }\n",
       "\n",
       "    .dataframe tbody tr th {\n",
       "        vertical-align: top;\n",
       "    }\n",
       "\n",
       "    .dataframe thead th {\n",
       "        text-align: right;\n",
       "    }\n",
       "</style>\n",
       "<table border=\"1\" class=\"dataframe\">\n",
       "  <thead>\n",
       "    <tr style=\"text-align: right;\">\n",
       "      <th></th>\n",
       "      <th>count(*)</th>\n",
       "    </tr>\n",
       "  </thead>\n",
       "  <tbody>\n",
       "    <tr>\n",
       "      <td>0</td>\n",
       "      <td>8</td>\n",
       "    </tr>\n",
       "  </tbody>\n",
       "</table>\n",
       "</div>"
      ],
      "text/plain": [
       "   count(*)\n",
       "0         8"
      ]
     },
     "execution_count": 25,
     "metadata": {},
     "output_type": "execute_result"
    }
   ],
   "source": [
    "q = 'select * from sqlite_master'\n",
    "q = 'select count(*) from cen'\n",
    "sql_open(q)"
   ]
  },
  {
   "cell_type": "code",
   "execution_count": 2,
   "metadata": {},
   "outputs": [
    {
     "name": "stdout",
     "output_type": "stream",
     "text": [
      "The last date processed: 2020-03-01\n"
     ]
    }
   ],
   "source": [
    "v = pd.read_csv('VkerDB.csv', usecols=['date']).max()[0]\n",
    "print('The last date processed: {}'.format((v).strip()))\n",
    "with"
   ]
  },
  {
   "cell_type": "code",
   "execution_count": 3,
   "metadata": {},
   "outputs": [
    {
     "name": "stdout",
     "output_type": "stream",
     "text": [
      "List of files taken from .hu: \n",
      " [(0, 'adshuV_01032020.csv'), (1, 'adshuV_08032020.csv'), (2, 'adshuV_16032020.csv'), (3, 'adshuV_24022020.csv')]\n",
      "List of files taken from .com:\n",
      " [(0, 'adscomV_01032020.csv'), (1, 'adscomV_08032020.csv'), (2, 'adscomV_16032020.csv'), (3, 'adscomV_24022020.csv')]\n",
      "List of files taken from 'centrum':\n",
      " [(0, 'adscenV_01032020.csv'), (1, 'adscenV_08032020.csv'), (2, 'adscenV_16032020.csv'), (3, 'adscenV_24022020.csv')]\n"
     ]
    }
   ],
   "source": [
    "#file list filter by district\n",
    "dist = 'V'\n",
    "\n",
    "list_Hu =sorted([i for i in os.listdir() if 'adshu'+dist+'_' in i])\n",
    "list_Com = sorted([i for i in os.listdir() if 'adscom'+dist+'_' in i])\n",
    "list_Cen = sorted([i for i in os.listdir() if 'adscen'+dist+'_' in i])\n",
    "print('List of files taken from .hu: \\n', list(zip(range(len(list_Hu)),list_Hu)))\n",
    "print('List of files taken from .com:\\n', list(zip(range(len(list_Com)),list_Com)))\n",
    "print('List of files taken from \\'centrum\\':\\n', list(zip(range(len(list_Cen)) ,list_Cen)))"
   ]
  },
  {
   "cell_type": "code",
   "execution_count": 5,
   "metadata": {},
   "outputs": [],
   "source": [
    "#data extraction from ingatlanok.hu website\n",
    "HU = pd.DataFrame()\n",
    "for i in list_Hu:   #file level list\n",
    "    html = open(i, 'r').read()\n",
    "    l = BeautifulSoup(html, 'lxml').find_all('div', attrs={'id': 'content-container'})\n",
    "    for ii in l:   #ad level list\n",
    "        value = {}\n",
    "        base = [i for i in ii.find(attrs = 'estate-base-data').text.split('\\n') if len(i) > 0]\n",
    "        extra = [i for i in ii.find(attrs = {'id':'tab-content-3'}).text.split('\\n') if len(i) >0]\n",
    "    #mass feature extract   \n",
    "        for n,v in zip(np.arange(0,len(base),2),np.arange(1,len(base),2)):\n",
    "            value[base[n].replace(':','').strip().lower()] = base[v].strip()\n",
    "            \n",
    "        for n,v in zip(np.arange(0,len(extra),2),np.arange(1,len(extra),2)):\n",
    "            value[extra[n].replace(':','').strip().lower()] = extra[v].strip()  \n",
    "            \n",
    "    #description\n",
    "        d = ii.find(attrs = 'tab-content active-tab-content').text\n",
    "        if len(d) > 0:\n",
    "            value['description'] = d.strip()\n",
    "        else: value['description'] = np.NAN\n",
    "    #agency\n",
    "        age = ii.find('div', attrs= 'seller-office')\n",
    "        try:\n",
    "            if len(age) > 0:\n",
    "                value['agency'] = age.text\n",
    "        except:\n",
    "            value['agency'] = np.NAN\n",
    "    #url\n",
    "        value['url'] = 'https://ingatlanok.hu/' + value['azonosító']       \n",
    "    #date     \n",
    "        value['date'] = dt.datetime.date(dt.datetime.strptime(re.sub(r'\\D', '', i), '%d%m%Y'))\n",
    "    #source\n",
    "        value['source'] = 'hu'\n",
    "        df = pd.DataFrame(value, index = [0])\n",
    "        HU = pd.concat((HU,df), axis = 0, ignore_index = True, sort = False)"
   ]
  },
  {
   "cell_type": "code",
   "execution_count": 6,
   "metadata": {},
   "outputs": [
    {
     "data": {
      "text/plain": [
       "(85, 34)"
      ]
     },
     "execution_count": 6,
     "metadata": {},
     "output_type": "execute_result"
    }
   ],
   "source": [
    "HU.shape"
   ]
  },
  {
   "cell_type": "code",
   "execution_count": 13,
   "metadata": {},
   "outputs": [
    {
     "name": "stderr",
     "output_type": "stream",
     "text": [
      "/home/trismegistos/anaconda3/lib/python3.7/site-packages/pandas/core/generic.py:2712: UserWarning: The spaces in these column names will not be changed. In pandas versions < 0.14, spaces were converted to underscores.\n",
      "  method=method,\n"
     ]
    }
   ],
   "source": [
    "sql_save(HU,'hu')"
   ]
  },
  {
   "cell_type": "code",
   "execution_count": 94,
   "metadata": {},
   "outputs": [
    {
     "data": {
      "text/plain": [
       "ár                    0\n",
       "méret                 0\n",
       "azonosító             0\n",
       "irodai azonosító     13\n",
       "cím                   7\n",
       "bútorozás             0\n",
       "tulajdonviszony      50\n",
       "építőanyag            7\n",
       "egész szobák          0\n",
       "fél szobák           50\n",
       "komfort fokozat      39\n",
       "ingatlan állapota     0\n",
       "emelet               13\n",
       "fűtés jellege        13\n",
       "kilátás              18\n",
       "építési év           48\n",
       "erkély               39\n",
       "garázs               59\n",
       "pince                56\n",
       "tároló               56\n",
       "lift                 10\n",
       "description           0\n",
       "agency               10\n",
       "url                   0\n",
       "date                  0\n",
       "source                0\n",
       "építési mód          58\n",
       "városrész            62\n",
       "elhelyezkedés        62\n",
       "kertkapcsolat        62\n",
       "klíma                62\n",
       "dtype: int64"
      ]
     },
     "execution_count": 94,
     "metadata": {},
     "output_type": "execute_result"
    }
   ],
   "source": [
    "HU.isnull().sum()"
   ]
  },
  {
   "cell_type": "code",
   "execution_count": 16,
   "metadata": {},
   "outputs": [],
   "source": [
    "#data extractio from ingatlan.com website\n",
    "Com = pd.DataFrame()\n",
    "for i in list_Com:\n",
    "    html = open(i, 'r').read()\n",
    "    l = BeautifulSoup(html, 'lxml').find_all('div', attrs = 'site__content')\n",
    "    for ii in l:\n",
    "        value = {}\n",
    "        \n",
    "        #id\n",
    "        value['azonosító'] = ii.find(attrs = 'listing-id').text\n",
    "        #url\n",
    "        value['url'] = 'https://ingatlan.com/'+ value['azonosító']\n",
    "        #agency\n",
    "        try:\n",
    "            value['irodai azonosító'] = ii.find(attrs = 'agent').find('a', attrs='partner-office-image partner-image')['href']\n",
    "        except: value['irodai azonosító'] = np.NAN\n",
    "        #address\n",
    "        value['cím'] = ii.find(attrs = 'js-listing-title').text.strip()\n",
    "        #sqm\n",
    "        value['méret'] = re.findall('\\d{2}',re.findall('\\d{2}.m²',ii.find(attrs = 'parameter-area-size').text)[0])[0]\n",
    "        #room\n",
    "        value['egész szobák'] = re.findall('\\d+,?\\d?',ii.find(attrs = 'parameter-room').text)[0]\n",
    "        #price\n",
    "        value['ár'] = re.findall('\\d{2},?\\d?\\d?',ii.find(attrs = 'parameter-price').text)[0].replace(',','.')\n",
    "        #material\n",
    "        value['építőanyag'] = ii.find(attrs = 'card details').h2.text.replace('Eladó ', '').replace(' lakás','')\n",
    "        # description\n",
    "        value['description'] = ii.find(attrs = 'long-description').text\n",
    "        \n",
    "        for t in range (2):\n",
    "            tabls = ii.find(attrs = 'card details').find_all('table')[t].find_all('tr')\n",
    "            for tr in range(len(tabls)):\n",
    "                trs = tabls[tr].find_all('td')\n",
    "                value[trs[0].text.strip().lower()] = trs[1].text.strip()\n",
    "        \n",
    "\n",
    "        #date     \n",
    "        value['date'] = dt.datetime.date(dt.datetime.strptime(re.sub(r'\\D', '', i), '%d%m%Y'))\n",
    "        #source\n",
    "        value['source'] = 'com'\n",
    "        \n",
    "        df = pd.DataFrame(value, index = [0])\n",
    "        Com = pd.concat((Com,df), axis = 0, ignore_index = True, sort = False)\n"
   ]
  },
  {
   "cell_type": "code",
   "execution_count": 17,
   "metadata": {},
   "outputs": [
    {
     "data": {
      "text/plain": [
       "(184, 30)"
      ]
     },
     "execution_count": 17,
     "metadata": {},
     "output_type": "execute_result"
    }
   ],
   "source": [
    "Com.shape"
   ]
  },
  {
   "cell_type": "code",
   "execution_count": 18,
   "metadata": {},
   "outputs": [],
   "source": [
    "sql_save(Com,'com')"
   ]
  },
  {
   "cell_type": "code",
   "execution_count": 175,
   "metadata": {},
   "outputs": [
    {
     "data": {
      "text/plain": [
       "azonosító               0\n",
       "url                     0\n",
       "agency                 57\n",
       "cím                     0\n",
       "méret                   0\n",
       "egész szobák            0\n",
       "ár                      0\n",
       "építőanyag              0\n",
       "description             0\n",
       "ingatlan állapota       0\n",
       "építés éve             40\n",
       "komfort                 0\n",
       "energiatanúsítvány      0\n",
       "emelet                  0\n",
       "épület szintjei         0\n",
       "lift                    0\n",
       "belmagasság             0\n",
       "fűtés                   0\n",
       "akadálymentesített      0\n",
       "fürdő és wc             0\n",
       "tájolás                 0\n",
       "kilátás                 0\n",
       "kertkapcsolatos         0\n",
       "tetőtér                 0\n",
       "parkolás                0\n",
       "date                    0\n",
       "source                  0\n",
       "légkondicionáló        90\n",
       "rezsiköltség           96\n",
       "erkély                105\n",
       "dtype: int64"
      ]
     },
     "execution_count": 175,
     "metadata": {},
     "output_type": "execute_result"
    }
   ],
   "source": [
    "Com.isnull().sum()"
   ]
  },
  {
   "cell_type": "code",
   "execution_count": 20,
   "metadata": {},
   "outputs": [],
   "source": [
    "#data extractio from ingatlan.com website\n",
    "Cen = pd.DataFrame()\n",
    "for i in list_Cen:\n",
    "    html = open(i, 'r').read()\n",
    "    l = BeautifulSoup(html, 'lxml').find_all(attrs={'id':'main'})\n",
    "    for ii in l:\n",
    "        value = {}\n",
    "        #ID\n",
    "        value['azonosító'] = ii.find(attrs = 'property-page')['data-reg-nr']\n",
    "        #url\n",
    "        value['url'] = 'https://www.oc.hu/ingatlanok/'+str(value['azonosító'])\n",
    "\n",
    "        value['városrész'] = ii.find(attrs = 'estate-town atEstateListItem-Town').text\n",
    "        head = ii.find(attrs = 'row estate-info-box hidden-xs')\n",
    "        for n,m in zip(head.find_all('div',['left']),head.find_all('div',['right'])):\n",
    "            value[n.text.replace('\\n','').replace(':','').strip().lower()] = m.text.replace('\\n','').strip()\n",
    "            \n",
    "        details = ii.findAll('li', ['col-sm-6'])\n",
    "        for row in details:\n",
    "            value[row.findAll('span')[0].text.replace(':','').lower()] = row.findAll('span')[1].text.strip()    \n",
    "\n",
    "        #description\n",
    "        value['decription'] = ii.find(attrs = 'description').text.replace('\\n', '').strip()\n",
    "        #date     \n",
    "        value['date'] = dt.datetime.date(dt.datetime.strptime(re.sub(r'\\D', '', i), '%d%m%Y'))\n",
    "        #source\n",
    "        value['source'] = 'cen'\n",
    "        \n",
    "        df = pd.DataFrame(value, index = [0])\n",
    "        Cen = pd.concat((Cen,df), axis = 0, ignore_index = True, sort = False)\n",
    "        "
   ]
  },
  {
   "cell_type": "code",
   "execution_count": 21,
   "metadata": {},
   "outputs": [
    {
     "name": "stderr",
     "output_type": "stream",
     "text": [
      "/home/trismegistos/anaconda3/lib/python3.7/site-packages/pandas/core/generic.py:2712: UserWarning: The spaces in these column names will not be changed. In pandas versions < 0.14, spaces were converted to underscores.\n",
      "  method=method,\n"
     ]
    }
   ],
   "source": [
    "sql_save(Cen,'cen')"
   ]
  },
  {
   "cell_type": "code",
   "execution_count": 23,
   "metadata": {},
   "outputs": [
    {
     "name": "stderr",
     "output_type": "stream",
     "text": [
      "/home/trismegistos/anaconda3/lib/python3.7/site-packages/pandas/core/generic.py:2712: UserWarning: The spaces in these column names will not be changed. In pandas versions < 0.14, spaces were converted to underscores.\n",
      "  method=method,\n"
     ]
    }
   ],
   "source": [
    "with sq3.connect('PropertyDetails.sql') as conn:\n",
    "    Cen.to_sql('cen', conn)"
   ]
  },
  {
   "cell_type": "code",
   "execution_count": 55,
   "metadata": {},
   "outputs": [],
   "source": [
    "conn.close()"
   ]
  }
 ],
 "metadata": {
  "kernelspec": {
   "display_name": "Python 3",
   "language": "python",
   "name": "python3"
  },
  "language_info": {
   "codemirror_mode": {
    "name": "ipython",
    "version": 3
   },
   "file_extension": ".py",
   "mimetype": "text/x-python",
   "name": "python",
   "nbconvert_exporter": "python",
   "pygments_lexer": "ipython3",
   "version": "3.7.4"
  }
 },
 "nbformat": 4,
 "nbformat_minor": 2
}
