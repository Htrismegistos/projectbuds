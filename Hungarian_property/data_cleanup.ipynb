{
 "cells": [
  {
   "cell_type": "markdown",
   "metadata": {},
   "source": [
    "Aim:\n",
    "format the data and merge them in one table"
   ]
  },
  {
   "cell_type": "code",
   "execution_count": 2,
   "metadata": {},
   "outputs": [],
   "source": [
    "import pandas as pd\n",
    "import numpy as np\n",
    "import datetime as dt"
   ]
  },
  {
   "cell_type": "code",
   "execution_count": 27,
   "metadata": {},
   "outputs": [],
   "source": [
    "HUN = pd.read_csv('HU_Vker1809-2110.csv')\n",
    "Com = pd.read_csv('Com_Vker2110.csv')\n",
    "Cen = pd.read_csv('Cen_Vker1809-2110.csv')"
   ]
  },
  {
   "cell_type": "code",
   "execution_count": 23,
   "metadata": {},
   "outputs": [
    {
     "name": "stdout",
     "output_type": "stream",
     "text": [
      "<class 'pandas.core.frame.DataFrame'>\n",
      "RangeIndex: 189 entries, 0 to 188\n",
      "Data columns (total 9 columns):\n",
      "id             189 non-null object\n",
      "sqm            185 non-null float64\n",
      "room           185 non-null float64\n",
      "type           185 non-null object\n",
      "price          185 non-null float64\n",
      "description    185 non-null object\n",
      "agency         150 non-null object\n",
      "url            189 non-null object\n",
      "date           189 non-null object\n",
      "dtypes: float64(3), object(6)\n",
      "memory usage: 13.4+ KB\n",
      "None\n",
      "<class 'pandas.core.frame.DataFrame'>\n",
      "RangeIndex: 27 entries, 0 to 26\n",
      "Data columns (total 11 columns):\n",
      "id             27 non-null int64\n",
      "sqm            27 non-null int64\n",
      "room           27 non-null int64\n",
      "type           0 non-null float64\n",
      "price          27 non-null float64\n",
      "price_sqm      27 non-null int64\n",
      "description    0 non-null float64\n",
      "agency         1 non-null object\n",
      "url            27 non-null object\n",
      "region         27 non-null object\n",
      "date           27 non-null object\n",
      "dtypes: float64(3), int64(4), object(4)\n",
      "memory usage: 2.4+ KB\n",
      "None\n",
      "<class 'pandas.core.frame.DataFrame'>\n",
      "RangeIndex: 45 entries, 0 to 44\n",
      "Data columns (total 10 columns):\n",
      "id             45 non-null int64\n",
      "sqm            45 non-null int64\n",
      "room           45 non-null object\n",
      "type           45 non-null object\n",
      "price          45 non-null float64\n",
      "description    45 non-null object\n",
      "agency         0 non-null float64\n",
      "url            45 non-null object\n",
      "region         45 non-null object\n",
      "date           45 non-null object\n",
      "dtypes: float64(2), int64(2), object(6)\n",
      "memory usage: 3.6+ KB\n",
      "None\n"
     ]
    }
   ],
   "source": [
    "print(HUN.info())\n",
    "print(Com.info())\n",
    "print(Cen.info())"
   ]
  },
  {
   "cell_type": "code",
   "execution_count": 31,
   "metadata": {},
   "outputs": [],
   "source": [
    "#Cen['price'] = Cen['price']*1000000\n",
    "#Com['price'] = Com['price']*1000000\n",
    "HUN['price_sqm'] = HUN['price']/HUN['sqm']\n",
    "Cen['price_sqm'] = Cen['price']/Cen['sqm']"
   ]
  },
  {
   "cell_type": "code",
   "execution_count": 35,
   "metadata": {},
   "outputs": [
    {
     "ename": "AttributeError",
     "evalue": "__delitem__",
     "output_type": "error",
     "traceback": [
      "\u001b[0;31m---------------------------------------------------------------------------\u001b[0m",
      "\u001b[0;31mAttributeError\u001b[0m                            Traceback (most recent call last)",
      "\u001b[0;32m<ipython-input-35-cdd30f8ef93f>\u001b[0m in \u001b[0;36m<module>\u001b[0;34m\u001b[0m\n\u001b[0;32m----> 1\u001b[0;31m \u001b[0;32mdel\u001b[0m \u001b[0mHUN\u001b[0m\u001b[0;34m.\u001b[0m\u001b[0mloc\u001b[0m\u001b[0;34m[\u001b[0m\u001b[0mHUN\u001b[0m\u001b[0;34m[\u001b[0m\u001b[0;34m'sqm'\u001b[0m\u001b[0;34m]\u001b[0m\u001b[0;34m.\u001b[0m\u001b[0misnull\u001b[0m\u001b[0;34m(\u001b[0m\u001b[0;34m)\u001b[0m\u001b[0;34m]\u001b[0m\u001b[0;34m\u001b[0m\u001b[0;34m\u001b[0m\u001b[0m\n\u001b[0m",
      "\u001b[0;31mAttributeError\u001b[0m: __delitem__"
     ]
    }
   ],
   "source": [
    "HUN.loc[HUN['sqm'].isnull()].drop()"
   ]
  },
  {
   "cell_type": "code",
   "execution_count": null,
   "metadata": {},
   "outputs": [],
   "source": []
  }
 ],
 "metadata": {
  "kernelspec": {
   "display_name": "Python 3",
   "language": "python",
   "name": "python3"
  },
  "language_info": {
   "codemirror_mode": {
    "name": "ipython",
    "version": 3
   },
   "file_extension": ".py",
   "mimetype": "text/x-python",
   "name": "python",
   "nbconvert_exporter": "python",
   "pygments_lexer": "ipython3",
   "version": "3.7.3"
  }
 },
 "nbformat": 4,
 "nbformat_minor": 2
}
