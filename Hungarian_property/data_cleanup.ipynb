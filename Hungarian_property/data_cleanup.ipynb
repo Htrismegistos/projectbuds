{
 "cells": [
  {
   "cell_type": "markdown",
   "metadata": {},
   "source": [
    "Aim:\n",
    "format the data and merge them in one table"
   ]
  },
  {
   "cell_type": "code",
   "execution_count": 1,
   "metadata": {},
   "outputs": [],
   "source": [
    "import pandas as pd\n",
    "import numpy as np\n",
    "import datetime as dt\n",
    "import os\n",
    "import matplotlib.pyplot as plt\n",
    "from pandas.plotting import register_matplotlib_converters\n",
    "register_matplotlib_converters()"
   ]
  },
  {
   "cell_type": "code",
   "execution_count": 2,
   "metadata": {},
   "outputs": [],
   "source": [
    "def to_df(source):\n",
    "    df = pd.DataFrame()\n",
    "    for i in source:\n",
    "        df = df.append(pd.read_csv(i), sort= True)\n",
    "    return df"
   ]
  },
  {
   "cell_type": "code",
   "execution_count": 3,
   "metadata": {},
   "outputs": [
    {
     "name": "stdout",
     "output_type": "stream",
     "text": [
      "Hu: ['Hu_Vker2019-12-02.csv', 'Hu_Vker2019-12-09.csv']\n",
      "Com: ['Com_Vker2019-12-02.csv', 'Com_Vker2019-12-09.csv']\n",
      "Cen ['Cen_Vker2019-12-02.csv', 'Cen_Vker2019-12-09.csv']\n"
     ]
    }
   ],
   "source": [
    "#choose the file to import to df\n",
    "h = [i for i in os.listdir() if 'Hu_Vker' in i]\n",
    "co = [i for i in os.listdir() if 'Com_Vker' in i]\n",
    "ce = [i for i in os.listdir() if 'Cen_Vker' in i]\n",
    "print('Hu:', h)\n",
    "print('Com:', co)\n",
    "print('Cen', ce)"
   ]
  },
  {
   "cell_type": "code",
   "execution_count": 4,
   "metadata": {},
   "outputs": [
    {
     "name": "stdout",
     "output_type": "stream",
     "text": [
      "Shape of Hun (21, 9)\n",
      "Shape of Com (66, 11)\n",
      "Shape of Cen (7, 10)\n"
     ]
    }
   ],
   "source": [
    "#select the files to load\n",
    "Hun = to_df(h[-1:])\n",
    "Com = to_df(co[-1:])\n",
    "Cen = to_df(ce[-1:])\n",
    "print('Shape of Hun',Hun.shape)\n",
    "print('Shape of Com',Com.shape)\n",
    "print('Shape of Cen',Cen.shape)"
   ]
  },
  {
   "cell_type": "markdown",
   "metadata": {},
   "source": [
    "#### clean up the source data"
   ]
  },
  {
   "cell_type": "code",
   "execution_count": 5,
   "metadata": {},
   "outputs": [
    {
     "name": "stdout",
     "output_type": "stream",
     "text": [
      "<class 'pandas.core.frame.DataFrame'>\n",
      "RangeIndex: 21 entries, 0 to 20\n",
      "Data columns (total 9 columns):\n",
      "agency         15 non-null object\n",
      "date           21 non-null object\n",
      "description    21 non-null object\n",
      "id             21 non-null int64\n",
      "price          21 non-null int64\n",
      "room           21 non-null int64\n",
      "source         21 non-null object\n",
      "sqm            21 non-null int64\n",
      "url            21 non-null object\n",
      "dtypes: int64(4), object(5)\n",
      "memory usage: 1.6+ KB\n"
     ]
    }
   ],
   "source": [
    "Hun.info()"
   ]
  },
  {
   "cell_type": "code",
   "execution_count": 6,
   "metadata": {},
   "outputs": [
    {
     "data": {
      "text/plain": [
       "agency         6\n",
       "date           0\n",
       "description    0\n",
       "id             0\n",
       "price          0\n",
       "room           0\n",
       "source         0\n",
       "sqm            0\n",
       "url            0\n",
       "dtype: int64"
      ]
     },
     "execution_count": 6,
     "metadata": {},
     "output_type": "execute_result"
    }
   ],
   "source": [
    "Hun.isnull().sum()"
   ]
  },
  {
   "cell_type": "code",
   "execution_count": 7,
   "metadata": {},
   "outputs": [
    {
     "data": {
      "text/html": [
       "<div>\n",
       "<style scoped>\n",
       "    .dataframe tbody tr th:only-of-type {\n",
       "        vertical-align: middle;\n",
       "    }\n",
       "\n",
       "    .dataframe tbody tr th {\n",
       "        vertical-align: top;\n",
       "    }\n",
       "\n",
       "    .dataframe thead th {\n",
       "        text-align: right;\n",
       "    }\n",
       "</style>\n",
       "<table border=\"1\" class=\"dataframe\">\n",
       "  <thead>\n",
       "    <tr style=\"text-align: right;\">\n",
       "      <th></th>\n",
       "      <th>agency</th>\n",
       "      <th>date</th>\n",
       "      <th>description</th>\n",
       "      <th>id</th>\n",
       "      <th>price</th>\n",
       "      <th>room</th>\n",
       "      <th>source</th>\n",
       "      <th>sqm</th>\n",
       "      <th>url</th>\n",
       "    </tr>\n",
       "  </thead>\n",
       "  <tbody>\n",
       "  </tbody>\n",
       "</table>\n",
       "</div>"
      ],
      "text/plain": [
       "Empty DataFrame\n",
       "Columns: [agency, date, description, id, price, room, source, sqm, url]\n",
       "Index: []"
      ]
     },
     "execution_count": 7,
     "metadata": {},
     "output_type": "execute_result"
    }
   ],
   "source": [
    "Hun.loc[Hun['sqm'].isnull()]"
   ]
  },
  {
   "cell_type": "code",
   "execution_count": 16,
   "metadata": {},
   "outputs": [
    {
     "data": {
      "text/plain": [
       "(23, 9)"
      ]
     },
     "execution_count": 16,
     "metadata": {},
     "output_type": "execute_result"
    }
   ],
   "source": [
    "#delete the extra rows\n",
    "Hun.drop(Hun.loc[Hun['sqm'].isnull()].index, axis = 0, inplace= True)\n",
    "Hun.shape"
   ]
  },
  {
   "cell_type": "code",
   "execution_count": 8,
   "metadata": {},
   "outputs": [],
   "source": [
    "#create 'price_sqm' column\n",
    "Hun['price_sqm'] = Hun['price'] / Hun['sqm']\n",
    "Hun['price_sqm'] = Hun['price_sqm'].astype(int)\n",
    "Hun['price'] = Hun['price'] / 1000000.0"
   ]
  },
  {
   "cell_type": "code",
   "execution_count": 9,
   "metadata": {},
   "outputs": [
    {
     "data": {
      "text/plain": [
       "2019-12-08    21\n",
       "Name: date, dtype: int64"
      ]
     },
     "execution_count": 9,
     "metadata": {},
     "output_type": "execute_result"
    }
   ],
   "source": [
    "Hun['date'].value_counts()"
   ]
  },
  {
   "cell_type": "code",
   "execution_count": 10,
   "metadata": {},
   "outputs": [
    {
     "name": "stdout",
     "output_type": "stream",
     "text": [
      "<class 'pandas.core.frame.DataFrame'>\n",
      "RangeIndex: 66 entries, 0 to 65\n",
      "Data columns (total 11 columns):\n",
      "agency         6 non-null object\n",
      "date           66 non-null object\n",
      "description    0 non-null float64\n",
      "id             66 non-null int64\n",
      "price          66 non-null float64\n",
      "price_sqm      66 non-null int64\n",
      "region         66 non-null object\n",
      "room           66 non-null int64\n",
      "source         66 non-null object\n",
      "sqm            66 non-null int64\n",
      "url            66 non-null object\n",
      "dtypes: float64(2), int64(4), object(5)\n",
      "memory usage: 5.8+ KB\n"
     ]
    }
   ],
   "source": [
    "Com.info()"
   ]
  },
  {
   "cell_type": "code",
   "execution_count": 11,
   "metadata": {},
   "outputs": [
    {
     "data": {
      "text/plain": [
       "agency         60\n",
       "date            0\n",
       "description    66\n",
       "id              0\n",
       "price           0\n",
       "price_sqm       0\n",
       "region          0\n",
       "room            0\n",
       "source          0\n",
       "sqm             0\n",
       "url             0\n",
       "dtype: int64"
      ]
     },
     "execution_count": 11,
     "metadata": {},
     "output_type": "execute_result"
    }
   ],
   "source": [
    "Com.isnull().sum()"
   ]
  },
  {
   "cell_type": "code",
   "execution_count": 12,
   "metadata": {},
   "outputs": [
    {
     "data": {
      "text/html": [
       "<div>\n",
       "<style scoped>\n",
       "    .dataframe tbody tr th:only-of-type {\n",
       "        vertical-align: middle;\n",
       "    }\n",
       "\n",
       "    .dataframe tbody tr th {\n",
       "        vertical-align: top;\n",
       "    }\n",
       "\n",
       "    .dataframe thead th {\n",
       "        text-align: right;\n",
       "    }\n",
       "</style>\n",
       "<table border=\"1\" class=\"dataframe\">\n",
       "  <thead>\n",
       "    <tr style=\"text-align: right;\">\n",
       "      <th></th>\n",
       "      <th>agency</th>\n",
       "      <th>date</th>\n",
       "      <th>description</th>\n",
       "      <th>id</th>\n",
       "      <th>price</th>\n",
       "      <th>price_sqm</th>\n",
       "      <th>region</th>\n",
       "      <th>room</th>\n",
       "      <th>source</th>\n",
       "      <th>sqm</th>\n",
       "      <th>url</th>\n",
       "    </tr>\n",
       "  </thead>\n",
       "  <tbody>\n",
       "    <tr>\n",
       "      <th>0</th>\n",
       "      <td>NaN</td>\n",
       "      <td>2019-12-08</td>\n",
       "      <td>NaN</td>\n",
       "      <td>30301385</td>\n",
       "      <td>22.8</td>\n",
       "      <td>844444</td>\n",
       "      <td>Szent István körút, V. kerület</td>\n",
       "      <td>1</td>\n",
       "      <td>com</td>\n",
       "      <td>27</td>\n",
       "      <td>https://ingatlan.com/v-ker/elado+lakas/tegla-e...</td>\n",
       "    </tr>\n",
       "    <tr>\n",
       "      <th>1</th>\n",
       "      <td>NaN</td>\n",
       "      <td>2019-12-08</td>\n",
       "      <td>NaN</td>\n",
       "      <td>30407710</td>\n",
       "      <td>25.9</td>\n",
       "      <td>996154</td>\n",
       "      <td>Lipótváros, V. kerület</td>\n",
       "      <td>1</td>\n",
       "      <td>com</td>\n",
       "      <td>26</td>\n",
       "      <td>https://ingatlan.com/v-ker/elado+lakas/tegla-e...</td>\n",
       "    </tr>\n",
       "    <tr>\n",
       "      <th>2</th>\n",
       "      <td>NaN</td>\n",
       "      <td>2019-12-08</td>\n",
       "      <td>NaN</td>\n",
       "      <td>30787567</td>\n",
       "      <td>25.9</td>\n",
       "      <td>996154</td>\n",
       "      <td>Lipótváros, V. kerület</td>\n",
       "      <td>1</td>\n",
       "      <td>com</td>\n",
       "      <td>26</td>\n",
       "      <td>https://ingatlan.com/v-ker/elado+lakas/tegla-e...</td>\n",
       "    </tr>\n",
       "  </tbody>\n",
       "</table>\n",
       "</div>"
      ],
      "text/plain": [
       "  agency        date  description        id  price  price_sqm  \\\n",
       "0    NaN  2019-12-08          NaN  30301385   22.8     844444   \n",
       "1    NaN  2019-12-08          NaN  30407710   25.9     996154   \n",
       "2    NaN  2019-12-08          NaN  30787567   25.9     996154   \n",
       "\n",
       "                           region  room source  sqm  \\\n",
       "0  Szent István körút, V. kerület     1    com   27   \n",
       "1          Lipótváros, V. kerület     1    com   26   \n",
       "2          Lipótváros, V. kerület     1    com   26   \n",
       "\n",
       "                                                 url  \n",
       "0  https://ingatlan.com/v-ker/elado+lakas/tegla-e...  \n",
       "1  https://ingatlan.com/v-ker/elado+lakas/tegla-e...  \n",
       "2  https://ingatlan.com/v-ker/elado+lakas/tegla-e...  "
      ]
     },
     "execution_count": 12,
     "metadata": {},
     "output_type": "execute_result"
    }
   ],
   "source": [
    "Com.head(3)"
   ]
  },
  {
   "cell_type": "code",
   "execution_count": 13,
   "metadata": {},
   "outputs": [
    {
     "name": "stdout",
     "output_type": "stream",
     "text": [
      "<class 'pandas.core.frame.DataFrame'>\n",
      "RangeIndex: 7 entries, 0 to 6\n",
      "Data columns (total 10 columns):\n",
      "agency         0 non-null float64\n",
      "date           7 non-null object\n",
      "description    7 non-null object\n",
      "id             7 non-null int64\n",
      "price          7 non-null float64\n",
      "region         7 non-null object\n",
      "room           7 non-null int64\n",
      "source         7 non-null object\n",
      "sqm            7 non-null int64\n",
      "url            7 non-null object\n",
      "dtypes: float64(2), int64(3), object(5)\n",
      "memory usage: 640.0+ bytes\n"
     ]
    }
   ],
   "source": [
    "Cen.info()"
   ]
  },
  {
   "cell_type": "code",
   "execution_count": 14,
   "metadata": {},
   "outputs": [
    {
     "data": {
      "text/plain": [
       "agency         7\n",
       "date           0\n",
       "description    0\n",
       "id             0\n",
       "price          0\n",
       "region         0\n",
       "room           0\n",
       "source         0\n",
       "sqm            0\n",
       "url            0\n",
       "dtype: int64"
      ]
     },
     "execution_count": 14,
     "metadata": {},
     "output_type": "execute_result"
    }
   ],
   "source": [
    "Cen.isnull().sum()"
   ]
  },
  {
   "cell_type": "code",
   "execution_count": 15,
   "metadata": {},
   "outputs": [],
   "source": [
    "Cen['price_sqm'] = Cen['price']*1000000 / Cen['sqm']\n",
    "Cen['price_sqm'] = Cen['price_sqm'].astype(int)"
   ]
  },
  {
   "cell_type": "code",
   "execution_count": 16,
   "metadata": {},
   "outputs": [
    {
     "data": {
      "text/html": [
       "<div>\n",
       "<style scoped>\n",
       "    .dataframe tbody tr th:only-of-type {\n",
       "        vertical-align: middle;\n",
       "    }\n",
       "\n",
       "    .dataframe tbody tr th {\n",
       "        vertical-align: top;\n",
       "    }\n",
       "\n",
       "    .dataframe thead th {\n",
       "        text-align: right;\n",
       "    }\n",
       "</style>\n",
       "<table border=\"1\" class=\"dataframe\">\n",
       "  <thead>\n",
       "    <tr style=\"text-align: right;\">\n",
       "      <th></th>\n",
       "      <th>agency</th>\n",
       "      <th>date</th>\n",
       "      <th>description</th>\n",
       "      <th>id</th>\n",
       "      <th>price</th>\n",
       "      <th>region</th>\n",
       "      <th>room</th>\n",
       "      <th>source</th>\n",
       "      <th>sqm</th>\n",
       "      <th>url</th>\n",
       "      <th>price_sqm</th>\n",
       "    </tr>\n",
       "  </thead>\n",
       "  <tbody>\n",
       "    <tr>\n",
       "      <th>0</th>\n",
       "      <td>NaN</td>\n",
       "      <td>2019-12-08</td>\n",
       "      <td>Garzonlakás a Váci utcában\\nFelújítandó egy sz...</td>\n",
       "      <td>12625576</td>\n",
       "      <td>44.3</td>\n",
       "      <td>H387534</td>\n",
       "      <td>1</td>\n",
       "      <td>centrum</td>\n",
       "      <td>33</td>\n",
       "      <td>https://www.oc.hu/ingatlanok/H387534?c=1b06e8e0</td>\n",
       "      <td>1342424</td>\n",
       "    </tr>\n",
       "    <tr>\n",
       "      <th>1</th>\n",
       "      <td>NaN</td>\n",
       "      <td>2019-12-08</td>\n",
       "      <td>V. Garibaldi utca\\nV. kerület egyik legkedvelt...</td>\n",
       "      <td>13205004</td>\n",
       "      <td>45.0</td>\n",
       "      <td>H391318</td>\n",
       "      <td>1</td>\n",
       "      <td>centrum</td>\n",
       "      <td>28</td>\n",
       "      <td>https://www.oc.hu/ingatlanok/H391318?c=1b06e8e0</td>\n",
       "      <td>1607142</td>\n",
       "    </tr>\n",
       "    <tr>\n",
       "      <th>2</th>\n",
       "      <td>NaN</td>\n",
       "      <td>2019-12-08</td>\n",
       "      <td>Rejtett kis ékszerdoboz várja következő tulajd...</td>\n",
       "      <td>13617162</td>\n",
       "      <td>34.9</td>\n",
       "      <td>H394360</td>\n",
       "      <td>1</td>\n",
       "      <td>centrum</td>\n",
       "      <td>31</td>\n",
       "      <td>https://www.oc.hu/ingatlanok/H394360?c=1b06e8e0</td>\n",
       "      <td>1125806</td>\n",
       "    </tr>\n",
       "  </tbody>\n",
       "</table>\n",
       "</div>"
      ],
      "text/plain": [
       "   agency        date                                        description  \\\n",
       "0     NaN  2019-12-08  Garzonlakás a Váci utcában\\nFelújítandó egy sz...   \n",
       "1     NaN  2019-12-08  V. Garibaldi utca\\nV. kerület egyik legkedvelt...   \n",
       "2     NaN  2019-12-08  Rejtett kis ékszerdoboz várja következő tulajd...   \n",
       "\n",
       "         id  price   region  room   source  sqm  \\\n",
       "0  12625576   44.3  H387534     1  centrum   33   \n",
       "1  13205004   45.0  H391318     1  centrum   28   \n",
       "2  13617162   34.9  H394360     1  centrum   31   \n",
       "\n",
       "                                               url  price_sqm  \n",
       "0  https://www.oc.hu/ingatlanok/H387534?c=1b06e8e0    1342424  \n",
       "1  https://www.oc.hu/ingatlanok/H391318?c=1b06e8e0    1607142  \n",
       "2  https://www.oc.hu/ingatlanok/H394360?c=1b06e8e0    1125806  "
      ]
     },
     "execution_count": 16,
     "metadata": {},
     "output_type": "execute_result"
    }
   ],
   "source": [
    "Cen.head(3)"
   ]
  },
  {
   "cell_type": "markdown",
   "metadata": {},
   "source": [
    "#### create one DB"
   ]
  },
  {
   "cell_type": "code",
   "execution_count": 17,
   "metadata": {},
   "outputs": [
    {
     "data": {
      "text/plain": [
       "(94, 11)"
      ]
     },
     "execution_count": 17,
     "metadata": {},
     "output_type": "execute_result"
    }
   ],
   "source": [
    "VkerDB = pd.concat([Hun,Com,Cen], axis = 0, sort = True, ignore_index = True)\n",
    "VkerDB.shape"
   ]
  },
  {
   "cell_type": "code",
   "execution_count": 18,
   "metadata": {},
   "outputs": [
    {
     "data": {
      "text/plain": [
       "1    88\n",
       "2     5\n",
       "0     1\n",
       "Name: room, dtype: int64"
      ]
     },
     "execution_count": 18,
     "metadata": {},
     "output_type": "execute_result"
    }
   ],
   "source": [
    "# cleaning-up 'room'\n",
    "VkerDB['room'].value_counts()"
   ]
  },
  {
   "cell_type": "code",
   "execution_count": 19,
   "metadata": {},
   "outputs": [
    {
     "name": "stderr",
     "output_type": "stream",
     "text": [
      "/home/trismegistos/anaconda3/lib/python3.7/site-packages/pandas/core/ops.py:1649: FutureWarning: elementwise comparison failed; returning scalar instead, but in the future will perform elementwise comparison\n",
      "  result = method(y)\n"
     ]
    }
   ],
   "source": [
    "VkerDB.loc[VkerDB['room'] == '1 + 1 félszoba', 'room'] = 1.5\n",
    "VkerDB['room'] = VkerDB['room'].astype(float)\n",
    "VkerDB.loc[VkerDB['room'] == 0.0, 'room'] = 1.0"
   ]
  },
  {
   "cell_type": "code",
   "execution_count": 20,
   "metadata": {},
   "outputs": [
    {
     "data": {
      "text/plain": [
       "1.0    89\n",
       "2.0     5\n",
       "Name: room, dtype: int64"
      ]
     },
     "execution_count": 20,
     "metadata": {},
     "output_type": "execute_result"
    }
   ],
   "source": [
    "VkerDB['room'].value_counts()"
   ]
  },
  {
   "cell_type": "code",
   "execution_count": 66,
   "metadata": {},
   "outputs": [
    {
     "data": {
      "text/plain": [
       "Tégla    987\n",
       "Nincs     40\n",
       "Name: type, dtype: int64"
      ]
     },
     "execution_count": 66,
     "metadata": {},
     "output_type": "execute_result"
    }
   ],
   "source": [
    "#cleaning-up 'type'\n",
    "#VkerDB['type'].value_counts()"
   ]
  },
  {
   "cell_type": "code",
   "execution_count": 69,
   "metadata": {},
   "outputs": [],
   "source": [
    "#Type is not informative, delete from data extraction\n",
    "#VkerDB.drop(['type'], axis = 1, inplace= True)"
   ]
  },
  {
   "cell_type": "code",
   "execution_count": 21,
   "metadata": {},
   "outputs": [
    {
     "data": {
      "text/plain": [
       "Saját hirdetés                              6\n",
       "CDC Ingatlan IV.Ker. Szita Ingatlan Kft.    3\n",
       "Gold House Ingatlaniroda                    3\n",
       "Cdci Teréz krt-i iroda                      2\n",
       "CDC Báthory                                 2\n",
       "CDC Bokréta                                 2\n",
       "GREAT HOME                                  1\n",
       "OTP Ingatlanpont Hűvösvölgyi út             1\n",
       "Homexpress Ingatlaniroda                    1\n",
       "Name: agency, dtype: int64"
      ]
     },
     "execution_count": 21,
     "metadata": {},
     "output_type": "execute_result"
    }
   ],
   "source": [
    "#cleaning-up agency\n",
    "VkerDB['agency'].value_counts()"
   ]
  },
  {
   "cell_type": "code",
   "execution_count": 22,
   "metadata": {},
   "outputs": [
    {
     "data": {
      "text/plain": [
       "agency         73\n",
       "date            0\n",
       "description    66\n",
       "id              0\n",
       "price           0\n",
       "price_sqm       0\n",
       "region         21\n",
       "room            0\n",
       "source          0\n",
       "sqm             0\n",
       "url             0\n",
       "dtype: int64"
      ]
     },
     "execution_count": 22,
     "metadata": {},
     "output_type": "execute_result"
    }
   ],
   "source": [
    "VkerDB.isnull().sum()"
   ]
  },
  {
   "cell_type": "code",
   "execution_count": 23,
   "metadata": {},
   "outputs": [],
   "source": [
    "# reorganise columns\n",
    "VkerDB = VkerDB[['id', 'date', 'price', 'price_sqm', 'room', 'sqm','region','description','agency', 'source','url']]"
   ]
  },
  {
   "cell_type": "code",
   "execution_count": 24,
   "metadata": {},
   "outputs": [
    {
     "name": "stdout",
     "output_type": "stream",
     "text": [
      "No of before ads:  (3006, 11)\n",
      "No of ads after: (3100, 11)\n"
     ]
    }
   ],
   "source": [
    "Dbfull = pd.read_csv('VkerDB.csv')\n",
    "print('No of before ads: ',Dbfull.shape)\n",
    "alls = pd.concat([Dbfull,VkerDB], axis = 0, ignore_index= True)\n",
    "print('No of ads after: {}'.format(alls.shape))"
   ]
  },
  {
   "cell_type": "code",
   "execution_count": 25,
   "metadata": {},
   "outputs": [],
   "source": [
    "#archive data\n",
    "alls.to_csv('VkerDB.csv', index=False, index_label=None)"
   ]
  },
  {
   "cell_type": "code",
   "execution_count": 26,
   "metadata": {},
   "outputs": [],
   "source": [
    "counts = sorted(zip(alls['date'].value_counts().index,alls['date'].value_counts()))"
   ]
  },
  {
   "cell_type": "code",
   "execution_count": 27,
   "metadata": {},
   "outputs": [
    {
     "data": {
      "image/png": "[encoded data removed]",
      "text/plain": [
       "<Figure size 720x144 with 1 Axes>"
      ]
     },
     "metadata": {
      "needs_background": "light"
     },
     "output_type": "display_data"
    }
   ],
   "source": [
    "fig = plt.figure(figsize=(10,2))\n",
    "plt.bar([i[0] for i in counts],[i[1] for i in counts])\n",
    "plt.plot((counts[8][0], counts[8][0]),(0,100), c= 'r')\n",
    "plt.plot([counts[0][0],counts[-1][0]],[100,100], c='#cccccc', linewidth = 1)\n",
    "plt.title('No of ads from .hu, centrum & .com sites')\n",
    "plt.xticks(rotation=30, ha = 'right', fontsize = '6')\n",
    "plt.show()"
   ]
  },
  {
   "cell_type": "code",
   "execution_count": null,
   "metadata": {},
   "outputs": [],
   "source": []
  }
 ],
 "metadata": {
  "kernelspec": {
   "display_name": "Python 3",
   "language": "python",
   "name": "python3"
  },
  "language_info": {
   "codemirror_mode": {
    "name": "ipython",
    "version": 3
   },
   "file_extension": ".py",
   "mimetype": "text/x-python",
   "name": "python",
   "nbconvert_exporter": "python",
   "pygments_lexer": "ipython3",
   "version": "3.7.3"
  }
 },
 "nbformat": 4,
 "nbformat_minor": 2
}
