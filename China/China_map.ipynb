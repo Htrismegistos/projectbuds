{
 "cells": [
  {
   "cell_type": "code",
   "execution_count": 14,
   "metadata": {},
   "outputs": [],
   "source": []
  },
  {
   "cell_type": "code",
   "execution_count": 41,
   "metadata": {},
   "outputs": [],
   "source": [
    "# libraries\n",
    "#conda install -c anaconda basemap\n",
    "\n",
    "import pandas as pd\n",
    "import numpy as np\n",
    "#from mpl_toolkits.basemap import Basemap\n",
    "import matplotlib.pyplot as plt\n",
    "import json\n",
    "from bs4 import BeautifulSoup as beauty\n",
    "\n",
    "import warnings\n",
    "warnings.filterwarnings('ignore')"
   ]
  },
  {
   "cell_type": "code",
   "execution_count": 42,
   "metadata": {},
   "outputs": [],
   "source": [
    "cities = pd.read_csv('newRes90_clean.csv', index_col = 0)\n",
    "coord = pd.read_csv('coordiantes.csv', index_col = 0)\n",
    "coord['city'] = coord.index\n",
    "cities.shape, coord.shape\n",
    "cities = cities.join(coord)"
   ]
  },
  {
   "cell_type": "code",
   "execution_count": 43,
   "metadata": {},
   "outputs": [
    {
     "data": {
      "text/plain": [
       "array(['Tier 4', 'Tier 3', 'Tier 1', 'Tier 2'], dtype=object)"
      ]
     },
     "execution_count": 43,
     "metadata": {},
     "output_type": "execute_result"
    }
   ],
   "source": [
    "cities['tier'].unique()"
   ]
  },
  {
   "cell_type": "code",
   "execution_count": 44,
   "metadata": {},
   "outputs": [
    {
     "data": {
      "application/vnd.plotly.v1+json": {
       "config": {
        "plotlyServerURL": "https://plot.ly"
       },
       "data": [
        {
         "customdata": [
          [
           "Anqing"
          ],
          [
           "Baotou"
          ],
          [
           "Beihai"
          ],
          [
           "Beijing"
          ],
          [
           "Bengbu"
          ],
          [
           "Changchun"
          ],
          [
           "Changde"
          ],
          [
           "Changsha"
          ],
          [
           "Chengdu"
          ],
          [
           "Chongqing"
          ],
          [
           "Dali"
          ],
          [
           "Dalian"
          ],
          [
           "Dandong"
          ],
          [
           "Fuzhou"
          ],
          [
           "Ganzhou"
          ],
          [
           "Guangzhou"
          ],
          [
           "Guilin"
          ],
          [
           "Guiyang"
          ],
          [
           "Haikou"
          ],
          [
           "Hangzhou"
          ],
          [
           "Harbin"
          ],
          [
           "Hefei"
          ],
          [
           "Hohhot"
          ],
          [
           "Huizhou"
          ],
          [
           "Jilin"
          ],
          [
           "Jinan"
          ],
          [
           "Jinhua"
          ],
          [
           "Jining"
          ],
          [
           "Jinzhou"
          ],
          [
           "Jiujiang"
          ],
          [
           "Kunming"
          ],
          [
           "Lanzhou"
          ],
          [
           "Luoyang"
          ],
          [
           "Luzhou"
          ],
          [
           "Mudanjiang"
          ],
          [
           "Nanchang"
          ],
          [
           "Nanchong"
          ],
          [
           "Nanjing"
          ],
          [
           "Nanning"
          ],
          [
           "Ningbo"
          ],
          [
           "Pingdingshan"
          ],
          [
           "Qingdao"
          ],
          [
           "Qinhuangdao"
          ],
          [
           "Quanzhou"
          ],
          [
           "Sanya"
          ],
          [
           "Shanghai"
          ],
          [
           "Shaoguan"
          ],
          [
           "Shenyang"
          ],
          [
           "Shenzhen"
          ],
          [
           "Shijiazhuang"
          ],
          [
           "Taiyuan"
          ],
          [
           "Tangshan"
          ],
          [
           "Tianjin"
          ],
          [
           "Urumqi"
          ],
          [
           "Wenzhou"
          ],
          [
           "Wuhan"
          ],
          [
           "Wuxi"
          ],
          [
           "Xiamen"
          ],
          [
           "Xiangfan"
          ],
          [
           "Xining"
          ],
          [
           "Xi’an"
          ],
          [
           "Xuzhou"
          ],
          [
           "Yangzhou"
          ],
          [
           "Yantai"
          ],
          [
           "Yichang"
          ],
          [
           "Yinchuan"
          ],
          [
           "Yueyang"
          ],
          [
           "Zhanjiang"
          ],
          [
           "Zhengzhou"
          ],
          [
           "Zunyi"
          ]
         ],
         "hovertemplate": "<b>%{hovertext}</b><br><br>size=%{marker.size}<br>city=%{customdata[0]}<br>Lon=%{lat}<br>Lat=%{lon}<extra></extra>",
         "hovertext": [
          "安庆",
          "包头市",
          "北海",
          "北京市",
          "蚌埠",
          "长春市",
          "常德",
          "长沙市",
          "成都市",
          "重庆市",
          "大理镇",
          "大连市",
          "丹东市",
          "福州市",
          "赣州",
          "广州市",
          "桂林市",
          "贵阳市",
          "海口市",
          "杭州市",
          "哈尔滨市",
          "合肥市",
          "呼和浩特市",
          "惠州市",
          "吉林市",
          "济南市",
          "金华市",
          "济宁市",
          "锦州",
          "九江市",
          "昆明市",
          "兰州市",
          "洛阳市",
          "泰安市",
          "牡丹江",
          "南昌市",
          "马鞍山市",
          "南京市",
          "南宁市",
          "宁波市",
          "平顶山",
          "青岛市",
          "秦皇岛市",
          "泉州市",
          "三亚市",
          "上海市",
          "韶关",
          "沈阳市",
          "深圳市",
          "石家庄市",
          "太原",
          "唐山市",
          "天津市",
          "乌鲁木齐市",
          "温州市",
          "武汉市",
          "无锡市",
          "厦门市",
          "襄阳",
          "南充市",
          "西安市",
          "徐州市",
          "扬州市",
          "烟台市",
          "宜昌市",
          "银川市",
          "丽水市",
          "湛江市",
          "郑州市",
          "遵义"
         ],
         "lat": [
          30.543494,
          40.657378,
          21.481254,
          39.904211,
          32.916287,
          43.817072,
          29.031673,
          28.228209000000003,
          30.572269,
          29.56301,
          25.606486,
          38.914003,
          40.000787,
          26.074508,
          25.831829,
          23.12911,
          25.273566,
          26.647661,
          20.044002,
          30.274085,
          25.827973,
          31.820587,
          40.842585,
          23.111847,
          43.83788300000001,
          36.651216,
          29.079059,
          35.414921,
          22.792258,
          29.705078000000004,
          24.880095,
          36.061089,
          34.619683,
          28.871811,
          44.551653,
          28.682892,
          28.682892,
          32.060255,
          22.817002,
          29.868336,
          33.76617,
          36.067117,
          39.935385,
          24.874132,
          18.252847,
          31.230416,
          24.810403,
          41.805699,
          22.543099,
          38.042307,
          37.87059,
          39.630867,
          39.084158,
          43.825592,
          27.994267,
          30.593099,
          31.49117,
          24.479834,
          32.008986,
          36.617134,
          36.617134,
          34.205768,
          32.39421,
          37.463822,
          30.691967,
          38.487194,
          29.357104,
          21.270708,
          34.747041,
          27.725654
         ],
         "legendgroup": "",
         "lon": [
          117.063755,
          109.840349,
          109.119927,
          116.407395,
          117.389719,
          125.323544,
          111.698497,
          112.938814,
          104.066541,
          106.551557,
          100.267638,
          121.614682,
          124.354451,
          119.296494,
          114.93503,
          113.264385,
          110.290195,
          106.630154,
          110.198293,
          120.15507,
          114.941089,
          117.22723899999998,
          111.749181,
          114.416196,
          126.549572,
          117.12,
          119.647445,
          116.587099,
          113.538971,
          116.00193,
          102.832892,
          103.834304,
          112.45404,
          105.442258,
          129.63316899999998,
          115.858198,
          115.858198,
          118.796877,
          108.366543,
          121.54399,
          113.19266100000002,
          120.382612,
          119.600493,
          118.675676,
          109.511909,
          121.473701,
          113.597522,
          123.431472,
          114.057868,
          114.51486,
          112.548879,
          118.180194,
          117.200983,
          87.616848,
          120.699367,
          114.305393,
          120.31191,
          118.089425,
          112.122415,
          101.778224,
          101.778224,
          117.284124,
          119.412966,
          121.44793500000002,
          111.286471,
          106.230909,
          113.128958,
          110.359377,
          113.625805,
          106.927389
         ],
         "marker": {
          "color": "blue",
          "size": [
           94.5,
           95.1,
           95,
           95.4,
           94.9,
           95.2,
           94.3,
           95.6,
           95.8,
           95.1,
           95.5,
           95.9,
           95,
           95.1,
           94,
           94.5,
           94.8,
           94.8,
           95.2,
           96.1,
           95.1,
           94.9,
           95,
           94.8,
           95.2,
           95.3,
           95.2,
           96.1,
           95.5,
           95.4,
           95.6,
           95.2,
           95,
           94.3,
           95,
           94.6,
           95.6,
           95.1,
           95.2,
           95.6,
           95.4,
           94.7,
           95.9,
           95.4,
           95.2,
           95.1,
           94.9,
           95.4,
           95.6,
           94.5,
           95.4,
           95.6,
           94.9,
           95.1,
           94.7,
           95,
           95.6,
           94.6,
           95,
           95.8,
           95.5,
           96,
           95.8,
           95.2,
           94.4,
           95.9,
           95.2,
           94.6,
           94.8,
           95.1
          ],
          "sizemode": "area",
          "sizeref": 0.24025
         },
         "mode": "markers",
         "name": "",
         "showlegend": false,
         "subplot": "mapbox",
         "type": "scattermapbox"
        }
       ],
       "layout": {
        "height": 500,
        "legend": {
         "itemsizing": "constant",
         "tracegroupgap": 0
        },
        "mapbox": {
         "center": {
          "lat": 31.665341185714293,
          "lon": 114.09400358571426
         },
         "domain": {
          "x": [
           0,
           1
          ],
          "y": [
           0,
           1
          ]
         },
         "style": "carto-darkmatter",
         "zoom": 2.8
        },
        "margin": {
         "b": 0,
         "l": 0,
         "r": 0,
         "t": 0
        },
        "template": {
         "data": {
          "bar": [
           {
            "error_x": {
             "color": "#2a3f5f"
            },
            "error_y": {
             "color": "#2a3f5f"
            },
            "marker": {
             "line": {
              "color": "#E5ECF6",
              "width": 0.5
             }
            },
            "type": "bar"
           }
          ],
          "barpolar": [
           {
            "marker": {
             "line": {
              "color": "#E5ECF6",
              "width": 0.5
             }
            },
            "type": "barpolar"
           }
          ],
          "carpet": [
           {
            "aaxis": {
             "endlinecolor": "#2a3f5f",
             "gridcolor": "white",
             "linecolor": "white",
             "minorgridcolor": "white",
             "startlinecolor": "#2a3f5f"
            },
            "baxis": {
             "endlinecolor": "#2a3f5f",
             "gridcolor": "white",
             "linecolor": "white",
             "minorgridcolor": "white",
             "startlinecolor": "#2a3f5f"
            },
            "type": "carpet"
           }
          ],
          "choropleth": [
           {
            "colorbar": {
             "outlinewidth": 0,
             "ticks": ""
            },
            "type": "choropleth"
           }
          ],
          "contour": [
           {
            "colorbar": {
             "outlinewidth": 0,
             "ticks": ""
            },
            "colorscale": [
             [
              0,
              "#0d0887"
             ],
             [
              0.1111111111111111,
              "#46039f"
             ],
             [
              0.2222222222222222,
              "#7201a8"
             ],
             [
              0.3333333333333333,
              "#9c179e"
             ],
             [
              0.4444444444444444,
              "#bd3786"
             ],
             [
              0.5555555555555556,
              "#d8576b"
             ],
             [
              0.6666666666666666,
              "#ed7953"
             ],
             [
              0.7777777777777778,
              "#fb9f3a"
             ],
             [
              0.8888888888888888,
              "#fdca26"
             ],
             [
              1,
              "#f0f921"
             ]
            ],
            "type": "contour"
           }
          ],
          "contourcarpet": [
           {
            "colorbar": {
             "outlinewidth": 0,
             "ticks": ""
            },
            "type": "contourcarpet"
           }
          ],
          "heatmap": [
           {
            "colorbar": {
             "outlinewidth": 0,
             "ticks": ""
            },
            "colorscale": [
             [
              0,
              "#0d0887"
             ],
             [
              0.1111111111111111,
              "#46039f"
             ],
             [
              0.2222222222222222,
              "#7201a8"
             ],
             [
              0.3333333333333333,
              "#9c179e"
             ],
             [
              0.4444444444444444,
              "#bd3786"
             ],
             [
              0.5555555555555556,
              "#d8576b"
             ],
             [
              0.6666666666666666,
              "#ed7953"
             ],
             [
              0.7777777777777778,
              "#fb9f3a"
             ],
             [
              0.8888888888888888,
              "#fdca26"
             ],
             [
              1,
              "#f0f921"
             ]
            ],
            "type": "heatmap"
           }
          ],
          "heatmapgl": [
           {
            "colorbar": {
             "outlinewidth": 0,
             "ticks": ""
            },
            "colorscale": [
             [
              0,
              "#0d0887"
             ],
             [
              0.1111111111111111,
              "#46039f"
             ],
             [
              0.2222222222222222,
              "#7201a8"
             ],
             [
              0.3333333333333333,
              "#9c179e"
             ],
             [
              0.4444444444444444,
              "#bd3786"
             ],
             [
              0.5555555555555556,
              "#d8576b"
             ],
             [
              0.6666666666666666,
              "#ed7953"
             ],
             [
              0.7777777777777778,
              "#fb9f3a"
             ],
             [
              0.8888888888888888,
              "#fdca26"
             ],
             [
              1,
              "#f0f921"
             ]
            ],
            "type": "heatmapgl"
           }
          ],
          "histogram": [
           {
            "marker": {
             "colorbar": {
              "outlinewidth": 0,
              "ticks": ""
             }
            },
            "type": "histogram"
           }
          ],
          "histogram2d": [
           {
            "colorbar": {
             "outlinewidth": 0,
             "ticks": ""
            },
            "colorscale": [
             [
              0,
              "#0d0887"
             ],
             [
              0.1111111111111111,
              "#46039f"
             ],
             [
              0.2222222222222222,
              "#7201a8"
             ],
             [
              0.3333333333333333,
              "#9c179e"
             ],
             [
              0.4444444444444444,
              "#bd3786"
             ],
             [
              0.5555555555555556,
              "#d8576b"
             ],
             [
              0.6666666666666666,
              "#ed7953"
             ],
             [
              0.7777777777777778,
              "#fb9f3a"
             ],
             [
              0.8888888888888888,
              "#fdca26"
             ],
             [
              1,
              "#f0f921"
             ]
            ],
            "type": "histogram2d"
           }
          ],
          "histogram2dcontour": [
           {
            "colorbar": {
             "outlinewidth": 0,
             "ticks": ""
            },
            "colorscale": [
             [
              0,
              "#0d0887"
             ],
             [
              0.1111111111111111,
              "#46039f"
             ],
             [
              0.2222222222222222,
              "#7201a8"
             ],
             [
              0.3333333333333333,
              "#9c179e"
             ],
             [
              0.4444444444444444,
              "#bd3786"
             ],
             [
              0.5555555555555556,
              "#d8576b"
             ],
             [
              0.6666666666666666,
              "#ed7953"
             ],
             [
              0.7777777777777778,
              "#fb9f3a"
             ],
             [
              0.8888888888888888,
              "#fdca26"
             ],
             [
              1,
              "#f0f921"
             ]
            ],
            "type": "histogram2dcontour"
           }
          ],
          "mesh3d": [
           {
            "colorbar": {
             "outlinewidth": 0,
             "ticks": ""
            },
            "type": "mesh3d"
           }
          ],
          "parcoords": [
           {
            "line": {
             "colorbar": {
              "outlinewidth": 0,
              "ticks": ""
             }
            },
            "type": "parcoords"
           }
          ],
          "pie": [
           {
            "automargin": true,
            "type": "pie"
           }
          ],
          "scatter": [
           {
            "marker": {
             "colorbar": {
              "outlinewidth": 0,
              "ticks": ""
             }
            },
            "type": "scatter"
           }
          ],
          "scatter3d": [
           {
            "line": {
             "colorbar": {
              "outlinewidth": 0,
              "ticks": ""
             }
            },
            "marker": {
             "colorbar": {
              "outlinewidth": 0,
              "ticks": ""
             }
            },
            "type": "scatter3d"
           }
          ],
          "scattercarpet": [
           {
            "marker": {
             "colorbar": {
              "outlinewidth": 0,
              "ticks": ""
             }
            },
            "type": "scattercarpet"
           }
          ],
          "scattergeo": [
           {
            "marker": {
             "colorbar": {
              "outlinewidth": 0,
              "ticks": ""
             }
            },
            "type": "scattergeo"
           }
          ],
          "scattergl": [
           {
            "marker": {
             "colorbar": {
              "outlinewidth": 0,
              "ticks": ""
             }
            },
            "type": "scattergl"
           }
          ],
          "scattermapbox": [
           {
            "marker": {
             "colorbar": {
              "outlinewidth": 0,
              "ticks": ""
             }
            },
            "type": "scattermapbox"
           }
          ],
          "scatterpolar": [
           {
            "marker": {
             "colorbar": {
              "outlinewidth": 0,
              "ticks": ""
             }
            },
            "type": "scatterpolar"
           }
          ],
          "scatterpolargl": [
           {
            "marker": {
             "colorbar": {
              "outlinewidth": 0,
              "ticks": ""
             }
            },
            "type": "scatterpolargl"
           }
          ],
          "scatterternary": [
           {
            "marker": {
             "colorbar": {
              "outlinewidth": 0,
              "ticks": ""
             }
            },
            "type": "scatterternary"
           }
          ],
          "surface": [
           {
            "colorbar": {
             "outlinewidth": 0,
             "ticks": ""
            },
            "colorscale": [
             [
              0,
              "#0d0887"
             ],
             [
              0.1111111111111111,
              "#46039f"
             ],
             [
              0.2222222222222222,
              "#7201a8"
             ],
             [
              0.3333333333333333,
              "#9c179e"
             ],
             [
              0.4444444444444444,
              "#bd3786"
             ],
             [
              0.5555555555555556,
              "#d8576b"
             ],
             [
              0.6666666666666666,
              "#ed7953"
             ],
             [
              0.7777777777777778,
              "#fb9f3a"
             ],
             [
              0.8888888888888888,
              "#fdca26"
             ],
             [
              1,
              "#f0f921"
             ]
            ],
            "type": "surface"
           }
          ],
          "table": [
           {
            "cells": {
             "fill": {
              "color": "#EBF0F8"
             },
             "line": {
              "color": "white"
             }
            },
            "header": {
             "fill": {
              "color": "#C8D4E3"
             },
             "line": {
              "color": "white"
             }
            },
            "type": "table"
           }
          ]
         },
         "layout": {
          "annotationdefaults": {
           "arrowcolor": "#2a3f5f",
           "arrowhead": 0,
           "arrowwidth": 1
          },
          "coloraxis": {
           "colorbar": {
            "outlinewidth": 0,
            "ticks": ""
           }
          },
          "colorscale": {
           "diverging": [
            [
             0,
             "#8e0152"
            ],
            [
             0.1,
             "#c51b7d"
            ],
            [
             0.2,
             "#de77ae"
            ],
            [
             0.3,
             "#f1b6da"
            ],
            [
             0.4,
             "#fde0ef"
            ],
            [
             0.5,
             "#f7f7f7"
            ],
            [
             0.6,
             "#e6f5d0"
            ],
            [
             0.7,
             "#b8e186"
            ],
            [
             0.8,
             "#7fbc41"
            ],
            [
             0.9,
             "#4d9221"
            ],
            [
             1,
             "#276419"
            ]
           ],
           "sequential": [
            [
             0,
             "#0d0887"
            ],
            [
             0.1111111111111111,
             "#46039f"
            ],
            [
             0.2222222222222222,
             "#7201a8"
            ],
            [
             0.3333333333333333,
             "#9c179e"
            ],
            [
             0.4444444444444444,
             "#bd3786"
            ],
            [
             0.5555555555555556,
             "#d8576b"
            ],
            [
             0.6666666666666666,
             "#ed7953"
            ],
            [
             0.7777777777777778,
             "#fb9f3a"
            ],
            [
             0.8888888888888888,
             "#fdca26"
            ],
            [
             1,
             "#f0f921"
            ]
           ],
           "sequentialminus": [
            [
             0,
             "#0d0887"
            ],
            [
             0.1111111111111111,
             "#46039f"
            ],
            [
             0.2222222222222222,
             "#7201a8"
            ],
            [
             0.3333333333333333,
             "#9c179e"
            ],
            [
             0.4444444444444444,
             "#bd3786"
            ],
            [
             0.5555555555555556,
             "#d8576b"
            ],
            [
             0.6666666666666666,
             "#ed7953"
            ],
            [
             0.7777777777777778,
             "#fb9f3a"
            ],
            [
             0.8888888888888888,
             "#fdca26"
            ],
            [
             1,
             "#f0f921"
            ]
           ]
          },
          "colorway": [
           "#636efa",
           "#EF553B",
           "#00cc96",
           "#ab63fa",
           "#FFA15A",
           "#19d3f3",
           "#FF6692",
           "#B6E880",
           "#FF97FF",
           "#FECB52"
          ],
          "font": {
           "color": "#2a3f5f"
          },
          "geo": {
           "bgcolor": "white",
           "lakecolor": "white",
           "landcolor": "#E5ECF6",
           "showlakes": true,
           "showland": true,
           "subunitcolor": "white"
          },
          "hoverlabel": {
           "align": "left"
          },
          "hovermode": "closest",
          "mapbox": {
           "style": "light"
          },
          "paper_bgcolor": "white",
          "plot_bgcolor": "#E5ECF6",
          "polar": {
           "angularaxis": {
            "gridcolor": "white",
            "linecolor": "white",
            "ticks": ""
           },
           "bgcolor": "#E5ECF6",
           "radialaxis": {
            "gridcolor": "white",
            "linecolor": "white",
            "ticks": ""
           }
          },
          "scene": {
           "xaxis": {
            "backgroundcolor": "#E5ECF6",
            "gridcolor": "white",
            "gridwidth": 2,
            "linecolor": "white",
            "showbackground": true,
            "ticks": "",
            "zerolinecolor": "white"
           },
           "yaxis": {
            "backgroundcolor": "#E5ECF6",
            "gridcolor": "white",
            "gridwidth": 2,
            "linecolor": "white",
            "showbackground": true,
            "ticks": "",
            "zerolinecolor": "white"
           },
           "zaxis": {
            "backgroundcolor": "#E5ECF6",
            "gridcolor": "white",
            "gridwidth": 2,
            "linecolor": "white",
            "showbackground": true,
            "ticks": "",
            "zerolinecolor": "white"
           }
          },
          "shapedefaults": {
           "line": {
            "color": "#2a3f5f"
           }
          },
          "ternary": {
           "aaxis": {
            "gridcolor": "white",
            "linecolor": "white",
            "ticks": ""
           },
           "baxis": {
            "gridcolor": "white",
            "linecolor": "white",
            "ticks": ""
           },
           "bgcolor": "#E5ECF6",
           "caxis": {
            "gridcolor": "white",
            "linecolor": "white",
            "ticks": ""
           }
          },
          "title": {
           "x": 0.05
          },
          "xaxis": {
           "automargin": true,
           "gridcolor": "white",
           "linecolor": "white",
           "ticks": "",
           "title": {
            "standoff": 15
           },
           "zerolinecolor": "white",
           "zerolinewidth": 2
          },
          "yaxis": {
           "automargin": true,
           "gridcolor": "white",
           "linecolor": "white",
           "ticks": "",
           "title": {
            "standoff": 15
           },
           "zerolinecolor": "white",
           "zerolinewidth": 2
          }
         }
        }
       }
      },
      "text/html": [
       "<div>\n",
       "        \n",
       "        \n",
       "            <div id=\"eafe41f0-9324-45bd-abfc-8544b0b7762f\" class=\"plotly-graph-div\" style=\"height:500px; width:100%;\"></div>\n",
       "            <script type=\"text/javascript\">\n",
       "                require([\"plotly\"], function(Plotly) {\n",
       "                    window.PLOTLYENV=window.PLOTLYENV || {};\n",
       "                    \n",
       "                if (document.getElementById(\"eafe41f0-9324-45bd-abfc-8544b0b7762f\")) {\n",
       "                    Plotly.newPlot(\n",
       "                        'eafe41f0-9324-45bd-abfc-8544b0b7762f',\n",
       "                        [{\"customdata\": [[\"Anqing\"], [\"Baotou\"], [\"Beihai\"], [\"Beijing\"], [\"Bengbu\"], [\"Changchun\"], [\"Changde\"], [\"Changsha\"], [\"Chengdu\"], [\"Chongqing\"], [\"Dali\"], [\"Dalian\"], [\"Dandong\"], [\"Fuzhou\"], [\"Ganzhou\"], [\"Guangzhou\"], [\"Guilin\"], [\"Guiyang\"], [\"Haikou\"], [\"Hangzhou\"], [\"Harbin\"], [\"Hefei\"], [\"Hohhot\"], [\"Huizhou\"], [\"Jilin\"], [\"Jinan\"], [\"Jinhua\"], [\"Jining\"], [\"Jinzhou\"], [\"Jiujiang\"], [\"Kunming\"], [\"Lanzhou\"], [\"Luoyang\"], [\"Luzhou\"], [\"Mudanjiang\"], [\"Nanchang\"], [\"Nanchong\"], [\"Nanjing\"], [\"Nanning\"], [\"Ningbo\"], [\"Pingdingshan\"], [\"Qingdao\"], [\"Qinhuangdao\"], [\"Quanzhou\"], [\"Sanya\"], [\"Shanghai\"], [\"Shaoguan\"], [\"Shenyang\"], [\"Shenzhen\"], [\"Shijiazhuang\"], [\"Taiyuan\"], [\"Tangshan\"], [\"Tianjin\"], [\"Urumqi\"], [\"Wenzhou\"], [\"Wuhan\"], [\"Wuxi\"], [\"Xiamen\"], [\"Xiangfan\"], [\"Xining\"], [\"Xi\\u2019an\"], [\"Xuzhou\"], [\"Yangzhou\"], [\"Yantai\"], [\"Yichang\"], [\"Yinchuan\"], [\"Yueyang\"], [\"Zhanjiang\"], [\"Zhengzhou\"], [\"Zunyi\"]], \"hovertemplate\": \"<b>%{hovertext}</b><br><br>size=%{marker.size}<br>city=%{customdata[0]}<br>Lon=%{lat}<br>Lat=%{lon}<extra></extra>\", \"hovertext\": [\"\\u5b89\\u5e86\", \"\\u5305\\u5934\\u5e02\", \"\\u5317\\u6d77\", \"\\u5317\\u4eac\\u5e02\", \"\\u868c\\u57e0\", \"\\u957f\\u6625\\u5e02\", \"\\u5e38\\u5fb7\", \"\\u957f\\u6c99\\u5e02\", \"\\u6210\\u90fd\\u5e02\", \"\\u91cd\\u5e86\\u5e02\", \"\\u5927\\u7406\\u9547\", \"\\u5927\\u8fde\\u5e02\", \"\\u4e39\\u4e1c\\u5e02\", \"\\u798f\\u5dde\\u5e02\", \"\\u8d63\\u5dde\", \"\\u5e7f\\u5dde\\u5e02\", \"\\u6842\\u6797\\u5e02\", \"\\u8d35\\u9633\\u5e02\", \"\\u6d77\\u53e3\\u5e02\", \"\\u676d\\u5dde\\u5e02\", \"\\u54c8\\u5c14\\u6ee8\\u5e02\", \"\\u5408\\u80a5\\u5e02\", \"\\u547c\\u548c\\u6d69\\u7279\\u5e02\", \"\\u60e0\\u5dde\\u5e02\", \"\\u5409\\u6797\\u5e02\", \"\\u6d4e\\u5357\\u5e02\", \"\\u91d1\\u534e\\u5e02\", \"\\u6d4e\\u5b81\\u5e02\", \"\\u9526\\u5dde\", \"\\u4e5d\\u6c5f\\u5e02\", \"\\u6606\\u660e\\u5e02\", \"\\u5170\\u5dde\\u5e02\", \"\\u6d1b\\u9633\\u5e02\", \"\\u6cf0\\u5b89\\u5e02\", \"\\u7261\\u4e39\\u6c5f\", \"\\u5357\\u660c\\u5e02\", \"\\u9a6c\\u978d\\u5c71\\u5e02\", \"\\u5357\\u4eac\\u5e02\", \"\\u5357\\u5b81\\u5e02\", \"\\u5b81\\u6ce2\\u5e02\", \"\\u5e73\\u9876\\u5c71\", \"\\u9752\\u5c9b\\u5e02\", \"\\u79e6\\u7687\\u5c9b\\u5e02\", \"\\u6cc9\\u5dde\\u5e02\", \"\\u4e09\\u4e9a\\u5e02\", \"\\u4e0a\\u6d77\\u5e02\", \"\\u97f6\\u5173\", \"\\u6c88\\u9633\\u5e02\", \"\\u6df1\\u5733\\u5e02\", \"\\u77f3\\u5bb6\\u5e84\\u5e02\", \"\\u592a\\u539f\", \"\\u5510\\u5c71\\u5e02\", \"\\u5929\\u6d25\\u5e02\", \"\\u4e4c\\u9c81\\u6728\\u9f50\\u5e02\", \"\\u6e29\\u5dde\\u5e02\", \"\\u6b66\\u6c49\\u5e02\", \"\\u65e0\\u9521\\u5e02\", \"\\u53a6\\u95e8\\u5e02\", \"\\u8944\\u9633\", \"\\u5357\\u5145\\u5e02\", \"\\u897f\\u5b89\\u5e02\", \"\\u5f90\\u5dde\\u5e02\", \"\\u626c\\u5dde\\u5e02\", \"\\u70df\\u53f0\\u5e02\", \"\\u5b9c\\u660c\\u5e02\", \"\\u94f6\\u5ddd\\u5e02\", \"\\u4e3d\\u6c34\\u5e02\", \"\\u6e5b\\u6c5f\\u5e02\", \"\\u90d1\\u5dde\\u5e02\", \"\\u9075\\u4e49\"], \"lat\": [30.543494, 40.657378, 21.481254, 39.904211, 32.916287, 43.817072, 29.031673, 28.228209000000003, 30.572269, 29.56301, 25.606486, 38.914003, 40.000787, 26.074508, 25.831829, 23.12911, 25.273566, 26.647661, 20.044002, 30.274085, 25.827973, 31.820587, 40.842585, 23.111847, 43.83788300000001, 36.651216, 29.079059, 35.414921, 22.792258, 29.705078000000004, 24.880095, 36.061089, 34.619683, 28.871811, 44.551653, 28.682892, 28.682892, 32.060255, 22.817002, 29.868336, 33.76617, 36.067117, 39.935385, 24.874132, 18.252847, 31.230416, 24.810403, 41.805699, 22.543099, 38.042307, 37.87059, 39.630867, 39.084158, 43.825592, 27.994267, 30.593099, 31.49117, 24.479834, 32.008986, 36.617134, 36.617134, 34.205768, 32.39421, 37.463822, 30.691967, 38.487194, 29.357104, 21.270708, 34.747041, 27.725654], \"legendgroup\": \"\", \"lon\": [117.063755, 109.840349, 109.119927, 116.407395, 117.389719, 125.323544, 111.698497, 112.938814, 104.066541, 106.551557, 100.267638, 121.614682, 124.354451, 119.296494, 114.93503, 113.264385, 110.290195, 106.630154, 110.198293, 120.15507, 114.941089, 117.22723899999998, 111.749181, 114.416196, 126.549572, 117.12, 119.647445, 116.587099, 113.538971, 116.00193, 102.832892, 103.834304, 112.45404, 105.442258, 129.63316899999998, 115.858198, 115.858198, 118.796877, 108.366543, 121.54399, 113.19266100000002, 120.382612, 119.600493, 118.675676, 109.511909, 121.473701, 113.597522, 123.431472, 114.057868, 114.51486, 112.548879, 118.180194, 117.200983, 87.616848, 120.699367, 114.305393, 120.31191, 118.089425, 112.122415, 101.778224, 101.778224, 117.284124, 119.412966, 121.44793500000002, 111.286471, 106.230909, 113.128958, 110.359377, 113.625805, 106.927389], \"marker\": {\"color\": \"blue\", \"size\": [94.5, 95.1, 95.0, 95.4, 94.9, 95.2, 94.3, 95.6, 95.8, 95.1, 95.5, 95.9, 95.0, 95.1, 94.0, 94.5, 94.8, 94.8, 95.2, 96.1, 95.1, 94.9, 95.0, 94.8, 95.2, 95.3, 95.2, 96.1, 95.5, 95.4, 95.6, 95.2, 95.0, 94.3, 95.0, 94.6, 95.6, 95.1, 95.2, 95.6, 95.4, 94.7, 95.9, 95.4, 95.2, 95.1, 94.9, 95.4, 95.6, 94.5, 95.4, 95.6, 94.9, 95.1, 94.7, 95.0, 95.6, 94.6, 95.0, 95.8, 95.5, 96.0, 95.8, 95.2, 94.4, 95.9, 95.2, 94.6, 94.8, 95.1], \"sizemode\": \"area\", \"sizeref\": 0.24025}, \"mode\": \"markers\", \"name\": \"\", \"showlegend\": false, \"subplot\": \"mapbox\", \"type\": \"scattermapbox\"}],\n",
       "                        {\"height\": 500, \"legend\": {\"itemsizing\": \"constant\", \"tracegroupgap\": 0}, \"mapbox\": {\"center\": {\"lat\": 31.665341185714293, \"lon\": 114.09400358571426}, \"domain\": {\"x\": [0.0, 1.0], \"y\": [0.0, 1.0]}, \"style\": \"carto-darkmatter\", \"zoom\": 2.8}, \"margin\": {\"b\": 0, \"l\": 0, \"r\": 0, \"t\": 0}, \"template\": {\"data\": {\"bar\": [{\"error_x\": {\"color\": \"#2a3f5f\"}, \"error_y\": {\"color\": \"#2a3f5f\"}, \"marker\": {\"line\": {\"color\": \"#E5ECF6\", \"width\": 0.5}}, \"type\": \"bar\"}], \"barpolar\": [{\"marker\": {\"line\": {\"color\": \"#E5ECF6\", \"width\": 0.5}}, \"type\": \"barpolar\"}], \"carpet\": [{\"aaxis\": {\"endlinecolor\": \"#2a3f5f\", \"gridcolor\": \"white\", \"linecolor\": \"white\", \"minorgridcolor\": \"white\", \"startlinecolor\": \"#2a3f5f\"}, \"baxis\": {\"endlinecolor\": \"#2a3f5f\", \"gridcolor\": \"white\", \"linecolor\": \"white\", \"minorgridcolor\": \"white\", \"startlinecolor\": \"#2a3f5f\"}, \"type\": \"carpet\"}], \"choropleth\": [{\"colorbar\": {\"outlinewidth\": 0, \"ticks\": \"\"}, \"type\": \"choropleth\"}], \"contour\": [{\"colorbar\": {\"outlinewidth\": 0, \"ticks\": \"\"}, \"colorscale\": [[0.0, \"#0d0887\"], [0.1111111111111111, \"#46039f\"], [0.2222222222222222, \"#7201a8\"], [0.3333333333333333, \"#9c179e\"], [0.4444444444444444, \"#bd3786\"], [0.5555555555555556, \"#d8576b\"], [0.6666666666666666, \"#ed7953\"], [0.7777777777777778, \"#fb9f3a\"], [0.8888888888888888, \"#fdca26\"], [1.0, \"#f0f921\"]], \"type\": \"contour\"}], \"contourcarpet\": [{\"colorbar\": {\"outlinewidth\": 0, \"ticks\": \"\"}, \"type\": \"contourcarpet\"}], \"heatmap\": [{\"colorbar\": {\"outlinewidth\": 0, \"ticks\": \"\"}, \"colorscale\": [[0.0, \"#0d0887\"], [0.1111111111111111, \"#46039f\"], [0.2222222222222222, \"#7201a8\"], [0.3333333333333333, \"#9c179e\"], [0.4444444444444444, \"#bd3786\"], [0.5555555555555556, \"#d8576b\"], [0.6666666666666666, \"#ed7953\"], [0.7777777777777778, \"#fb9f3a\"], [0.8888888888888888, \"#fdca26\"], [1.0, \"#f0f921\"]], \"type\": \"heatmap\"}], \"heatmapgl\": [{\"colorbar\": {\"outlinewidth\": 0, \"ticks\": \"\"}, \"colorscale\": [[0.0, \"#0d0887\"], [0.1111111111111111, \"#46039f\"], [0.2222222222222222, \"#7201a8\"], [0.3333333333333333, \"#9c179e\"], [0.4444444444444444, \"#bd3786\"], [0.5555555555555556, \"#d8576b\"], [0.6666666666666666, \"#ed7953\"], [0.7777777777777778, \"#fb9f3a\"], [0.8888888888888888, \"#fdca26\"], [1.0, \"#f0f921\"]], \"type\": \"heatmapgl\"}], \"histogram\": [{\"marker\": {\"colorbar\": {\"outlinewidth\": 0, \"ticks\": \"\"}}, \"type\": \"histogram\"}], \"histogram2d\": [{\"colorbar\": {\"outlinewidth\": 0, \"ticks\": \"\"}, \"colorscale\": [[0.0, \"#0d0887\"], [0.1111111111111111, \"#46039f\"], [0.2222222222222222, \"#7201a8\"], [0.3333333333333333, \"#9c179e\"], [0.4444444444444444, \"#bd3786\"], [0.5555555555555556, \"#d8576b\"], [0.6666666666666666, \"#ed7953\"], [0.7777777777777778, \"#fb9f3a\"], [0.8888888888888888, \"#fdca26\"], [1.0, \"#f0f921\"]], \"type\": \"histogram2d\"}], \"histogram2dcontour\": [{\"colorbar\": {\"outlinewidth\": 0, \"ticks\": \"\"}, \"colorscale\": [[0.0, \"#0d0887\"], [0.1111111111111111, \"#46039f\"], [0.2222222222222222, \"#7201a8\"], [0.3333333333333333, \"#9c179e\"], [0.4444444444444444, \"#bd3786\"], [0.5555555555555556, \"#d8576b\"], [0.6666666666666666, \"#ed7953\"], [0.7777777777777778, \"#fb9f3a\"], [0.8888888888888888, \"#fdca26\"], [1.0, \"#f0f921\"]], \"type\": \"histogram2dcontour\"}], \"mesh3d\": [{\"colorbar\": {\"outlinewidth\": 0, \"ticks\": \"\"}, \"type\": \"mesh3d\"}], \"parcoords\": [{\"line\": {\"colorbar\": {\"outlinewidth\": 0, \"ticks\": \"\"}}, \"type\": \"parcoords\"}], \"pie\": [{\"automargin\": true, \"type\": \"pie\"}], \"scatter\": [{\"marker\": {\"colorbar\": {\"outlinewidth\": 0, \"ticks\": \"\"}}, \"type\": \"scatter\"}], \"scatter3d\": [{\"line\": {\"colorbar\": {\"outlinewidth\": 0, \"ticks\": \"\"}}, \"marker\": {\"colorbar\": {\"outlinewidth\": 0, \"ticks\": \"\"}}, \"type\": \"scatter3d\"}], \"scattercarpet\": [{\"marker\": {\"colorbar\": {\"outlinewidth\": 0, \"ticks\": \"\"}}, \"type\": \"scattercarpet\"}], \"scattergeo\": [{\"marker\": {\"colorbar\": {\"outlinewidth\": 0, \"ticks\": \"\"}}, \"type\": \"scattergeo\"}], \"scattergl\": [{\"marker\": {\"colorbar\": {\"outlinewidth\": 0, \"ticks\": \"\"}}, \"type\": \"scattergl\"}], \"scattermapbox\": [{\"marker\": {\"colorbar\": {\"outlinewidth\": 0, \"ticks\": \"\"}}, \"type\": \"scattermapbox\"}], \"scatterpolar\": [{\"marker\": {\"colorbar\": {\"outlinewidth\": 0, \"ticks\": \"\"}}, \"type\": \"scatterpolar\"}], \"scatterpolargl\": [{\"marker\": {\"colorbar\": {\"outlinewidth\": 0, \"ticks\": \"\"}}, \"type\": \"scatterpolargl\"}], \"scatterternary\": [{\"marker\": {\"colorbar\": {\"outlinewidth\": 0, \"ticks\": \"\"}}, \"type\": \"scatterternary\"}], \"surface\": [{\"colorbar\": {\"outlinewidth\": 0, \"ticks\": \"\"}, \"colorscale\": [[0.0, \"#0d0887\"], [0.1111111111111111, \"#46039f\"], [0.2222222222222222, \"#7201a8\"], [0.3333333333333333, \"#9c179e\"], [0.4444444444444444, \"#bd3786\"], [0.5555555555555556, \"#d8576b\"], [0.6666666666666666, \"#ed7953\"], [0.7777777777777778, \"#fb9f3a\"], [0.8888888888888888, \"#fdca26\"], [1.0, \"#f0f921\"]], \"type\": \"surface\"}], \"table\": [{\"cells\": {\"fill\": {\"color\": \"#EBF0F8\"}, \"line\": {\"color\": \"white\"}}, \"header\": {\"fill\": {\"color\": \"#C8D4E3\"}, \"line\": {\"color\": \"white\"}}, \"type\": \"table\"}]}, \"layout\": {\"annotationdefaults\": {\"arrowcolor\": \"#2a3f5f\", \"arrowhead\": 0, \"arrowwidth\": 1}, \"coloraxis\": {\"colorbar\": {\"outlinewidth\": 0, \"ticks\": \"\"}}, \"colorscale\": {\"diverging\": [[0, \"#8e0152\"], [0.1, \"#c51b7d\"], [0.2, \"#de77ae\"], [0.3, \"#f1b6da\"], [0.4, \"#fde0ef\"], [0.5, \"#f7f7f7\"], [0.6, \"#e6f5d0\"], [0.7, \"#b8e186\"], [0.8, \"#7fbc41\"], [0.9, \"#4d9221\"], [1, \"#276419\"]], \"sequential\": [[0.0, \"#0d0887\"], [0.1111111111111111, \"#46039f\"], [0.2222222222222222, \"#7201a8\"], [0.3333333333333333, \"#9c179e\"], [0.4444444444444444, \"#bd3786\"], [0.5555555555555556, \"#d8576b\"], [0.6666666666666666, \"#ed7953\"], [0.7777777777777778, \"#fb9f3a\"], [0.8888888888888888, \"#fdca26\"], [1.0, \"#f0f921\"]], \"sequentialminus\": [[0.0, \"#0d0887\"], [0.1111111111111111, \"#46039f\"], [0.2222222222222222, \"#7201a8\"], [0.3333333333333333, \"#9c179e\"], [0.4444444444444444, \"#bd3786\"], [0.5555555555555556, \"#d8576b\"], [0.6666666666666666, \"#ed7953\"], [0.7777777777777778, \"#fb9f3a\"], [0.8888888888888888, \"#fdca26\"], [1.0, \"#f0f921\"]]}, \"colorway\": [\"#636efa\", \"#EF553B\", \"#00cc96\", \"#ab63fa\", \"#FFA15A\", \"#19d3f3\", \"#FF6692\", \"#B6E880\", \"#FF97FF\", \"#FECB52\"], \"font\": {\"color\": \"#2a3f5f\"}, \"geo\": {\"bgcolor\": \"white\", \"lakecolor\": \"white\", \"landcolor\": \"#E5ECF6\", \"showlakes\": true, \"showland\": true, \"subunitcolor\": \"white\"}, \"hoverlabel\": {\"align\": \"left\"}, \"hovermode\": \"closest\", \"mapbox\": {\"style\": \"light\"}, \"paper_bgcolor\": \"white\", \"plot_bgcolor\": \"#E5ECF6\", \"polar\": {\"angularaxis\": {\"gridcolor\": \"white\", \"linecolor\": \"white\", \"ticks\": \"\"}, \"bgcolor\": \"#E5ECF6\", \"radialaxis\": {\"gridcolor\": \"white\", \"linecolor\": \"white\", \"ticks\": \"\"}}, \"scene\": {\"xaxis\": {\"backgroundcolor\": \"#E5ECF6\", \"gridcolor\": \"white\", \"gridwidth\": 2, \"linecolor\": \"white\", \"showbackground\": true, \"ticks\": \"\", \"zerolinecolor\": \"white\"}, \"yaxis\": {\"backgroundcolor\": \"#E5ECF6\", \"gridcolor\": \"white\", \"gridwidth\": 2, \"linecolor\": \"white\", \"showbackground\": true, \"ticks\": \"\", \"zerolinecolor\": \"white\"}, \"zaxis\": {\"backgroundcolor\": \"#E5ECF6\", \"gridcolor\": \"white\", \"gridwidth\": 2, \"linecolor\": \"white\", \"showbackground\": true, \"ticks\": \"\", \"zerolinecolor\": \"white\"}}, \"shapedefaults\": {\"line\": {\"color\": \"#2a3f5f\"}}, \"ternary\": {\"aaxis\": {\"gridcolor\": \"white\", \"linecolor\": \"white\", \"ticks\": \"\"}, \"baxis\": {\"gridcolor\": \"white\", \"linecolor\": \"white\", \"ticks\": \"\"}, \"bgcolor\": \"#E5ECF6\", \"caxis\": {\"gridcolor\": \"white\", \"linecolor\": \"white\", \"ticks\": \"\"}}, \"title\": {\"x\": 0.05}, \"xaxis\": {\"automargin\": true, \"gridcolor\": \"white\", \"linecolor\": \"white\", \"ticks\": \"\", \"title\": {\"standoff\": 15}, \"zerolinecolor\": \"white\", \"zerolinewidth\": 2}, \"yaxis\": {\"automargin\": true, \"gridcolor\": \"white\", \"linecolor\": \"white\", \"ticks\": \"\", \"title\": {\"standoff\": 15}, \"zerolinecolor\": \"white\", \"zerolinewidth\": 2}}}},\n",
       "                        {\"responsive\": true}\n",
       "                    ).then(function(){\n",
       "                            \n",
       "var gd = document.getElementById('eafe41f0-9324-45bd-abfc-8544b0b7762f');\n",
       "var x = new MutationObserver(function (mutations, observer) {{\n",
       "        var display = window.getComputedStyle(gd).display;\n",
       "        if (!display || display === 'none') {{\n",
       "            console.log([gd, 'removed!']);\n",
       "            Plotly.purge(gd);\n",
       "            observer.disconnect();\n",
       "        }}\n",
       "}});\n",
       "\n",
       "// Listen for the removal of the full notebook cells\n",
       "var notebookContainer = gd.closest('#notebook-container');\n",
       "if (notebookContainer) {{\n",
       "    x.observe(notebookContainer, {childList: true});\n",
       "}}\n",
       "\n",
       "// Listen for the clearing of the current output cell\n",
       "var outputEl = gd.closest('.output');\n",
       "if (outputEl) {{\n",
       "    x.observe(outputEl, {childList: true});\n",
       "}}\n",
       "\n",
       "                        })\n",
       "                };\n",
       "                });\n",
       "            </script>\n",
       "        </div>"
      ]
     },
     "metadata": {},
     "output_type": "display_data"
    }
   ],
   "source": [
    "import plotly.express as px\n",
    "\n",
    "colour_map = {'Tier 1': 'white', 'Tier 2': 'aquamarine', 'Tier 3': 'azure', 'Tier 4': 'blue'}\n",
    "#colour_map = {'Tier 1': 'Tier 1', 'Tier 2': 'Tier 2', 'Tier 3': 'Tier 3', 'Tier 4': 'Tier 4'}\n",
    "\n",
    "\n",
    "fig = px.scatter_mapbox(cities, lat=\"Lon\", lon=\"Lat\", hover_name= 'chinese_name', hover_data=['city'],\n",
    "                         zoom=2.8, height=500, \\\n",
    "                        #color=cities['tier'].map(colour_map) ,\\\n",
    "                        color_discrete_sequence=cities['tier'].map(colour_map),\\\n",
    "                       size=(cities.loc[:,'202004']- 5))\n",
    "fig.update_layout(mapbox_style=\"carto-darkmatter\") #stamen-terrain, open-street-map,carto-positron,carto-darkmatter\n",
    "'''fig.update_layout(\n",
    "    mapbox_style=\"white-bg\",\n",
    "    mapbox_layers=[\n",
    "        {\n",
    "            \"below\": 'traces',\n",
    "            \"sourcetype\": \"raster\",\n",
    "            \"source\": [\n",
    "                \"https://basemap.nationalmap.gov/arcgis/rest/services/USGSImageryOnly/MapServer/tile/{z}/{y}/{x}\"\n",
    "            ]\n",
    "        }\n",
    "      ])'''\n",
    "fig.update_layout(margin={\"r\":0,\"t\":0,\"l\":0,\"b\":0})\n",
    "fig.show()"
   ]
  },
  {
   "cell_type": "code",
   "execution_count": 45,
   "metadata": {},
   "outputs": [],
   "source": [
    "from ipywidgets import interactive\n",
    "import matplotlib.font_manager as mfm\n",
    "font_path = \"/usr/share/fonts/truetype/NotoSansSC-Regular.otf\"\n",
    "font_path = \"/usr/share/fonts/truetype/DroidSansFallbackFull.ttf\"\n",
    "font_path = \"/usr/share/fonts/truetype/NotoSansTC-Bold.otf\"\n",
    "prop = mfm.FontProperties(fname=font_path)\n",
    "#plt.rcParams['font.family']= 'DejaVu Sans'\n",
    "\n",
    "def price():\n",
    "   \n",
    "    def _cdef(Date,City, Price):\n",
    "        c = City       \n",
    "        p = Price\n",
    "        t = Date\n",
    "        \n",
    "        \n",
    "        fig = plt.figure(figsize = (15,4))\n",
    "        ax = fig.add_subplot(1,1,1)\n",
    "        for i, l  in zip([new,sec],['new', '2nd hand']):\n",
    "            i = i.loc[c, t:]\n",
    "            plt.plot(i.index, i.values, label= c+' '+l)\n",
    "            plt.fill_between(i.index, i.values,\n",
    "                100, # the price of reference, buying price eg. exact No. also good\n",
    "                where = (i.values > 100), #shows only when higher then the buying price\n",
    "                facecolor = 'g',\n",
    "                alpha = 0.5\n",
    "                )\n",
    "            plt.fill_between(i.index, i.values,\n",
    "                100, # the price of reference, buying price eg. exact No. also good\n",
    "                where = (i.values <= 100), #shows only when higher then the buying price\n",
    "                facecolor = 'r',\n",
    "                alpha = 0.5\n",
    "                )\n",
    "\n",
    "        plt.xticks(rotation = 45)\n",
    "        plt.legend(loc = (0.8,0.85))\n",
    "        ax.spines['top'].set_visible(False)\n",
    "        ax.spines['right'].set_visible(False)\n",
    "        ax.axhline(100,color = 'red', linewidth = 1)\n",
    "        plt.suptitle('Property price index change between {} and today'.format(t), fontsize = 16)\n",
    "        plt.title('{}至今天之间的房地产价格变化'.format(t), fontproperties=prop, fontsize = 14)\n",
    "        \n",
    "        \n",
    "        plt.show()\n",
    "        \n",
    "        #price calculation\n",
    "        p1 = p\n",
    "        if d == 'new':\n",
    "            plist = new.loc[c,t:]\n",
    "        else:\n",
    "            plist = sec.loc[c,t:]\n",
    "        for i in plist:\n",
    "            p1 *=(float(i)/100)\n",
    "        pp1 = p1/p*100\n",
    "        \n",
    "        \n",
    "        print('The price increase in the last {} month is {:.2f} %, value {:0.0f}'.format(len(plist), pp1, p1))\n",
    "        print('最近{}个月的价格上涨值为{:.2f} %, RMB {:0.0f}'.format(len(plist), pp1, p1))\n",
    "        \n",
    "        return\n",
    "    \n",
    "    new = pd.read_csv('newRes90_clean.csv', index_col = 0)\n",
    "    sec = pd.read_csv('secRes90_clean.csv', index_col = 0)\n",
    "\n",
    "    #t = input('date 201810: ')\n",
    "    d = input('Property type: ')\n",
    "    c = interactive(_cdef,Date = sec.columns, City = sec.index, Price = (200000,1500000,50000))\n",
    "    #display(c)\n",
    "    return c"
   ]
  },
  {
   "cell_type": "code",
   "execution_count": 46,
   "metadata": {},
   "outputs": [
    {
     "name": "stdout",
     "output_type": "stream",
     "text": [
      "Property type: \n"
     ]
    },
    {
     "data": {
      "application/vnd.jupyter.widget-view+json": {
       "model_id": "60c561a059e0465084f5444d4a227d1b",
       "version_major": 2,
       "version_minor": 0
      },
      "text/plain": [
       "interactive(children=(Dropdown(description='Date', options=('201407', '201408', '201409', '201410', '201411', …"
      ]
     },
     "metadata": {},
     "output_type": "display_data"
    }
   ],
   "source": [
    "price()"
   ]
  },
  {
   "cell_type": "code",
   "execution_count": null,
   "metadata": {},
   "outputs": [],
   "source": []
  },
  {
   "cell_type": "code",
   "execution_count": 70,
   "metadata": {},
   "outputs": [],
   "source": [
    "inflation = [\n",
    "            { 'year':'2019' ,'inflation':2.7},\n",
    "            { 'year':'2018' ,'inflation': 2.1},\n",
    "            { 'year':'2017' ,'inflation':1.56},\n",
    "            { 'year':'2016' ,'inflation': 2},\n",
    "            { 'year':'2015' ,'inflation':1.44},\n",
    "            { 'year':'2014' ,'inflation':1.99}\n",
    "            ]"
   ]
  },
  {
   "cell_type": "code",
   "execution_count": 53,
   "metadata": {},
   "outputs": [
    {
     "data": {
      "text/plain": [
       "{'year': '2015', 'inflation': 1.44}"
      ]
     },
     "execution_count": 53,
     "metadata": {},
     "output_type": "execute_result"
    }
   ],
   "source": [
    "def get_y(js):\n",
    "    return js['inflation']\n",
    "\n",
    "m = sorted(inflation, key= get_y)\n",
    "m = min(inflation, key= lambda x: x['inflation'])\n",
    "m"
   ]
  },
  {
   "cell_type": "code",
   "execution_count": 54,
   "metadata": {},
   "outputs": [
    {
     "name": "stdout",
     "output_type": "stream",
     "text": [
      "year\n",
      "inflation\n"
     ]
    }
   ],
   "source": [
    "for i in m:\n",
    "    print(i)"
   ]
  },
  {
   "cell_type": "code",
   "execution_count": 12,
   "metadata": {},
   "outputs": [],
   "source": [
    "import matplotlib.pyplot as plt\n",
    "import pandas as pd\n",
    "import random as rd\n",
    "import numpy as np"
   ]
  },
  {
   "cell_type": "code",
   "execution_count": 47,
   "metadata": {},
   "outputs": [],
   "source": [
    "from ipywidgets import interactive\n",
    "import matplotlib.font_manager as mfm\n",
    "font_path = \"/usr/share/fonts/truetype/NotoSansSC-Regular.otf\"\n",
    "font_path = \"/usr/share/fonts/truetype/DroidSansFallbackFull.ttf\"\n",
    "font_path = \"/usr/share/fonts/truetype/NotoSansTC-Bold.otf\"\n",
    "prop = mfm.FontProperties(fname=font_path)\n",
    "#plt.rcParams['font.family']= 'DejaVu Sans'\n",
    "\n",
    "#new = pd.read_csv('newRes90_clean.csv', index_col = 0)\n",
    "sec = pd.read_csv('secRes90_clean.csv', index_col = 0)\n",
    "\n",
    "with open('inflation.json') as f:\n",
    "    inf = json.load(f)\n",
    "inflist = {i['year']:i['inflation'] for i in inf}\n",
    "rate = pd.DataFrame(pd.to_datetime(sec.columns, format='%Y%m').year)\n",
    "rate.columns = ['year']\n",
    "rate['inf'] = rate['year'].map(inflist)\n",
    "\n",
    "def price():\n",
    "   \n",
    "    def _cdef(Date,City, Price):\n",
    "        c = City       \n",
    "        p = Price\n",
    "        t = Date\n",
    "        \n",
    "        def _colour(i):\n",
    "            if i > 100:\n",
    "                 return 'green'\n",
    "            else: return 'red'\n",
    "        \n",
    "        fig = plt.figure(figsize = (15,4))\n",
    "        ax = fig.add_subplot(1,1,1)\n",
    "        for i, l  in zip([sec],['2nd hand']):\n",
    "            i = i.loc[c, t:]\n",
    "            plt.bar(i.index, i.values-100, label= c+' '+l, color = i.map(_colour), bottom = 100)\n",
    "            \n",
    "\n",
    "        plt.xticks(rotation = 45)\n",
    "        plt.legend(loc = (0.8,0.85))\n",
    "        ax.spines['top'].set_visible(False)\n",
    "        ax.spines['right'].set_visible(False)\n",
    "        ax.axhline(100,color = 'red', linewidth = 1)\n",
    "        plt.suptitle('Property price index change between {} and today'.format(t), fontsize = 16)\n",
    "        plt.title('{}至今天之间的房地产价格变化'.format(t), fontproperties=prop, fontsize = 14)\n",
    "        \n",
    "        \n",
    "        plt.show()\n",
    "        \n",
    "        #price calculation\n",
    "        p1 = p\n",
    "        r1 = p\n",
    "        if d == 'new':\n",
    "            plist = new.loc[c,t:]\n",
    "        else:\n",
    "            plist = sec.loc[c,t:]\n",
    "            rlist = rate['inf'][len(plist)-1:]\n",
    "        for i,r in zip(plist,rlist):\n",
    "            p1 *=(float(i)/100)\n",
    "            r1 *=((float(i)/100)*(1-r100))\n",
    "            print(r1,i,r)\n",
    "        pp1 = p1/p*100\n",
    "        rr1 = r1/p*100\n",
    "        \n",
    "        \n",
    "        \n",
    "        print('The price increase in the last {} month is {:.2f} %, value {:0.0f}'.format(len(plist), pp1, p1))\n",
    "        print('Inflation corrected increase {}%, value: {:0.0f}'.format(rr1,r1) )\n",
    "        print('最近{}个月的价格上涨值为{:.2f} %, RMB {:0.0f}'.format(len(plist), pp1, p1))\n",
    "        \n",
    "        return\n",
    "    \n",
    "    \n",
    "\n",
    "    #t = input('date 201810: ')\n",
    "    d = input('Property type: ')\n",
    "    c = interactive(_cdef,Date = sec.columns, City = sec.index, Price = (200000,1500000,50000))\n",
    "    #display(c)\n",
    "    return c"
   ]
  },
  {
   "cell_type": "code",
   "execution_count": 48,
   "metadata": {},
   "outputs": [
    {
     "name": "stdout",
     "output_type": "stream",
     "text": [
      "Property type: \n"
     ]
    },
    {
     "data": {
      "application/vnd.jupyter.widget-view+json": {
       "model_id": "019e04cd6cc0457e8958220a99074f38",
       "version_major": 2,
       "version_minor": 0
      },
      "text/plain": [
       "interactive(children=(Dropdown(description='Date', options=('201407', '201408', '201409', '201410', '201411', …"
      ]
     },
     "metadata": {},
     "output_type": "display_data"
    }
   ],
   "source": [
    "price()"
   ]
  },
  {
   "cell_type": "code",
   "execution_count": 33,
   "metadata": {
    "scrolled": true
   },
   "outputs": [
    {
     "data": {
      "text/plain": [
       "(70, 70)"
      ]
     },
     "execution_count": 33,
     "metadata": {},
     "output_type": "execute_result"
    }
   ],
   "source": [
    "new = pd.read_csv('newRes90_clean.csv', index_col = 0)\n",
    "new.shape"
   ]
  },
  {
   "cell_type": "code",
   "execution_count": 34,
   "metadata": {
    "scrolled": true
   },
   "outputs": [
    {
     "data": {
      "text/html": [
       "<div>\n",
       "<style scoped>\n",
       "    .dataframe tbody tr th:only-of-type {\n",
       "        vertical-align: middle;\n",
       "    }\n",
       "\n",
       "    .dataframe tbody tr th {\n",
       "        vertical-align: top;\n",
       "    }\n",
       "\n",
       "    .dataframe thead th {\n",
       "        text-align: right;\n",
       "    }\n",
       "</style>\n",
       "<table border=\"1\" class=\"dataframe\">\n",
       "  <thead>\n",
       "    <tr style=\"text-align: right;\">\n",
       "      <th></th>\n",
       "      <th>0</th>\n",
       "    </tr>\n",
       "  </thead>\n",
       "  <tbody>\n",
       "    <tr>\n",
       "      <td>Lat</td>\n",
       "      <td>117.063755</td>\n",
       "      <td>109.840349</td>\n",
       "      <td>109.119927</td>\n",
       "      <td>116.407395</td>\n",
       "      <td>117.389719</td>\n",
       "      <td>125.323544</td>\n",
       "      <td>111.698497</td>\n",
       "      <td>112.938814</td>\n",
       "      <td>104.066541</td>\n",
       "      <td>106.551557</td>\n",
       "      <td>...</td>\n",
       "      <td>101.778224</td>\n",
       "      <td>117.284124</td>\n",
       "      <td>119.412966</td>\n",
       "      <td>121.447935</td>\n",
       "      <td>111.286471</td>\n",
       "      <td>106.230909</td>\n",
       "      <td>113.128958</td>\n",
       "      <td>110.359377</td>\n",
       "      <td>113.625805</td>\n",
       "      <td>106.927389</td>\n",
       "    </tr>\n",
       "    <tr>\n",
       "      <td>Lon</td>\n",
       "      <td>30.543494</td>\n",
       "      <td>40.657378</td>\n",
       "      <td>21.481254</td>\n",
       "      <td>39.904211</td>\n",
       "      <td>32.916287</td>\n",
       "      <td>43.817072</td>\n",
       "      <td>29.031673</td>\n",
       "      <td>28.228209</td>\n",
       "      <td>30.572269</td>\n",
       "      <td>29.563010</td>\n",
       "      <td>...</td>\n",
       "      <td>36.617134</td>\n",
       "      <td>34.205768</td>\n",
       "      <td>32.394210</td>\n",
       "      <td>37.463822</td>\n",
       "      <td>30.691967</td>\n",
       "      <td>38.487194</td>\n",
       "      <td>29.357104</td>\n",
       "      <td>21.270708</td>\n",
       "      <td>34.747041</td>\n",
       "      <td>27.725654</td>\n",
       "    </tr>\n",
       "  </tbody>\n",
       "</table>\n",
       "</div>"
      ],
      "text/plain": [
       "Empty DataFrame\n",
       "Columns: [0]\n",
       "Index: []"
      ]
     },
     "execution_count": 34,
     "metadata": {},
     "output_type": "execute_result"
    }
   ],
   "source": [
    "new.dtypes.to_frame().loc[new.dtypes != 'float64']"
   ]
  },
  {
   "cell_type": "code",
   "execution_count": 35,
   "metadata": {},
   "outputs": [
    {
     "data": {
      "text/plain": [
       "nan"
      ]
     },
     "execution_count": 35,
     "metadata": {},
     "output_type": "execute_result"
    }
   ],
   "source": [
    "new.loc['Anqing','201903']"
   ]
  },
  {
   "cell_type": "code",
   "execution_count": 59,
   "metadata": {},
   "outputs": [],
   "source": [
    "inf = pd.DataFrame(pd.to_datetime(new.columns, format ='%Y%m').year)\n",
    "inf.columns = ['year']"
   ]
  },
  {
   "cell_type": "code",
   "execution_count": 93,
   "metadata": {},
   "outputs": [],
   "source": [
    "inf['inflation'] = inf['year'].map(rate)"
   ]
  },
  {
   "cell_type": "code",
   "execution_count": 88,
   "metadata": {},
   "outputs": [],
   "source": [
    "rate = {int(i['year']):i['inflation']/12 for i in inflation}"
   ]
  },
  {
   "cell_type": "code",
   "execution_count": 92,
   "metadata": {},
   "outputs": [],
   "source": [
    "rate[2020] = 3.6/12"
   ]
  },
  {
   "cell_type": "code",
   "execution_count": 94,
   "metadata": {},
   "outputs": [
    {
     "data": {
      "text/html": [
       "<div>\n",
       "<style scoped>\n",
       "    .dataframe tbody tr th:only-of-type {\n",
       "        vertical-align: middle;\n",
       "    }\n",
       "\n",
       "    .dataframe tbody tr th {\n",
       "        vertical-align: top;\n",
       "    }\n",
       "\n",
       "    .dataframe thead th {\n",
       "        text-align: right;\n",
       "    }\n",
       "</style>\n",
       "<table border=\"1\" class=\"dataframe\">\n",
       "  <thead>\n",
       "    <tr style=\"text-align: right;\">\n",
       "      <th></th>\n",
       "      <th>year</th>\n",
       "      <th>inflation</th>\n",
       "    </tr>\n",
       "  </thead>\n",
       "  <tbody>\n",
       "    <tr>\n",
       "      <th>0</th>\n",
       "      <td>2014</td>\n",
       "      <td>0.165833</td>\n",
       "    </tr>\n",
       "    <tr>\n",
       "      <th>1</th>\n",
       "      <td>2014</td>\n",
       "      <td>0.165833</td>\n",
       "    </tr>\n",
       "    <tr>\n",
       "      <th>2</th>\n",
       "      <td>2014</td>\n",
       "      <td>0.165833</td>\n",
       "    </tr>\n",
       "    <tr>\n",
       "      <th>3</th>\n",
       "      <td>2014</td>\n",
       "      <td>0.165833</td>\n",
       "    </tr>\n",
       "    <tr>\n",
       "      <th>4</th>\n",
       "      <td>2014</td>\n",
       "      <td>0.165833</td>\n",
       "    </tr>\n",
       "    <tr>\n",
       "      <th>...</th>\n",
       "      <td>...</td>\n",
       "      <td>...</td>\n",
       "    </tr>\n",
       "    <tr>\n",
       "      <th>65</th>\n",
       "      <td>2020</td>\n",
       "      <td>0.300000</td>\n",
       "    </tr>\n",
       "    <tr>\n",
       "      <th>66</th>\n",
       "      <td>2020</td>\n",
       "      <td>0.300000</td>\n",
       "    </tr>\n",
       "    <tr>\n",
       "      <th>67</th>\n",
       "      <td>2020</td>\n",
       "      <td>0.300000</td>\n",
       "    </tr>\n",
       "    <tr>\n",
       "      <th>68</th>\n",
       "      <td>2020</td>\n",
       "      <td>0.300000</td>\n",
       "    </tr>\n",
       "    <tr>\n",
       "      <th>69</th>\n",
       "      <td>2020</td>\n",
       "      <td>0.300000</td>\n",
       "    </tr>\n",
       "  </tbody>\n",
       "</table>\n",
       "<p>70 rows × 2 columns</p>\n",
       "</div>"
      ],
      "text/plain": [
       "    year  inflation\n",
       "0   2014   0.165833\n",
       "1   2014   0.165833\n",
       "2   2014   0.165833\n",
       "3   2014   0.165833\n",
       "4   2014   0.165833\n",
       "..   ...        ...\n",
       "65  2020   0.300000\n",
       "66  2020   0.300000\n",
       "67  2020   0.300000\n",
       "68  2020   0.300000\n",
       "69  2020   0.300000\n",
       "\n",
       "[70 rows x 2 columns]"
      ]
     },
     "execution_count": 94,
     "metadata": {},
     "output_type": "execute_result"
    }
   ],
   "source": [
    "inf"
   ]
  },
  {
   "cell_type": "code",
   "execution_count": 141,
   "metadata": {},
   "outputs": [
    {
     "data": {
      "text/plain": [
       "[{'year': 2019, 'inflation': 2.7},\n",
       " {'year': 2018, 'inflation': 2.1},\n",
       " {'year': 2017, 'inflation': 1.56},\n",
       " {'year': 2016, 'inflation': 2},\n",
       " {'year': 2015, 'inflation': 1.44},\n",
       " {'year': 2014, 'inflation': 1.99},\n",
       " {'year': 2020, 'inflation': 3.6, 'remark': 'estimated'}]"
      ]
     },
     "execution_count": 141,
     "metadata": {},
     "output_type": "execute_result"
    }
   ],
   "source": [
    "inf"
   ]
  },
  {
   "cell_type": "code",
   "execution_count": 33,
   "metadata": {},
   "outputs": [
    {
     "name": "stdout",
     "output_type": "stream",
     "text": [
      "1 1.6431676725154984\n",
      "2 1.2818610191887023\n",
      "3 1.1321930132219957\n",
      "4 1.0640455879434845\n",
      "5 1.0315258542292987\n",
      "6 1.0156406127313433\n",
      "7 1.0077899645915032\n",
      "8 1.0038874262543103\n",
      "9 1.0019418277795924\n",
      "10 1.0009704430099784\n",
      "11 1.0004851038421203\n",
      "12 1.0002425225124756\n",
      "1 1.7320508075688772\n",
      "2 1.3160740129524924\n",
      "3 1.147202690439877\n",
      "4 1.0710754830729146\n",
      "5 1.0349277670798647\n",
      "6 1.0173139963058921\n",
      "7 1.0086198472694716\n",
      "8 1.0043006757288733\n",
      "9 1.0021480308461785\n",
      "10 1.0010734392871377\n",
      "11 1.000536575686835\n",
      "12 1.0002682518638863\n"
     ]
    },
    {
     "data": {
      "text/plain": [
       "[1.0002425225124756, 1.0002682518638863]"
      ]
     },
     "execution_count": 33,
     "metadata": {},
     "output_type": "execute_result"
    }
   ],
   "source": [
    "import numpy as np\n",
    "\n",
    "newlist = []\n",
    "for n in l:\n",
    "    i = 1\n",
    "    while i< 13:\n",
    "        n = np.sqrt(n)\n",
    "        i += 1\n",
    "    newlist.append(n)"
   ]
  },
  {
   "cell_type": "code",
   "execution_count": 40,
   "metadata": {},
   "outputs": [
    {
     "name": "stdout",
     "output_type": "stream",
     "text": [
      "1 99.97317481361137\n",
      "2 99.94635682312898\n",
      "3 99.91954602662253\n",
      "4 99.8927424221622\n",
      "5 99.86594600781874\n",
      "6 99.83915678166336\n",
      "7 99.81237474176784\n",
      "8 99.78559988620444\n",
      "9 99.75883221304595\n",
      "10 99.73207172036567\n",
      "11 99.70531840623744\n"
     ]
    }
   ],
   "source": [
    "i = 1\n",
    "v = float(100)\n",
    "while i < 12:\n",
    "    v = v*(1 - (n-1))\n",
    "    print(i,v)\n",
    "    i += 1"
   ]
  },
  {
   "cell_type": "code",
   "execution_count": 37,
   "metadata": {},
   "outputs": [
    {
     "data": {
      "text/plain": [
       "-0.0002682518638863485"
      ]
     },
     "execution_count": 37,
     "metadata": {},
     "output_type": "execute_result"
    }
   ],
   "source": [
    "n"
   ]
  },
  {
   "cell_type": "code",
   "execution_count": null,
   "metadata": {},
   "outputs": [],
   "source": []
  },
  {
   "cell_type": "code",
   "execution_count": null,
   "metadata": {},
   "outputs": [],
   "source": []
  }
 ],
 "metadata": {
  "kernelspec": {
   "display_name": "Python 3",
   "language": "python",
   "name": "python3"
  },
  "language_info": {
   "codemirror_mode": {
    "name": "ipython",
    "version": 3
   },
   "file_extension": ".py",
   "mimetype": "text/x-python",
   "name": "python",
   "nbconvert_exporter": "python",
   "pygments_lexer": "ipython3",
   "version": "3.7.6"
  }
 },
 "nbformat": 4,
 "nbformat_minor": 2
}
