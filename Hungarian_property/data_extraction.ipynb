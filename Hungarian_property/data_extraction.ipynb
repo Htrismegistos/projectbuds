{
 "cells": [
  {
   "cell_type": "markdown",
   "metadata": {},
   "source": [
    "Com not available between 30/04/2019 21/10/2019. they inroduced robot check."
   ]
  },
  {
   "cell_type": "code",
   "execution_count": 11,
   "metadata": {},
   "outputs": [],
   "source": [
    "from bs4 import BeautifulSoup as beauty\n",
    "import pandas as pd\n",
    "import numpy as np\n",
    "import os\n",
    "import re\n",
    "import datetime as dt"
   ]
  },
  {
   "cell_type": "code",
   "execution_count": 19,
   "metadata": {},
   "outputs": [],
   "source": [
    "list_Vker_Hu =[i for i in os.listdir() if 'HU_Vker' in i if 'ingatlanokHU_Vker' in i]\n",
    "list_Vker_Com = [i for i in os.listdir() if 'COM_Vker' in i if 'ingatlanCOM_Vker' in i]\n",
    "list_Vker_Cen = [i for i in os.listdir() if 'rum_Vker' in i if 'otthoncentrum_Vker' in i]"
   ]
  },
  {
   "cell_type": "code",
   "execution_count": 20,
   "metadata": {},
   "outputs": [
    {
     "name": "stdout",
     "output_type": "stream",
     "text": [
      "No of files taken from .hu: 1\n",
      "No of files taken from .com: 53\n",
      "No of files taken from 'centrum': 1\n"
     ]
    }
   ],
   "source": [
    "print('No of files taken from .hu:', len(list_Vker_Hu))\n",
    "print('No of files taken from .com:', len(list_Vker_Com))\n",
    "print('No of files taken from \\'centrum\\':', len(list_Vker_Cen))"
   ]
  },
  {
   "cell_type": "code",
   "execution_count": 40,
   "metadata": {},
   "outputs": [],
   "source": [
    "HU = pd.DataFrame(columns =['id','sqm','room','price','description','agency','url','date', 'source'])\n",
    "for i in list_Vker_Hu:\n",
    "    html = open(i, 'r').read()\n",
    "    l = beauty(html, 'lxml')\n",
    "    for ii in range(len(l.find_all('div', attrs={'class': 'result-row'}))):\n",
    "        value = []\n",
    "        # ID\n",
    "        value.append(l.find_all('div', attrs={'class': 'result-row'})[ii].find_all('a')[1]['href'].split('/')[-1])\n",
    "        #sqm\n",
    "        sqm = l.find_all('div', attrs={'class': 'result-row'})[ii].find_all(attrs={'class':'column-first'})\n",
    "        if len(sqm) > 0:\n",
    "            value.append(sqm[0].text.strip().replace('\\n', ' ').split(' ')[1])\n",
    "        else: value.append(np.NAN)\n",
    "        #rooms\n",
    "        room = l.find_all('div', attrs={'class': 'result-row'})[ii].find_all(attrs={'class':'column'})\n",
    "        if len(room) > 0:\n",
    "            value.append(room[0].text.strip().replace('\\n', ' ').split(' ')[1])\n",
    "        else: value.append(np.NAN)\n",
    "        '''\n",
    "        # type: not informative\n",
    "        types = l.find_all('div', attrs={'class': 'result-row'})[ii].find_all(attrs={'class':'column'})\n",
    "        if len(types) > 1:\n",
    "            value.append(types[1].text.strip().replace('\\n', ' ').split(' ')[2])\n",
    "        else: value.append(np.NAN)\n",
    "        '''\n",
    "        # price\n",
    "        p = l.find_all('div', attrs={'class': 'result-row'})[ii].find_all(attrs={'class':'result-price left'})\n",
    "        if len(p) > 0:\n",
    "            value.append(p[0].text.strip().replace('.', '').split(' ')[0])\n",
    "        else: value.append(np.NAN)\n",
    "        #description\n",
    "        d = l.find_all('div', attrs={'class': 'result-row'})[ii].find_all(attrs={'class': 'result-short-description'})\n",
    "        if len(d) > 0:\n",
    "            value.append(d[0].text.strip())\n",
    "        else: value.append(np.NAN)\n",
    "        #agency\n",
    "        age = l.find_all('div', attrs={'class': 'result-row'})[ii].find_all(attrs={'class':'office-logo-container right'})\n",
    "        if len(age) > 0:\n",
    "            value.append(age[0].find('a')['title'])\n",
    "        else: value.append(np.NAN)\n",
    "        #url\n",
    "        value.append(l.find_all('div', attrs={'class': 'result-row'})[ii].find_all('a')[1]['href'])         \n",
    "        #date     \n",
    "        value.append(dt.datetime.date(dt.datetime.strptime(re.sub(r'\\D', '', i), '%d%m%Y')))\n",
    "        #source\n",
    "        value.append('hu')\n",
    "        HU.loc[len(HU), :] =  value"
   ]
  },
  {
   "cell_type": "code",
   "execution_count": 41,
   "metadata": {},
   "outputs": [
    {
     "data": {
      "text/plain": [
       "(26, 9)"
      ]
     },
     "execution_count": 41,
     "metadata": {},
     "output_type": "execute_result"
    }
   ],
   "source": [
    "HU.shape"
   ]
  },
  {
   "cell_type": "code",
   "execution_count": 42,
   "metadata": {},
   "outputs": [],
   "source": [
    "#HU.to_csv('Hu_Vker'+str(dt.datetime.now().date())+'.csv', index=False, index_label= None)"
   ]
  },
  {
   "cell_type": "code",
   "execution_count": 43,
   "metadata": {},
   "outputs": [],
   "source": [
    "Cen = pd.DataFrame(columns = ['id','sqm','room','price','description','agency','url','region','date', 'source'])\n",
    "for i in list_Vker_Cen:\n",
    "    html = open(i,'r').read()\n",
    "    l = beauty(html, 'lxml')\n",
    "    for ii in l.find_all('div', attrs={'class': 'estate-list-box'}):\n",
    "        value = []\n",
    "        # ID\n",
    "        value.append(ii.find_all(attrs ={'class':'oc-icon icon-oc-oc-kedvenc estate-bookmark pls-login atRealEstateList-estateBookmark estate-add-localStorage'})[0]['data-estate-id'])\n",
    "        #sqm\n",
    "        sqm = ii.find_all(attrs={'class':'estate-size col-xs-6 text-right'})\n",
    "        if len(sqm) > 0:\n",
    "            value.append(sqm[0].text.strip().split(' ')[0])\n",
    "        else: value.append(np.NAN)\n",
    "        #rooms\n",
    "        room = ii.find_all(attrs={'class':'atEstateListItem-Rooms'})\n",
    "        if len(room) > 0:\n",
    "            value.append(room[0].text.strip())\n",
    "        else: value.append(np.NAN)\n",
    "        '''# type: not informative\n",
    "        types = ii.find_all(attrs={'class':'estate-type-size'})\n",
    "        if len(types) > 0:\n",
    "            value.append(types[0].text.strip().split(' ')[0])\n",
    "        else: value.append(np.NAN)'''\n",
    "        # price\n",
    "        p = ii.find_all(attrs={'class':'estate-price atEstateListItem-Price col-xs-6'})\n",
    "        if len(p) > 0:\n",
    "            value.append(p[0].text.strip().replace(',', '.').split(' ')[0])\n",
    "        else: value.append(np.NAN)\n",
    "        #description\n",
    "        d = ii.find_all(attrs={'class': 'inner-hide-description'})\n",
    "        if len(d) > 0:\n",
    "            value.append(d[0].text.strip())\n",
    "        else: value.append(np.NAN)\n",
    "        #agency\n",
    "        age = ii.find_all(attrs={'class':'office-logo-container right'})\n",
    "        if len(age) > 0:\n",
    "            value.append(age[0].find('a')['title'])\n",
    "        else: value.append(np.NAN)\n",
    "        #url\n",
    "        value.append('https://www.oc.hu'+ii.find_all('a')[0]['href'])  \n",
    "        #region\n",
    "        value.append(ii.find_all(attrs ={'class':'oc-icon icon-oc-oc-kedvenc estate-bookmark pls-login atRealEstateList-estateBookmark estate-add-localStorage'})[0]['data-estate-regno'])\n",
    "        #date     \n",
    "        value.append(dt.datetime.date(dt.datetime.strptime(re.sub(r'\\D', '', i), '%d%m%Y')))\n",
    "        #source\n",
    "        value.append('centrum')       \n",
    "        Cen.loc[len(Cen), :] =  value"
   ]
  },
  {
   "cell_type": "code",
   "execution_count": 44,
   "metadata": {},
   "outputs": [
    {
     "data": {
      "text/plain": [
       "(7, 10)"
      ]
     },
     "execution_count": 44,
     "metadata": {},
     "output_type": "execute_result"
    }
   ],
   "source": [
    "Cen.shape"
   ]
  },
  {
   "cell_type": "code",
   "execution_count": 45,
   "metadata": {},
   "outputs": [],
   "source": [
    "#Cen.to_csv('Cen_Vker'+str(dt.datetime.now().date())+'.csv', index=False, index_label=None)"
   ]
  },
  {
   "cell_type": "code",
   "execution_count": 23,
   "metadata": {},
   "outputs": [],
   "source": [
    "Com = pd.DataFrame(columns = ['id','sqm','room','price','price_sqm','description','agency','url','region','date', 'source'])\n",
    "for i in list_Vker_Com:\n",
    "    html = open(i,'r').read()\n",
    "    # two different class identifier for the ads\n",
    "    l = beauty(html,'lxml').find_all('div', attrs = {'class': 'listing js-listing listing--cluster-parent js-cluster-parent'})\n",
    "    l = l + (beauty(html,'lxml').find_all('div', attrs = {'class': 'listing js-listing'}))\n",
    "    for ii in l:\n",
    "        value = []\n",
    "        # ID\n",
    "        value.append(ii['data-id'])\n",
    "        #sqm\n",
    "        sqm = ii.find_all(attrs={'class':'listing__parameter listing__data--area-size'})\n",
    "        if len(sqm) > 0:\n",
    "            value.append(sqm[0].text.strip().split(' ')[0])\n",
    "        else: value.append(np.NAN)\n",
    "        #rooms\n",
    "        room = ii.find_all(attrs={'class':'listing__parameter listing__data--room-count'})\n",
    "        if len(room) > 0:\n",
    "            value.append(room[0].text.strip().split(' ')[0])\n",
    "        else: value.append(np.NAN)\n",
    "        '''## type not informative\n",
    "        types = ii.find_all(attrs={'class':'estate-type-size'})\n",
    "        if len(types) > 0:\n",
    "            value.append(types[0].text.strip().split(' ')[0])\n",
    "        else: value.append(np.NAN)'''\n",
    "        # price\n",
    "        p = ii.find_all(attrs={'class':'price'})\n",
    "        if len(p) > 0:\n",
    "            value.append(p[0].text.strip().split(' ')[0])\n",
    "        else: value.append(np.NAN)\n",
    "        # price_sqm\n",
    "        ps = ii.find_all(attrs={'class':'price--sqm'})\n",
    "        if len(ps) > 0:\n",
    "            value.append(re.sub(r'\\D','',ps[0].text)[:-1])\n",
    "        else: value.append(np.NAN)\n",
    "        ##description\n",
    "        d = ii.find_all(attrs={'class': 'inner-hide-description'})\n",
    "        if len(d) > 0:\n",
    "            value.append(d[0].text.strip())\n",
    "        else: value.append(np.NAN)\n",
    "        #agency\n",
    "        age = ii.find_all(attrs={'class':'listing__thumbnail is-empty js-listing-active-area'})\n",
    "        if len(age) > 0:\n",
    "            value.append(age[0]['data-is-own'])\n",
    "        else: value.append(np.NAN)\n",
    "        #url\n",
    "        value.append('https://ingatlan.com'+ii.find('a')['href'])  \n",
    "        #region\n",
    "        r = ii.find_all(attrs={'class':'listing__address'})\n",
    "        if len(r) > 0:\n",
    "            value.append(r[0].text.strip())\n",
    "        else: value.append(np.NAN)\n",
    "        #date     \n",
    "        value.append(dt.datetime.date(dt.datetime.strptime(re.sub(r'\\D', '', i), '%d%m%Y')))\n",
    "        #source\n",
    "        value.append('com')       \n",
    "        Com.loc[len(Com), :] =  value"
   ]
  },
  {
   "cell_type": "code",
   "execution_count": 24,
   "metadata": {},
   "outputs": [
    {
     "data": {
      "text/plain": [
       "(1533, 11)"
      ]
     },
     "execution_count": 24,
     "metadata": {},
     "output_type": "execute_result"
    }
   ],
   "source": [
    "Com.shape"
   ]
  },
  {
   "cell_type": "code",
   "execution_count": 25,
   "metadata": {},
   "outputs": [],
   "source": [
    "#Com.to_csv('Com_Vker'+str(dt.datetime.now().date())+'.csv', index=False, index_label =None)"
   ]
  },
  {
   "cell_type": "markdown",
   "metadata": {},
   "source": [
    "Exploring and validation codes"
   ]
  },
  {
   "cell_type": "code",
   "execution_count": 14,
   "metadata": {
    "collapsed": true
   },
   "outputs": [
    {
     "name": "stdout",
     "output_type": "stream",
     "text": [
      "<div class=\"listing js-listing listing--cluster-parent js-cluster-parent\" data-cluster-id=\"c_5667650\" data-id=\"30477505\">\n",
      " <div class=\"listing__card\">\n",
      "  <a class=\"listing__thumbnail is-empty js-listing-active-area\" data-is-own=\"Saját hirdetés\" href=\"/v-ker/elado+lakas/tegla-epitesu-lakas/budapest+5+kerulet/30477505\" target=\"_blank\" title=\"Részletek\">\n",
      "   <div class=\"listing__already-seen\">\n",
      "    <div class=\"listing__already-seen-text\">\n",
      "     Megnéztem\n",
      "    </div>\n",
      "   </div>\n",
      "   <div class=\"listing__labels\">\n",
      "   </div>\n",
      "   <div class=\"listing__thumbnail-image no-photo\" title=\"Nincs kép\">\n",
      "   </div>\n",
      "  </a>\n",
      "  <div class=\"listing__hidden-overlay\">\n",
      "   <div class=\"listing__hidden-text\">\n",
      "    Elrejtetted ezt az ingatlant és az összes hozzá tartozó hirdetést. Legközelebb nem fog megjelenni a találati listában.\n",
      "   </div>\n",
      "   <button class=\"listing__hide-undo button--link js-hide-undo\" data-id=\"30477505\">\n",
      "    <svg aria-hidden=\"true\" class=\"listing__action-icon--check\">\n",
      "     <use xlink:href=\"#material-done\">\n",
      "     </use>\n",
      "    </svg>\n",
      "    <span class=\"listing__hide-undo-text\">\n",
      "     Megjelenítés\n",
      "    </span>\n",
      "   </button>\n",
      "  </div>\n",
      "  <a class=\"listing__link js-listing-active-area\" href=\"/v-ker/elado+lakas/tegla-epitesu-lakas/budapest+5+kerulet/30477505\" target=\"_blank\">\n",
      "   <header class=\"listing__header\">\n",
      "    <div class=\"listing__featured-parameters\">\n",
      "     <div class=\"listing__price\">\n",
      "      <div class=\"price__container\">\n",
      "       <div class=\"price\">\n",
      "        22.7 M Ft\n",
      "       </div>\n",
      "       <div class=\"price--sqm\">\n",
      "        840 741 Ft/m\n",
      "        <sup>\n",
      "         2\n",
      "        </sup>\n",
      "       </div>\n",
      "      </div>\n",
      "     </div>\n",
      "     <div class=\"listing__address\">\n",
      "      Lipótváros, V. kerület\n",
      "     </div>\n",
      "    </div>\n",
      "   </header>\n",
      "   <div class=\"listing__parameters\">\n",
      "    <div class=\"listing__parameter listing__data--area-size\">\n",
      "     27 m² terület\n",
      "    </div>\n",
      "    <div class=\"listing__parameter listing__data--room-count\">\n",
      "     2 szoba\n",
      "    </div>\n",
      "   </div>\n",
      "  </a>\n",
      "  <div class=\"listing__actions js-listing-actions\">\n",
      "   <div class=\"listing__office-actions js-open-office-menu\">\n",
      "    <svg aria-hidden=\"true\" class=\"listing__office-actions-icon\">\n",
      "     <use xlink:href=\"#material-more-vert\">\n",
      "     </use>\n",
      "    </svg>\n",
      "   </div>\n",
      "   <div class=\"listing__actions-wrapper\">\n",
      "    <button class=\"listing__action--save button--link js-save-listing\" data-id=\"30477505\" data-popup=\"false\">\n",
      "     <span class=\"listing__action-text js-action-text\">\n",
      "      Mentés\n",
      "     </span>\n",
      "     <svg class=\"loading-animation listing__action-loader\" height=\"14px\" viewbox=\"25 25 50 50\" width=\"14px\" xmlns=\"http://www.w3.org/2000/svg\">\n",
      "      <circle class=\"loading-animation__circle\" cx=\"50\" cy=\"50\" fill=\"none\" r=\"20\" stroke=\"#d35630\" stroke-linecap=\"round\" stroke-miterlimit=\"10\" stroke-width=\"6\">\n",
      "      </circle>\n",
      "     </svg>\n",
      "     <div class=\"loading-animation--ie-fallback listing__action-loader\">\n",
      "     </div>\n",
      "     <style>\n",
      "      @media all and (-ms-high-contrast: none), (-ms-high-contrast: active) { .listing__action-loader::after { border: 2px solid #d35630; border-left-color: transparent; height: 10px; width: 10px; } }\n",
      "     </style>\n",
      "     <svg aria-hidden=\"true\" class=\"listing__action-icon--empty\">\n",
      "      <use xlink:href=\"#material-star-empty\">\n",
      "      </use>\n",
      "     </svg>\n",
      "     <svg aria-hidden=\"true\" class=\"listing__action-icon--full\">\n",
      "      <use xlink:href=\"#material-star-full\">\n",
      "      </use>\n",
      "     </svg>\n",
      "    </button>\n",
      "    <button class=\"listing__action--hide button--link js-show-or-hide-listing\" data-id=\"30477505\">\n",
      "     <span class=\"listing__action-text\">\n",
      "      Elrejtés\n",
      "     </span>\n",
      "     <svg class=\"loading-animation listing__action-loader\" height=\"14px\" viewbox=\"25 25 50 50\" width=\"14px\" xmlns=\"http://www.w3.org/2000/svg\">\n",
      "      <circle class=\"loading-animation__circle\" cx=\"50\" cy=\"50\" fill=\"none\" r=\"20\" stroke=\"#d35630\" stroke-linecap=\"round\" stroke-miterlimit=\"10\" stroke-width=\"6\">\n",
      "      </circle>\n",
      "     </svg>\n",
      "     <div class=\"loading-animation--ie-fallback listing__action-loader\">\n",
      "     </div>\n",
      "     <style>\n",
      "      @media all and (-ms-high-contrast: none), (-ms-high-contrast: active) { .listing__action-loader::after { border: 2px solid #d35630; border-left-color: transparent; height: 10px; width: 10px; } }\n",
      "     </style>\n",
      "     <svg aria-hidden=\"true\" class=\"listing__action-icon--hide\">\n",
      "      <use xlink:href=\"#material-close\">\n",
      "      </use>\n",
      "     </svg>\n",
      "    </button>\n",
      "   </div>\n",
      "  </div>\n",
      "  <svg aria-hidden=\"true\" class=\"listing__action-icon--is-saved\">\n",
      "   <use xlink:href=\"#material-star-full\">\n",
      "   </use>\n",
      "  </svg>\n",
      " </div>\n",
      " <div class=\"listing__duplications js-duplications-container\">\n",
      " </div>\n",
      "</div>\n",
      "\n"
     ]
    }
   ],
   "source": [
    "#show original html code for data mining\n",
    "print(l[0].prettify())"
   ]
  },
  {
   "cell_type": "markdown",
   "metadata": {},
   "source": [
    "Number of ads by time at sources"
   ]
  },
  {
   "cell_type": "code",
   "execution_count": 28,
   "metadata": {},
   "outputs": [],
   "source": [
    "counts = {'hu': [], 'cen':[],'com':[],'hudate': [],'cendate': [], 'comdate': []}"
   ]
  },
  {
   "cell_type": "code",
   "execution_count": 29,
   "metadata": {},
   "outputs": [],
   "source": [
    "#manual change for df\n",
    "d = []\n",
    "c = []\n",
    "for m,n in sorted(zip(Com['date'].value_counts().index, Com['date'].value_counts().values)):\n",
    "    d.append(m);c.append(n)"
   ]
  },
  {
   "cell_type": "code",
   "execution_count": 33,
   "metadata": {},
   "outputs": [],
   "source": [
    "#manual change of keys\n",
    "counts['comdate'] = d\n",
    "counts['com'] = c"
   ]
  },
  {
   "cell_type": "code",
   "execution_count": 34,
   "metadata": {},
   "outputs": [
    {
     "data": {
      "image/png": "[encoded data removed]",
      "text/plain": [
       "<Figure size 432x288 with 1 Axes>"
      ]
     },
     "metadata": {
      "needs_background": "light"
     },
     "output_type": "display_data"
    }
   ],
   "source": [
    "import matplotlib.pyplot as plt\n",
    "from pandas.plotting import register_matplotlib_converters\n",
    "register_matplotlib_converters()\n",
    "#plt.scatter(counts['hudate'],counts['hu'], label = 'hu')\n",
    "#plt.scatter(counts['cendate'],counts['cen'], label = 'cen')\n",
    "plt.scatter(counts['comdate'],counts['com'], label = 'com')\n",
    "plt.legend()\n",
    "plt.show()"
   ]
  },
  {
   "cell_type": "code",
   "execution_count": null,
   "metadata": {},
   "outputs": [],
   "source": []
  }
 ],
 "metadata": {
  "kernelspec": {
   "display_name": "Python 3",
   "language": "python",
   "name": "python3"
  },
  "language_info": {
   "codemirror_mode": {
    "name": "ipython",
    "version": 3
   },
   "file_extension": ".py",
   "mimetype": "text/x-python",
   "name": "python",
   "nbconvert_exporter": "python",
   "pygments_lexer": "ipython3",
   "version": "3.7.3"
  }
 },
 "nbformat": 4,
 "nbformat_minor": 2
}
