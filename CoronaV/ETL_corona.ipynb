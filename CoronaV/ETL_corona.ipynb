{
 "cells": [
  {
   "cell_type": "markdown",
   "metadata": {},
   "source": [
    "source : https://github.com/CSSEGISandData/COVID-19.git"
   ]
  },
  {
   "cell_type": "code",
   "execution_count": 1,
   "metadata": {},
   "outputs": [],
   "source": [
    "import pandas as pd\n",
    "from urllib.request import urlretrieve\n",
    "import datetime as dt\n",
    "import os"
   ]
  },
  {
   "cell_type": "code",
   "execution_count": 2,
   "metadata": {},
   "outputs": [],
   "source": [
    "def filename(root):\n",
    "    '''create filename from datatype (root) and recent time'''\n",
    "    date = dt.datetime.now().strftime('%d%m%Y')\n",
    "    fn = root+'_'+date+'.csv'\n",
    "    return fn\n",
    "\n",
    "def allcase():\n",
    "    \n",
    "    '''retrives the data,\\n\n",
    "        separates coods and saves as coords.csv,\\n\n",
    "        deletes coords and saves data as conf/recover/dead csv with processing date\n",
    "    '''\n",
    "        \n",
    "    url_confirmed ='https://raw.githubusercontent.com/CSSEGISandData/COVID-19/master/csse_covid_19_data/csse_covid_19_time_series/time_series_19-covid-Confirmed.csv'\n",
    "    url_death = 'https://raw.githubusercontent.com/CSSEGISandData/COVID-19/master/csse_covid_19_data/csse_covid_19_time_series/time_series_19-covid-Deaths.csv'\n",
    "    url_recover = 'https://raw.githubusercontent.com/CSSEGISandData/COVID-19/master/csse_covid_19_data/csse_covid_19_time_series/time_series_19-covid-Recovered.csv'\n",
    "\n",
    "    urlretrieve(url_confirmed, 'conf.csv')\n",
    "    urlretrieve(url_death, 'death.csv')\n",
    "    urlretrieve(url_recover,'recover.csv')\n",
    "    \n",
    "\n",
    "    allcase = pd.read_csv('conf.csv')\n",
    "    coords = allcase[['Province/State','Country/Region','Lat','Long']]\n",
    "    coords.to_csv('coords.csv', index = False)\n",
    "    \n",
    "    allcase.drop(['Lat','Long'], axis = 1, inplace = True)\n",
    "    fname = filename('allcase')\n",
    "    allcase.to_csv(fname, index=False)\n",
    "    \n",
    "    if fname not in os.listdir():\n",
    "        raise ValueError('saving unsuccessful')\n",
    "        \n",
    "    if os.stat(fname).st_size < 10:\n",
    "        raise ValueError('empty file')\n",
    "    print('allcese saved {}k, {}'.format(os.stat(fname).st_size/1000, allcase.shape)) \n",
    "\n",
    "    for i in [('recover.csv','recover'),('death.csv', 'dead')]:\n",
    "        df = pd.read_csv(i[0])\n",
    "        df.drop(['Lat','Long'], axis = 1, inplace = True)\n",
    "        fname = filename(i[1])\n",
    "        df.to_csv(fname, index= False)\n",
    "    \n",
    "        if fname not in os.listdir():\n",
    "            raise ValueError('saving unsuccessful')\n",
    "        \n",
    "        if os.stat(fname).st_size < 10:\n",
    "            raise ValueError('empty file')\n",
    "        \n",
    "        print('{} saved {}k, {}'.format(i[1],os.stat(fname).st_size/1000, df.shape))\n",
    "    "
   ]
  },
  {
   "cell_type": "code",
   "execution_count": 3,
   "metadata": {},
   "outputs": [
    {
     "name": "stdout",
     "output_type": "stream",
     "text": [
      "allcese saved 59.055k, (442, 55)\n",
      "recover saved 56.876k, (442, 55)\n",
      "dead saved 54.834k, (442, 55)\n"
     ]
    }
   ],
   "source": [
    "allcase()"
   ]
  },
  {
   "cell_type": "code",
   "execution_count": 34,
   "metadata": {},
   "outputs": [],
   "source": [
    "literature = {'03/02/2020':['new hospital in 10 days, Hong Kong goverment refuse border closure', 'https://www.dw.com/en/coronavirus-death-toll-overtakes-sars-epidemic/a-52235316'],\n",
    "             '30/01/2020':['Coronavirus: WHO declares global health emergency' ,'https://www.dw.com/en/coronavirus-who-declares-global-health-emergency/a-52209762'],\n",
    "             '28/01/2020':['Germany confirms human transmission of coronavirus','https://www.dw.com/en/germany-confirms-human-transmission-of-coronavirus/a-52169007'],\n",
    "             '24/01/2020':['China extends lockdown on millions in coronavirus outbreak','https://www.dw.com/en/china-extends-lockdown-on-millions-in-coronavirus-outbreak/a-52131828'],\n",
    "             '22/01/2020':['China locks down city at center of virus outbreak','https://www.dw.com/en/china-locks-down-city-at-center-of-virus-outbreak/a-52103638'],\n",
    "             '09/01/2020':['New strain of coronavirus behind lung infections in China','https://www.dw.com/en/new-strain-of-coronavirus-behind-lung-infections-in-china/a-51942489'],\n",
    "             '31/12/2019':['WHO first informed: 27 patients with pneumonia of unclear cause','https://www.dw.com/en/new-strain-of-coronavirus-behind-lung-infections-in-china/a-51942489'],\n",
    "             '05/01/2020':['59 patients had been identified. Seven of them are in a critical','https://www.dw.com/en/new-strain-of-coronavirus-behind-lung-infections-in-china/a-51942489'],\n",
    "             '30/12/2019':['Wuhan health officials issued an emergency notification on Monday after local hospitals treated a \"successive series of patients with unexplained pneumonia.\"','https://www.dw.com/en/china-investigates-sars-like-virus-as-dozens-struck-by-pneumonia/a-51843861'],\n",
    "             '03/01/2020':['WHO 44 patients, 11 severe','https://www.express.co.uk/news/world/1224520/china-news-lung-disease-outbreak-pneumonia-who-health-officials-baffled'],\n",
    "             '06/01/2020':['broad internatinal media coverage',''],\n",
    "             '29/02/2020':['China ready for evacuation of foreigners from coronavirus-hit Wuhan','https://thefederal.com/news/china-ready-for-evacuation-of-foreigners-from-coronavirus-hit-wuhan/'],\n",
    "             '27/01/2020':['Report: Mongolia Closes Border With China Amid Coronavirus Fears','https://time.com/5772289/mongolia-china-border-closed-coronavirus/'],\n",
    "             '01/02/2020':['US, Australia, Russia, Israel restrict entry, China complains, understates the severity','China criticizes U.S. border closure as coronavirus death toll rises','https://www.nbcnews.com/news/world/china-criticizes-u-s-border-closure-coronavirus-death-toll-rises-n1128161'],\n",
    "             '10/01/2020':['Genom sequenced','https://www.ncbi.nlm.nih.gov/nuccore/MN908947'],\n",
    "             '10/01/2020':['Vaccine design has started','https://www.nytimes.com/2020/01/28/health/coronavirus-vaccine.html'],\n",
    "             '31/01/2020':['Coronavirus: US bars foreign nationals who have recently travelled to China ','https://www.theguardian.com/world/2020/jan/31/coronavirus-us-public-health-emergency-travel-china'],\n",
    "             '04/01/2020':['arrest for fake news, ','China Pneumonia Outbreak Spurs WHO Action as Mystery Lingers','https://news.yahoo.com/china-pneumonia-outbreak-spurs-action-081026836.html'],\n",
    "             '01/01/2020':['Market close','No answers yet in China\\'s pneumonia outbreak','http://www.cidrap.umn.edu/news-perspective/2020/01/no-answers-yet-chinas-pneumonia-outbreak'],\n",
    "             '30/01/2019':['Someone publicized the cases, so internation moitoring bodies got known the situation and requested report. report states patients were treated before at least 3-5 days with antibiotics was ineffective , public opinion control,','https://promedmail.org/promed-post/?id=6864153'],\n",
    "             '27/01/2020':['Proof of cover-up','Wuhan Mayor Says Beijing Rules Partially Responsible for Lack of Transparency','https://www.wsj.com/articles/chinas-premier-tours-virus-epicenter-as-anger-bubbles-at-crisis-response-11580109098'],\n",
    "             '2002-2004':['Globally, WHO received reports of SARS from 29 countries and regions; 8,096 persons with probable SARS resulting in 774 deaths. ','https://www.cdc.gov/about/history/sars/timeline.htm'],\n",
    "             '18/01/2020':['Communal feast at Wuhan 100.000','Youtube.com/coronavirul - The lies and the Truths'],\n",
    "             '01/01/2020':['Arrest of doctors to spread rumours', 'Youtube.com/coronavirul - The lies and the Truths','Cohen, Jon (26 January 2020). Wuhan seafood market may not be source of novel virus spreading globally. Science AAAS.'],\n",
    "             '08/12/2019':['1st case reported','Cohen, Jon (26 January 2020). Wuhan seafood market may not be source of novel virus spreading globally. Science AAAS.'],\n",
    "             '06/02/2020':['Deat hof Dr Li Wenliang dies, official date 7th.', 'Wuhan CoVirus: CCP delayed Dr. Li Wenliang’s death to placate public. https://gnews.org/105240/']\n",
    "             }"
   ]
  },
  {
   "cell_type": "code",
   "execution_count": 35,
   "metadata": {},
   "outputs": [
    {
     "name": "stdout",
     "output_type": "stream",
     "text": [
      "4.038 k\n"
     ]
    }
   ],
   "source": [
    "import json\n",
    "with open('literature.json', 'w') as l:\n",
    "    json.dump(literature, l)\n",
    "print(os.stat('literature.json').st_size/1000, 'k') "
   ]
  },
  {
   "cell_type": "code",
   "execution_count": null,
   "metadata": {},
   "outputs": [],
   "source": []
  }
 ],
 "metadata": {
  "kernelspec": {
   "display_name": "Python 3",
   "language": "python",
   "name": "python3"
  },
  "language_info": {
   "codemirror_mode": {
    "name": "ipython",
    "version": 3
   },
   "file_extension": ".py",
   "mimetype": "text/x-python",
   "name": "python",
   "nbconvert_exporter": "python",
   "pygments_lexer": "ipython3",
   "version": "3.7.4"
  }
 },
 "nbformat": 4,
 "nbformat_minor": 2
}
